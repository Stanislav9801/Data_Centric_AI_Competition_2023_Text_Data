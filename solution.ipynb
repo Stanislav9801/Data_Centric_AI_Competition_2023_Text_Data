{
 "cells": [
  {
   "cell_type": "code",
   "execution_count": null,
   "id": "Fddtxutgoxv2",
   "metadata": {
    "colab": {
     "base_uri": "https://localhost:8080/"
    },
    "id": "Fddtxutgoxv2",
    "outputId": "5ff67a6b-81a4-4a97-aa75-c7f74411d107"
   },
   "outputs": [
    {
     "name": "stdout",
     "output_type": "stream",
     "text": [
      "Mounted at /content/drive\n"
     ]
    }
   ],
   "source": [
    "# from google.colab import drive\n",
    "# drive.mount('/content/drive')"
   ]
  },
  {
   "cell_type": "markdown",
   "id": "a070173e",
   "metadata": {
    "id": "a070173e"
   },
   "source": [
    "# Imports"
   ]
  },
  {
   "cell_type": "code",
   "execution_count": null,
   "id": "4ecc2cff",
   "metadata": {},
   "outputs": [],
   "source": [
    "# requirements\n",
    "\n",
    "# pandas==1.3.5\n",
    "# numpy==1.22.4\n",
    "# scikit-learn==1.2.1\n",
    "# cleanlab==2.3.1\n",
    "# transformers==4.27.4\n",
    "# spacy==3.5.1\n",
    "# catboost==1.1.1\n",
    "# tensorflow_text==2.12.0\n",
    "# matplotlib==3.7.1\n",
    "# tensorflow==2.12.0\n",
    "# re==2.2.1\n",
    "# nltk==3.8.1\n",
    "# tqdm==4.65.0\n",
    "# torch==2.0.0+cu118\n",
    "# tensorflow-hub==0.13.0"
   ]
  },
  {
   "cell_type": "code",
   "execution_count": null,
   "id": "62d3c003",
   "metadata": {},
   "outputs": [],
   "source": [
    "!pip install cleanlab==2.3.1 -q\n",
    "!pip install scikit-learn==1.2.1 -q\n",
    "!pip install transformers==4.27.4 -q\n",
    "!pip install spacy==3.5.1 -q\n",
    "!spacy download en\n",
    "!pip install catboost==1.1.1 -q\n",
    "!pip install tensorflow_text==2.12.0 -q"
   ]
  },
  {
   "cell_type": "code",
   "execution_count": null,
   "id": "acc93cd5",
   "metadata": {
    "id": "acc93cd5"
   },
   "outputs": [],
   "source": [
    "import torch\n",
    "from transformers import AutoTokenizer, AutoModelForSequenceClassification\n",
    "\n",
    "import numpy as np\n",
    "import pandas as pd\n",
    "import matplotlib.pyplot as plt\n",
    "\n",
    "import tensorflow as tf\n",
    "import tensorflow_hub as hub\n",
    "import tensorflow_text as text \n",
    "\n",
    "\n",
    "import sklearn\n",
    "from sklearn.multiclass import OneVsRestClassifier, OneVsOneClassifier, OutputCodeClassifier\n",
    "from sklearn.base import BaseEstimator, ClassifierMixin, clone\n",
    "from sklearn.utils.validation import check_X_y, check_array, check_is_fitted\n",
    "from sklearn.utils.multiclass import unique_labels\n",
    "from sklearn.pipeline import Pipeline\n",
    "from sklearn.feature_extraction.text import TfidfVectorizer\n",
    "from sklearn.neighbors import KNeighborsClassifier\n",
    "from sklearn.ensemble import RandomForestClassifier\n",
    "from sklearn.model_selection import cross_val_predict, cross_val_score, GridSearchCV\n",
    "from sklearn.model_selection import StratifiedKFold, train_test_split\n",
    "from sklearn.metrics import accuracy_score\n",
    "from sklearn.linear_model import LogisticRegression, SGDClassifier\n",
    "from sklearn.svm import SVC\n",
    "from catboost import CatBoostClassifier\n",
    "from cleanlab.filter import find_label_issues\n",
    "\n",
    "\n",
    "import re \n",
    "import pickle\n",
    "import spacy\n",
    "import string\n",
    "\n",
    "import nltk\n",
    "from nltk.stem import WordNetLemmatizer \n",
    "\n",
    "nltk.download('wordnet')\n",
    "nltk.download('punkt')\n",
    "nltk.download('stopwords')\n",
    "\n",
    "from nltk.corpus import stopwords\n",
    "\n",
    "from tqdm import tqdm, notebook"
   ]
  },
  {
   "cell_type": "code",
   "execution_count": null,
   "id": "bF_NrzEKLFir",
   "metadata": {
    "colab": {
     "base_uri": "https://localhost:8080/"
    },
    "id": "bF_NrzEKLFir",
    "outputId": "9e05d820-4b5e-498e-df83-f365b281ffa2"
   },
   "outputs": [
    {
     "name": "stdout",
     "output_type": "stream",
     "text": [
      "The scikit-learn version is 1.2.1.\n",
      "The pandas version is 1.3.5.\n",
      "The numpy version is 1.22.4.\n"
     ]
    }
   ],
   "source": [
    "print('The scikit-learn version is {}.'.format(sklearn.__version__))\n",
    "print('The pandas version is {}.'.format(pd.__version__))\n",
    "print('The numpy version is {}.'.format(np.__version__))"
   ]
  },
  {
   "cell_type": "code",
   "execution_count": null,
   "id": "vvdsuuPd0Jyj",
   "metadata": {
    "id": "vvdsuuPd0Jyj"
   },
   "outputs": [],
   "source": [
    "# Set constants\n",
    "PATH = '/content/drive/MyDrive/MachineHack: Data Centric AI Competition 2023'\n",
    "RANDOM_SEED = 0"
   ]
  },
  {
   "cell_type": "code",
   "execution_count": null,
   "id": "FB5qSo5XC6pe",
   "metadata": {
    "id": "FB5qSo5XC6pe"
   },
   "outputs": [],
   "source": [
    "tqdm.pandas()\n",
    "pd.set_option('max_colwidth', None)\n",
    "\n",
    "tf.random.set_seed(RANDOM_SEED)"
   ]
  },
  {
   "cell_type": "code",
   "execution_count": null,
   "id": "Zisscu2uMmlH",
   "metadata": {
    "id": "Zisscu2uMmlH"
   },
   "outputs": [],
   "source": [
    "# Load BERT-Pretrained\n",
    "def load_bert(output_hidden_states=False):\n",
    "    tokenizer = AutoTokenizer.from_pretrained(\"LiYuan/amazon-review-sentiment-analysis\")\n",
    "    model = AutoModelForSequenceClassification.from_pretrained(\"LiYuan/amazon-review-sentiment-analysis\", output_hidden_states=output_hidden_states)\n",
    "    return tokenizer, model\n",
    "\n",
    "# Helper to convert given labels to 0-indexed (necessary for cleanlab and various ML processes).\n",
    "def labels_to_zeroidx(labels):\n",
    "    unique_labels = set(labels)\n",
    "    label2idx = dict(zip(unique_labels, range(len(unique_labels))))\n",
    "    return [label2idx[label] for label in labels]\n",
    "\n",
    "# Save object to pickle\n",
    "def save_to_pkl(object, file_name):\n",
    "    with open(f\"{PATH}/{file_name}\", 'wb') as f:\n",
    "        pickle.dump(object, f)\n",
    "    print(f\"Successfully safed to {file_name}\")\n",
    "\n",
    "# Load object from pickle\n",
    "def load_from_pkl(file_name):\n",
    "    with open(f\"{PATH}/{file_name}\", 'rb') as f:\n",
    "        obj = pickle.load(f)\n",
    "    return obj"
   ]
  },
  {
   "cell_type": "markdown",
   "id": "c6229054",
   "metadata": {
    "id": "c6229054"
   },
   "source": [
    "# Data"
   ]
  },
  {
   "cell_type": "code",
   "execution_count": null,
   "id": "7631a08b",
   "metadata": {
    "id": "7631a08b"
   },
   "outputs": [],
   "source": [
    "# Read in train and test data.\n",
    "# train_df = pd.read_csv(f'{PATH}/train.csv')\n",
    "train_df = pd.read_csv(f'{PATH}/train_df.csv')\n",
    "test_data = pd.read_csv(f'{PATH}/validation.csv')"
   ]
  },
  {
   "cell_type": "code",
   "execution_count": null,
   "id": "sxIf9m8Ho_fe",
   "metadata": {
    "colab": {
     "base_uri": "https://localhost:8080/"
    },
    "id": "sxIf9m8Ho_fe",
    "outputId": "ed118095-756e-49e9-c307-c213a7891fc8"
   },
   "outputs": [
    {
     "name": "stdout",
     "output_type": "stream",
     "text": [
      "<class 'pandas.core.frame.DataFrame'>\n",
      "RangeIndex: 12652 entries, 0 to 12651\n",
      "Data columns (total 6 columns):\n",
      " #   Column       Non-Null Count  Dtype \n",
      "---  ------       --------------  ----- \n",
      " 0   review_id    12652 non-null  int64 \n",
      " 1   review_text  12652 non-null  object\n",
      " 2   label        12652 non-null  int64 \n",
      " 3   words_only   12652 non-null  object\n",
      " 4   lemmas       12652 non-null  object\n",
      " 5   words_count  12652 non-null  int64 \n",
      "dtypes: int64(3), object(3)\n",
      "memory usage: 593.2+ KB\n"
     ]
    }
   ],
   "source": [
    "train_df.info()"
   ]
  },
  {
   "cell_type": "code",
   "execution_count": null,
   "id": "ZSiS3iXTpDQF",
   "metadata": {
    "colab": {
     "base_uri": "https://localhost:8080/"
    },
    "id": "ZSiS3iXTpDQF",
    "outputId": "fedb3440-6a87-41bf-f0cd-39f7c9ac5c16"
   },
   "outputs": [
    {
     "name": "stdout",
     "output_type": "stream",
     "text": [
      "<class 'pandas.core.frame.DataFrame'>\n",
      "RangeIndex: 500 entries, 0 to 499\n",
      "Data columns (total 2 columns):\n",
      " #   Column       Non-Null Count  Dtype \n",
      "---  ------       --------------  ----- \n",
      " 0   review_id    500 non-null    int64 \n",
      " 1   review_text  500 non-null    object\n",
      "dtypes: int64(1), object(1)\n",
      "memory usage: 7.9+ KB\n"
     ]
    }
   ],
   "source": [
    "test_data.info()"
   ]
  },
  {
   "cell_type": "code",
   "execution_count": null,
   "id": "JVeLiiMHpMgN",
   "metadata": {
    "colab": {
     "base_uri": "https://localhost:8080/"
    },
    "id": "JVeLiiMHpMgN",
    "outputId": "1e022f67-fb79-4e21-cc1a-f4bc65160b73"
   },
   "outputs": [
    {
     "data": {
      "text/html": [
       "\n",
       "  <div id=\"df-90f13afb-5be1-4b3e-8f5f-2b35a8530a11\">\n",
       "    <div class=\"colab-df-container\">\n",
       "      <div>\n",
       "<style scoped>\n",
       "    .dataframe tbody tr th:only-of-type {\n",
       "        vertical-align: middle;\n",
       "    }\n",
       "\n",
       "    .dataframe tbody tr th {\n",
       "        vertical-align: top;\n",
       "    }\n",
       "\n",
       "    .dataframe thead th {\n",
       "        text-align: right;\n",
       "    }\n",
       "</style>\n",
       "<table border=\"1\" class=\"dataframe\">\n",
       "  <thead>\n",
       "    <tr style=\"text-align: right;\">\n",
       "      <th></th>\n",
       "      <th>review_id</th>\n",
       "      <th>review_text</th>\n",
       "      <th>label</th>\n",
       "      <th>words_only</th>\n",
       "      <th>lemmas</th>\n",
       "      <th>words_count</th>\n",
       "    </tr>\n",
       "  </thead>\n",
       "  <tbody>\n",
       "    <tr>\n",
       "      <th>6231</th>\n",
       "      <td>83486</td>\n",
       "      <td>An excellent publication.  The only literary/book review that I read from cover to cover.  It has lead me to several wonderful books.</td>\n",
       "      <td>5</td>\n",
       "      <td>An excellent publication The only literary book review that I read from cover to cover It has lead me to several wonderful books</td>\n",
       "      <td>an excellent publication the only literary review that i read from cover to cover it have lead i to several wonderful book</td>\n",
       "      <td>23</td>\n",
       "    </tr>\n",
       "    <tr>\n",
       "      <th>11360</th>\n",
       "      <td>53006</td>\n",
       "      <td>Very Unprofessional and unintelligent articles, with terrible layout display!</td>\n",
       "      <td>1</td>\n",
       "      <td>Very Unprofessional and unintelligent articles with terrible layout display</td>\n",
       "      <td>very unprofessional and unintelligent article with terrible layout display</td>\n",
       "      <td>9</td>\n",
       "    </tr>\n",
       "    <tr>\n",
       "      <th>11578</th>\n",
       "      <td>54603</td>\n",
       "      <td>There are no channel #'s next to the programs and the programs start at 6 or 7 pm.  I am very dissapointed with the TV Guide and  won't re-order it.</td>\n",
       "      <td>1</td>\n",
       "      <td>There are no channel s next to the programs and the programs start at or pm I am very dissapointed with the TV Guide and won t re order it</td>\n",
       "      <td>there be no channel be next to the program and the program start at 6 or 7 pm i be very dissapointe with the tv guide and will not re it</td>\n",
       "      <td>30</td>\n",
       "    </tr>\n",
       "    <tr>\n",
       "      <th>11387</th>\n",
       "      <td>53245</td>\n",
       "      <td>What can I say? One of the best decorating mags around.</td>\n",
       "      <td>5</td>\n",
       "      <td>What can I say One of the best decorating mags around</td>\n",
       "      <td>what can i say one of the well decorate mag around</td>\n",
       "      <td>11</td>\n",
       "    </tr>\n",
       "    <tr>\n",
       "      <th>1302</th>\n",
       "      <td>36382</td>\n",
       "      <td>I did not agree to auto renewal, and when made aware of the gimmick, it was very difficult to undo.  Dumb policy and bad process.</td>\n",
       "      <td>1</td>\n",
       "      <td>I did not agree to auto renewal and when made aware of the gimmick it was very difficult to undo Dumb policy and bad process</td>\n",
       "      <td>i do not agree to auto renewal and when make aware of the gimmick it be very difficult to undo dumb policy and bad process</td>\n",
       "      <td>25</td>\n",
       "    </tr>\n",
       "  </tbody>\n",
       "</table>\n",
       "</div>\n",
       "      <button class=\"colab-df-convert\" onclick=\"convertToInteractive('df-90f13afb-5be1-4b3e-8f5f-2b35a8530a11')\"\n",
       "              title=\"Convert this dataframe to an interactive table.\"\n",
       "              style=\"display:none;\">\n",
       "        \n",
       "  <svg xmlns=\"http://www.w3.org/2000/svg\" height=\"24px\"viewBox=\"0 0 24 24\"\n",
       "       width=\"24px\">\n",
       "    <path d=\"M0 0h24v24H0V0z\" fill=\"none\"/>\n",
       "    <path d=\"M18.56 5.44l.94 2.06.94-2.06 2.06-.94-2.06-.94-.94-2.06-.94 2.06-2.06.94zm-11 1L8.5 8.5l.94-2.06 2.06-.94-2.06-.94L8.5 2.5l-.94 2.06-2.06.94zm10 10l.94 2.06.94-2.06 2.06-.94-2.06-.94-.94-2.06-.94 2.06-2.06.94z\"/><path d=\"M17.41 7.96l-1.37-1.37c-.4-.4-.92-.59-1.43-.59-.52 0-1.04.2-1.43.59L10.3 9.45l-7.72 7.72c-.78.78-.78 2.05 0 2.83L4 21.41c.39.39.9.59 1.41.59.51 0 1.02-.2 1.41-.59l7.78-7.78 2.81-2.81c.8-.78.8-2.07 0-2.86zM5.41 20L4 18.59l7.72-7.72 1.47 1.35L5.41 20z\"/>\n",
       "  </svg>\n",
       "      </button>\n",
       "      \n",
       "  <style>\n",
       "    .colab-df-container {\n",
       "      display:flex;\n",
       "      flex-wrap:wrap;\n",
       "      gap: 12px;\n",
       "    }\n",
       "\n",
       "    .colab-df-convert {\n",
       "      background-color: #E8F0FE;\n",
       "      border: none;\n",
       "      border-radius: 50%;\n",
       "      cursor: pointer;\n",
       "      display: none;\n",
       "      fill: #1967D2;\n",
       "      height: 32px;\n",
       "      padding: 0 0 0 0;\n",
       "      width: 32px;\n",
       "    }\n",
       "\n",
       "    .colab-df-convert:hover {\n",
       "      background-color: #E2EBFA;\n",
       "      box-shadow: 0px 1px 2px rgba(60, 64, 67, 0.3), 0px 1px 3px 1px rgba(60, 64, 67, 0.15);\n",
       "      fill: #174EA6;\n",
       "    }\n",
       "\n",
       "    [theme=dark] .colab-df-convert {\n",
       "      background-color: #3B4455;\n",
       "      fill: #D2E3FC;\n",
       "    }\n",
       "\n",
       "    [theme=dark] .colab-df-convert:hover {\n",
       "      background-color: #434B5C;\n",
       "      box-shadow: 0px 1px 3px 1px rgba(0, 0, 0, 0.15);\n",
       "      filter: drop-shadow(0px 1px 2px rgba(0, 0, 0, 0.3));\n",
       "      fill: #FFFFFF;\n",
       "    }\n",
       "  </style>\n",
       "\n",
       "      <script>\n",
       "        const buttonEl =\n",
       "          document.querySelector('#df-90f13afb-5be1-4b3e-8f5f-2b35a8530a11 button.colab-df-convert');\n",
       "        buttonEl.style.display =\n",
       "          google.colab.kernel.accessAllowed ? 'block' : 'none';\n",
       "\n",
       "        async function convertToInteractive(key) {\n",
       "          const element = document.querySelector('#df-90f13afb-5be1-4b3e-8f5f-2b35a8530a11');\n",
       "          const dataTable =\n",
       "            await google.colab.kernel.invokeFunction('convertToInteractive',\n",
       "                                                     [key], {});\n",
       "          if (!dataTable) return;\n",
       "\n",
       "          const docLinkHtml = 'Like what you see? Visit the ' +\n",
       "            '<a target=\"_blank\" href=https://colab.research.google.com/notebooks/data_table.ipynb>data table notebook</a>'\n",
       "            + ' to learn more about interactive tables.';\n",
       "          element.innerHTML = '';\n",
       "          dataTable['output_type'] = 'display_data';\n",
       "          await google.colab.output.renderOutput(dataTable, element);\n",
       "          const docLink = document.createElement('div');\n",
       "          docLink.innerHTML = docLinkHtml;\n",
       "          element.appendChild(docLink);\n",
       "        }\n",
       "      </script>\n",
       "    </div>\n",
       "  </div>\n",
       "  "
      ],
      "text/plain": [
       "       review_id  \\\n",
       "6231       83486   \n",
       "11360      53006   \n",
       "11578      54603   \n",
       "11387      53245   \n",
       "1302       36382   \n",
       "\n",
       "                                                                                                                                                review_text  \\\n",
       "6231                  An excellent publication.  The only literary/book review that I read from cover to cover.  It has lead me to several wonderful books.   \n",
       "11360                                                                         Very Unprofessional and unintelligent articles, with terrible layout display!   \n",
       "11578  There are no channel #'s next to the programs and the programs start at 6 or 7 pm.  I am very dissapointed with the TV Guide and  won't re-order it.   \n",
       "11387                                                                                               What can I say? One of the best decorating mags around.   \n",
       "1302                      I did not agree to auto renewal, and when made aware of the gimmick, it was very difficult to undo.  Dumb policy and bad process.   \n",
       "\n",
       "       label  \\\n",
       "6231       5   \n",
       "11360      1   \n",
       "11578      1   \n",
       "11387      5   \n",
       "1302       1   \n",
       "\n",
       "                                                                                                                                       words_only  \\\n",
       "6231             An excellent publication The only literary book review that I read from cover to cover It has lead me to several wonderful books   \n",
       "11360                                                                 Very Unprofessional and unintelligent articles with terrible layout display   \n",
       "11578  There are no channel s next to the programs and the programs start at or pm I am very dissapointed with the TV Guide and won t re order it   \n",
       "11387                                                                                       What can I say One of the best decorating mags around   \n",
       "1302                 I did not agree to auto renewal and when made aware of the gimmick it was very difficult to undo Dumb policy and bad process   \n",
       "\n",
       "                                                                                                                                         lemmas  \\\n",
       "6231                 an excellent publication the only literary review that i read from cover to cover it have lead i to several wonderful book   \n",
       "11360                                                                very unprofessional and unintelligent article with terrible layout display   \n",
       "11578  there be no channel be next to the program and the program start at 6 or 7 pm i be very dissapointe with the tv guide and will not re it   \n",
       "11387                                                                                        what can i say one of the well decorate mag around   \n",
       "1302                 i do not agree to auto renewal and when make aware of the gimmick it be very difficult to undo dumb policy and bad process   \n",
       "\n",
       "       words_count  \n",
       "6231            23  \n",
       "11360            9  \n",
       "11578           30  \n",
       "11387           11  \n",
       "1302            25  "
      ]
     },
     "execution_count": 11,
     "metadata": {},
     "output_type": "execute_result"
    }
   ],
   "source": [
    "train_df.sample(5)"
   ]
  },
  {
   "cell_type": "code",
   "execution_count": null,
   "id": "dYegs2oWP8ui",
   "metadata": {
    "colab": {
     "base_uri": "https://localhost:8080/"
    },
    "id": "dYegs2oWP8ui",
    "outputId": "7e0052a6-3a1f-40e8-fc79-40fc8ce7a524"
   },
   "outputs": [
    {
     "data": {
      "text/plain": [
       "0"
      ]
     },
     "execution_count": 12,
     "metadata": {},
     "output_type": "execute_result"
    }
   ],
   "source": [
    "# Count duplicates\n",
    "train_df['review_id'].duplicated().sum()"
   ]
  },
  {
   "cell_type": "code",
   "execution_count": null,
   "id": "cq-De7sopSbc",
   "metadata": {
    "colab": {
     "base_uri": "https://localhost:8080/"
    },
    "id": "cq-De7sopSbc",
    "outputId": "0799ee9b-7aba-432d-869c-71fc274dedce"
   },
   "outputs": [
    {
     "data": {
      "text/plain": [
       "1    3440\n",
       "2    1274\n",
       "3    1873\n",
       "4    1994\n",
       "5    4071\n",
       "Name: label, dtype: int64"
      ]
     },
     "execution_count": 13,
     "metadata": {},
     "output_type": "execute_result"
    }
   ],
   "source": [
    "# Count unique labels\n",
    "train_df['label'].value_counts().sort_index()"
   ]
  },
  {
   "cell_type": "markdown",
   "id": "KKkmCiUktm0E",
   "metadata": {
    "id": "KKkmCiUktm0E"
   },
   "source": [
    "# Data Preprocessing and Feature Engeneering"
   ]
  },
  {
   "cell_type": "code",
   "execution_count": null,
   "id": "IBpdwGKaFiNm",
   "metadata": {
    "id": "IBpdwGKaFiNm"
   },
   "outputs": [],
   "source": [
    "# Extract omly words from reviews\n",
    "def extract_words(string):\n",
    "    string_of_words = ' '.join(re.findall(r'[A-Za-z]+', string))\n",
    "    return string_of_words\n",
    "\n",
    "# Import the \"string\" library again, otherwise the error appears, download spacy model\n",
    "nlp = spacy.load('en_core_web_sm',  disable=['parser', 'ner'])\n",
    "import string\n",
    "\n",
    "# Tokenization and lemmatization of the text, and then again combining the words into a single line\n",
    "def tokenize_lemmatize(text, nlp=nlp):\n",
    "  list_of_tokens = list()\n",
    "\n",
    "  for token in nltk.word_tokenize(text):\n",
    "    if (token in string.punctuation) or (token == '...'): \n",
    "      continue\n",
    "    if '\\'' in token: \n",
    "      token = re.sub('\\'ve', 'have', token)\n",
    "      token = re.sub('\\'m|\\'s|\\'re', 'be', token)\n",
    "      token = re.sub('n\\'t', 'not', token)\n",
    "      token = re.sub('\\'d', 'would', token)\n",
    "    if token == '\\'':\n",
    "      token = re.sub('\\'', '', token)\n",
    "    if token == 'ca':\n",
    "      token = re.sub('ca', 'can', token)\n",
    "    doc = nlp(token) # Лемматизация токена (шаг 1)\n",
    "    token = [tok.lemma_ for tok in doc][0] # Лемматизация токена (шаг 2)\n",
    "    # Приводим к одному регистру\n",
    "    if token != '-PRON-':\n",
    "      token = token.lower()\n",
    "    list_of_tokens.append(token)\n",
    "  one_string = ' '.join(list_of_tokens)\n",
    "  return one_string"
   ]
  },
  {
   "cell_type": "markdown",
   "id": "DeHWx9XkL034",
   "metadata": {
    "id": "DeHWx9XkL034"
   },
   "source": [
    "Thoughts  \n",
    "*Save the capslocks - it is possible, but everything else should be in small letters.*  \n",
    "*Punctuation, exclamation marks, etc. - can play a role.*   \n",
    "*Words written with grammatical errors will be taken into account.*  \n",
    "\n",
    "*We can sacrifice punctuation marks and words with punctuation marks.  \n",
    "Leave numbers and words in singular form.*"
   ]
  },
  {
   "cell_type": "code",
   "execution_count": null,
   "id": "-VLJqSY9IaCM",
   "metadata": {
    "id": "-VLJqSY9IaCM"
   },
   "outputs": [],
   "source": [
    "train_df['words_only'] = train_df['review_text'].apply(extract_words)\n",
    "train_df['lemmas'] = train_df['review_text'].progress_apply(lambda x: tokenize_lemmatize(x))\n",
    "train_df['words_count'] = train_df['words_only'].str.split(' ').apply(lambda x: len(x))"
   ]
  },
  {
   "cell_type": "code",
   "execution_count": null,
   "id": "S_dBmNomw223",
   "metadata": {
    "colab": {
     "base_uri": "https://localhost:8080/"
    },
    "id": "S_dBmNomw223",
    "outputId": "723d49ad-3ccc-4990-829c-21ae614c8304"
   },
   "outputs": [
    {
     "data": {
      "text/plain": [
       "label\n",
       "1    19.0\n",
       "2    18.0\n",
       "3    18.0\n",
       "4    17.0\n",
       "5    16.0\n",
       "Name: words_count, dtype: float64"
      ]
     },
     "execution_count": 17,
     "metadata": {},
     "output_type": "execute_result"
    }
   ],
   "source": [
    "# Count mean number of words in each class\n",
    "train_df.groupby('label').words_count.median()"
   ]
  },
  {
   "cell_type": "code",
   "execution_count": null,
   "id": "QHwN59Nt3uok",
   "metadata": {
    "colab": {
     "base_uri": "https://localhost:8080/",
     "height": 1000
    },
    "id": "QHwN59Nt3uok",
    "outputId": "4b0eb8dc-6c38-4de2-a377-3100a973dece"
   },
   "outputs": [
    {
     "name": "stdout",
     "output_type": "stream",
     "text": [
      "5 Star\n"
     ]
    },
    {
     "data": {
      "image/png": "[encoded data removed]",
      "text/plain": [
       "<Figure size 432x288 with 1 Axes>"
      ]
     },
     "metadata": {},
     "output_type": "display_data"
    },
    {
     "name": "stdout",
     "output_type": "stream",
     "text": [
      "4 Star\n"
     ]
    },
    {
     "data": {
      "image/png": "[encoded data removed]",
      "text/plain": [
       "<Figure size 432x288 with 1 Axes>"
      ]
     },
     "metadata": {},
     "output_type": "display_data"
    },
    {
     "name": "stdout",
     "output_type": "stream",
     "text": [
      "1 Star\n"
     ]
    },
    {
     "data": {
      "image/png": "[encoded data removed]",
      "text/plain": [
       "<Figure size 432x288 with 1 Axes>"
      ]
     },
     "metadata": {},
     "output_type": "display_data"
    },
    {
     "name": "stdout",
     "output_type": "stream",
     "text": [
      "2 Star\n"
     ]
    },
    {
     "data": {
      "image/png": "[encoded data removed]",
      "text/plain": [
       "<Figure size 432x288 with 1 Axes>"
      ]
     },
     "metadata": {},
     "output_type": "display_data"
    },
    {
     "name": "stdout",
     "output_type": "stream",
     "text": [
      "3 Star\n"
     ]
    },
    {
     "data": {
      "image/png": "[encoded data removed]",
      "text/plain": [
       "<Figure size 432x288 with 1 Axes>"
      ]
     },
     "metadata": {},
     "output_type": "display_data"
    }
   ],
   "source": [
    "# Plot distribution of number of words in each class\n",
    "for lbl in train_df.label.unique():\n",
    "    print(lbl, \"Star\")\n",
    "    plt.hist(train_df[train_df['label'] == lbl]['words_count'], bins=100)\n",
    "    plt.grid()\n",
    "    plt.show()"
   ]
  },
  {
   "cell_type": "code",
   "execution_count": null,
   "id": "g31vw9tc1-pP",
   "metadata": {
    "colab": {
     "base_uri": "https://localhost:8080/",
     "height": 337
    },
    "id": "g31vw9tc1-pP",
    "outputId": "c18a7b81-d482-4356-b2a2-b4f7cd93fb3a"
   },
   "outputs": [
    {
     "data": {
      "text/html": [
       "\n",
       "  <div id=\"df-ae742b2f-32a5-4e9a-8bd7-53133dbb320d\">\n",
       "    <div class=\"colab-df-container\">\n",
       "      <div>\n",
       "<style scoped>\n",
       "    .dataframe tbody tr th:only-of-type {\n",
       "        vertical-align: middle;\n",
       "    }\n",
       "\n",
       "    .dataframe tbody tr th {\n",
       "        vertical-align: top;\n",
       "    }\n",
       "\n",
       "    .dataframe thead th {\n",
       "        text-align: right;\n",
       "    }\n",
       "</style>\n",
       "<table border=\"1\" class=\"dataframe\">\n",
       "  <thead>\n",
       "    <tr style=\"text-align: right;\">\n",
       "      <th></th>\n",
       "      <th>review_id</th>\n",
       "      <th>review_text</th>\n",
       "      <th>label</th>\n",
       "      <th>words_only</th>\n",
       "      <th>lemmas</th>\n",
       "      <th>words_count</th>\n",
       "    </tr>\n",
       "  </thead>\n",
       "  <tbody>\n",
       "    <tr>\n",
       "      <th>0</th>\n",
       "      <td>57</td>\n",
       "      <td>I have been a Maximum PC reader since its beginning and still read it cover to cover. Awesome magazine. Love it</td>\n",
       "      <td>5</td>\n",
       "      <td>I have been a Maximum PC reader since its beginning and still read it cover to cover Awesome magazine Love it</td>\n",
       "      <td>i have be a maximum pc reader since its begin and still read it cover to cover awesome magazine love it</td>\n",
       "      <td>21</td>\n",
       "    </tr>\n",
       "    <tr>\n",
       "      <th>1</th>\n",
       "      <td>97</td>\n",
       "      <td>If you into gaming, into the latest PC tech info, like reviews of hardware rated 1 thru 10, chomp PC builds, get this rag. @ $12 bucks for 2 years its worth every penny</td>\n",
       "      <td>5</td>\n",
       "      <td>If you into gaming into the latest PC tech info like reviews of hardware rated thru chomp PC builds get this rag bucks for years its worth every penny</td>\n",
       "      <td>if you into game into the late pc tech info like review of hardware rate 1 thru 10 chomp pc build get this rag 12 buck for 2 year its worth every penny</td>\n",
       "      <td>29</td>\n",
       "    </tr>\n",
       "    <tr>\n",
       "      <th>2</th>\n",
       "      <td>147</td>\n",
       "      <td>This is a great magazine....  Subscribed for many many years.</td>\n",
       "      <td>4</td>\n",
       "      <td>This is a great magazine Subscribed for many many years</td>\n",
       "      <td>this be a great magazine .... subscribe for many many year</td>\n",
       "      <td>10</td>\n",
       "    </tr>\n",
       "    <tr>\n",
       "      <th>3</th>\n",
       "      <td>148</td>\n",
       "      <td>sucks (period)</td>\n",
       "      <td>1</td>\n",
       "      <td>sucks period</td>\n",
       "      <td>suck period</td>\n",
       "      <td>2</td>\n",
       "    </tr>\n",
       "    <tr>\n",
       "      <th>4</th>\n",
       "      <td>151</td>\n",
       "      <td>too many ads the whole magazine is ads. I cant believe real men dress like that. I just read the product reviews then throw magazines away don't want anyone to think i like guys.</td>\n",
       "      <td>2</td>\n",
       "      <td>too many ads the whole magazine is ads I cant believe real men dress like that I just read the product reviews then throw magazines away don t want anyone to think i like guys</td>\n",
       "      <td>too many ad the whole magazine be ad i can believe real man dress like that i just read the product review then throw magazine away do not want anyone to think i like guy</td>\n",
       "      <td>35</td>\n",
       "    </tr>\n",
       "  </tbody>\n",
       "</table>\n",
       "</div>\n",
       "      <button class=\"colab-df-convert\" onclick=\"convertToInteractive('df-ae742b2f-32a5-4e9a-8bd7-53133dbb320d')\"\n",
       "              title=\"Convert this dataframe to an interactive table.\"\n",
       "              style=\"display:none;\">\n",
       "        \n",
       "  <svg xmlns=\"http://www.w3.org/2000/svg\" height=\"24px\"viewBox=\"0 0 24 24\"\n",
       "       width=\"24px\">\n",
       "    <path d=\"M0 0h24v24H0V0z\" fill=\"none\"/>\n",
       "    <path d=\"M18.56 5.44l.94 2.06.94-2.06 2.06-.94-2.06-.94-.94-2.06-.94 2.06-2.06.94zm-11 1L8.5 8.5l.94-2.06 2.06-.94-2.06-.94L8.5 2.5l-.94 2.06-2.06.94zm10 10l.94 2.06.94-2.06 2.06-.94-2.06-.94-.94-2.06-.94 2.06-2.06.94z\"/><path d=\"M17.41 7.96l-1.37-1.37c-.4-.4-.92-.59-1.43-.59-.52 0-1.04.2-1.43.59L10.3 9.45l-7.72 7.72c-.78.78-.78 2.05 0 2.83L4 21.41c.39.39.9.59 1.41.59.51 0 1.02-.2 1.41-.59l7.78-7.78 2.81-2.81c.8-.78.8-2.07 0-2.86zM5.41 20L4 18.59l7.72-7.72 1.47 1.35L5.41 20z\"/>\n",
       "  </svg>\n",
       "      </button>\n",
       "      \n",
       "  <style>\n",
       "    .colab-df-container {\n",
       "      display:flex;\n",
       "      flex-wrap:wrap;\n",
       "      gap: 12px;\n",
       "    }\n",
       "\n",
       "    .colab-df-convert {\n",
       "      background-color: #E8F0FE;\n",
       "      border: none;\n",
       "      border-radius: 50%;\n",
       "      cursor: pointer;\n",
       "      display: none;\n",
       "      fill: #1967D2;\n",
       "      height: 32px;\n",
       "      padding: 0 0 0 0;\n",
       "      width: 32px;\n",
       "    }\n",
       "\n",
       "    .colab-df-convert:hover {\n",
       "      background-color: #E2EBFA;\n",
       "      box-shadow: 0px 1px 2px rgba(60, 64, 67, 0.3), 0px 1px 3px 1px rgba(60, 64, 67, 0.15);\n",
       "      fill: #174EA6;\n",
       "    }\n",
       "\n",
       "    [theme=dark] .colab-df-convert {\n",
       "      background-color: #3B4455;\n",
       "      fill: #D2E3FC;\n",
       "    }\n",
       "\n",
       "    [theme=dark] .colab-df-convert:hover {\n",
       "      background-color: #434B5C;\n",
       "      box-shadow: 0px 1px 3px 1px rgba(0, 0, 0, 0.15);\n",
       "      filter: drop-shadow(0px 1px 2px rgba(0, 0, 0, 0.3));\n",
       "      fill: #FFFFFF;\n",
       "    }\n",
       "  </style>\n",
       "\n",
       "      <script>\n",
       "        const buttonEl =\n",
       "          document.querySelector('#df-ae742b2f-32a5-4e9a-8bd7-53133dbb320d button.colab-df-convert');\n",
       "        buttonEl.style.display =\n",
       "          google.colab.kernel.accessAllowed ? 'block' : 'none';\n",
       "\n",
       "        async function convertToInteractive(key) {\n",
       "          const element = document.querySelector('#df-ae742b2f-32a5-4e9a-8bd7-53133dbb320d');\n",
       "          const dataTable =\n",
       "            await google.colab.kernel.invokeFunction('convertToInteractive',\n",
       "                                                     [key], {});\n",
       "          if (!dataTable) return;\n",
       "\n",
       "          const docLinkHtml = 'Like what you see? Visit the ' +\n",
       "            '<a target=\"_blank\" href=https://colab.research.google.com/notebooks/data_table.ipynb>data table notebook</a>'\n",
       "            + ' to learn more about interactive tables.';\n",
       "          element.innerHTML = '';\n",
       "          dataTable['output_type'] = 'display_data';\n",
       "          await google.colab.output.renderOutput(dataTable, element);\n",
       "          const docLink = document.createElement('div');\n",
       "          docLink.innerHTML = docLinkHtml;\n",
       "          element.appendChild(docLink);\n",
       "        }\n",
       "      </script>\n",
       "    </div>\n",
       "  </div>\n",
       "  "
      ],
      "text/plain": [
       "   review_id  \\\n",
       "0         57   \n",
       "1         97   \n",
       "2        147   \n",
       "3        148   \n",
       "4        151   \n",
       "\n",
       "                                                                                                                                                                          review_text  \\\n",
       "0                                                                     I have been a Maximum PC reader since its beginning and still read it cover to cover. Awesome magazine. Love it   \n",
       "1            If you into gaming, into the latest PC tech info, like reviews of hardware rated 1 thru 10, chomp PC builds, get this rag. @ $12 bucks for 2 years its worth every penny   \n",
       "2                                                                                                                       This is a great magazine....  Subscribed for many many years.   \n",
       "3                                                                                                                                                                      sucks (period)   \n",
       "4  too many ads the whole magazine is ads. I cant believe real men dress like that. I just read the product reviews then throw magazines away don't want anyone to think i like guys.   \n",
       "\n",
       "   label  \\\n",
       "0      5   \n",
       "1      5   \n",
       "2      4   \n",
       "3      1   \n",
       "4      2   \n",
       "\n",
       "                                                                                                                                                                        words_only  \\\n",
       "0                                                                    I have been a Maximum PC reader since its beginning and still read it cover to cover Awesome magazine Love it   \n",
       "1                           If you into gaming into the latest PC tech info like reviews of hardware rated thru chomp PC builds get this rag bucks for years its worth every penny   \n",
       "2                                                                                                                          This is a great magazine Subscribed for many many years   \n",
       "3                                                                                                                                                                     sucks period   \n",
       "4  too many ads the whole magazine is ads I cant believe real men dress like that I just read the product reviews then throw magazines away don t want anyone to think i like guys   \n",
       "\n",
       "                                                                                                                                                                       lemmas  \\\n",
       "0                                                                     i have be a maximum pc reader since its begin and still read it cover to cover awesome magazine love it   \n",
       "1                     if you into game into the late pc tech info like review of hardware rate 1 thru 10 chomp pc build get this rag 12 buck for 2 year its worth every penny   \n",
       "2                                                                                                                  this be a great magazine .... subscribe for many many year   \n",
       "3                                                                                                                                                                 suck period   \n",
       "4  too many ad the whole magazine be ad i can believe real man dress like that i just read the product review then throw magazine away do not want anyone to think i like guy   \n",
       "\n",
       "   words_count  \n",
       "0           21  \n",
       "1           29  \n",
       "2           10  \n",
       "3            2  \n",
       "4           35  "
      ]
     },
     "execution_count": 13,
     "metadata": {},
     "output_type": "execute_result"
    }
   ],
   "source": [
    "# Save new train data into csv\n",
    "# train_df.to_csv(f'{PATH}/train_df.csv', index=False)\n",
    "train_df.head()"
   ]
  },
  {
   "cell_type": "markdown",
   "id": "cg4zrvJW17qL",
   "metadata": {
    "id": "cg4zrvJW17qL"
   },
   "source": [
    "List of features:  \n",
    "- `review_text`. Contains the original text of the review\n",
    "- `words_only`. Words extracted from the original text `review_text`. Without numbers, symbols or punctuation marks.\n",
    "- `lemmas`. Lemmas extracted from the original `review_text`. Contains words-lemmas and numbers, without punctuation symbols.\n",
    "- `words_count`. Number of words in a sentence."
   ]
  },
  {
   "cell_type": "markdown",
   "id": "iMHAuOxlCf2N",
   "metadata": {
    "id": "iMHAuOxlCf2N"
   },
   "source": [
    "# TfIdfVectorizer"
   ]
  },
  {
   "cell_type": "markdown",
   "id": "evPoDCbIEGyg",
   "metadata": {
    "id": "evPoDCbIEGyg"
   },
   "source": [
    "### WordsOnly + TfIdf + Linear Model"
   ]
  },
  {
   "cell_type": "code",
   "execution_count": null,
   "id": "Q2MFz_4WH4_d",
   "metadata": {
    "colab": {
     "base_uri": "https://localhost:8080/"
    },
    "id": "Q2MFz_4WH4_d",
    "outputId": "e6ec01bb-b37f-4491-fa4d-0905ba9cda43"
   },
   "outputs": [
    {
     "data": {
      "text/plain": [
       "((12652,), (12652,))"
      ]
     },
     "execution_count": 16,
     "metadata": {},
     "output_type": "execute_result"
    }
   ],
   "source": [
    "# Training data.\n",
    "train_X = train_df['words_only']\n",
    "train_y = train_df['label']\n",
    "\n",
    "train_X.shape, train_y.shape"
   ]
  },
  {
   "cell_type": "code",
   "execution_count": null,
   "id": "0ldp_i2YISYQ",
   "metadata": {
    "colab": {
     "base_uri": "https://localhost:8080/"
    },
    "id": "0ldp_i2YISYQ",
    "outputId": "4a75cd58-8a0c-40ff-c4c7-7f8795640ed3"
   },
   "outputs": [
    {
     "data": {
      "text/plain": [
       "0.6847192207926065"
      ]
     },
     "execution_count": 33,
     "metadata": {},
     "output_type": "execute_result"
    }
   ],
   "source": [
    "# Without GridSearch\n",
    "cross_val_score(Pipeline([('tfidf', TfidfVectorizer()), ('clf', SGDClassifier(loss=\"log_loss\", penalty=\"elasticnet\", random_state=RANDOM_SEED, early_stopping=True))]),\n",
    "                          train_X, train_y).mean()"
   ]
  },
  {
   "cell_type": "code",
   "execution_count": null,
   "id": "FX2mLPb-K-qs",
   "metadata": {
    "colab": {
     "base_uri": "https://localhost:8080/",
     "height": 198
    },
    "id": "FX2mLPb-K-qs",
    "outputId": "d1ca9377-0590-4e6e-a7c1-ab51dc2e96a5"
   },
   "outputs": [
    {
     "data": {
      "text/html": [
       "<style>#sk-container-id-1 {color: black;background-color: white;}#sk-container-id-1 pre{padding: 0;}#sk-container-id-1 div.sk-toggleable {background-color: white;}#sk-container-id-1 label.sk-toggleable__label {cursor: pointer;display: block;width: 100%;margin-bottom: 0;padding: 0.3em;box-sizing: border-box;text-align: center;}#sk-container-id-1 label.sk-toggleable__label-arrow:before {content: \"▸\";float: left;margin-right: 0.25em;color: #696969;}#sk-container-id-1 label.sk-toggleable__label-arrow:hover:before {color: black;}#sk-container-id-1 div.sk-estimator:hover label.sk-toggleable__label-arrow:before {color: black;}#sk-container-id-1 div.sk-toggleable__content {max-height: 0;max-width: 0;overflow: hidden;text-align: left;background-color: #f0f8ff;}#sk-container-id-1 div.sk-toggleable__content pre {margin: 0.2em;color: black;border-radius: 0.25em;background-color: #f0f8ff;}#sk-container-id-1 input.sk-toggleable__control:checked~div.sk-toggleable__content {max-height: 200px;max-width: 100%;overflow: auto;}#sk-container-id-1 input.sk-toggleable__control:checked~label.sk-toggleable__label-arrow:before {content: \"▾\";}#sk-container-id-1 div.sk-estimator input.sk-toggleable__control:checked~label.sk-toggleable__label {background-color: #d4ebff;}#sk-container-id-1 div.sk-label input.sk-toggleable__control:checked~label.sk-toggleable__label {background-color: #d4ebff;}#sk-container-id-1 input.sk-hidden--visually {border: 0;clip: rect(1px 1px 1px 1px);clip: rect(1px, 1px, 1px, 1px);height: 1px;margin: -1px;overflow: hidden;padding: 0;position: absolute;width: 1px;}#sk-container-id-1 div.sk-estimator {font-family: monospace;background-color: #f0f8ff;border: 1px dotted black;border-radius: 0.25em;box-sizing: border-box;margin-bottom: 0.5em;}#sk-container-id-1 div.sk-estimator:hover {background-color: #d4ebff;}#sk-container-id-1 div.sk-parallel-item::after {content: \"\";width: 100%;border-bottom: 1px solid gray;flex-grow: 1;}#sk-container-id-1 div.sk-label:hover label.sk-toggleable__label {background-color: #d4ebff;}#sk-container-id-1 div.sk-serial::before {content: \"\";position: absolute;border-left: 1px solid gray;box-sizing: border-box;top: 0;bottom: 0;left: 50%;z-index: 0;}#sk-container-id-1 div.sk-serial {display: flex;flex-direction: column;align-items: center;background-color: white;padding-right: 0.2em;padding-left: 0.2em;position: relative;}#sk-container-id-1 div.sk-item {position: relative;z-index: 1;}#sk-container-id-1 div.sk-parallel {display: flex;align-items: stretch;justify-content: center;background-color: white;position: relative;}#sk-container-id-1 div.sk-item::before, #sk-container-id-1 div.sk-parallel-item::before {content: \"\";position: absolute;border-left: 1px solid gray;box-sizing: border-box;top: 0;bottom: 0;left: 50%;z-index: -1;}#sk-container-id-1 div.sk-parallel-item {display: flex;flex-direction: column;z-index: 1;position: relative;background-color: white;}#sk-container-id-1 div.sk-parallel-item:first-child::after {align-self: flex-end;width: 50%;}#sk-container-id-1 div.sk-parallel-item:last-child::after {align-self: flex-start;width: 50%;}#sk-container-id-1 div.sk-parallel-item:only-child::after {width: 0;}#sk-container-id-1 div.sk-dashed-wrapped {border: 1px dashed gray;margin: 0 0.4em 0.5em 0.4em;box-sizing: border-box;padding-bottom: 0.4em;background-color: white;}#sk-container-id-1 div.sk-label label {font-family: monospace;font-weight: bold;display: inline-block;line-height: 1.2em;}#sk-container-id-1 div.sk-label-container {text-align: center;}#sk-container-id-1 div.sk-container {/* jupyter's `normalize.less` sets `[hidden] { display: none; }` but bootstrap.min.css set `[hidden] { display: none !important; }` so we also need the `!important` here to be able to override the default hidden behavior on the sphinx rendered scikit-learn.org. See: https://github.com/scikit-learn/scikit-learn/issues/21755 */display: inline-block !important;position: relative;}#sk-container-id-1 div.sk-text-repr-fallback {display: none;}</style><div id=\"sk-container-id-1\" class=\"sk-top-container\"><div class=\"sk-text-repr-fallback\"><pre>GridSearchCV(estimator=Pipeline(steps=[(&#x27;tfidf&#x27;, TfidfVectorizer()),\n",
       "                                       (&#x27;clf&#x27;,\n",
       "                                        SGDClassifier(early_stopping=True,\n",
       "                                                      penalty=&#x27;elasticnet&#x27;,\n",
       "                                                      random_state=0))]),\n",
       "             n_jobs=-1,\n",
       "             param_grid={&#x27;clf__alpha&#x27;: [0.0001, 0.001, 0.01, 1, 10, 100],\n",
       "                         &#x27;clf__class_weight&#x27;: [None, &#x27;balanced&#x27;],\n",
       "                         &#x27;clf__l1_ratio&#x27;: [0.2, 0.5, 0.8],\n",
       "                         &#x27;clf__loss&#x27;: [&#x27;hinge&#x27;, &#x27;log_loss&#x27;],\n",
       "                         &#x27;tfidf__max_df&#x27;: [0.5, 0.8, 1.0],\n",
       "                         &#x27;tfidf__ngram_range&#x27;: [(1, 1), (2, 2), (3, 3)]},\n",
       "             scoring=&#x27;accuracy&#x27;)</pre><b>In a Jupyter environment, please rerun this cell to show the HTML representation or trust the notebook. <br />On GitHub, the HTML representation is unable to render, please try loading this page with nbviewer.org.</b></div><div class=\"sk-container\" hidden><div class=\"sk-item sk-dashed-wrapped\"><div class=\"sk-label-container\"><div class=\"sk-label sk-toggleable\"><input class=\"sk-toggleable__control sk-hidden--visually\" id=\"sk-estimator-id-1\" type=\"checkbox\" ><label for=\"sk-estimator-id-1\" class=\"sk-toggleable__label sk-toggleable__label-arrow\">GridSearchCV</label><div class=\"sk-toggleable__content\"><pre>GridSearchCV(estimator=Pipeline(steps=[(&#x27;tfidf&#x27;, TfidfVectorizer()),\n",
       "                                       (&#x27;clf&#x27;,\n",
       "                                        SGDClassifier(early_stopping=True,\n",
       "                                                      penalty=&#x27;elasticnet&#x27;,\n",
       "                                                      random_state=0))]),\n",
       "             n_jobs=-1,\n",
       "             param_grid={&#x27;clf__alpha&#x27;: [0.0001, 0.001, 0.01, 1, 10, 100],\n",
       "                         &#x27;clf__class_weight&#x27;: [None, &#x27;balanced&#x27;],\n",
       "                         &#x27;clf__l1_ratio&#x27;: [0.2, 0.5, 0.8],\n",
       "                         &#x27;clf__loss&#x27;: [&#x27;hinge&#x27;, &#x27;log_loss&#x27;],\n",
       "                         &#x27;tfidf__max_df&#x27;: [0.5, 0.8, 1.0],\n",
       "                         &#x27;tfidf__ngram_range&#x27;: [(1, 1), (2, 2), (3, 3)]},\n",
       "             scoring=&#x27;accuracy&#x27;)</pre></div></div></div><div class=\"sk-parallel\"><div class=\"sk-parallel-item\"><div class=\"sk-item\"><div class=\"sk-label-container\"><div class=\"sk-label sk-toggleable\"><input class=\"sk-toggleable__control sk-hidden--visually\" id=\"sk-estimator-id-2\" type=\"checkbox\" ><label for=\"sk-estimator-id-2\" class=\"sk-toggleable__label sk-toggleable__label-arrow\">estimator: Pipeline</label><div class=\"sk-toggleable__content\"><pre>Pipeline(steps=[(&#x27;tfidf&#x27;, TfidfVectorizer()),\n",
       "                (&#x27;clf&#x27;,\n",
       "                 SGDClassifier(early_stopping=True, penalty=&#x27;elasticnet&#x27;,\n",
       "                               random_state=0))])</pre></div></div></div><div class=\"sk-serial\"><div class=\"sk-item\"><div class=\"sk-serial\"><div class=\"sk-item\"><div class=\"sk-estimator sk-toggleable\"><input class=\"sk-toggleable__control sk-hidden--visually\" id=\"sk-estimator-id-3\" type=\"checkbox\" ><label for=\"sk-estimator-id-3\" class=\"sk-toggleable__label sk-toggleable__label-arrow\">TfidfVectorizer</label><div class=\"sk-toggleable__content\"><pre>TfidfVectorizer()</pre></div></div></div><div class=\"sk-item\"><div class=\"sk-estimator sk-toggleable\"><input class=\"sk-toggleable__control sk-hidden--visually\" id=\"sk-estimator-id-4\" type=\"checkbox\" ><label for=\"sk-estimator-id-4\" class=\"sk-toggleable__label sk-toggleable__label-arrow\">SGDClassifier</label><div class=\"sk-toggleable__content\"><pre>SGDClassifier(early_stopping=True, penalty=&#x27;elasticnet&#x27;, random_state=0)</pre></div></div></div></div></div></div></div></div></div></div></div></div>"
      ],
      "text/plain": [
       "GridSearchCV(estimator=Pipeline(steps=[('tfidf', TfidfVectorizer()),\n",
       "                                       ('clf',\n",
       "                                        SGDClassifier(early_stopping=True,\n",
       "                                                      penalty='elasticnet',\n",
       "                                                      random_state=0))]),\n",
       "             n_jobs=-1,\n",
       "             param_grid={'clf__alpha': [0.0001, 0.001, 0.01, 1, 10, 100],\n",
       "                         'clf__class_weight': [None, 'balanced'],\n",
       "                         'clf__l1_ratio': [0.2, 0.5, 0.8],\n",
       "                         'clf__loss': ['hinge', 'log_loss'],\n",
       "                         'tfidf__max_df': [0.5, 0.8, 1.0],\n",
       "                         'tfidf__ngram_range': [(1, 1), (2, 2), (3, 3)]},\n",
       "             scoring='accuracy')"
      ]
     },
     "execution_count": 23,
     "metadata": {},
     "output_type": "execute_result"
    }
   ],
   "source": [
    "# First GridSearch\n",
    "\n",
    "classifier = SGDClassifier(penalty=\"elasticnet\", random_state=RANDOM_SEED, early_stopping=True)\n",
    "tf = TfidfVectorizer()\n",
    "\n",
    "model_pipe = Pipeline([('tfidf', TfidfVectorizer()), ('clf', classifier)])\n",
    "\n",
    "param_grid = {\n",
    "    \"tfidf__max_df\": [0.5, 0.8, 1.0],\n",
    "    \"tfidf__ngram_range\": [(1, 1), (2, 2), (3, 3)],\n",
    "    \"clf__loss\": [\"hinge\", \"log_loss\"],\n",
    "    \"clf__alpha\": [0.0001, 0.001, 0.01, 1, 10, 100], \n",
    "    \"clf__l1_ratio\": [0.2, 0.5, 0.8],\n",
    "    \"clf__class_weight\": [None, \"balanced\"]\n",
    "}\n",
    "\n",
    "gcv = GridSearchCV(model_pipe, param_grid, scoring=\"accuracy\", n_jobs=-1)\n",
    "\n",
    "gcv.fit(train_X, train_y)"
   ]
  },
  {
   "cell_type": "code",
   "execution_count": null,
   "id": "DpKrWXC6VZ1Y",
   "metadata": {
    "colab": {
     "base_uri": "https://localhost:8080/"
    },
    "id": "DpKrWXC6VZ1Y",
    "outputId": "d04322b3-2d27-4073-e791-b98768654fd9"
   },
   "outputs": [
    {
     "name": "stdout",
     "output_type": "stream",
     "text": [
      "Best params {'clf__alpha': 0.0001, 'clf__class_weight': None, 'clf__l1_ratio': 0.2, 'clf__loss': 'log_loss', 'tfidf__max_df': 0.5, 'tfidf__ngram_range': (1, 1)}\n",
      "Best score 0.6839288943581799\n",
      "Std 0.040802945306573274\n"
     ]
    }
   ],
   "source": [
    "print(\"Best params\", gcv.best_params_)\n",
    "print(\"Best score\", gcv.best_score_)\n",
    "print(\"Std\", pd.DataFrame(gcv.cv_results_) .loc[gcv.best_index_, :].std_test_score)\n",
    "\n",
    "with open(f'{PATH}/gcv.pkl', 'wb') as f:\n",
    "    pickle.dump(gcv, f)"
   ]
  },
  {
   "cell_type": "code",
   "execution_count": null,
   "id": "zJR1OK3CGI1t",
   "metadata": {
    "colab": {
     "base_uri": "https://localhost:8080/",
     "height": 152
    },
    "id": "zJR1OK3CGI1t",
    "outputId": "e543f73e-8041-4547-96ef-8aad5cf2f3fc"
   },
   "outputs": [
    {
     "data": {
      "text/html": [
       "<style>#sk-container-id-3 {color: black;background-color: white;}#sk-container-id-3 pre{padding: 0;}#sk-container-id-3 div.sk-toggleable {background-color: white;}#sk-container-id-3 label.sk-toggleable__label {cursor: pointer;display: block;width: 100%;margin-bottom: 0;padding: 0.3em;box-sizing: border-box;text-align: center;}#sk-container-id-3 label.sk-toggleable__label-arrow:before {content: \"▸\";float: left;margin-right: 0.25em;color: #696969;}#sk-container-id-3 label.sk-toggleable__label-arrow:hover:before {color: black;}#sk-container-id-3 div.sk-estimator:hover label.sk-toggleable__label-arrow:before {color: black;}#sk-container-id-3 div.sk-toggleable__content {max-height: 0;max-width: 0;overflow: hidden;text-align: left;background-color: #f0f8ff;}#sk-container-id-3 div.sk-toggleable__content pre {margin: 0.2em;color: black;border-radius: 0.25em;background-color: #f0f8ff;}#sk-container-id-3 input.sk-toggleable__control:checked~div.sk-toggleable__content {max-height: 200px;max-width: 100%;overflow: auto;}#sk-container-id-3 input.sk-toggleable__control:checked~label.sk-toggleable__label-arrow:before {content: \"▾\";}#sk-container-id-3 div.sk-estimator input.sk-toggleable__control:checked~label.sk-toggleable__label {background-color: #d4ebff;}#sk-container-id-3 div.sk-label input.sk-toggleable__control:checked~label.sk-toggleable__label {background-color: #d4ebff;}#sk-container-id-3 input.sk-hidden--visually {border: 0;clip: rect(1px 1px 1px 1px);clip: rect(1px, 1px, 1px, 1px);height: 1px;margin: -1px;overflow: hidden;padding: 0;position: absolute;width: 1px;}#sk-container-id-3 div.sk-estimator {font-family: monospace;background-color: #f0f8ff;border: 1px dotted black;border-radius: 0.25em;box-sizing: border-box;margin-bottom: 0.5em;}#sk-container-id-3 div.sk-estimator:hover {background-color: #d4ebff;}#sk-container-id-3 div.sk-parallel-item::after {content: \"\";width: 100%;border-bottom: 1px solid gray;flex-grow: 1;}#sk-container-id-3 div.sk-label:hover label.sk-toggleable__label {background-color: #d4ebff;}#sk-container-id-3 div.sk-serial::before {content: \"\";position: absolute;border-left: 1px solid gray;box-sizing: border-box;top: 0;bottom: 0;left: 50%;z-index: 0;}#sk-container-id-3 div.sk-serial {display: flex;flex-direction: column;align-items: center;background-color: white;padding-right: 0.2em;padding-left: 0.2em;position: relative;}#sk-container-id-3 div.sk-item {position: relative;z-index: 1;}#sk-container-id-3 div.sk-parallel {display: flex;align-items: stretch;justify-content: center;background-color: white;position: relative;}#sk-container-id-3 div.sk-item::before, #sk-container-id-3 div.sk-parallel-item::before {content: \"\";position: absolute;border-left: 1px solid gray;box-sizing: border-box;top: 0;bottom: 0;left: 50%;z-index: -1;}#sk-container-id-3 div.sk-parallel-item {display: flex;flex-direction: column;z-index: 1;position: relative;background-color: white;}#sk-container-id-3 div.sk-parallel-item:first-child::after {align-self: flex-end;width: 50%;}#sk-container-id-3 div.sk-parallel-item:last-child::after {align-self: flex-start;width: 50%;}#sk-container-id-3 div.sk-parallel-item:only-child::after {width: 0;}#sk-container-id-3 div.sk-dashed-wrapped {border: 1px dashed gray;margin: 0 0.4em 0.5em 0.4em;box-sizing: border-box;padding-bottom: 0.4em;background-color: white;}#sk-container-id-3 div.sk-label label {font-family: monospace;font-weight: bold;display: inline-block;line-height: 1.2em;}#sk-container-id-3 div.sk-label-container {text-align: center;}#sk-container-id-3 div.sk-container {/* jupyter's `normalize.less` sets `[hidden] { display: none; }` but bootstrap.min.css set `[hidden] { display: none !important; }` so we also need the `!important` here to be able to override the default hidden behavior on the sphinx rendered scikit-learn.org. See: https://github.com/scikit-learn/scikit-learn/issues/21755 */display: inline-block !important;position: relative;}#sk-container-id-3 div.sk-text-repr-fallback {display: none;}</style><div id=\"sk-container-id-3\" class=\"sk-top-container\"><div class=\"sk-text-repr-fallback\"><pre>GridSearchCV(estimator=Pipeline(steps=[(&#x27;tfidf&#x27;, TfidfVectorizer()),\n",
       "                                       (&#x27;clf&#x27;,\n",
       "                                        SGDClassifier(early_stopping=True,\n",
       "                                                      penalty=&#x27;elasticnet&#x27;,\n",
       "                                                      random_state=0))]),\n",
       "             n_jobs=-1,\n",
       "             param_grid={&#x27;clf__alpha&#x27;: [1e-06, 1e-05, 0.0001],\n",
       "                         &#x27;clf__class_weight&#x27;: [None, &#x27;balanced&#x27;],\n",
       "                         &#x27;clf__l1_ratio&#x27;: [0.0, 0.1, 0.2],\n",
       "                         &#x27;clf__loss&#x27;: [&#x27;hinge&#x27;, &#x27;log_loss&#x27;],\n",
       "                         &#x27;tfidf__max_df&#x27;: [0.1, 0.3, 0.5],\n",
       "                         &#x27;tfidf__ngram_range&#x27;: [(1, 1), (2, 2), (3, 3)]},\n",
       "             scoring=&#x27;accuracy&#x27;)</pre><b>In a Jupyter environment, please rerun this cell to show the HTML representation or trust the notebook. <br />On GitHub, the HTML representation is unable to render, please try loading this page with nbviewer.org.</b></div><div class=\"sk-container\" hidden><div class=\"sk-item sk-dashed-wrapped\"><div class=\"sk-label-container\"><div class=\"sk-label sk-toggleable\"><input class=\"sk-toggleable__control sk-hidden--visually\" id=\"sk-estimator-id-8\" type=\"checkbox\" ><label for=\"sk-estimator-id-8\" class=\"sk-toggleable__label sk-toggleable__label-arrow\">GridSearchCV</label><div class=\"sk-toggleable__content\"><pre>GridSearchCV(estimator=Pipeline(steps=[(&#x27;tfidf&#x27;, TfidfVectorizer()),\n",
       "                                       (&#x27;clf&#x27;,\n",
       "                                        SGDClassifier(early_stopping=True,\n",
       "                                                      penalty=&#x27;elasticnet&#x27;,\n",
       "                                                      random_state=0))]),\n",
       "             n_jobs=-1,\n",
       "             param_grid={&#x27;clf__alpha&#x27;: [1e-06, 1e-05, 0.0001],\n",
       "                         &#x27;clf__class_weight&#x27;: [None, &#x27;balanced&#x27;],\n",
       "                         &#x27;clf__l1_ratio&#x27;: [0.0, 0.1, 0.2],\n",
       "                         &#x27;clf__loss&#x27;: [&#x27;hinge&#x27;, &#x27;log_loss&#x27;],\n",
       "                         &#x27;tfidf__max_df&#x27;: [0.1, 0.3, 0.5],\n",
       "                         &#x27;tfidf__ngram_range&#x27;: [(1, 1), (2, 2), (3, 3)]},\n",
       "             scoring=&#x27;accuracy&#x27;)</pre></div></div></div><div class=\"sk-parallel\"><div class=\"sk-parallel-item\"><div class=\"sk-item\"><div class=\"sk-label-container\"><div class=\"sk-label sk-toggleable\"><input class=\"sk-toggleable__control sk-hidden--visually\" id=\"sk-estimator-id-9\" type=\"checkbox\" ><label for=\"sk-estimator-id-9\" class=\"sk-toggleable__label sk-toggleable__label-arrow\">estimator: Pipeline</label><div class=\"sk-toggleable__content\"><pre>Pipeline(steps=[(&#x27;tfidf&#x27;, TfidfVectorizer()),\n",
       "                (&#x27;clf&#x27;,\n",
       "                 SGDClassifier(early_stopping=True, penalty=&#x27;elasticnet&#x27;,\n",
       "                               random_state=0))])</pre></div></div></div><div class=\"sk-serial\"><div class=\"sk-item\"><div class=\"sk-serial\"><div class=\"sk-item\"><div class=\"sk-estimator sk-toggleable\"><input class=\"sk-toggleable__control sk-hidden--visually\" id=\"sk-estimator-id-10\" type=\"checkbox\" ><label for=\"sk-estimator-id-10\" class=\"sk-toggleable__label sk-toggleable__label-arrow\">TfidfVectorizer</label><div class=\"sk-toggleable__content\"><pre>TfidfVectorizer()</pre></div></div></div><div class=\"sk-item\"><div class=\"sk-estimator sk-toggleable\"><input class=\"sk-toggleable__control sk-hidden--visually\" id=\"sk-estimator-id-11\" type=\"checkbox\" ><label for=\"sk-estimator-id-11\" class=\"sk-toggleable__label sk-toggleable__label-arrow\">SGDClassifier</label><div class=\"sk-toggleable__content\"><pre>SGDClassifier(early_stopping=True, penalty=&#x27;elasticnet&#x27;, random_state=0)</pre></div></div></div></div></div></div></div></div></div></div></div></div>"
      ],
      "text/plain": [
       "GridSearchCV(estimator=Pipeline(steps=[('tfidf', TfidfVectorizer()),\n",
       "                                       ('clf',\n",
       "                                        SGDClassifier(early_stopping=True,\n",
       "                                                      penalty='elasticnet',\n",
       "                                                      random_state=0))]),\n",
       "             n_jobs=-1,\n",
       "             param_grid={'clf__alpha': [1e-06, 1e-05, 0.0001],\n",
       "                         'clf__class_weight': [None, 'balanced'],\n",
       "                         'clf__l1_ratio': [0.0, 0.1, 0.2],\n",
       "                         'clf__loss': ['hinge', 'log_loss'],\n",
       "                         'tfidf__max_df': [0.1, 0.3, 0.5],\n",
       "                         'tfidf__ngram_range': [(1, 1), (2, 2), (3, 3)]},\n",
       "             scoring='accuracy')"
      ]
     },
     "execution_count": 38,
     "metadata": {},
     "output_type": "execute_result"
    }
   ],
   "source": [
    "# Second GridSearch\n",
    "classifier = SGDClassifier(penalty=\"elasticnet\", random_state=RANDOM_SEED, early_stopping=True)\n",
    "tf = TfidfVectorizer()\n",
    "\n",
    "model_pipe = Pipeline([('tfidf', TfidfVectorizer()), ('clf', classifier)])\n",
    "\n",
    "param_grid1 = {\n",
    "    \"tfidf__max_df\": [0.1, 0.3, 0.5], # Change max_df\n",
    "    \"tfidf__ngram_range\": [(1, 1), (2, 2), (3, 3)],\n",
    "    \"clf__loss\": [\"hinge\", \"log_loss\"],\n",
    "    \"clf__l1_ratio\": [0., 0.1, 0.2], # Change l1_ratio\n",
    "    \"clf__alpha\": [1e-6, 1e-5, 1e-4], #Change alpha\n",
    "    \"clf__class_weight\": [None, \"balanced\"]\n",
    "}\n",
    "\n",
    "gcv1 = GridSearchCV(model_pipe, param_grid1, scoring=\"accuracy\", n_jobs=-1)\n",
    "\n",
    "gcv1.fit(train_X, train_y)"
   ]
  },
  {
   "cell_type": "code",
   "execution_count": null,
   "id": "dxSIQp8YFpCm",
   "metadata": {
    "colab": {
     "base_uri": "https://localhost:8080/"
    },
    "id": "dxSIQp8YFpCm",
    "outputId": "51248a54-ff2e-4623-dc8e-167d72d5db7b"
   },
   "outputs": [
    {
     "name": "stdout",
     "output_type": "stream",
     "text": [
      "Best params1 {'clf__alpha': 0.0001, 'clf__class_weight': None, 'clf__l1_ratio': 0.1, 'clf__loss': 'log_loss', 'tfidf__max_df': 0.5, 'tfidf__ngram_range': (1, 1)}\n",
      "Best score1 0.6851144152430806\n",
      "Std1 0.0405887110967916\n"
     ]
    }
   ],
   "source": [
    "print(\"Best params1\", gcv1.best_params_)\n",
    "print(\"Best score1\", gcv1.best_score_)\n",
    "print(\"Std1\", pd.DataFrame(gcv1.cv_results_) .loc[gcv1.best_index_, :].std_test_score)\n",
    "\n",
    "save_to_pkl(gcv1, 'gcv1.pkl')"
   ]
  },
  {
   "cell_type": "code",
   "execution_count": null,
   "id": "smKn9d-EJ4cN",
   "metadata": {
    "id": "smKn9d-EJ4cN"
   },
   "outputs": [],
   "source": [
    "# submission_1_gcv1.csv\n",
    "# 5-fold-cv = 0.68511\n",
    "# public    = 0.75333"
   ]
  },
  {
   "cell_type": "markdown",
   "id": "g5C5KoHgEB_X",
   "metadata": {
    "id": "g5C5KoHgEB_X"
   },
   "source": [
    "### Lemmas + TfIdf + Linear Model"
   ]
  },
  {
   "cell_type": "code",
   "execution_count": null,
   "id": "3sL9nWCYOhml",
   "metadata": {
    "colab": {
     "base_uri": "https://localhost:8080/"
    },
    "id": "3sL9nWCYOhml",
    "outputId": "06021e11-b54c-4dfa-f832-32a665a8dc82"
   },
   "outputs": [
    {
     "data": {
      "text/plain": [
       "((12652,), (12652,))"
      ]
     },
     "execution_count": 27,
     "metadata": {},
     "output_type": "execute_result"
    }
   ],
   "source": [
    "# Training data.\n",
    "train_X = train_df['lemmas']\n",
    "train_y = train_df['label']\n",
    "\n",
    "train_X.shape, train_y.shape"
   ]
  },
  {
   "cell_type": "code",
   "execution_count": null,
   "id": "KZUVVUj2Oe1M",
   "metadata": {
    "colab": {
     "base_uri": "https://localhost:8080/"
    },
    "id": "KZUVVUj2Oe1M",
    "outputId": "3ca07eab-52ec-427d-e911-64b8da7c8c6b"
   },
   "outputs": [
    {
     "data": {
      "text/plain": [
       "0.6738909303295265"
      ]
     },
     "execution_count": 32,
     "metadata": {},
     "output_type": "execute_result"
    }
   ],
   "source": [
    "# Without GridSearch\n",
    "cross_val_score(Pipeline([('tfidf', TfidfVectorizer()), ('clf', SGDClassifier(loss=\"log_loss\", penalty=\"elasticnet\", random_state=RANDOM_SEED, early_stopping=True))]),\n",
    "                          train_X, train_y).mean()"
   ]
  },
  {
   "cell_type": "code",
   "execution_count": null,
   "id": "38r68RhqLiCj",
   "metadata": {
    "colab": {
     "base_uri": "https://localhost:8080/",
     "height": 198
    },
    "id": "38r68RhqLiCj",
    "outputId": "7425f61f-910b-4c60-8846-54814dd98c2a"
   },
   "outputs": [
    {
     "data": {
      "text/html": [
       "<style>#sk-container-id-1 {color: black;background-color: white;}#sk-container-id-1 pre{padding: 0;}#sk-container-id-1 div.sk-toggleable {background-color: white;}#sk-container-id-1 label.sk-toggleable__label {cursor: pointer;display: block;width: 100%;margin-bottom: 0;padding: 0.3em;box-sizing: border-box;text-align: center;}#sk-container-id-1 label.sk-toggleable__label-arrow:before {content: \"▸\";float: left;margin-right: 0.25em;color: #696969;}#sk-container-id-1 label.sk-toggleable__label-arrow:hover:before {color: black;}#sk-container-id-1 div.sk-estimator:hover label.sk-toggleable__label-arrow:before {color: black;}#sk-container-id-1 div.sk-toggleable__content {max-height: 0;max-width: 0;overflow: hidden;text-align: left;background-color: #f0f8ff;}#sk-container-id-1 div.sk-toggleable__content pre {margin: 0.2em;color: black;border-radius: 0.25em;background-color: #f0f8ff;}#sk-container-id-1 input.sk-toggleable__control:checked~div.sk-toggleable__content {max-height: 200px;max-width: 100%;overflow: auto;}#sk-container-id-1 input.sk-toggleable__control:checked~label.sk-toggleable__label-arrow:before {content: \"▾\";}#sk-container-id-1 div.sk-estimator input.sk-toggleable__control:checked~label.sk-toggleable__label {background-color: #d4ebff;}#sk-container-id-1 div.sk-label input.sk-toggleable__control:checked~label.sk-toggleable__label {background-color: #d4ebff;}#sk-container-id-1 input.sk-hidden--visually {border: 0;clip: rect(1px 1px 1px 1px);clip: rect(1px, 1px, 1px, 1px);height: 1px;margin: -1px;overflow: hidden;padding: 0;position: absolute;width: 1px;}#sk-container-id-1 div.sk-estimator {font-family: monospace;background-color: #f0f8ff;border: 1px dotted black;border-radius: 0.25em;box-sizing: border-box;margin-bottom: 0.5em;}#sk-container-id-1 div.sk-estimator:hover {background-color: #d4ebff;}#sk-container-id-1 div.sk-parallel-item::after {content: \"\";width: 100%;border-bottom: 1px solid gray;flex-grow: 1;}#sk-container-id-1 div.sk-label:hover label.sk-toggleable__label {background-color: #d4ebff;}#sk-container-id-1 div.sk-serial::before {content: \"\";position: absolute;border-left: 1px solid gray;box-sizing: border-box;top: 0;bottom: 0;left: 50%;z-index: 0;}#sk-container-id-1 div.sk-serial {display: flex;flex-direction: column;align-items: center;background-color: white;padding-right: 0.2em;padding-left: 0.2em;position: relative;}#sk-container-id-1 div.sk-item {position: relative;z-index: 1;}#sk-container-id-1 div.sk-parallel {display: flex;align-items: stretch;justify-content: center;background-color: white;position: relative;}#sk-container-id-1 div.sk-item::before, #sk-container-id-1 div.sk-parallel-item::before {content: \"\";position: absolute;border-left: 1px solid gray;box-sizing: border-box;top: 0;bottom: 0;left: 50%;z-index: -1;}#sk-container-id-1 div.sk-parallel-item {display: flex;flex-direction: column;z-index: 1;position: relative;background-color: white;}#sk-container-id-1 div.sk-parallel-item:first-child::after {align-self: flex-end;width: 50%;}#sk-container-id-1 div.sk-parallel-item:last-child::after {align-self: flex-start;width: 50%;}#sk-container-id-1 div.sk-parallel-item:only-child::after {width: 0;}#sk-container-id-1 div.sk-dashed-wrapped {border: 1px dashed gray;margin: 0 0.4em 0.5em 0.4em;box-sizing: border-box;padding-bottom: 0.4em;background-color: white;}#sk-container-id-1 div.sk-label label {font-family: monospace;font-weight: bold;display: inline-block;line-height: 1.2em;}#sk-container-id-1 div.sk-label-container {text-align: center;}#sk-container-id-1 div.sk-container {/* jupyter's `normalize.less` sets `[hidden] { display: none; }` but bootstrap.min.css set `[hidden] { display: none !important; }` so we also need the `!important` here to be able to override the default hidden behavior on the sphinx rendered scikit-learn.org. See: https://github.com/scikit-learn/scikit-learn/issues/21755 */display: inline-block !important;position: relative;}#sk-container-id-1 div.sk-text-repr-fallback {display: none;}</style><div id=\"sk-container-id-1\" class=\"sk-top-container\"><div class=\"sk-text-repr-fallback\"><pre>GridSearchCV(error_score=&#x27;raise&#x27;,\n",
       "             estimator=Pipeline(steps=[(&#x27;tfidf&#x27;, TfidfVectorizer()),\n",
       "                                       (&#x27;clf&#x27;,\n",
       "                                        SGDClassifier(early_stopping=True,\n",
       "                                                      penalty=&#x27;elasticnet&#x27;,\n",
       "                                                      random_state=0))]),\n",
       "             n_jobs=-1,\n",
       "             param_grid={&#x27;clf__alpha&#x27;: [1e-06, 1e-05, 0.0001],\n",
       "                         &#x27;clf__class_weight&#x27;: [None, &#x27;balanced&#x27;],\n",
       "                         &#x27;clf__l1_ratio&#x27;: [0.0, 0.1, 0.2],\n",
       "                         &#x27;clf__loss&#x27;: [&#x27;hinge&#x27;, &#x27;log_loss&#x27;],\n",
       "                         &#x27;tfidf__max_df&#x27;: [0.1, 0.3, 0.5],\n",
       "                         &#x27;tfidf__ngram_range&#x27;: [(1, 1), (2, 2), (3, 3)]},\n",
       "             scoring=&#x27;accuracy&#x27;)</pre><b>In a Jupyter environment, please rerun this cell to show the HTML representation or trust the notebook. <br />On GitHub, the HTML representation is unable to render, please try loading this page with nbviewer.org.</b></div><div class=\"sk-container\" hidden><div class=\"sk-item sk-dashed-wrapped\"><div class=\"sk-label-container\"><div class=\"sk-label sk-toggleable\"><input class=\"sk-toggleable__control sk-hidden--visually\" id=\"sk-estimator-id-1\" type=\"checkbox\" ><label for=\"sk-estimator-id-1\" class=\"sk-toggleable__label sk-toggleable__label-arrow\">GridSearchCV</label><div class=\"sk-toggleable__content\"><pre>GridSearchCV(error_score=&#x27;raise&#x27;,\n",
       "             estimator=Pipeline(steps=[(&#x27;tfidf&#x27;, TfidfVectorizer()),\n",
       "                                       (&#x27;clf&#x27;,\n",
       "                                        SGDClassifier(early_stopping=True,\n",
       "                                                      penalty=&#x27;elasticnet&#x27;,\n",
       "                                                      random_state=0))]),\n",
       "             n_jobs=-1,\n",
       "             param_grid={&#x27;clf__alpha&#x27;: [1e-06, 1e-05, 0.0001],\n",
       "                         &#x27;clf__class_weight&#x27;: [None, &#x27;balanced&#x27;],\n",
       "                         &#x27;clf__l1_ratio&#x27;: [0.0, 0.1, 0.2],\n",
       "                         &#x27;clf__loss&#x27;: [&#x27;hinge&#x27;, &#x27;log_loss&#x27;],\n",
       "                         &#x27;tfidf__max_df&#x27;: [0.1, 0.3, 0.5],\n",
       "                         &#x27;tfidf__ngram_range&#x27;: [(1, 1), (2, 2), (3, 3)]},\n",
       "             scoring=&#x27;accuracy&#x27;)</pre></div></div></div><div class=\"sk-parallel\"><div class=\"sk-parallel-item\"><div class=\"sk-item\"><div class=\"sk-label-container\"><div class=\"sk-label sk-toggleable\"><input class=\"sk-toggleable__control sk-hidden--visually\" id=\"sk-estimator-id-2\" type=\"checkbox\" ><label for=\"sk-estimator-id-2\" class=\"sk-toggleable__label sk-toggleable__label-arrow\">estimator: Pipeline</label><div class=\"sk-toggleable__content\"><pre>Pipeline(steps=[(&#x27;tfidf&#x27;, TfidfVectorizer()),\n",
       "                (&#x27;clf&#x27;,\n",
       "                 SGDClassifier(early_stopping=True, penalty=&#x27;elasticnet&#x27;,\n",
       "                               random_state=0))])</pre></div></div></div><div class=\"sk-serial\"><div class=\"sk-item\"><div class=\"sk-serial\"><div class=\"sk-item\"><div class=\"sk-estimator sk-toggleable\"><input class=\"sk-toggleable__control sk-hidden--visually\" id=\"sk-estimator-id-3\" type=\"checkbox\" ><label for=\"sk-estimator-id-3\" class=\"sk-toggleable__label sk-toggleable__label-arrow\">TfidfVectorizer</label><div class=\"sk-toggleable__content\"><pre>TfidfVectorizer()</pre></div></div></div><div class=\"sk-item\"><div class=\"sk-estimator sk-toggleable\"><input class=\"sk-toggleable__control sk-hidden--visually\" id=\"sk-estimator-id-4\" type=\"checkbox\" ><label for=\"sk-estimator-id-4\" class=\"sk-toggleable__label sk-toggleable__label-arrow\">SGDClassifier</label><div class=\"sk-toggleable__content\"><pre>SGDClassifier(early_stopping=True, penalty=&#x27;elasticnet&#x27;, random_state=0)</pre></div></div></div></div></div></div></div></div></div></div></div></div>"
      ],
      "text/plain": [
       "GridSearchCV(error_score='raise',\n",
       "             estimator=Pipeline(steps=[('tfidf', TfidfVectorizer()),\n",
       "                                       ('clf',\n",
       "                                        SGDClassifier(early_stopping=True,\n",
       "                                                      penalty='elasticnet',\n",
       "                                                      random_state=0))]),\n",
       "             n_jobs=-1,\n",
       "             param_grid={'clf__alpha': [1e-06, 1e-05, 0.0001],\n",
       "                         'clf__class_weight': [None, 'balanced'],\n",
       "                         'clf__l1_ratio': [0.0, 0.1, 0.2],\n",
       "                         'clf__loss': ['hinge', 'log_loss'],\n",
       "                         'tfidf__max_df': [0.1, 0.3, 0.5],\n",
       "                         'tfidf__ngram_range': [(1, 1), (2, 2), (3, 3)]},\n",
       "             scoring='accuracy')"
      ]
     },
     "execution_count": 33,
     "metadata": {},
     "output_type": "execute_result"
    }
   ],
   "source": [
    "# First GridSearch\n",
    "classifier = SGDClassifier(penalty=\"elasticnet\", random_state=RANDOM_SEED, early_stopping=True)\n",
    "tf = TfidfVectorizer()\n",
    "\n",
    "model_pipe = Pipeline([('tfidf', TfidfVectorizer()), ('clf', classifier)])\n",
    "\n",
    "param_grid1 = {\n",
    "    \"tfidf__max_df\": [0.1, 0.3, 0.5],\n",
    "    \"tfidf__ngram_range\": [(1, 1), (2, 2), (3, 3)],\n",
    "    \"clf__loss\": [\"hinge\", \"log_loss\"],\n",
    "    \"clf__l1_ratio\": [0., 0.1, 0.2],\n",
    "    \"clf__alpha\": [1e-6, 1e-5, 1e-4],\n",
    "    \"clf__class_weight\": [None, \"balanced\"]\n",
    "}\n",
    "\n",
    "gcv2 = GridSearchCV(model_pipe, param_grid1, scoring=\"accuracy\", n_jobs=-1, error_score=\"raise\")\n",
    "\n",
    "gcv2.fit(train_X, train_y)"
   ]
  },
  {
   "cell_type": "code",
   "execution_count": null,
   "id": "LEpzhm6LFV-Y",
   "metadata": {
    "colab": {
     "base_uri": "https://localhost:8080/"
    },
    "id": "LEpzhm6LFV-Y",
    "outputId": "47dd79f1-67b4-4d65-b496-32d2b4b69c5e"
   },
   "outputs": [
    {
     "name": "stdout",
     "output_type": "stream",
     "text": [
      "Best params {'clf__alpha': 0.0001, 'clf__class_weight': None, 'clf__l1_ratio': 0.2, 'clf__loss': 'log_loss', 'tfidf__max_df': 0.5, 'tfidf__ngram_range': (1, 1)}\n",
      "Best score 0.6744441963135381\n",
      "Std 0.03968458535524359\n",
      "Successfully safed to gcv2.pkl\n"
     ]
    }
   ],
   "source": [
    "print(\"Best params\", gcv2.best_params_)\n",
    "print(\"Best score\", gcv2.best_score_)\n",
    "print(\"Std\", pd.DataFrame(gcv2.cv_results_) .loc[gcv2.best_index_, :].std_test_score)\n",
    "\n",
    "save_to_pkl(gcv2, 'gcv2.pkl')"
   ]
  },
  {
   "cell_type": "code",
   "execution_count": null,
   "id": "XXLAB2X4aCDu",
   "metadata": {
    "colab": {
     "base_uri": "https://localhost:8080/",
     "height": 152
    },
    "id": "XXLAB2X4aCDu",
    "outputId": "2c081057-bdfb-4622-f612-56884629b3bd"
   },
   "outputs": [
    {
     "data": {
      "text/html": [
       "<style>#sk-container-id-3 {color: black;background-color: white;}#sk-container-id-3 pre{padding: 0;}#sk-container-id-3 div.sk-toggleable {background-color: white;}#sk-container-id-3 label.sk-toggleable__label {cursor: pointer;display: block;width: 100%;margin-bottom: 0;padding: 0.3em;box-sizing: border-box;text-align: center;}#sk-container-id-3 label.sk-toggleable__label-arrow:before {content: \"▸\";float: left;margin-right: 0.25em;color: #696969;}#sk-container-id-3 label.sk-toggleable__label-arrow:hover:before {color: black;}#sk-container-id-3 div.sk-estimator:hover label.sk-toggleable__label-arrow:before {color: black;}#sk-container-id-3 div.sk-toggleable__content {max-height: 0;max-width: 0;overflow: hidden;text-align: left;background-color: #f0f8ff;}#sk-container-id-3 div.sk-toggleable__content pre {margin: 0.2em;color: black;border-radius: 0.25em;background-color: #f0f8ff;}#sk-container-id-3 input.sk-toggleable__control:checked~div.sk-toggleable__content {max-height: 200px;max-width: 100%;overflow: auto;}#sk-container-id-3 input.sk-toggleable__control:checked~label.sk-toggleable__label-arrow:before {content: \"▾\";}#sk-container-id-3 div.sk-estimator input.sk-toggleable__control:checked~label.sk-toggleable__label {background-color: #d4ebff;}#sk-container-id-3 div.sk-label input.sk-toggleable__control:checked~label.sk-toggleable__label {background-color: #d4ebff;}#sk-container-id-3 input.sk-hidden--visually {border: 0;clip: rect(1px 1px 1px 1px);clip: rect(1px, 1px, 1px, 1px);height: 1px;margin: -1px;overflow: hidden;padding: 0;position: absolute;width: 1px;}#sk-container-id-3 div.sk-estimator {font-family: monospace;background-color: #f0f8ff;border: 1px dotted black;border-radius: 0.25em;box-sizing: border-box;margin-bottom: 0.5em;}#sk-container-id-3 div.sk-estimator:hover {background-color: #d4ebff;}#sk-container-id-3 div.sk-parallel-item::after {content: \"\";width: 100%;border-bottom: 1px solid gray;flex-grow: 1;}#sk-container-id-3 div.sk-label:hover label.sk-toggleable__label {background-color: #d4ebff;}#sk-container-id-3 div.sk-serial::before {content: \"\";position: absolute;border-left: 1px solid gray;box-sizing: border-box;top: 0;bottom: 0;left: 50%;z-index: 0;}#sk-container-id-3 div.sk-serial {display: flex;flex-direction: column;align-items: center;background-color: white;padding-right: 0.2em;padding-left: 0.2em;position: relative;}#sk-container-id-3 div.sk-item {position: relative;z-index: 1;}#sk-container-id-3 div.sk-parallel {display: flex;align-items: stretch;justify-content: center;background-color: white;position: relative;}#sk-container-id-3 div.sk-item::before, #sk-container-id-3 div.sk-parallel-item::before {content: \"\";position: absolute;border-left: 1px solid gray;box-sizing: border-box;top: 0;bottom: 0;left: 50%;z-index: -1;}#sk-container-id-3 div.sk-parallel-item {display: flex;flex-direction: column;z-index: 1;position: relative;background-color: white;}#sk-container-id-3 div.sk-parallel-item:first-child::after {align-self: flex-end;width: 50%;}#sk-container-id-3 div.sk-parallel-item:last-child::after {align-self: flex-start;width: 50%;}#sk-container-id-3 div.sk-parallel-item:only-child::after {width: 0;}#sk-container-id-3 div.sk-dashed-wrapped {border: 1px dashed gray;margin: 0 0.4em 0.5em 0.4em;box-sizing: border-box;padding-bottom: 0.4em;background-color: white;}#sk-container-id-3 div.sk-label label {font-family: monospace;font-weight: bold;display: inline-block;line-height: 1.2em;}#sk-container-id-3 div.sk-label-container {text-align: center;}#sk-container-id-3 div.sk-container {/* jupyter's `normalize.less` sets `[hidden] { display: none; }` but bootstrap.min.css set `[hidden] { display: none !important; }` so we also need the `!important` here to be able to override the default hidden behavior on the sphinx rendered scikit-learn.org. See: https://github.com/scikit-learn/scikit-learn/issues/21755 */display: inline-block !important;position: relative;}#sk-container-id-3 div.sk-text-repr-fallback {display: none;}</style><div id=\"sk-container-id-3\" class=\"sk-top-container\"><div class=\"sk-text-repr-fallback\"><pre>GridSearchCV(error_score=&#x27;raise&#x27;,\n",
       "             estimator=Pipeline(steps=[(&#x27;tfidf&#x27;, TfidfVectorizer()),\n",
       "                                       (&#x27;clf&#x27;,\n",
       "                                        SGDClassifier(early_stopping=True,\n",
       "                                                      penalty=&#x27;elasticnet&#x27;,\n",
       "                                                      random_state=0))]),\n",
       "             n_jobs=-1,\n",
       "             param_grid={&#x27;clf__alpha&#x27;: [0.0001, 0.001, 0.01],\n",
       "                         &#x27;clf__class_weight&#x27;: [None, &#x27;balanced&#x27;],\n",
       "                         &#x27;clf__l1_ratio&#x27;: [0.2, 0.4, 0.7],\n",
       "                         &#x27;clf__loss&#x27;: [&#x27;hinge&#x27;, &#x27;log_loss&#x27;],\n",
       "                         &#x27;tfidf__max_df&#x27;: [0.5, 0.6, 0.8],\n",
       "                         &#x27;tfidf__ngram_range&#x27;: [(1, 1), (2, 2), (3, 3)]},\n",
       "             scoring=&#x27;accuracy&#x27;)</pre><b>In a Jupyter environment, please rerun this cell to show the HTML representation or trust the notebook. <br />On GitHub, the HTML representation is unable to render, please try loading this page with nbviewer.org.</b></div><div class=\"sk-container\" hidden><div class=\"sk-item sk-dashed-wrapped\"><div class=\"sk-label-container\"><div class=\"sk-label sk-toggleable\"><input class=\"sk-toggleable__control sk-hidden--visually\" id=\"sk-estimator-id-9\" type=\"checkbox\" ><label for=\"sk-estimator-id-9\" class=\"sk-toggleable__label sk-toggleable__label-arrow\">GridSearchCV</label><div class=\"sk-toggleable__content\"><pre>GridSearchCV(error_score=&#x27;raise&#x27;,\n",
       "             estimator=Pipeline(steps=[(&#x27;tfidf&#x27;, TfidfVectorizer()),\n",
       "                                       (&#x27;clf&#x27;,\n",
       "                                        SGDClassifier(early_stopping=True,\n",
       "                                                      penalty=&#x27;elasticnet&#x27;,\n",
       "                                                      random_state=0))]),\n",
       "             n_jobs=-1,\n",
       "             param_grid={&#x27;clf__alpha&#x27;: [0.0001, 0.001, 0.01],\n",
       "                         &#x27;clf__class_weight&#x27;: [None, &#x27;balanced&#x27;],\n",
       "                         &#x27;clf__l1_ratio&#x27;: [0.2, 0.4, 0.7],\n",
       "                         &#x27;clf__loss&#x27;: [&#x27;hinge&#x27;, &#x27;log_loss&#x27;],\n",
       "                         &#x27;tfidf__max_df&#x27;: [0.5, 0.6, 0.8],\n",
       "                         &#x27;tfidf__ngram_range&#x27;: [(1, 1), (2, 2), (3, 3)]},\n",
       "             scoring=&#x27;accuracy&#x27;)</pre></div></div></div><div class=\"sk-parallel\"><div class=\"sk-parallel-item\"><div class=\"sk-item\"><div class=\"sk-label-container\"><div class=\"sk-label sk-toggleable\"><input class=\"sk-toggleable__control sk-hidden--visually\" id=\"sk-estimator-id-10\" type=\"checkbox\" ><label for=\"sk-estimator-id-10\" class=\"sk-toggleable__label sk-toggleable__label-arrow\">estimator: Pipeline</label><div class=\"sk-toggleable__content\"><pre>Pipeline(steps=[(&#x27;tfidf&#x27;, TfidfVectorizer()),\n",
       "                (&#x27;clf&#x27;,\n",
       "                 SGDClassifier(early_stopping=True, penalty=&#x27;elasticnet&#x27;,\n",
       "                               random_state=0))])</pre></div></div></div><div class=\"sk-serial\"><div class=\"sk-item\"><div class=\"sk-serial\"><div class=\"sk-item\"><div class=\"sk-estimator sk-toggleable\"><input class=\"sk-toggleable__control sk-hidden--visually\" id=\"sk-estimator-id-11\" type=\"checkbox\" ><label for=\"sk-estimator-id-11\" class=\"sk-toggleable__label sk-toggleable__label-arrow\">TfidfVectorizer</label><div class=\"sk-toggleable__content\"><pre>TfidfVectorizer()</pre></div></div></div><div class=\"sk-item\"><div class=\"sk-estimator sk-toggleable\"><input class=\"sk-toggleable__control sk-hidden--visually\" id=\"sk-estimator-id-12\" type=\"checkbox\" ><label for=\"sk-estimator-id-12\" class=\"sk-toggleable__label sk-toggleable__label-arrow\">SGDClassifier</label><div class=\"sk-toggleable__content\"><pre>SGDClassifier(early_stopping=True, penalty=&#x27;elasticnet&#x27;, random_state=0)</pre></div></div></div></div></div></div></div></div></div></div></div></div>"
      ],
      "text/plain": [
       "GridSearchCV(error_score='raise',\n",
       "             estimator=Pipeline(steps=[('tfidf', TfidfVectorizer()),\n",
       "                                       ('clf',\n",
       "                                        SGDClassifier(early_stopping=True,\n",
       "                                                      penalty='elasticnet',\n",
       "                                                      random_state=0))]),\n",
       "             n_jobs=-1,\n",
       "             param_grid={'clf__alpha': [0.0001, 0.001, 0.01],\n",
       "                         'clf__class_weight': [None, 'balanced'],\n",
       "                         'clf__l1_ratio': [0.2, 0.4, 0.7],\n",
       "                         'clf__loss': ['hinge', 'log_loss'],\n",
       "                         'tfidf__max_df': [0.5, 0.6, 0.8],\n",
       "                         'tfidf__ngram_range': [(1, 1), (2, 2), (3, 3)]},\n",
       "             scoring='accuracy')"
      ]
     },
     "execution_count": 41,
     "metadata": {},
     "output_type": "execute_result"
    }
   ],
   "source": [
    "# Second GridSearch\n",
    "classifier = SGDClassifier(penalty=\"elasticnet\", random_state=RANDOM_SEED, early_stopping=True)\n",
    "tf = TfidfVectorizer()\n",
    "\n",
    "model_pipe = Pipeline([('tfidf', TfidfVectorizer()), ('clf', classifier)])\n",
    "\n",
    "param_grid2 = {\n",
    "    \"tfidf__max_df\": [0.5, 0.6, 0.8], # Change max_df\n",
    "    \"tfidf__ngram_range\": [(1, 1), (2, 2), (3, 3)],\n",
    "    \"clf__loss\": [\"hinge\", \"log_loss\"],\n",
    "    \"clf__l1_ratio\": [0.2, 0.4, 0.7], # Change l1\n",
    "    \"clf__alpha\": [1e-4, 1e-3, 1e-2], # Change alpha\n",
    "    \"clf__class_weight\": [None, \"balanced\"]\n",
    "}\n",
    "\n",
    "gcv3 = GridSearchCV(model_pipe, param_grid2, scoring=\"accuracy\", n_jobs=-1, error_score=\"raise\")\n",
    "\n",
    "gcv3.fit(train_X, train_y)"
   ]
  },
  {
   "cell_type": "code",
   "execution_count": null,
   "id": "E-Tvn1FtaCD1",
   "metadata": {
    "colab": {
     "base_uri": "https://localhost:8080/"
    },
    "id": "E-Tvn1FtaCD1",
    "outputId": "f5f8bd8a-167b-42c0-ad3d-ff31e5854c0a"
   },
   "outputs": [
    {
     "name": "stdout",
     "output_type": "stream",
     "text": [
      "Best params {'clf__alpha': 0.0001, 'clf__class_weight': None, 'clf__l1_ratio': 0.2, 'clf__loss': 'log_loss', 'tfidf__max_df': 0.5, 'tfidf__ngram_range': (1, 1)}\n",
      "Best score 0.6744441963135381\n",
      "Std 0.03968458535524359\n",
      "Successfully safed to gcv3.pkl\n"
     ]
    }
   ],
   "source": [
    "print(\"Best params\", gcv3.best_params_)\n",
    "print(\"Best score\", gcv3.best_score_)\n",
    "print(\"Std\", pd.DataFrame(gcv3.cv_results_) .loc[gcv3.best_index_, :].std_test_score)\n",
    "\n",
    "save_to_pkl(gcv3, 'gcv3.pkl')"
   ]
  },
  {
   "cell_type": "code",
   "execution_count": null,
   "id": "EZ65iiUwfhmz",
   "metadata": {
    "id": "EZ65iiUwfhmz"
   },
   "outputs": [],
   "source": [
    "# submission_2_gcv3.csv\n",
    "# 5-fold-cv = 0.67444\n",
    "# public    = 0.76667"
   ]
  },
  {
   "cell_type": "markdown",
   "id": "5WKCvKldz6J5",
   "metadata": {
    "id": "5WKCvKldz6J5"
   },
   "source": [
    "### Lemmas + TfIdf + BestSGDClassifier +  CleanlabLabels(model=BestSGDClassifier)"
   ]
  },
  {
   "cell_type": "code",
   "execution_count": null,
   "id": "QLxpbhshIy03",
   "metadata": {
    "id": "QLxpbhshIy03"
   },
   "outputs": [],
   "source": [
    "# Training data.\n",
    "train_X = train_df['lemmas']\n",
    "train_y = train_df['label']\n",
    "\n",
    "train_X.shape, train_y.shape"
   ]
  },
  {
   "cell_type": "code",
   "execution_count": null,
   "id": "JgBuePf2EMJa",
   "metadata": {
    "colab": {
     "base_uri": "https://localhost:8080/",
     "height": 126
    },
    "id": "JgBuePf2EMJa",
    "outputId": "8933ab67-f090-4766-a01f-7ca833311ffc"
   },
   "outputs": [
    {
     "data": {
      "text/html": [
       "<style>#sk-container-id-1 {color: black;background-color: white;}#sk-container-id-1 pre{padding: 0;}#sk-container-id-1 div.sk-toggleable {background-color: white;}#sk-container-id-1 label.sk-toggleable__label {cursor: pointer;display: block;width: 100%;margin-bottom: 0;padding: 0.3em;box-sizing: border-box;text-align: center;}#sk-container-id-1 label.sk-toggleable__label-arrow:before {content: \"▸\";float: left;margin-right: 0.25em;color: #696969;}#sk-container-id-1 label.sk-toggleable__label-arrow:hover:before {color: black;}#sk-container-id-1 div.sk-estimator:hover label.sk-toggleable__label-arrow:before {color: black;}#sk-container-id-1 div.sk-toggleable__content {max-height: 0;max-width: 0;overflow: hidden;text-align: left;background-color: #f0f8ff;}#sk-container-id-1 div.sk-toggleable__content pre {margin: 0.2em;color: black;border-radius: 0.25em;background-color: #f0f8ff;}#sk-container-id-1 input.sk-toggleable__control:checked~div.sk-toggleable__content {max-height: 200px;max-width: 100%;overflow: auto;}#sk-container-id-1 input.sk-toggleable__control:checked~label.sk-toggleable__label-arrow:before {content: \"▾\";}#sk-container-id-1 div.sk-estimator input.sk-toggleable__control:checked~label.sk-toggleable__label {background-color: #d4ebff;}#sk-container-id-1 div.sk-label input.sk-toggleable__control:checked~label.sk-toggleable__label {background-color: #d4ebff;}#sk-container-id-1 input.sk-hidden--visually {border: 0;clip: rect(1px 1px 1px 1px);clip: rect(1px, 1px, 1px, 1px);height: 1px;margin: -1px;overflow: hidden;padding: 0;position: absolute;width: 1px;}#sk-container-id-1 div.sk-estimator {font-family: monospace;background-color: #f0f8ff;border: 1px dotted black;border-radius: 0.25em;box-sizing: border-box;margin-bottom: 0.5em;}#sk-container-id-1 div.sk-estimator:hover {background-color: #d4ebff;}#sk-container-id-1 div.sk-parallel-item::after {content: \"\";width: 100%;border-bottom: 1px solid gray;flex-grow: 1;}#sk-container-id-1 div.sk-label:hover label.sk-toggleable__label {background-color: #d4ebff;}#sk-container-id-1 div.sk-serial::before {content: \"\";position: absolute;border-left: 1px solid gray;box-sizing: border-box;top: 0;bottom: 0;left: 50%;z-index: 0;}#sk-container-id-1 div.sk-serial {display: flex;flex-direction: column;align-items: center;background-color: white;padding-right: 0.2em;padding-left: 0.2em;position: relative;}#sk-container-id-1 div.sk-item {position: relative;z-index: 1;}#sk-container-id-1 div.sk-parallel {display: flex;align-items: stretch;justify-content: center;background-color: white;position: relative;}#sk-container-id-1 div.sk-item::before, #sk-container-id-1 div.sk-parallel-item::before {content: \"\";position: absolute;border-left: 1px solid gray;box-sizing: border-box;top: 0;bottom: 0;left: 50%;z-index: -1;}#sk-container-id-1 div.sk-parallel-item {display: flex;flex-direction: column;z-index: 1;position: relative;background-color: white;}#sk-container-id-1 div.sk-parallel-item:first-child::after {align-self: flex-end;width: 50%;}#sk-container-id-1 div.sk-parallel-item:last-child::after {align-self: flex-start;width: 50%;}#sk-container-id-1 div.sk-parallel-item:only-child::after {width: 0;}#sk-container-id-1 div.sk-dashed-wrapped {border: 1px dashed gray;margin: 0 0.4em 0.5em 0.4em;box-sizing: border-box;padding-bottom: 0.4em;background-color: white;}#sk-container-id-1 div.sk-label label {font-family: monospace;font-weight: bold;display: inline-block;line-height: 1.2em;}#sk-container-id-1 div.sk-label-container {text-align: center;}#sk-container-id-1 div.sk-container {/* jupyter's `normalize.less` sets `[hidden] { display: none; }` but bootstrap.min.css set `[hidden] { display: none !important; }` so we also need the `!important` here to be able to override the default hidden behavior on the sphinx rendered scikit-learn.org. See: https://github.com/scikit-learn/scikit-learn/issues/21755 */display: inline-block !important;position: relative;}#sk-container-id-1 div.sk-text-repr-fallback {display: none;}</style><div id=\"sk-container-id-1\" class=\"sk-top-container\"><div class=\"sk-text-repr-fallback\"><pre>Pipeline(steps=[(&#x27;tfidf&#x27;, TfidfVectorizer(max_df=0.5)),\n",
       "                (&#x27;clf&#x27;,\n",
       "                 SGDClassifier(early_stopping=True, l1_ratio=0.2,\n",
       "                               loss=&#x27;log_loss&#x27;, penalty=&#x27;elasticnet&#x27;,\n",
       "                               random_state=0))])</pre><b>In a Jupyter environment, please rerun this cell to show the HTML representation or trust the notebook. <br />On GitHub, the HTML representation is unable to render, please try loading this page with nbviewer.org.</b></div><div class=\"sk-container\" hidden><div class=\"sk-item sk-dashed-wrapped\"><div class=\"sk-label-container\"><div class=\"sk-label sk-toggleable\"><input class=\"sk-toggleable__control sk-hidden--visually\" id=\"sk-estimator-id-1\" type=\"checkbox\" ><label for=\"sk-estimator-id-1\" class=\"sk-toggleable__label sk-toggleable__label-arrow\">Pipeline</label><div class=\"sk-toggleable__content\"><pre>Pipeline(steps=[(&#x27;tfidf&#x27;, TfidfVectorizer(max_df=0.5)),\n",
       "                (&#x27;clf&#x27;,\n",
       "                 SGDClassifier(early_stopping=True, l1_ratio=0.2,\n",
       "                               loss=&#x27;log_loss&#x27;, penalty=&#x27;elasticnet&#x27;,\n",
       "                               random_state=0))])</pre></div></div></div><div class=\"sk-serial\"><div class=\"sk-item\"><div class=\"sk-estimator sk-toggleable\"><input class=\"sk-toggleable__control sk-hidden--visually\" id=\"sk-estimator-id-2\" type=\"checkbox\" ><label for=\"sk-estimator-id-2\" class=\"sk-toggleable__label sk-toggleable__label-arrow\">TfidfVectorizer</label><div class=\"sk-toggleable__content\"><pre>TfidfVectorizer(max_df=0.5)</pre></div></div></div><div class=\"sk-item\"><div class=\"sk-estimator sk-toggleable\"><input class=\"sk-toggleable__control sk-hidden--visually\" id=\"sk-estimator-id-3\" type=\"checkbox\" ><label for=\"sk-estimator-id-3\" class=\"sk-toggleable__label sk-toggleable__label-arrow\">SGDClassifier</label><div class=\"sk-toggleable__content\"><pre>SGDClassifier(early_stopping=True, l1_ratio=0.2, loss=&#x27;log_loss&#x27;,\n",
       "              penalty=&#x27;elasticnet&#x27;, random_state=0)</pre></div></div></div></div></div></div></div>"
      ],
      "text/plain": [
       "Pipeline(steps=[('tfidf', TfidfVectorizer(max_df=0.5)),\n",
       "                ('clf',\n",
       "                 SGDClassifier(early_stopping=True, l1_ratio=0.2,\n",
       "                               loss='log_loss', penalty='elasticnet',\n",
       "                               random_state=0))])"
      ]
     },
     "execution_count": 25,
     "metadata": {},
     "output_type": "execute_result"
    }
   ],
   "source": [
    "best_params = {'clf__alpha': 0.0001, 'clf__class_weight': None, 'clf__l1_ratio': 0.2, 'clf__loss': 'log_loss', 'tfidf__max_df': 0.5}\n",
    "\n",
    "classifier = SGDClassifier(penalty=\"elasticnet\", random_state=RANDOM_SEED, early_stopping=True)\n",
    "tf = TfidfVectorizer()\n",
    "\n",
    "model_pipe = Pipeline([('tfidf', TfidfVectorizer()), ('clf', classifier)])\n",
    "model_pipe.set_params(**best_params)"
   ]
  },
  {
   "cell_type": "code",
   "execution_count": null,
   "id": "-xrYRJoB0AN0",
   "metadata": {
    "colab": {
     "base_uri": "https://localhost:8080/"
    },
    "id": "-xrYRJoB0AN0",
    "outputId": "6d2fc71d-6e46-4791-97a5-f36c24d415fc"
   },
   "outputs": [
    {
     "data": {
      "text/plain": [
       "1015                                                   love it love it love it\n",
       "7472     my favorite magazine love it chock full of great idea and information\n",
       "8746             do not like the magazine not for i it have lot of advertising\n",
       "2184         magazine be ok seem like the ad be more numerous than the article\n",
       "11319             i love this magazine great info and i read it cover to cover\n",
       "Name: lemmas, dtype: object"
      ]
     },
     "execution_count": 17,
     "metadata": {},
     "output_type": "execute_result"
    }
   ],
   "source": [
    "pred_probs = cross_val_predict(model_pipe, train_X, train_y, cv=10, method='predict_proba')\n",
    "\n",
    "labels = labels_to_zeroidx(train_y)\n",
    "issues_idx = find_label_issues(labels, pred_probs, return_indices_ranked_by='self_confidence')\n",
    "\n",
    "# Show the top 5.\n",
    "train_X.iloc[issues_idx][:5]"
   ]
  },
  {
   "cell_type": "code",
   "execution_count": null,
   "id": "fUyTjcjHGRdE",
   "metadata": {
    "colab": {
     "base_uri": "https://localhost:8080/"
    },
    "id": "fUyTjcjHGRdE",
    "outputId": "a1508810-ecce-4c9a-8d55-6140f5c02535"
   },
   "outputs": [
    {
     "name": "stdout",
     "output_type": "stream",
     "text": [
      "(9942,)\n",
      "(9942,)\n"
     ]
    }
   ],
   "source": [
    "# Drop all issues from training data.\n",
    "train_X_clean = train_X.drop(issues_idx)\n",
    "train_y_clean = train_y.drop(issues_idx)\n",
    "\n",
    "for data in [train_X_clean, train_y_clean]:\n",
    "    print(data.shape)"
   ]
  },
  {
   "cell_type": "code",
   "execution_count": null,
   "id": "5gSCh0woGTUg",
   "metadata": {
    "colab": {
     "base_uri": "https://localhost:8080/"
    },
    "id": "5gSCh0woGTUg",
    "outputId": "3ca8d474-ff8b-4f21-c18b-6961b71e956d"
   },
   "outputs": [
    {
     "data": {
      "text/plain": [
       "0.8474194918253237"
      ]
     },
     "execution_count": 22,
     "metadata": {},
     "output_type": "execute_result"
    }
   ],
   "source": [
    "cross_val_score(model_pipe, train_X_clean, train_y_clean, cv=10).mean()"
   ]
  },
  {
   "cell_type": "code",
   "execution_count": null,
   "id": "lYW7B72qFMjw",
   "metadata": {
    "id": "lYW7B72qFMjw"
   },
   "outputs": [],
   "source": [
    "test_data['lemmas'] = test_data['review_text'].apply(lambda x: tokenize_lemmatize(x))\n",
    "\n",
    "# Re-train model on data with issues removed.\n",
    "model_pipe.fit(train_X_clean, train_y_clean)\n",
    "# Make predictions for submission.\n",
    "test_preds = model_pipe.predict(test_data['lemmas'])"
   ]
  },
  {
   "cell_type": "code",
   "execution_count": null,
   "id": "01mZKbI9f5v0",
   "metadata": {
    "id": "01mZKbI9f5v0"
   },
   "outputs": [],
   "source": [
    "# Submission_4.csv\n",
    "# 10-fold-cv = 0.84741\n",
    "# public    =  0.72667"
   ]
  },
  {
   "cell_type": "markdown",
   "id": "09vy_SrrJC4V",
   "metadata": {
    "id": "09vy_SrrJC4V"
   },
   "source": [
    "### Lemmas + TfIdf + BestSGDClasssifer +  CleanlabLabels(model=BERT)"
   ]
  },
  {
   "cell_type": "code",
   "execution_count": null,
   "id": "WSVzBNRs8q5x",
   "metadata": {
    "colab": {
     "base_uri": "https://localhost:8080/"
    },
    "id": "WSVzBNRs8q5x",
    "outputId": "965bced0-ed33-4a8e-b2c4-e86420ff66fc"
   },
   "outputs": [
    {
     "data": {
      "text/plain": [
       "((12652,), (12652,))"
      ]
     },
     "execution_count": 33,
     "metadata": {},
     "output_type": "execute_result"
    }
   ],
   "source": [
    "# Training data.\n",
    "train_X = train_df['lemmas']\n",
    "train_y = train_df['label']\n",
    "\n",
    "train_X.shape, train_y.shape"
   ]
  },
  {
   "cell_type": "code",
   "execution_count": null,
   "id": "UfVmj5Kf8kJn",
   "metadata": {
    "colab": {
     "base_uri": "https://localhost:8080/",
     "height": 126
    },
    "id": "UfVmj5Kf8kJn",
    "outputId": "a7637b42-afe9-4737-fa28-83ce020ed83a"
   },
   "outputs": [
    {
     "data": {
      "text/html": [
       "<style>#sk-container-id-2 {color: black;background-color: white;}#sk-container-id-2 pre{padding: 0;}#sk-container-id-2 div.sk-toggleable {background-color: white;}#sk-container-id-2 label.sk-toggleable__label {cursor: pointer;display: block;width: 100%;margin-bottom: 0;padding: 0.3em;box-sizing: border-box;text-align: center;}#sk-container-id-2 label.sk-toggleable__label-arrow:before {content: \"▸\";float: left;margin-right: 0.25em;color: #696969;}#sk-container-id-2 label.sk-toggleable__label-arrow:hover:before {color: black;}#sk-container-id-2 div.sk-estimator:hover label.sk-toggleable__label-arrow:before {color: black;}#sk-container-id-2 div.sk-toggleable__content {max-height: 0;max-width: 0;overflow: hidden;text-align: left;background-color: #f0f8ff;}#sk-container-id-2 div.sk-toggleable__content pre {margin: 0.2em;color: black;border-radius: 0.25em;background-color: #f0f8ff;}#sk-container-id-2 input.sk-toggleable__control:checked~div.sk-toggleable__content {max-height: 200px;max-width: 100%;overflow: auto;}#sk-container-id-2 input.sk-toggleable__control:checked~label.sk-toggleable__label-arrow:before {content: \"▾\";}#sk-container-id-2 div.sk-estimator input.sk-toggleable__control:checked~label.sk-toggleable__label {background-color: #d4ebff;}#sk-container-id-2 div.sk-label input.sk-toggleable__control:checked~label.sk-toggleable__label {background-color: #d4ebff;}#sk-container-id-2 input.sk-hidden--visually {border: 0;clip: rect(1px 1px 1px 1px);clip: rect(1px, 1px, 1px, 1px);height: 1px;margin: -1px;overflow: hidden;padding: 0;position: absolute;width: 1px;}#sk-container-id-2 div.sk-estimator {font-family: monospace;background-color: #f0f8ff;border: 1px dotted black;border-radius: 0.25em;box-sizing: border-box;margin-bottom: 0.5em;}#sk-container-id-2 div.sk-estimator:hover {background-color: #d4ebff;}#sk-container-id-2 div.sk-parallel-item::after {content: \"\";width: 100%;border-bottom: 1px solid gray;flex-grow: 1;}#sk-container-id-2 div.sk-label:hover label.sk-toggleable__label {background-color: #d4ebff;}#sk-container-id-2 div.sk-serial::before {content: \"\";position: absolute;border-left: 1px solid gray;box-sizing: border-box;top: 0;bottom: 0;left: 50%;z-index: 0;}#sk-container-id-2 div.sk-serial {display: flex;flex-direction: column;align-items: center;background-color: white;padding-right: 0.2em;padding-left: 0.2em;position: relative;}#sk-container-id-2 div.sk-item {position: relative;z-index: 1;}#sk-container-id-2 div.sk-parallel {display: flex;align-items: stretch;justify-content: center;background-color: white;position: relative;}#sk-container-id-2 div.sk-item::before, #sk-container-id-2 div.sk-parallel-item::before {content: \"\";position: absolute;border-left: 1px solid gray;box-sizing: border-box;top: 0;bottom: 0;left: 50%;z-index: -1;}#sk-container-id-2 div.sk-parallel-item {display: flex;flex-direction: column;z-index: 1;position: relative;background-color: white;}#sk-container-id-2 div.sk-parallel-item:first-child::after {align-self: flex-end;width: 50%;}#sk-container-id-2 div.sk-parallel-item:last-child::after {align-self: flex-start;width: 50%;}#sk-container-id-2 div.sk-parallel-item:only-child::after {width: 0;}#sk-container-id-2 div.sk-dashed-wrapped {border: 1px dashed gray;margin: 0 0.4em 0.5em 0.4em;box-sizing: border-box;padding-bottom: 0.4em;background-color: white;}#sk-container-id-2 div.sk-label label {font-family: monospace;font-weight: bold;display: inline-block;line-height: 1.2em;}#sk-container-id-2 div.sk-label-container {text-align: center;}#sk-container-id-2 div.sk-container {/* jupyter's `normalize.less` sets `[hidden] { display: none; }` but bootstrap.min.css set `[hidden] { display: none !important; }` so we also need the `!important` here to be able to override the default hidden behavior on the sphinx rendered scikit-learn.org. See: https://github.com/scikit-learn/scikit-learn/issues/21755 */display: inline-block !important;position: relative;}#sk-container-id-2 div.sk-text-repr-fallback {display: none;}</style><div id=\"sk-container-id-2\" class=\"sk-top-container\"><div class=\"sk-text-repr-fallback\"><pre>Pipeline(steps=[(&#x27;tfidf&#x27;, TfidfVectorizer(max_df=0.5)),\n",
       "                (&#x27;clf&#x27;,\n",
       "                 SGDClassifier(early_stopping=True, l1_ratio=0.2,\n",
       "                               loss=&#x27;log_loss&#x27;, penalty=&#x27;elasticnet&#x27;,\n",
       "                               random_state=0))])</pre><b>In a Jupyter environment, please rerun this cell to show the HTML representation or trust the notebook. <br />On GitHub, the HTML representation is unable to render, please try loading this page with nbviewer.org.</b></div><div class=\"sk-container\" hidden><div class=\"sk-item sk-dashed-wrapped\"><div class=\"sk-label-container\"><div class=\"sk-label sk-toggleable\"><input class=\"sk-toggleable__control sk-hidden--visually\" id=\"sk-estimator-id-4\" type=\"checkbox\" ><label for=\"sk-estimator-id-4\" class=\"sk-toggleable__label sk-toggleable__label-arrow\">Pipeline</label><div class=\"sk-toggleable__content\"><pre>Pipeline(steps=[(&#x27;tfidf&#x27;, TfidfVectorizer(max_df=0.5)),\n",
       "                (&#x27;clf&#x27;,\n",
       "                 SGDClassifier(early_stopping=True, l1_ratio=0.2,\n",
       "                               loss=&#x27;log_loss&#x27;, penalty=&#x27;elasticnet&#x27;,\n",
       "                               random_state=0))])</pre></div></div></div><div class=\"sk-serial\"><div class=\"sk-item\"><div class=\"sk-estimator sk-toggleable\"><input class=\"sk-toggleable__control sk-hidden--visually\" id=\"sk-estimator-id-5\" type=\"checkbox\" ><label for=\"sk-estimator-id-5\" class=\"sk-toggleable__label sk-toggleable__label-arrow\">TfidfVectorizer</label><div class=\"sk-toggleable__content\"><pre>TfidfVectorizer(max_df=0.5)</pre></div></div></div><div class=\"sk-item\"><div class=\"sk-estimator sk-toggleable\"><input class=\"sk-toggleable__control sk-hidden--visually\" id=\"sk-estimator-id-6\" type=\"checkbox\" ><label for=\"sk-estimator-id-6\" class=\"sk-toggleable__label sk-toggleable__label-arrow\">SGDClassifier</label><div class=\"sk-toggleable__content\"><pre>SGDClassifier(early_stopping=True, l1_ratio=0.2, loss=&#x27;log_loss&#x27;,\n",
       "              penalty=&#x27;elasticnet&#x27;, random_state=0)</pre></div></div></div></div></div></div></div>"
      ],
      "text/plain": [
       "Pipeline(steps=[('tfidf', TfidfVectorizer(max_df=0.5)),\n",
       "                ('clf',\n",
       "                 SGDClassifier(early_stopping=True, l1_ratio=0.2,\n",
       "                               loss='log_loss', penalty='elasticnet',\n",
       "                               random_state=0))])"
      ]
     },
     "execution_count": 88,
     "metadata": {},
     "output_type": "execute_result"
    }
   ],
   "source": [
    "# Initialize pipeline with best TfIdfVectorizer and BestSGDClasssifer\n",
    "best_params = {'clf__alpha': 0.0001, 'clf__class_weight': None, 'clf__l1_ratio': 0.2, 'clf__loss': 'log_loss', 'tfidf__max_df': 0.5}\n",
    "\n",
    "classifier = SGDClassifier(penalty=\"elasticnet\", random_state=RANDOM_SEED, early_stopping=True)\n",
    "tf = TfidfVectorizer()\n",
    "model_pipe = Pipeline([('tfidf', tf), ('clf', classifier)])\n",
    "model_pipe.set_params(**best_params)"
   ]
  },
  {
   "cell_type": "code",
   "execution_count": null,
   "id": "lVAPwsQG5mva",
   "metadata": {
    "colab": {
     "base_uri": "https://localhost:8080/"
    },
    "id": "lVAPwsQG5mva",
    "outputId": "3d12b0a4-cdeb-4211-c6a1-ab5c4a9ddd9b"
   },
   "outputs": [
    {
     "name": "stderr",
     "output_type": "stream",
     "text": [
      "<ipython-input-31-e28a7cdd9fa9>:7: UserWarning: Implicit dimension choice for softmax has been deprecated. Change the call to include dim=X as an argument.\n",
      "  pred_probs = logits.apply(lambda x: torch.nn.Softmax()(x).numpy())\n"
     ]
    }
   ],
   "source": [
    "# Extract predicted probabilities from pretrained BERT model\n",
    "tokenizer, model = load_bert(output_hidden_states=True)\n",
    "\n",
    "inputs = train_df['review_text'].apply(lambda x: tokenizer(x, return_tensors=\"pt\"))\n",
    "\n",
    "with torch.no_grad():\n",
    "    logits = inputs.apply(lambda x: model(**x).logits)\n",
    "\n",
    "pred_probs = logits.apply(lambda x: torch.nn.Softmax()(x).numpy())\n",
    "pred_labels = logits.apply(lambda x: torch.nn.Softmax()(x).numpy().argmax() + 1)\n",
    "\n",
    "t = pred_probs.apply(lambda x: x[0]).values\n",
    "t1 = [[el[i] for i in range(len(el))] for el in t]\n",
    "t2 = np.array(t1)"
   ]
  },
  {
   "cell_type": "code",
   "execution_count": null,
   "id": "kyTT8vP_8Kpf",
   "metadata": {
    "colab": {
     "base_uri": "https://localhost:8080/"
    },
    "id": "kyTT8vP_8Kpf",
    "outputId": "2084d80f-3f7e-48ab-b810-9ffcef140fb4"
   },
   "outputs": [
    {
     "data": {
      "text/plain": [
       "2704     love this magazine the well gf magazine i have see by far informative article and product info super recipe beautiful photo and easy to read layout\n",
       "12546                                       love all the tip and new thing to fix enjoy learn how the star cook and do thing all the recipe will keep i busy\n",
       "8441                                           my grandkid love this they can not wait to read it and learn ton of stuff wonderful to teach the love of read\n",
       "11080                                                               my favorite magazine i love everything pop culture and entertainment weekly cover it all\n",
       "2004                                     great book will continue to get it the well satire magazine ever write great service for a continue great time read\n",
       "Name: lemmas, dtype: object"
      ]
     },
     "execution_count": 83,
     "metadata": {},
     "output_type": "execute_result"
    }
   ],
   "source": [
    "# Find issues indexes\n",
    "labels = labels_to_zeroidx(train_y)\n",
    "issues_idx = find_label_issues(labels, t2, return_indices_ranked_by='self_confidence')\n",
    "\n",
    "# Show the top 5.\n",
    "train_X.iloc[issues_idx][:5]"
   ]
  },
  {
   "cell_type": "code",
   "execution_count": null,
   "id": "cwMHzy4CKr6S",
   "metadata": {
    "colab": {
     "base_uri": "https://localhost:8080/",
     "height": 354
    },
    "id": "cwMHzy4CKr6S",
    "outputId": "459e896e-cc5e-4e62-eacb-e832f1986847"
   },
   "outputs": [
    {
     "data": {
      "text/html": [
       "\n",
       "  <div id=\"df-3adf7701-c259-412c-a8bf-6f99c209b44c\">\n",
       "    <div class=\"colab-df-container\">\n",
       "      <div>\n",
       "<style scoped>\n",
       "    .dataframe tbody tr th:only-of-type {\n",
       "        vertical-align: middle;\n",
       "    }\n",
       "\n",
       "    .dataframe tbody tr th {\n",
       "        vertical-align: top;\n",
       "    }\n",
       "\n",
       "    .dataframe thead th {\n",
       "        text-align: right;\n",
       "    }\n",
       "</style>\n",
       "<table border=\"1\" class=\"dataframe\">\n",
       "  <thead>\n",
       "    <tr style=\"text-align: right;\">\n",
       "      <th></th>\n",
       "      <th>review_id</th>\n",
       "      <th>review_text</th>\n",
       "      <th>label</th>\n",
       "      <th>words_only</th>\n",
       "      <th>lemmas</th>\n",
       "      <th>words_count</th>\n",
       "    </tr>\n",
       "  </thead>\n",
       "  <tbody>\n",
       "    <tr>\n",
       "      <th>2704</th>\n",
       "      <td>69059</td>\n",
       "      <td>Love this magazine - the best GF magazine I have seen by far. Informative articles and product info, super recipes, beautiful photos, and easy to read layout.</td>\n",
       "      <td>1</td>\n",
       "      <td>Love this magazine the best GF magazine I have seen by far Informative articles and product info super recipes beautiful photos and easy to read layout</td>\n",
       "      <td>love this magazine the well gf magazine i have see by far informative article and product info super recipe beautiful photo and easy to read layout</td>\n",
       "      <td>26</td>\n",
       "    </tr>\n",
       "    <tr>\n",
       "      <th>12546</th>\n",
       "      <td>64044</td>\n",
       "      <td>Love all the tips and new things to fix. Enjoy learning how the stars cook and do things.  All the recipes will keep me busy :)</td>\n",
       "      <td>1</td>\n",
       "      <td>Love all the tips and new things to fix Enjoy learning how the stars cook and do things All the recipes will keep me busy</td>\n",
       "      <td>love all the tip and new thing to fix enjoy learn how the star cook and do thing all the recipe will keep i busy</td>\n",
       "      <td>25</td>\n",
       "    </tr>\n",
       "    <tr>\n",
       "      <th>8441</th>\n",
       "      <td>28683</td>\n",
       "      <td>My grandkids love this. They can't wait to read it, and learn tons of stuff. Wonderful to teach the love of reading!</td>\n",
       "      <td>1</td>\n",
       "      <td>My grandkids love this They can t wait to read it and learn tons of stuff Wonderful to teach the love of reading</td>\n",
       "      <td>my grandkid love this they can not wait to read it and learn ton of stuff wonderful to teach the love of read</td>\n",
       "      <td>23</td>\n",
       "    </tr>\n",
       "    <tr>\n",
       "      <th>11080</th>\n",
       "      <td>50833</td>\n",
       "      <td>My favorite magazine! I love everything pop culture and entertainment weekly covers it all.</td>\n",
       "      <td>1</td>\n",
       "      <td>My favorite magazine I love everything pop culture and entertainment weekly covers it all</td>\n",
       "      <td>my favorite magazine i love everything pop culture and entertainment weekly cover it all</td>\n",
       "      <td>14</td>\n",
       "    </tr>\n",
       "    <tr>\n",
       "      <th>2004</th>\n",
       "      <td>66261</td>\n",
       "      <td>Great book.  Will continue to get it!!!!!!!  The best satire magazine ever written.  Great service for a continued great time reading.</td>\n",
       "      <td>1</td>\n",
       "      <td>Great book Will continue to get it The best satire magazine ever written Great service for a continued great time reading</td>\n",
       "      <td>great book will continue to get it the well satire magazine ever write great service for a continue great time read</td>\n",
       "      <td>21</td>\n",
       "    </tr>\n",
       "  </tbody>\n",
       "</table>\n",
       "</div>\n",
       "      <button class=\"colab-df-convert\" onclick=\"convertToInteractive('df-3adf7701-c259-412c-a8bf-6f99c209b44c')\"\n",
       "              title=\"Convert this dataframe to an interactive table.\"\n",
       "              style=\"display:none;\">\n",
       "        \n",
       "  <svg xmlns=\"http://www.w3.org/2000/svg\" height=\"24px\"viewBox=\"0 0 24 24\"\n",
       "       width=\"24px\">\n",
       "    <path d=\"M0 0h24v24H0V0z\" fill=\"none\"/>\n",
       "    <path d=\"M18.56 5.44l.94 2.06.94-2.06 2.06-.94-2.06-.94-.94-2.06-.94 2.06-2.06.94zm-11 1L8.5 8.5l.94-2.06 2.06-.94-2.06-.94L8.5 2.5l-.94 2.06-2.06.94zm10 10l.94 2.06.94-2.06 2.06-.94-2.06-.94-.94-2.06-.94 2.06-2.06.94z\"/><path d=\"M17.41 7.96l-1.37-1.37c-.4-.4-.92-.59-1.43-.59-.52 0-1.04.2-1.43.59L10.3 9.45l-7.72 7.72c-.78.78-.78 2.05 0 2.83L4 21.41c.39.39.9.59 1.41.59.51 0 1.02-.2 1.41-.59l7.78-7.78 2.81-2.81c.8-.78.8-2.07 0-2.86zM5.41 20L4 18.59l7.72-7.72 1.47 1.35L5.41 20z\"/>\n",
       "  </svg>\n",
       "      </button>\n",
       "      \n",
       "  <style>\n",
       "    .colab-df-container {\n",
       "      display:flex;\n",
       "      flex-wrap:wrap;\n",
       "      gap: 12px;\n",
       "    }\n",
       "\n",
       "    .colab-df-convert {\n",
       "      background-color: #E8F0FE;\n",
       "      border: none;\n",
       "      border-radius: 50%;\n",
       "      cursor: pointer;\n",
       "      display: none;\n",
       "      fill: #1967D2;\n",
       "      height: 32px;\n",
       "      padding: 0 0 0 0;\n",
       "      width: 32px;\n",
       "    }\n",
       "\n",
       "    .colab-df-convert:hover {\n",
       "      background-color: #E2EBFA;\n",
       "      box-shadow: 0px 1px 2px rgba(60, 64, 67, 0.3), 0px 1px 3px 1px rgba(60, 64, 67, 0.15);\n",
       "      fill: #174EA6;\n",
       "    }\n",
       "\n",
       "    [theme=dark] .colab-df-convert {\n",
       "      background-color: #3B4455;\n",
       "      fill: #D2E3FC;\n",
       "    }\n",
       "\n",
       "    [theme=dark] .colab-df-convert:hover {\n",
       "      background-color: #434B5C;\n",
       "      box-shadow: 0px 1px 3px 1px rgba(0, 0, 0, 0.15);\n",
       "      filter: drop-shadow(0px 1px 2px rgba(0, 0, 0, 0.3));\n",
       "      fill: #FFFFFF;\n",
       "    }\n",
       "  </style>\n",
       "\n",
       "      <script>\n",
       "        const buttonEl =\n",
       "          document.querySelector('#df-3adf7701-c259-412c-a8bf-6f99c209b44c button.colab-df-convert');\n",
       "        buttonEl.style.display =\n",
       "          google.colab.kernel.accessAllowed ? 'block' : 'none';\n",
       "\n",
       "        async function convertToInteractive(key) {\n",
       "          const element = document.querySelector('#df-3adf7701-c259-412c-a8bf-6f99c209b44c');\n",
       "          const dataTable =\n",
       "            await google.colab.kernel.invokeFunction('convertToInteractive',\n",
       "                                                     [key], {});\n",
       "          if (!dataTable) return;\n",
       "\n",
       "          const docLinkHtml = 'Like what you see? Visit the ' +\n",
       "            '<a target=\"_blank\" href=https://colab.research.google.com/notebooks/data_table.ipynb>data table notebook</a>'\n",
       "            + ' to learn more about interactive tables.';\n",
       "          element.innerHTML = '';\n",
       "          dataTable['output_type'] = 'display_data';\n",
       "          await google.colab.output.renderOutput(dataTable, element);\n",
       "          const docLink = document.createElement('div');\n",
       "          docLink.innerHTML = docLinkHtml;\n",
       "          element.appendChild(docLink);\n",
       "        }\n",
       "      </script>\n",
       "    </div>\n",
       "  </div>\n",
       "  "
      ],
      "text/plain": [
       "       review_id  \\\n",
       "2704       69059   \n",
       "12546      64044   \n",
       "8441       28683   \n",
       "11080      50833   \n",
       "2004       66261   \n",
       "\n",
       "                                                                                                                                                          review_text  \\\n",
       "2704   Love this magazine - the best GF magazine I have seen by far. Informative articles and product info, super recipes, beautiful photos, and easy to read layout.   \n",
       "12546                                 Love all the tips and new things to fix. Enjoy learning how the stars cook and do things.  All the recipes will keep me busy :)   \n",
       "8441                                             My grandkids love this. They can't wait to read it, and learn tons of stuff. Wonderful to teach the love of reading!   \n",
       "11080                                                                     My favorite magazine! I love everything pop culture and entertainment weekly covers it all.   \n",
       "2004                           Great book.  Will continue to get it!!!!!!!  The best satire magazine ever written.  Great service for a continued great time reading.   \n",
       "\n",
       "       label  \\\n",
       "2704       1   \n",
       "12546      1   \n",
       "8441       1   \n",
       "11080      1   \n",
       "2004       1   \n",
       "\n",
       "                                                                                                                                                    words_only  \\\n",
       "2704   Love this magazine the best GF magazine I have seen by far Informative articles and product info super recipes beautiful photos and easy to read layout   \n",
       "12546                                Love all the tips and new things to fix Enjoy learning how the stars cook and do things All the recipes will keep me busy   \n",
       "8441                                          My grandkids love this They can t wait to read it and learn tons of stuff Wonderful to teach the love of reading   \n",
       "11080                                                                My favorite magazine I love everything pop culture and entertainment weekly covers it all   \n",
       "2004                                 Great book Will continue to get it The best satire magazine ever written Great service for a continued great time reading   \n",
       "\n",
       "                                                                                                                                                    lemmas  \\\n",
       "2704   love this magazine the well gf magazine i have see by far informative article and product info super recipe beautiful photo and easy to read layout   \n",
       "12546                                     love all the tip and new thing to fix enjoy learn how the star cook and do thing all the recipe will keep i busy   \n",
       "8441                                         my grandkid love this they can not wait to read it and learn ton of stuff wonderful to teach the love of read   \n",
       "11080                                                             my favorite magazine i love everything pop culture and entertainment weekly cover it all   \n",
       "2004                                   great book will continue to get it the well satire magazine ever write great service for a continue great time read   \n",
       "\n",
       "       words_count  \n",
       "2704            26  \n",
       "12546           25  \n",
       "8441            23  \n",
       "11080           14  \n",
       "2004            21  "
      ]
     },
     "execution_count": 86,
     "metadata": {},
     "output_type": "execute_result"
    }
   ],
   "source": [
    "train_df.iloc[issues_idx][:5]"
   ]
  },
  {
   "cell_type": "code",
   "execution_count": null,
   "id": "cFsCjAuf8cXs",
   "metadata": {
    "colab": {
     "base_uri": "https://localhost:8080/"
    },
    "id": "cFsCjAuf8cXs",
    "outputId": "9543b084-c6c3-41d4-b9fc-8cd60bb47942"
   },
   "outputs": [
    {
     "name": "stdout",
     "output_type": "stream",
     "text": [
      "(9791,)\n",
      "(9791,)\n"
     ]
    }
   ],
   "source": [
    "# Drop all issues from training data.\n",
    "train_X_clean = train_X.drop(issues_idx)\n",
    "train_y_clean = train_y.drop(issues_idx)\n",
    "\n",
    "for data in [train_X_clean, train_y_clean]:\n",
    "    print(data.shape)"
   ]
  },
  {
   "cell_type": "code",
   "execution_count": null,
   "id": "NTfn-y5IL5dw",
   "metadata": {
    "colab": {
     "base_uri": "https://localhost:8080/"
    },
    "id": "NTfn-y5IL5dw",
    "outputId": "116165fe-37b7-492e-8885-4284cf2b6f9a"
   },
   "outputs": [
    {
     "name": "stdout",
     "output_type": "stream",
     "text": [
      "Accuracy of predicted by BERT labels excluding issue_idx: 0.7972627923603309\n"
     ]
    }
   ],
   "source": [
    "print(\"Accuracy of predicted by BERT labels excluding issue_idx:\", accuracy_score(train_y.drop(issues_idx), pred_labels.drop(issues_idx)))"
   ]
  },
  {
   "cell_type": "code",
   "execution_count": null,
   "id": "5TgTbA3k9qtE",
   "metadata": {
    "colab": {
     "base_uri": "https://localhost:8080/"
    },
    "id": "5TgTbA3k9qtE",
    "outputId": "ef7e9367-db42-4a93-c2ae-99d59a091896"
   },
   "outputs": [
    {
     "name": "stdout",
     "output_type": "stream",
     "text": [
      "10-fold CV on clean dataset: 0.8002340997686102\n"
     ]
    }
   ],
   "source": [
    "print(\"10-fold CV on clean dataset:\", cross_val_score(model_pipe, train_X_clean, train_y_clean, cv=10).mean())"
   ]
  },
  {
   "cell_type": "code",
   "execution_count": null,
   "id": "1fE157Ha95BS",
   "metadata": {
    "id": "1fE157Ha95BS"
   },
   "outputs": [],
   "source": [
    "# Create lemmas feature for test data\n",
    "test_data['lemmas'] = test_data['review_text'].apply(lambda x: tokenize_lemmatize(x))\n",
    "\n",
    "# Re-train model on data with issues removed.\n",
    "model_pipe.fit(train_X_clean, train_y_clean)\n",
    "\n",
    "# Make predictions for submission.\n",
    "test_preds = model_pipe.predict(test_data['lemmas'])"
   ]
  },
  {
   "cell_type": "code",
   "execution_count": null,
   "id": "uj6SRyZrNF7w",
   "metadata": {
    "colab": {
     "base_uri": "https://localhost:8080/"
    },
    "id": "uj6SRyZrNF7w",
    "outputId": "78656310-6b0f-48d4-8d65-1e634c0f4ec1"
   },
   "outputs": [
    {
     "name": "stdout",
     "output_type": "stream",
     "text": [
      "Successfully safed to issue_idx_by_bert.pkl\n"
     ]
    }
   ],
   "source": [
    "# save_to_pkl(issues_idx, \"issue_idx_by_bert.pkl\")"
   ]
  },
  {
   "cell_type": "code",
   "execution_count": null,
   "id": "0lGjCPz5OoBx",
   "metadata": {
    "id": "0lGjCPz5OoBx"
   },
   "outputs": [],
   "source": [
    "# Submission_5\n",
    "# 10-fold-cv = 0.80023\n",
    "# public    =  0.77333"
   ]
  },
  {
   "cell_type": "markdown",
   "id": "MGnhRW8wOxbb",
   "metadata": {
    "id": "MGnhRW8wOxbb"
   },
   "source": [
    "**Resume**.  \n",
    "The error indices that were found using BERT's model can be considered the most accurate, as the logistic regression trained on the purified sample was able to show the result of public test 0.77333. \n",
    "\n",
    "This sample can be used to train other models."
   ]
  },
  {
   "cell_type": "markdown",
   "id": "YCbKk6CZKfAK",
   "metadata": {
    "id": "YCbKk6CZKfAK"
   },
   "source": [
    "# Embeddings"
   ]
  },
  {
   "cell_type": "code",
   "execution_count": null,
   "id": "xiZk8Veld5oS",
   "metadata": {
    "colab": {
     "base_uri": "https://localhost:8080/"
    },
    "id": "xiZk8Veld5oS",
    "outputId": "f703155b-0d29-4cec-fda5-14acc14e11d1"
   },
   "outputs": [
    {
     "name": "stderr",
     "output_type": "stream",
     "text": [
      "WARNING:tensorflow:Please fix your imports. Module tensorflow.python.training.tracking.data_structures has been moved to tensorflow.python.trackable.data_structures. The old module will be deleted in version 2.11.\n"
     ]
    }
   ],
   "source": [
    "use = hub.load(\"https://tfhub.dev/google/universal-sentence-encoder/4\")\n",
    "use_large = hub.load(\"https://tfhub.dev/google/universal-sentence-encoder-large/5\")\n",
    "\n",
    "preprocessor = hub.KerasLayer(\"https://tfhub.dev/tensorflow/bert_en_uncased_preprocess/3\")\n",
    "encoder = hub.KerasLayer(\"https://tfhub.dev/google/universal-sentence-encoder-cmlm/en-large/1\")\n",
    "\n",
    "def embed(input):\n",
    "  return use(input)\n",
    "\n",
    "def embed_large(input):\n",
    "  return use_large(input)\n",
    "\n",
    "def embed_bert(input_data):\n",
    "    \"\"\"\n",
    "    Input - pd.Series\n",
    "    Output - np.array\n",
    "    \"\"\"\n",
    "    data = input_data.copy()\n",
    "    batch_size = 100\n",
    "    embeddings = []\n",
    "    data_shape = data.shape[0]\n",
    "\n",
    "    for i in notebook.tqdm(range(data_shape // batch_size + 1)):\n",
    "        with tf.device('/device:GPU:0'):\n",
    "            batch = data.iloc[batch_size*i:batch_size*(i+1)]\n",
    "            batch_embeddings = encoder(preprocessor(batch))['default'].numpy()\n",
    "        embeddings.append(batch_embeddings)\n",
    "\n",
    "    train_X = np.concatenate(embeddings)\n",
    "\n",
    "    return train_X\n",
    "\n",
    "\n",
    "def get_use_train_X_y(data, issue_idx):\n",
    "    train_df = data.copy()\n",
    "    train_X = embed(train_df['review_text'].drop(issue_idx)).numpy()\n",
    "    train_y = train_df['label'].drop(issue_idx)\n",
    "    return train_X, train_y\n",
    "\n",
    "def get_uselarge_train_X_y(data, issue_idx):\n",
    "    train_df = data.copy()\n",
    "    train_X =  embed_large(train_df['review_text'].drop(issue_idx)).numpy()\n",
    "    train_y = train_df['label'].drop(issue_idx)\n",
    "    return train_X, train_y\n",
    "\n",
    "def get_usecmlm_train_X_y(data, issue_idx):\n",
    "    train_df = data.copy()\n",
    "    train_X =  embed_bert(train_df['review_text'].drop(issue_idx)).numpy()\n",
    "    train_y = train_df['label'].drop(issue_idx)\n",
    "    return train_X, train_y"
   ]
  },
  {
   "cell_type": "code",
   "execution_count": null,
   "id": "Wjk6XCjLQWdh",
   "metadata": {
    "id": "Wjk6XCjLQWdh"
   },
   "outputs": [],
   "source": [
    "def cross_validate_nn(model_nn, train_X, train_y_zidx, n_epochs, from_logits=False):\n",
    "    # Define the K-fold Cross Validator\n",
    "    skfold = StratifiedKFold(n_splits=10, random_state=RANDOM_SEED, shuffle=True)\n",
    "\n",
    "    acc_per_fold = []\n",
    "    loss_per_fold = []\n",
    "\n",
    "    # K-fold Cross Validation model evaluation\n",
    "    fold_no = 1\n",
    "    for train, test in skfold.split(train_X, train_y_zidx):\n",
    "        with tf.device('/device:GPU:0'):\n",
    "            model = model_nn()\n",
    "            model.compile(\n",
    "                loss = tf.losses.SparseCategoricalCrossentropy(from_logits=from_logits),\n",
    "                optimizer=tf.optimizers.Adam(learning_rate=0.0001), \n",
    "                metrics = [tf.keras.metrics.SparseCategoricalAccuracy(name=\"accuracy\")])\n",
    "\n",
    "\n",
    "        # Generate a print\n",
    "        print('------------------------------------------------------------------------')\n",
    "        print(f'Training for fold {fold_no} ...')\n",
    "\n",
    "        # Fit data to model\n",
    "        history = model.fit(x=train_X[train], y=train_y_zidx[train],\n",
    "                            validation_data=(train_X[test], train_y_zidx[test]),\n",
    "                            epochs=n_epochs)\n",
    "\n",
    "        # Generate generalization metrics\n",
    "        scores = model.evaluate(train_X[test], train_y_zidx[test], verbose=0)\n",
    "        print(f'Score for fold {fold_no}: {model.metrics_names[0]} of {scores[0]}; {model.metrics_names[1]} of {scores[1]*100}%')\n",
    "\n",
    "        acc_per_fold.append(scores[1])\n",
    "        loss_per_fold.append(scores[0])\n",
    "\n",
    "        # Increase fold number\n",
    "        fold_no += 1\n",
    "    return acc_per_fold, loss_per_fold"
   ]
  },
  {
   "cell_type": "code",
   "execution_count": null,
   "id": "RcA6RphWxXRT",
   "metadata": {
    "id": "RcA6RphWxXRT"
   },
   "outputs": [],
   "source": [
    "def cross_val_predict_nn(model_nn, train_X, train_y_zidx, n_epochs, from_logits=False):\n",
    "    # Define the K-fold Cross Validator\n",
    "    skfold = StratifiedKFold(n_splits=10, random_state=RANDOM_SEED, shuffle=True)\n",
    "    cv_preds = []\n",
    "    indices = []\n",
    "\n",
    "    # K-fold Cross Validation model evaluation\n",
    "    fold_no = 1\n",
    "    for train, test in skfold.split(train_X, train_y_zidx):\n",
    "        with tf.device('/device:GPU:0'):\n",
    "            model = model_nn()\n",
    "            model.compile(\n",
    "                loss = tf.losses.SparseCategoricalCrossentropy(from_logits=from_logits),\n",
    "                optimizer=tf.optimizers.Adam(learning_rate=0.0001), \n",
    "                metrics = [tf.keras.metrics.SparseCategoricalAccuracy(name=\"accuracy\")])\n",
    "\n",
    "\n",
    "        # Generate a print\n",
    "        print('------------------------------------------------------------------------')\n",
    "        print(f'Training for fold {fold_no} ...')\n",
    "\n",
    "        # Fit data to model\n",
    "        history = model.fit(x=train_X[train], y=train_y_zidx[train],\n",
    "                            validation_data=(train_X[test], train_y_zidx[test]),\n",
    "                            epochs=n_epochs)\n",
    "        \n",
    "        fold_pred = model.predict(train_X[test])\n",
    "        fold_indices = test\n",
    "\n",
    "        cv_preds.append(fold_pred)\n",
    "        indices.append(fold_indices)\n",
    "\n",
    "        # Increase fold number\n",
    "        fold_no += 1\n",
    "\n",
    "    cross_val_preds = np.concatenate(cv_preds)\n",
    "    valid_indices = np.concatenate(indices)\n",
    "    return cross_val_preds, valid_indices"
   ]
  },
  {
   "cell_type": "markdown",
   "id": "yssWhYQogYxL",
   "metadata": {
    "id": "yssWhYQogYxL"
   },
   "source": [
    "## USE"
   ]
  },
  {
   "cell_type": "markdown",
   "id": "3Qk7VoNxKhfC",
   "metadata": {
    "id": "3Qk7VoNxKhfC"
   },
   "source": [
    "### USE Embeddings + LogReg/lbfgs(iter=1000)/BestSGDClassifier + CleanlabLabels(model=BERT) | also finding best fraction of droppped issues_idx"
   ]
  },
  {
   "cell_type": "code",
   "execution_count": null,
   "id": "XB1dNH09LeYQ",
   "metadata": {
    "id": "XB1dNH09LeYQ"
   },
   "outputs": [],
   "source": [
    "issue_idx_by_bert = load_from_pkl(\"issue_idx_by_bert.pkl\")\n",
    "\n",
    "train_X, train_y = get_use_train_X_y(train_df, issue_idx_by_bert)\n",
    "\n",
    "train_X.shape, train_y.shape"
   ]
  },
  {
   "cell_type": "code",
   "execution_count": null,
   "id": "w-Ow_b2aNYLt",
   "metadata": {
    "colab": {
     "base_uri": "https://localhost:8080/",
     "height": 92
    },
    "id": "w-Ow_b2aNYLt",
    "outputId": "ffbd7e00-f23c-402a-aaf4-1cf064847515"
   },
   "outputs": [
    {
     "data": {
      "text/html": [
       "<style>#sk-container-id-1 {color: black;background-color: white;}#sk-container-id-1 pre{padding: 0;}#sk-container-id-1 div.sk-toggleable {background-color: white;}#sk-container-id-1 label.sk-toggleable__label {cursor: pointer;display: block;width: 100%;margin-bottom: 0;padding: 0.3em;box-sizing: border-box;text-align: center;}#sk-container-id-1 label.sk-toggleable__label-arrow:before {content: \"▸\";float: left;margin-right: 0.25em;color: #696969;}#sk-container-id-1 label.sk-toggleable__label-arrow:hover:before {color: black;}#sk-container-id-1 div.sk-estimator:hover label.sk-toggleable__label-arrow:before {color: black;}#sk-container-id-1 div.sk-toggleable__content {max-height: 0;max-width: 0;overflow: hidden;text-align: left;background-color: #f0f8ff;}#sk-container-id-1 div.sk-toggleable__content pre {margin: 0.2em;color: black;border-radius: 0.25em;background-color: #f0f8ff;}#sk-container-id-1 input.sk-toggleable__control:checked~div.sk-toggleable__content {max-height: 200px;max-width: 100%;overflow: auto;}#sk-container-id-1 input.sk-toggleable__control:checked~label.sk-toggleable__label-arrow:before {content: \"▾\";}#sk-container-id-1 div.sk-estimator input.sk-toggleable__control:checked~label.sk-toggleable__label {background-color: #d4ebff;}#sk-container-id-1 div.sk-label input.sk-toggleable__control:checked~label.sk-toggleable__label {background-color: #d4ebff;}#sk-container-id-1 input.sk-hidden--visually {border: 0;clip: rect(1px 1px 1px 1px);clip: rect(1px, 1px, 1px, 1px);height: 1px;margin: -1px;overflow: hidden;padding: 0;position: absolute;width: 1px;}#sk-container-id-1 div.sk-estimator {font-family: monospace;background-color: #f0f8ff;border: 1px dotted black;border-radius: 0.25em;box-sizing: border-box;margin-bottom: 0.5em;}#sk-container-id-1 div.sk-estimator:hover {background-color: #d4ebff;}#sk-container-id-1 div.sk-parallel-item::after {content: \"\";width: 100%;border-bottom: 1px solid gray;flex-grow: 1;}#sk-container-id-1 div.sk-label:hover label.sk-toggleable__label {background-color: #d4ebff;}#sk-container-id-1 div.sk-serial::before {content: \"\";position: absolute;border-left: 1px solid gray;box-sizing: border-box;top: 0;bottom: 0;left: 50%;z-index: 0;}#sk-container-id-1 div.sk-serial {display: flex;flex-direction: column;align-items: center;background-color: white;padding-right: 0.2em;padding-left: 0.2em;position: relative;}#sk-container-id-1 div.sk-item {position: relative;z-index: 1;}#sk-container-id-1 div.sk-parallel {display: flex;align-items: stretch;justify-content: center;background-color: white;position: relative;}#sk-container-id-1 div.sk-item::before, #sk-container-id-1 div.sk-parallel-item::before {content: \"\";position: absolute;border-left: 1px solid gray;box-sizing: border-box;top: 0;bottom: 0;left: 50%;z-index: -1;}#sk-container-id-1 div.sk-parallel-item {display: flex;flex-direction: column;z-index: 1;position: relative;background-color: white;}#sk-container-id-1 div.sk-parallel-item:first-child::after {align-self: flex-end;width: 50%;}#sk-container-id-1 div.sk-parallel-item:last-child::after {align-self: flex-start;width: 50%;}#sk-container-id-1 div.sk-parallel-item:only-child::after {width: 0;}#sk-container-id-1 div.sk-dashed-wrapped {border: 1px dashed gray;margin: 0 0.4em 0.5em 0.4em;box-sizing: border-box;padding-bottom: 0.4em;background-color: white;}#sk-container-id-1 div.sk-label label {font-family: monospace;font-weight: bold;display: inline-block;line-height: 1.2em;}#sk-container-id-1 div.sk-label-container {text-align: center;}#sk-container-id-1 div.sk-container {/* jupyter's `normalize.less` sets `[hidden] { display: none; }` but bootstrap.min.css set `[hidden] { display: none !important; }` so we also need the `!important` here to be able to override the default hidden behavior on the sphinx rendered scikit-learn.org. See: https://github.com/scikit-learn/scikit-learn/issues/21755 */display: inline-block !important;position: relative;}#sk-container-id-1 div.sk-text-repr-fallback {display: none;}</style><div id=\"sk-container-id-1\" class=\"sk-top-container\"><div class=\"sk-text-repr-fallback\"><pre>SGDClassifier(early_stopping=True, l1_ratio=0.2, loss=&#x27;log_loss&#x27;,\n",
       "              penalty=&#x27;elasticnet&#x27;, random_state=0)</pre><b>In a Jupyter environment, please rerun this cell to show the HTML representation or trust the notebook. <br />On GitHub, the HTML representation is unable to render, please try loading this page with nbviewer.org.</b></div><div class=\"sk-container\" hidden><div class=\"sk-item\"><div class=\"sk-estimator sk-toggleable\"><input class=\"sk-toggleable__control sk-hidden--visually\" id=\"sk-estimator-id-1\" type=\"checkbox\" checked><label for=\"sk-estimator-id-1\" class=\"sk-toggleable__label sk-toggleable__label-arrow\">SGDClassifier</label><div class=\"sk-toggleable__content\"><pre>SGDClassifier(early_stopping=True, l1_ratio=0.2, loss=&#x27;log_loss&#x27;,\n",
       "              penalty=&#x27;elasticnet&#x27;, random_state=0)</pre></div></div></div></div></div>"
      ],
      "text/plain": [
       "SGDClassifier(early_stopping=True, l1_ratio=0.2, loss='log_loss',\n",
       "              penalty='elasticnet', random_state=0)"
      ]
     },
     "execution_count": 17,
     "metadata": {},
     "output_type": "execute_result"
    }
   ],
   "source": [
    "# Initialize best SGDClasssifer\n",
    "best_params = {'alpha': 0.0001, 'class_weight': None, 'l1_ratio': 0.2, 'loss': 'log_loss'}\n",
    "classifier = SGDClassifier(penalty=\"elasticnet\", random_state=RANDOM_SEED, early_stopping=True)\n",
    "classifier.set_params(**best_params)"
   ]
  },
  {
   "cell_type": "code",
   "execution_count": null,
   "id": "nDwKQUurPlcf",
   "metadata": {
    "colab": {
     "base_uri": "https://localhost:8080/"
    },
    "id": "nDwKQUurPlcf",
    "outputId": "ae2c2e20-a4ae-4702-8c66-67680f405ba5"
   },
   "outputs": [
    {
     "name": "stdout",
     "output_type": "stream",
     "text": [
      "LogReg/lbfgs(iter=1000) on embeddings (10-fold cv): 0.7823582998061329\n",
      "LogReg/liblinear on embeddings (10-fold cv): 0.775309562027058\n",
      "SGDClassifier on embeddings (10-fold cv): 0.7736751370619749\n",
      "Best SGDClassifier on embeddings (10-fold cv): 0.7718368389235163\n"
     ]
    }
   ],
   "source": [
    "print(\"LogReg/lbfgs(iter=1000) on embeddings (10-fold cv):\", cross_val_score(LogisticRegression(random_state=RANDOM_SEED, solver='lbfgs', max_iter=1000), train_X, train_y, cv=10).mean())\n",
    "print(\"LogReg/liblinear on embeddings (10-fold cv):\", cross_val_score(LogisticRegression(random_state=RANDOM_SEED, solver='liblinear'), train_X, train_y, cv=10).mean())\n",
    "print(\"SGDClassifier on embeddings (10-fold cv):\", cross_val_score(SGDClassifier(random_state=RANDOM_SEED), train_X, train_y, cv=10).mean())\n",
    "print(\"Best SGDClassifier on embeddings (10-fold cv):\", cross_val_score(classifier, train_X, train_y, cv=10).mean())"
   ]
  },
  {
   "cell_type": "code",
   "execution_count": null,
   "id": "CD0kFfM6ewfb",
   "metadata": {
    "id": "CD0kFfM6ewfb"
   },
   "outputs": [],
   "source": [
    "# Test data preparation\n",
    "test_X = embed(test_data['review_text']).numpy()"
   ]
  },
  {
   "cell_type": "code",
   "execution_count": null,
   "id": "l1xmHsFsSan6",
   "metadata": {
    "id": "l1xmHsFsSan6"
   },
   "outputs": [],
   "source": [
    "# Making prediction with LogReg/lbfgs(iter=1000) on test data for submission_6\n",
    "classifier_lr = LogisticRegression(random_state=RANDOM_SEED, solver='lbfgs', max_iter=1000)\n",
    "classifier_lr.fit(train_X, train_y)\n",
    "test_preds = classifier_lr.predict(test_X)\n",
    "\n",
    "# Made Submission_6\n",
    "\n",
    "# 10-fold-cv = 0.78235\n",
    "# public    = 0.77333"
   ]
  },
  {
   "cell_type": "code",
   "execution_count": null,
   "id": "QBn9Gul4Re4a",
   "metadata": {
    "colab": {
     "base_uri": "https://localhost:8080/"
    },
    "id": "QBn9Gul4Re4a",
    "outputId": "9ba40b00-2832-4cc5-b6c3-2c07df783f9e"
   },
   "outputs": [
    {
     "name": "stderr",
     "output_type": "stream",
     "text": [
      "100%|██████████| 5/5 [01:01<00:00, 12.37s/it]\n"
     ]
    }
   ],
   "source": [
    "# Check results in public leaderbord for fitting classifier on data with different fraction droped issue\n",
    "for num in tqdm([500, 1000, 1500, 2000, 2500]):\n",
    "\n",
    "    train_X_tmp, train_y_tmp = get_use_train_X_y(train_df, issue_idx_by_bert[:num])\n",
    "\n",
    "    classifier_tmp = LogisticRegression(random_state=RANDOM_SEED, solver='lbfgs', max_iter=1000)\n",
    "    classifier_tmp.fit(train_X_tmp, train_y_tmp)\n",
    "    \n",
    "    test_preds_tmp = classifier_tmp.predict(test_X)\n",
    "\n",
    "    pd.Series(test_preds_tmp, name='label').to_csv(f'{PATH}/Submissions/submission_6_drop-{num}.csv', index=False)\n",
    "\n",
    "# submission_6_drop-500 - 0.76667\n",
    "# submission_6_drop-1000 - 0.76667\n",
    "# submission_6_drop-1500 - 0.77333\n",
    "### submission_6_drop-2000 - 0.78000\n",
    "# submission_6_drop-2500 - 0.77333\n",
    "# submission_6 (drop_all) - 0.77333"
   ]
  },
  {
   "cell_type": "code",
   "execution_count": null,
   "id": "XIobWG-TWhq4",
   "metadata": {
    "id": "XIobWG-TWhq4"
   },
   "outputs": [],
   "source": [
    "# Make test predictions with best SGDClassifier on test data for submission_7\n",
    "classifier.fit(train_X, train_y)\n",
    "test_preds = classifier.predict(test_X)\n",
    "\n",
    "# Made submission_7\n",
    "# 10-fold-cv = 0.77184\n",
    "# public     = 0.79333"
   ]
  },
  {
   "cell_type": "code",
   "execution_count": null,
   "id": "GZlJWRtSYRRC",
   "metadata": {
    "colab": {
     "base_uri": "https://localhost:8080/"
    },
    "id": "GZlJWRtSYRRC",
    "outputId": "2b9b6efa-6637-414d-865f-ea507b00e533"
   },
   "outputs": [
    {
     "name": "stderr",
     "output_type": "stream",
     "text": [
      "100%|██████████| 5/5 [00:40<00:00,  8.13s/it]\n"
     ]
    }
   ],
   "source": [
    "# Check results in public leaderbord for fitting classifier on data with different fraction droped issue\n",
    "best_params = {'alpha': 0.0001, 'class_weight': None, 'l1_ratio': 0.2, 'loss': 'log_loss'}\n",
    "\n",
    "for num in tqdm([500, 1000, 1500, 2000, 2500]):\n",
    "\n",
    "    train_X_tmp, train_y_tmp = get_use_train_X_y(train_df, issue_idx_by_bert[:num])\n",
    "\n",
    "    classifier_tmp = SGDClassifier(penalty=\"elasticnet\", random_state=RANDOM_SEED, early_stopping=True)\n",
    "    classifier_tmp.set_params(**best_params)\n",
    "\n",
    "    classifier_tmp.fit(train_X_tmp, train_y_tmp)\n",
    "    \n",
    "    test_preds_tmp = classifier_tmp.predict(test_X)\n",
    "\n",
    "    pd.Series(test_preds_tmp, name='label').to_csv(f'{PATH}/Submissions/submission_7_drop-{num}.csv', index=False)\n",
    "\n",
    "# submission_7_drop-500 - 0.77333\n",
    "# submission_7_drop-1000 - 0.78000\n",
    "# submission_7_drop-1500 - 0.77333\n",
    "# submission_7_drop-2000 - 0.80667\n",
    "### TOP ### submission_7_drop-2500 = 0.81333\n",
    "                      # 10-fold-cv = 0.76271\n",
    "# submission_7 (drop_all) - 0.79333"
   ]
  },
  {
   "cell_type": "code",
   "execution_count": null,
   "id": "1bqVUOFz8K6a",
   "metadata": {
    "colab": {
     "base_uri": "https://localhost:8080/"
    },
    "id": "1bqVUOFz8K6a",
    "outputId": "5bd2c792-5261-4c42-c120-7a78df767d03"
   },
   "outputs": [
    {
     "name": "stdout",
     "output_type": "stream",
     "text": [
      "Best SGDClassifier on embeddings (10-fold cv): 0.7627133354020402 STD: 0.021600974029855762\n"
     ]
    }
   ],
   "source": [
    "# Training data.\n",
    "train_X, train_y = get_use_train_X_y(train_df, issue_idx_by_bert[:2500])\n",
    "\n",
    "сv_score = cross_val_score(classifier, train_X, train_y, cv=10)\n",
    "\n",
    "print(\"Best SGDClassifier on embeddings (10-fold cv):\", сv_score.mean(), \"STD:\", сv_score.std())"
   ]
  },
  {
   "cell_type": "markdown",
   "id": "RhW_WFnFa4BV",
   "metadata": {
    "id": "RhW_WFnFa4BV"
   },
   "source": [
    "**Summary**  \n",
    "Best result:\n",
    "- Model: best SGDClassifier\n",
    "- Dataset: `data.drop(issue_idx_by_bert[:2500])`\n",
    "\n",
    "*(submission_7_drop-2500 - 0.81333)*  \n",
    "\n",
    "From now on, we will take `data.drop(issue_idx_by_bert[:2500])` as a data for training "
   ]
  },
  {
   "cell_type": "markdown",
   "id": "LzXeLD3qdKMJ",
   "metadata": {
    "id": "LzXeLD3qdKMJ"
   },
   "source": [
    "### USE Embeddings + SGDClassifier_GCV + CleanlabLabels(model=BERT)[:2500]"
   ]
  },
  {
   "cell_type": "code",
   "execution_count": null,
   "id": "d3grh3YbdLPf",
   "metadata": {
    "colab": {
     "base_uri": "https://localhost:8080/"
    },
    "id": "d3grh3YbdLPf",
    "outputId": "f625b817-20e8-4066-b7b8-401f0f05570f"
   },
   "outputs": [
    {
     "data": {
      "text/plain": [
       "((10152, 512), (10152,))"
      ]
     },
     "execution_count": 16,
     "metadata": {},
     "output_type": "execute_result"
    }
   ],
   "source": [
    "issue_idx_by_bert = load_from_pkl(\"issue_idx_by_bert.pkl\")\n",
    "\n",
    "# Training data.\n",
    "train_X, train_y = get_use_train_X_y(train_df, issue_idx_by_bert[:2500])\n",
    "\n",
    "train_X.shape, train_y.shape"
   ]
  },
  {
   "cell_type": "code",
   "execution_count": null,
   "id": "QV9wQxbZdLPg",
   "metadata": {
    "colab": {
     "base_uri": "https://localhost:8080/"
    },
    "id": "QV9wQxbZdLPg",
    "outputId": "a40a2501-5b8b-4834-adba-8c8b7c287831"
   },
   "outputs": [
    {
     "name": "stdout",
     "output_type": "stream",
     "text": [
      "SGDClassifier_default on embeddings (10-fold cv): 0.7524653098645866\n"
     ]
    }
   ],
   "source": [
    "# Without GridSearch\n",
    "print(\"SGDClassifier_default on embeddings (10-fold cv):\", cross_val_score(SGDClassifier(),train_X, train_y, cv=5).mean())"
   ]
  },
  {
   "cell_type": "code",
   "execution_count": null,
   "id": "M8Ooj6OBdLPg",
   "metadata": {
    "colab": {
     "base_uri": "https://localhost:8080/",
     "height": 118
    },
    "id": "M8Ooj6OBdLPg",
    "outputId": "d651c112-d72f-4930-bbb9-e05c8f40a47f"
   },
   "outputs": [
    {
     "data": {
      "text/html": [
       "<style>#sk-container-id-1 {color: black;background-color: white;}#sk-container-id-1 pre{padding: 0;}#sk-container-id-1 div.sk-toggleable {background-color: white;}#sk-container-id-1 label.sk-toggleable__label {cursor: pointer;display: block;width: 100%;margin-bottom: 0;padding: 0.3em;box-sizing: border-box;text-align: center;}#sk-container-id-1 label.sk-toggleable__label-arrow:before {content: \"▸\";float: left;margin-right: 0.25em;color: #696969;}#sk-container-id-1 label.sk-toggleable__label-arrow:hover:before {color: black;}#sk-container-id-1 div.sk-estimator:hover label.sk-toggleable__label-arrow:before {color: black;}#sk-container-id-1 div.sk-toggleable__content {max-height: 0;max-width: 0;overflow: hidden;text-align: left;background-color: #f0f8ff;}#sk-container-id-1 div.sk-toggleable__content pre {margin: 0.2em;color: black;border-radius: 0.25em;background-color: #f0f8ff;}#sk-container-id-1 input.sk-toggleable__control:checked~div.sk-toggleable__content {max-height: 200px;max-width: 100%;overflow: auto;}#sk-container-id-1 input.sk-toggleable__control:checked~label.sk-toggleable__label-arrow:before {content: \"▾\";}#sk-container-id-1 div.sk-estimator input.sk-toggleable__control:checked~label.sk-toggleable__label {background-color: #d4ebff;}#sk-container-id-1 div.sk-label input.sk-toggleable__control:checked~label.sk-toggleable__label {background-color: #d4ebff;}#sk-container-id-1 input.sk-hidden--visually {border: 0;clip: rect(1px 1px 1px 1px);clip: rect(1px, 1px, 1px, 1px);height: 1px;margin: -1px;overflow: hidden;padding: 0;position: absolute;width: 1px;}#sk-container-id-1 div.sk-estimator {font-family: monospace;background-color: #f0f8ff;border: 1px dotted black;border-radius: 0.25em;box-sizing: border-box;margin-bottom: 0.5em;}#sk-container-id-1 div.sk-estimator:hover {background-color: #d4ebff;}#sk-container-id-1 div.sk-parallel-item::after {content: \"\";width: 100%;border-bottom: 1px solid gray;flex-grow: 1;}#sk-container-id-1 div.sk-label:hover label.sk-toggleable__label {background-color: #d4ebff;}#sk-container-id-1 div.sk-serial::before {content: \"\";position: absolute;border-left: 1px solid gray;box-sizing: border-box;top: 0;bottom: 0;left: 50%;z-index: 0;}#sk-container-id-1 div.sk-serial {display: flex;flex-direction: column;align-items: center;background-color: white;padding-right: 0.2em;padding-left: 0.2em;position: relative;}#sk-container-id-1 div.sk-item {position: relative;z-index: 1;}#sk-container-id-1 div.sk-parallel {display: flex;align-items: stretch;justify-content: center;background-color: white;position: relative;}#sk-container-id-1 div.sk-item::before, #sk-container-id-1 div.sk-parallel-item::before {content: \"\";position: absolute;border-left: 1px solid gray;box-sizing: border-box;top: 0;bottom: 0;left: 50%;z-index: -1;}#sk-container-id-1 div.sk-parallel-item {display: flex;flex-direction: column;z-index: 1;position: relative;background-color: white;}#sk-container-id-1 div.sk-parallel-item:first-child::after {align-self: flex-end;width: 50%;}#sk-container-id-1 div.sk-parallel-item:last-child::after {align-self: flex-start;width: 50%;}#sk-container-id-1 div.sk-parallel-item:only-child::after {width: 0;}#sk-container-id-1 div.sk-dashed-wrapped {border: 1px dashed gray;margin: 0 0.4em 0.5em 0.4em;box-sizing: border-box;padding-bottom: 0.4em;background-color: white;}#sk-container-id-1 div.sk-label label {font-family: monospace;font-weight: bold;display: inline-block;line-height: 1.2em;}#sk-container-id-1 div.sk-label-container {text-align: center;}#sk-container-id-1 div.sk-container {/* jupyter's `normalize.less` sets `[hidden] { display: none; }` but bootstrap.min.css set `[hidden] { display: none !important; }` so we also need the `!important` here to be able to override the default hidden behavior on the sphinx rendered scikit-learn.org. See: https://github.com/scikit-learn/scikit-learn/issues/21755 */display: inline-block !important;position: relative;}#sk-container-id-1 div.sk-text-repr-fallback {display: none;}</style><div id=\"sk-container-id-1\" class=\"sk-top-container\"><div class=\"sk-text-repr-fallback\"><pre>GridSearchCV(estimator=SGDClassifier(early_stopping=True, n_jobs=-1,\n",
       "                                     penalty=&#x27;elasticnet&#x27;, random_state=0),\n",
       "             n_jobs=-1,\n",
       "             param_grid={&#x27;alpha&#x27;: [0.0001, 0.001, 0.01, 1, 10, 100],\n",
       "                         &#x27;class_weight&#x27;: [None, &#x27;balanced&#x27;],\n",
       "                         &#x27;l1_ratio&#x27;: [0.2, 0.5, 0.8],\n",
       "                         &#x27;loss&#x27;: [&#x27;hinge&#x27;, &#x27;log_loss&#x27;, &#x27;perceptron&#x27;]},\n",
       "             scoring=&#x27;accuracy&#x27;)</pre><b>In a Jupyter environment, please rerun this cell to show the HTML representation or trust the notebook. <br />On GitHub, the HTML representation is unable to render, please try loading this page with nbviewer.org.</b></div><div class=\"sk-container\" hidden><div class=\"sk-item sk-dashed-wrapped\"><div class=\"sk-label-container\"><div class=\"sk-label sk-toggleable\"><input class=\"sk-toggleable__control sk-hidden--visually\" id=\"sk-estimator-id-1\" type=\"checkbox\" ><label for=\"sk-estimator-id-1\" class=\"sk-toggleable__label sk-toggleable__label-arrow\">GridSearchCV</label><div class=\"sk-toggleable__content\"><pre>GridSearchCV(estimator=SGDClassifier(early_stopping=True, n_jobs=-1,\n",
       "                                     penalty=&#x27;elasticnet&#x27;, random_state=0),\n",
       "             n_jobs=-1,\n",
       "             param_grid={&#x27;alpha&#x27;: [0.0001, 0.001, 0.01, 1, 10, 100],\n",
       "                         &#x27;class_weight&#x27;: [None, &#x27;balanced&#x27;],\n",
       "                         &#x27;l1_ratio&#x27;: [0.2, 0.5, 0.8],\n",
       "                         &#x27;loss&#x27;: [&#x27;hinge&#x27;, &#x27;log_loss&#x27;, &#x27;perceptron&#x27;]},\n",
       "             scoring=&#x27;accuracy&#x27;)</pre></div></div></div><div class=\"sk-parallel\"><div class=\"sk-parallel-item\"><div class=\"sk-item\"><div class=\"sk-label-container\"><div class=\"sk-label sk-toggleable\"><input class=\"sk-toggleable__control sk-hidden--visually\" id=\"sk-estimator-id-2\" type=\"checkbox\" ><label for=\"sk-estimator-id-2\" class=\"sk-toggleable__label sk-toggleable__label-arrow\">estimator: SGDClassifier</label><div class=\"sk-toggleable__content\"><pre>SGDClassifier(early_stopping=True, n_jobs=-1, penalty=&#x27;elasticnet&#x27;,\n",
       "              random_state=0)</pre></div></div></div><div class=\"sk-serial\"><div class=\"sk-item\"><div class=\"sk-estimator sk-toggleable\"><input class=\"sk-toggleable__control sk-hidden--visually\" id=\"sk-estimator-id-3\" type=\"checkbox\" ><label for=\"sk-estimator-id-3\" class=\"sk-toggleable__label sk-toggleable__label-arrow\">SGDClassifier</label><div class=\"sk-toggleable__content\"><pre>SGDClassifier(early_stopping=True, n_jobs=-1, penalty=&#x27;elasticnet&#x27;,\n",
       "              random_state=0)</pre></div></div></div></div></div></div></div></div></div></div>"
      ],
      "text/plain": [
       "GridSearchCV(estimator=SGDClassifier(early_stopping=True, n_jobs=-1,\n",
       "                                     penalty='elasticnet', random_state=0),\n",
       "             n_jobs=-1,\n",
       "             param_grid={'alpha': [0.0001, 0.001, 0.01, 1, 10, 100],\n",
       "                         'class_weight': [None, 'balanced'],\n",
       "                         'l1_ratio': [0.2, 0.5, 0.8],\n",
       "                         'loss': ['hinge', 'log_loss', 'perceptron']},\n",
       "             scoring='accuracy')"
      ]
     },
     "execution_count": 21,
     "metadata": {},
     "output_type": "execute_result"
    }
   ],
   "source": [
    "# First GridSearch\n",
    "\n",
    "classifier = SGDClassifier(penalty=\"elasticnet\", random_state=RANDOM_SEED, early_stopping=True, n_jobs=-1)\n",
    "\n",
    "param_grid = {\n",
    "    \"loss\": [\"hinge\", \"log_loss\", \"perceptron\"],\n",
    "    \"alpha\": [0.0001, 0.001, 0.01, 1, 10, 100], \n",
    "    \"l1_ratio\": [0.2, 0.5, 0.8],\n",
    "    \"class_weight\": [None, \"balanced\"]\n",
    "}\n",
    "\n",
    "gcv4 = GridSearchCV(classifier, param_grid, scoring=\"accuracy\", n_jobs=-1)\n",
    "\n",
    "gcv4.fit(train_X, train_y)"
   ]
  },
  {
   "cell_type": "code",
   "execution_count": null,
   "id": "LYAiV8NiglWJ",
   "metadata": {
    "colab": {
     "base_uri": "https://localhost:8080/"
    },
    "id": "LYAiV8NiglWJ",
    "outputId": "2299a653-a8dd-4754-b241-26a97f27d6e9"
   },
   "outputs": [
    {
     "name": "stdout",
     "output_type": "stream",
     "text": [
      "Best params {'alpha': 0.0001, 'class_weight': None, 'l1_ratio': 0.8, 'loss': 'log_loss'}\n",
      "Best score 0.7588679410031216\n",
      "Std 0.013512700768707316\n",
      "Successfully safed to gcv4.pkl\n"
     ]
    }
   ],
   "source": [
    "print(\"Best params\", gcv4.best_params_)\n",
    "print(\"Best score\", gcv4.best_score_)\n",
    "print(\"Std\", pd.DataFrame(gcv4.cv_results_) .loc[gcv4.best_index_, :].std_test_score)\n",
    "\n",
    "save_to_pkl(gcv4, \"gcv4.pkl\")\n",
    "\n",
    "# Submission_8_gcv4\n",
    "# 5-fold-cv = 0.75886\n",
    "# public    = 0.80000"
   ]
  },
  {
   "cell_type": "markdown",
   "id": "p2KDXYz6-Eg7",
   "metadata": {
    "id": "p2KDXYz6-Eg7"
   },
   "source": [
    "### USE Embeddings + StratifiedClassifier(5 x BestSGDClassifier) + CleanlabLabels(model=BERT)[:2500] | OVR, OVO, OCC"
   ]
  },
  {
   "cell_type": "code",
   "execution_count": null,
   "id": "vEce2UsV-cQ5",
   "metadata": {
    "colab": {
     "base_uri": "https://localhost:8080/"
    },
    "id": "vEce2UsV-cQ5",
    "outputId": "24c44db0-7266-43e6-91db-738d7593c7f0"
   },
   "outputs": [
    {
     "data": {
      "text/plain": [
       "((10152, 512), (10152,))"
      ]
     },
     "execution_count": 16,
     "metadata": {},
     "output_type": "execute_result"
    }
   ],
   "source": [
    "issue_idx_by_bert = load_from_pkl(\"issue_idx_by_bert.pkl\")\n",
    "\n",
    "# Training data.\n",
    "train_X, train_y = get_use_train_X_y(train_df, issue_idx_by_bert[:2500])\n",
    "\n",
    "train_X.shape, train_y.shape"
   ]
  },
  {
   "cell_type": "code",
   "execution_count": null,
   "id": "ZRSHnaUr-NQy",
   "metadata": {
    "id": "ZRSHnaUr-NQy"
   },
   "outputs": [],
   "source": [
    "# Initialize best SGDClasssifer\n",
    "best_params = {'alpha': 0.0001, 'class_weight': None, 'l1_ratio': 0.2, 'loss': 'log_loss'}\n",
    "classifier = SGDClassifier(penalty=\"elasticnet\", random_state=RANDOM_SEED, early_stopping=True)\n",
    "classifier.set_params(**best_params)\n",
    "\n",
    "# Initialize best CatBoostClassifier\n",
    "catboost = CatBoostClassifier()"
   ]
  },
  {
   "cell_type": "code",
   "execution_count": null,
   "id": "T64fXWHiBX9T",
   "metadata": {
    "colab": {
     "base_uri": "https://localhost:8080/"
    },
    "id": "T64fXWHiBX9T",
    "outputId": "e4f8d7ef-05f6-46fb-e663-4a4339181417"
   },
   "outputs": [
    {
     "name": "stdout",
     "output_type": "stream",
     "text": [
      "Classifier-1 (10-fold cv): 0.9090852759784338\n",
      "Classifier-2 (10-fold cv): 0.9279957138978319\n",
      "Classifier-3 (10-fold cv): 0.9151889957720801\n",
      "Classifier-4 (10-fold cv): 0.8710621193902487\n",
      "Classifier-5 (10-fold cv): 0.9141075792250108\n"
     ]
    }
   ],
   "source": [
    "# Check accuracy of each of 5 classifiers separately\n",
    "for class_label in [1, 2, 3, 4, 5]:\n",
    "    classifier = SGDClassifier(penalty=\"elasticnet\", random_state=RANDOM_SEED, early_stopping=True)\n",
    "    classifier.set_params(**best_params)\n",
    "\n",
    "    train_y_tmp = np.where(train_y == class_label, 1, 0)\n",
    "    print(f\"Classifier-{class_label} (10-fold cv): {cross_val_score(classifier, train_X, train_y_tmp, cv=10, scoring='accuracy').mean()}\")"
   ]
  },
  {
   "cell_type": "code",
   "execution_count": null,
   "id": "ZSaUNPVA40sh",
   "metadata": {
    "colab": {
     "base_uri": "https://localhost:8080/"
    },
    "id": "ZSaUNPVA40sh",
    "outputId": "df12dfde-13f0-45ee-a334-38cd389e1a90"
   },
   "outputs": [
    {
     "name": "stdout",
     "output_type": "stream",
     "text": [
      "Total accuracy of 5 classifiers on 10-fold cv: 0.7565996847911741\n"
     ]
    }
   ],
   "source": [
    "# Check cross_val accuracy of total 5 classifiers\n",
    "pred_probs = np.array([])\n",
    "for class_label in [1, 2, 3, 4, 5]:\n",
    "    classifier = SGDClassifier(penalty=\"elasticnet\", random_state=RANDOM_SEED, early_stopping=True)\n",
    "    classifier.set_params(**best_params)\n",
    "\n",
    "    train_y_tmp = np.where(train_y == class_label, 1, 0)\n",
    "    pred_prob = cross_val_predict(classifier, train_X, train_y_tmp, cv=10, method='predict_proba')[:, 1]\n",
    "    try:\n",
    "        pred_probs = np.column_stack([pred_probs, pred_prob])\n",
    "    except:\n",
    "        pred_probs = pred_prob\n",
    "\n",
    "print(\"Total accuracy of 5 classifiers on 10-fold cv:\", accuracy_score(train_y, np.argmax(pred_probs, axis=1)+1))"
   ]
  },
  {
   "cell_type": "code",
   "execution_count": null,
   "id": "4xGHyJ3xGni8",
   "metadata": {
    "colab": {
     "base_uri": "https://localhost:8080/"
    },
    "id": "4xGHyJ3xGni8",
    "outputId": "198b5efb-66b6-4caa-82ac-ae50ca59f225"
   },
   "outputs": [
    {
     "name": "stdout",
     "output_type": "stream",
     "text": [
      "Accuracy of BestSGDClassifier fitted on previous pred_probs (10-fold cv): 0.7623183739963538\n",
      "Accuracy of CatBoostClf fitted on previous pred_probs (10-fold cv): 0.7523699623753928\n"
     ]
    }
   ],
   "source": [
    "print(\"Accuracy of BestSGDClassifier fitted on previous pred_probs (10-fold cv):\", cross_val_score(classifier, pred_probs, train_y, cv=10).mean())\n",
    "print(\"Accuracy of CatBoostClf fitted on previous pred_probs (10-fold cv):\", cross_val_score(catboost, pred_probs, train_y, cv=10, fit_params={\"verbose\": False}).mean())"
   ]
  },
  {
   "cell_type": "code",
   "execution_count": null,
   "id": "rT5o9zduENmu",
   "metadata": {
    "id": "rT5o9zduENmu"
   },
   "outputs": [],
   "source": [
    "# Write simple class for OneVsRest classifier\n",
    "class StratifiedClassifier(BaseEstimator, ClassifierMixin):\n",
    "    def __init__(self, classifier, params=None):\n",
    "        self.classifier = classifier\n",
    "        self.classifier_1 = clone(self.classifier)\n",
    "        self.classifier_2 = clone(self.classifier)\n",
    "        self.classifier_3 = clone(self.classifier)\n",
    "        self.classifier_4 = clone(self.classifier)\n",
    "        self.classifier_5 = clone(self.classifier)\n",
    "        self.params = params\n",
    "\n",
    "    def fit(self, train_X, train_y):\n",
    "        X, y = check_X_y(train_X, train_y)\n",
    "        self.classes_ = unique_labels(train_y)\n",
    "\n",
    "        train_y_1 = np.where(train_y == 1, 1, 0)\n",
    "        train_y_2 = np.where(train_y == 2, 1, 0)        \n",
    "        train_y_3 = np.where(train_y == 3, 1, 0)        \n",
    "        train_y_4 = np.where(train_y == 4, 1, 0)        \n",
    "        train_y_5 = np.where(train_y == 5, 1, 0)\n",
    "\n",
    "        self.classifier_1.fit(train_X, train_y_1)        \n",
    "        self.classifier_2.fit(train_X, train_y_2)        \n",
    "        self.classifier_3.fit(train_X, train_y_3)        \n",
    "        self.classifier_4.fit(train_X, train_y_4)        \n",
    "        self.classifier_5.fit(train_X, train_y_5)\n",
    "\n",
    "        return self\n",
    "\n",
    "    def predict(self, test_X):\n",
    "        check_is_fitted(self)\n",
    "        pred_1 = self.classifier_1.predict(test_X)        \n",
    "        pred_2 = self.classifier_2.predict(test_X)  \n",
    "        pred_3 = self.classifier_3.predict(test_X)  \n",
    "        pred_4 = self.classifier_4.predict(test_X)  \n",
    "        pred_5 = self.classifier_5.predict(test_X)\n",
    "\n",
    "        return np.column_stack([pred_1, pred_2, pred_3, pred_4, pred_5])\n",
    "    \n",
    "    def predict_proba(self, test_X):\n",
    "        check_is_fitted(self)\n",
    "        pred_proba_1 = self.classifier_1.predict_proba(test_X)[:, 1]        \n",
    "        pred_proba_2 = self.classifier_2.predict_proba(test_X)[:, 1] \n",
    "        pred_proba_3 = self.classifier_3.predict_proba(test_X)[:, 1]   \n",
    "        pred_proba_4 = self.classifier_4.predict_proba(test_X)[:, 1]   \n",
    "        pred_proba_5 = self.classifier_5.predict_proba(test_X)[:, 1]\n",
    "\n",
    "        return np.column_stack([pred_proba_1, pred_proba_2, pred_proba_3, pred_proba_4, pred_proba_5])"
   ]
  },
  {
   "cell_type": "code",
   "execution_count": null,
   "id": "ScAOR53oRdSU",
   "metadata": {
    "id": "ScAOR53oRdSU"
   },
   "outputs": [],
   "source": [
    "# Make predictions for test set\n",
    "test_X = embed(test_data['review_text']).numpy()\n",
    "\n",
    "my_clf = StratifiedClassifier(classifier=classifier)\n",
    "my_clf.fit(train_X, train_y)\n",
    "\n",
    "test_prob = my_clf.predict_proba(test_X)\n",
    "test_pred = np.argmax(test_prob, axis=1)+1\n",
    "\n",
    "# Submission_9\n",
    "# 10-fold-cv = 0.756599\n",
    "# public    = 0.80667"
   ]
  },
  {
   "cell_type": "code",
   "execution_count": null,
   "id": "GSGJhOFIIdQg",
   "metadata": {
    "id": "GSGJhOFIIdQg"
   },
   "outputs": [],
   "source": [
    "# Make predictions for test set. Also fit metamodel on predicted probabilities\n",
    "test_X = embed(test_data['review_text']).numpy()\n",
    "\n",
    "my_clf = StratifiedClassifier(classifier=classifier)\n",
    "my_clf.fit(train_X, train_y)\n",
    "classifier.fit(pred_probs, train_y)\n",
    "\n",
    "\n",
    "test_prob = my_clf.predict_proba(test_X)\n",
    "test_pred = classifier.predict(test_prob)\n",
    "\n",
    "# Submission_10\n",
    "# 10-fold-cv = 0.76231\n",
    "# public    = 0.81333"
   ]
  },
  {
   "cell_type": "markdown",
   "id": "XNfpWAmCuf78",
   "metadata": {
    "id": "XNfpWAmCuf78"
   },
   "source": [
    "Check accuracy on OVR, OVO and OCC classifiers:"
   ]
  },
  {
   "cell_type": "code",
   "execution_count": null,
   "id": "w7To45yquYet",
   "metadata": {
    "id": "w7To45yquYet"
   },
   "outputs": [],
   "source": [
    "ovr_clf = OneVsRestClassifier(classifier, n_jobs=-1)\n",
    "ovo_clf = OneVsOneClassifier(classifier, n_jobs=-1)\n",
    "occ_clf = OutputCodeClassifier(classifier, n_jobs=-1, random_state=RANDOM_SEED)"
   ]
  },
  {
   "cell_type": "code",
   "execution_count": null,
   "id": "NvOWfDDPuwRf",
   "metadata": {
    "colab": {
     "base_uri": "https://localhost:8080/"
    },
    "id": "NvOWfDDPuwRf",
    "outputId": "a8cdb24a-535b-485c-e260-498c30999ecc"
   },
   "outputs": [
    {
     "name": "stdout",
     "output_type": "stream",
     "text": [
      "Accuracy of OVR clf (10-fold cv): 0.7568014235289554\n",
      "Accuracy of OVO clf (10-fold cv): 0.7667541018579573\n",
      "Accuracy of OCC clf (10-fold cv): 0.7381849036111865\n"
     ]
    }
   ],
   "source": [
    "print(\"Accuracy of OVR clf (10-fold cv):\", cross_val_score(ovr_clf, train_X, train_y, cv=10).mean())\n",
    "print(\"Accuracy of OVO clf (10-fold cv):\", cross_val_score(ovo_clf, train_X, train_y, cv=10).mean())\n",
    "print(\"Accuracy of OCC clf (10-fold cv):\", cross_val_score(occ_clf, train_X, train_y, cv=10).mean())"
   ]
  },
  {
   "cell_type": "markdown",
   "id": "D5bZNn3AKrLw",
   "metadata": {
    "id": "D5bZNn3AKrLw"
   },
   "source": [
    "### USE Embeddings + MEAN(BestSGDClassifier & BERT) + CleanlabLabels(model=BERT)[:2500]"
   ]
  },
  {
   "cell_type": "markdown",
   "id": "us9nYaf0eCFj",
   "metadata": {
    "id": "us9nYaf0eCFj"
   },
   "source": [
    "Here we will try to find mean between BERT and BestSGDClassifier predictions."
   ]
  },
  {
   "cell_type": "code",
   "execution_count": null,
   "id": "t1Daf1e2USmR",
   "metadata": {
    "id": "t1Daf1e2USmR"
   },
   "outputs": [],
   "source": [
    "# Prepare test data\n",
    "test_X = embed(test_data['review_text']).numpy()"
   ]
  },
  {
   "cell_type": "code",
   "execution_count": null,
   "id": "NBB7MD_JLB2f",
   "metadata": {
    "colab": {
     "base_uri": "https://localhost:8080/"
    },
    "id": "NBB7MD_JLB2f",
    "outputId": "d00418c3-039a-4e79-d1f0-e9928f36b8ee"
   },
   "outputs": [
    {
     "data": {
      "text/plain": [
       "((10152, 512), (10152,))"
      ]
     },
     "execution_count": 70,
     "metadata": {},
     "output_type": "execute_result"
    }
   ],
   "source": [
    "issue_idx_by_bert = load_from_pkl(\"issue_idx_by_bert.pkl\")\n",
    "\n",
    "# Training data.\n",
    "train_X, train_y = get_use_train_X_y(train_df, issue_idx_by_bert[:2500])\n",
    "\n",
    "train_X.shape, train_y.shape"
   ]
  },
  {
   "cell_type": "code",
   "execution_count": null,
   "id": "pJLSUSMpLB2g",
   "metadata": {
    "colab": {
     "base_uri": "https://localhost:8080/",
     "height": 92
    },
    "id": "pJLSUSMpLB2g",
    "outputId": "9d0eee39-e4e7-4239-be41-7e8ea3e8892e"
   },
   "outputs": [
    {
     "data": {
      "text/html": [
       "<style>#sk-container-id-2 {color: black;background-color: white;}#sk-container-id-2 pre{padding: 0;}#sk-container-id-2 div.sk-toggleable {background-color: white;}#sk-container-id-2 label.sk-toggleable__label {cursor: pointer;display: block;width: 100%;margin-bottom: 0;padding: 0.3em;box-sizing: border-box;text-align: center;}#sk-container-id-2 label.sk-toggleable__label-arrow:before {content: \"▸\";float: left;margin-right: 0.25em;color: #696969;}#sk-container-id-2 label.sk-toggleable__label-arrow:hover:before {color: black;}#sk-container-id-2 div.sk-estimator:hover label.sk-toggleable__label-arrow:before {color: black;}#sk-container-id-2 div.sk-toggleable__content {max-height: 0;max-width: 0;overflow: hidden;text-align: left;background-color: #f0f8ff;}#sk-container-id-2 div.sk-toggleable__content pre {margin: 0.2em;color: black;border-radius: 0.25em;background-color: #f0f8ff;}#sk-container-id-2 input.sk-toggleable__control:checked~div.sk-toggleable__content {max-height: 200px;max-width: 100%;overflow: auto;}#sk-container-id-2 input.sk-toggleable__control:checked~label.sk-toggleable__label-arrow:before {content: \"▾\";}#sk-container-id-2 div.sk-estimator input.sk-toggleable__control:checked~label.sk-toggleable__label {background-color: #d4ebff;}#sk-container-id-2 div.sk-label input.sk-toggleable__control:checked~label.sk-toggleable__label {background-color: #d4ebff;}#sk-container-id-2 input.sk-hidden--visually {border: 0;clip: rect(1px 1px 1px 1px);clip: rect(1px, 1px, 1px, 1px);height: 1px;margin: -1px;overflow: hidden;padding: 0;position: absolute;width: 1px;}#sk-container-id-2 div.sk-estimator {font-family: monospace;background-color: #f0f8ff;border: 1px dotted black;border-radius: 0.25em;box-sizing: border-box;margin-bottom: 0.5em;}#sk-container-id-2 div.sk-estimator:hover {background-color: #d4ebff;}#sk-container-id-2 div.sk-parallel-item::after {content: \"\";width: 100%;border-bottom: 1px solid gray;flex-grow: 1;}#sk-container-id-2 div.sk-label:hover label.sk-toggleable__label {background-color: #d4ebff;}#sk-container-id-2 div.sk-serial::before {content: \"\";position: absolute;border-left: 1px solid gray;box-sizing: border-box;top: 0;bottom: 0;left: 50%;z-index: 0;}#sk-container-id-2 div.sk-serial {display: flex;flex-direction: column;align-items: center;background-color: white;padding-right: 0.2em;padding-left: 0.2em;position: relative;}#sk-container-id-2 div.sk-item {position: relative;z-index: 1;}#sk-container-id-2 div.sk-parallel {display: flex;align-items: stretch;justify-content: center;background-color: white;position: relative;}#sk-container-id-2 div.sk-item::before, #sk-container-id-2 div.sk-parallel-item::before {content: \"\";position: absolute;border-left: 1px solid gray;box-sizing: border-box;top: 0;bottom: 0;left: 50%;z-index: -1;}#sk-container-id-2 div.sk-parallel-item {display: flex;flex-direction: column;z-index: 1;position: relative;background-color: white;}#sk-container-id-2 div.sk-parallel-item:first-child::after {align-self: flex-end;width: 50%;}#sk-container-id-2 div.sk-parallel-item:last-child::after {align-self: flex-start;width: 50%;}#sk-container-id-2 div.sk-parallel-item:only-child::after {width: 0;}#sk-container-id-2 div.sk-dashed-wrapped {border: 1px dashed gray;margin: 0 0.4em 0.5em 0.4em;box-sizing: border-box;padding-bottom: 0.4em;background-color: white;}#sk-container-id-2 div.sk-label label {font-family: monospace;font-weight: bold;display: inline-block;line-height: 1.2em;}#sk-container-id-2 div.sk-label-container {text-align: center;}#sk-container-id-2 div.sk-container {/* jupyter's `normalize.less` sets `[hidden] { display: none; }` but bootstrap.min.css set `[hidden] { display: none !important; }` so we also need the `!important` here to be able to override the default hidden behavior on the sphinx rendered scikit-learn.org. See: https://github.com/scikit-learn/scikit-learn/issues/21755 */display: inline-block !important;position: relative;}#sk-container-id-2 div.sk-text-repr-fallback {display: none;}</style><div id=\"sk-container-id-2\" class=\"sk-top-container\"><div class=\"sk-text-repr-fallback\"><pre>SGDClassifier(early_stopping=True, l1_ratio=0.2, loss=&#x27;log_loss&#x27;,\n",
       "              penalty=&#x27;elasticnet&#x27;, random_state=0)</pre><b>In a Jupyter environment, please rerun this cell to show the HTML representation or trust the notebook. <br />On GitHub, the HTML representation is unable to render, please try loading this page with nbviewer.org.</b></div><div class=\"sk-container\" hidden><div class=\"sk-item\"><div class=\"sk-estimator sk-toggleable\"><input class=\"sk-toggleable__control sk-hidden--visually\" id=\"sk-estimator-id-2\" type=\"checkbox\" checked><label for=\"sk-estimator-id-2\" class=\"sk-toggleable__label sk-toggleable__label-arrow\">SGDClassifier</label><div class=\"sk-toggleable__content\"><pre>SGDClassifier(early_stopping=True, l1_ratio=0.2, loss=&#x27;log_loss&#x27;,\n",
       "              penalty=&#x27;elasticnet&#x27;, random_state=0)</pre></div></div></div></div></div>"
      ],
      "text/plain": [
       "SGDClassifier(early_stopping=True, l1_ratio=0.2, loss='log_loss',\n",
       "              penalty='elasticnet', random_state=0)"
      ]
     },
     "execution_count": 69,
     "metadata": {},
     "output_type": "execute_result"
    }
   ],
   "source": [
    "# Initialize best SGDClasssifer\n",
    "best_params = {'alpha': 0.0001, 'class_weight': None, 'l1_ratio': 0.2, 'loss': 'log_loss'}\n",
    "classifier = SGDClassifier(penalty=\"elasticnet\", random_state=RANDOM_SEED, early_stopping=True)\n",
    "classifier.set_params(**best_params)"
   ]
  },
  {
   "cell_type": "code",
   "execution_count": null,
   "id": "AOAa5nKvOzsy",
   "metadata": {
    "id": "AOAa5nKvOzsy"
   },
   "outputs": [],
   "source": [
    "classifier.fit(train_X, train_y)"
   ]
  },
  {
   "cell_type": "code",
   "execution_count": null,
   "id": "apta-gF_K2ln",
   "metadata": {
    "colab": {
     "base_uri": "https://localhost:8080/",
     "height": 245,
     "referenced_widgets": [
      "e4fc24f4f1d04ad88006e154f77b6349",
      "6052cd697ae64e718e68e7c004b218e1",
      "4f898e45340247e0a0d02b393dd83cac",
      "44d22121ce6c4351a5a4ae042695bb0b",
      "fc0836b0d1584b48b6cde8b0bf834a12",
      "914c861cc1024ef28faf55297f6b15da",
      "58af6ac175094e8c8c06aed42983b04d",
      "cb17cb5110d8433bb370f02906032a1b",
      "07499d72080b46718882893285a7ffe3",
      "7192909a1b794c8491f6d5b733d5c4c2",
      "1d254f882ba446028166e922ac338f5d",
      "7c4b0831b91046d3a69e755189b9060b",
      "bdec6134e4fe4a2db0414756abc7672c",
      "412efa757a5f4eafa3eb50bd74b8d2a7",
      "dea4cafc071a436d958981136f1b8b05",
      "80857a5790c74c439f615d06a947e2e8",
      "efa17d479f03423a9bdd03c1df145b9a",
      "c096a5d9a35a44d8a31b8caf9d932326",
      "6be94008882644a2a7733b7c3e84b70d",
      "8e5e6a8ccf764445ab90ae5c54d4ec12",
      "01f72adfe4094c2b957fa633a86cf9f1",
      "ae45426ebe1642709357e3c1e9c39e47",
      "487a645b439d4718b3e65105efa422c0",
      "c23c6687602a4aa4be669993315a7079",
      "e13bbc8f8d6c47678658b411419e893b",
      "05fdf041c960495ebe6f058a85eea686",
      "e0206d5010c847e787ce414ca99c9c3d",
      "421407e34e484087b4ddbb999967a771",
      "414cbef7276946e587df710647911deb",
      "e939b18cb48646cc8868ca86cab18bb0",
      "e1375252961345d9b2b2e1ad13529ed3",
      "45ecddb6a37f4b31a7929cd0dd78e0e6",
      "b66022ddbf264ba28500711b358826d5",
      "08f020b7acab43d1a1cd4c916c9a04c6",
      "79d4b082d43b4f838dd658b6da4994b3",
      "2a7f7e5e94374a28aa6f7b182c92fe75",
      "14b3d984878240a6a3ae52085c160574",
      "ab5ee135cb8e47839ef9c7223afbb420",
      "6caf81eae9b54f6f87016088c239ae6d",
      "a0b3483526774b08b33a4656778f7c91",
      "5b86c0e69dfd424185533b88be377117",
      "75c4d68ebc41432ca1e96773b27d0317",
      "a8df8ab7d3fc4e0fa311b2f8a06f3ede",
      "49978b7eed144097aa7f849104f64170",
      "905c6e0846564beaa13be4b5adbe77a4",
      "906f2e04f69e494c9c5082f371f30692",
      "e9662164366243e3b3715015da8056b1",
      "9eb7086936484f029becbe1ef1ec1be9",
      "eedbfc278ab941e0ae2ef0e9dd18c5b9",
      "20e938190b3c408bb157d36874a9ee51",
      "c11ba7615b1849019a754ffebf778791",
      "f3ee4e2e8f15458cb7c9c1fa76151b95",
      "5d2d1d56a5554b4c86d9203ad3506521",
      "73313b258d3b45f783738b1d9ea69e9e",
      "7d07af274c78458cb40caca6f6668989",
      "e04174ee84c44d50aeca61718a486165",
      "8ac9314703414ff6bed09cb4a407e3f1",
      "2c71bfe4c9864b139b9caae3743f8544",
      "77284c62a07245928a32daa3e42c8249",
      "163cb5101c2a431b9771092298770d8b",
      "6be82e56dad848049a6d78604190a9af",
      "2114eebed05f48e085e483fa4604a0f5",
      "af5a0bad34eb41efbbc438c489b83f91",
      "65a662c35b7e48aba16387f0f72bf394",
      "aadc2471e3ca473b98c23d0bb2913000",
      "71a60604e4194caf839927e293cff485"
     ]
    },
    "id": "apta-gF_K2ln",
    "outputId": "074eb7db-762f-4bd3-ded2-37deaef3fb6e"
   },
   "outputs": [
    {
     "data": {
      "application/vnd.jupyter.widget-view+json": {
       "model_id": "e4fc24f4f1d04ad88006e154f77b6349",
       "version_major": 2,
       "version_minor": 0
      },
      "text/plain": [
       "Downloading (…)okenizer_config.json:   0%|          | 0.00/556 [00:00<?, ?B/s]"
      ]
     },
     "metadata": {},
     "output_type": "display_data"
    },
    {
     "data": {
      "application/vnd.jupyter.widget-view+json": {
       "model_id": "7c4b0831b91046d3a69e755189b9060b",
       "version_major": 2,
       "version_minor": 0
      },
      "text/plain": [
       "Downloading (…)solve/main/vocab.txt:   0%|          | 0.00/872k [00:00<?, ?B/s]"
      ]
     },
     "metadata": {},
     "output_type": "display_data"
    },
    {
     "data": {
      "application/vnd.jupyter.widget-view+json": {
       "model_id": "487a645b439d4718b3e65105efa422c0",
       "version_major": 2,
       "version_minor": 0
      },
      "text/plain": [
       "Downloading (…)/main/tokenizer.json:   0%|          | 0.00/2.56M [00:00<?, ?B/s]"
      ]
     },
     "metadata": {},
     "output_type": "display_data"
    },
    {
     "data": {
      "application/vnd.jupyter.widget-view+json": {
       "model_id": "08f020b7acab43d1a1cd4c916c9a04c6",
       "version_major": 2,
       "version_minor": 0
      },
      "text/plain": [
       "Downloading (…)cial_tokens_map.json:   0%|          | 0.00/112 [00:00<?, ?B/s]"
      ]
     },
     "metadata": {},
     "output_type": "display_data"
    },
    {
     "data": {
      "application/vnd.jupyter.widget-view+json": {
       "model_id": "905c6e0846564beaa13be4b5adbe77a4",
       "version_major": 2,
       "version_minor": 0
      },
      "text/plain": [
       "Downloading (…)lve/main/config.json:   0%|          | 0.00/1.23k [00:00<?, ?B/s]"
      ]
     },
     "metadata": {},
     "output_type": "display_data"
    },
    {
     "data": {
      "application/vnd.jupyter.widget-view+json": {
       "model_id": "e04174ee84c44d50aeca61718a486165",
       "version_major": 2,
       "version_minor": 0
      },
      "text/plain": [
       "Downloading (…)\"pytorch_model.bin\";:   0%|          | 0.00/670M [00:00<?, ?B/s]"
      ]
     },
     "metadata": {},
     "output_type": "display_data"
    },
    {
     "name": "stderr",
     "output_type": "stream",
     "text": [
      "<ipython-input-71-994b0cb47a0a>:9: UserWarning: Implicit dimension choice for softmax has been deprecated. Change the call to include dim=X as an argument.\n",
      "  pred_probs = logits.apply(lambda x: torch.nn.Softmax()(x).numpy())\n"
     ]
    }
   ],
   "source": [
    "# Make predictions by BERT on test\n",
    "tokenizer, model = load_bert(output_hidden_states=True)\n",
    "\n",
    "inputs = test_data['review_text'].apply(lambda x: tokenizer(x, return_tensors=\"pt\"))\n",
    "\n",
    "with torch.no_grad():\n",
    "    logits = inputs.apply(lambda x: model(**x).logits)\n",
    "\n",
    "pred_probs = logits.apply(lambda x: torch.nn.Softmax()(x).numpy())\n",
    "vals = pred_probs.apply(lambda x: x[0]).values\n",
    "lst = [[el[i] for i in range(len(el))] for el in vals]\n",
    "pred_probs_bert = np.array(lst)"
   ]
  },
  {
   "cell_type": "code",
   "execution_count": null,
   "id": "69IOO0XNOSMU",
   "metadata": {
    "id": "69IOO0XNOSMU"
   },
   "outputs": [],
   "source": [
    "# Make predictions by BestSGDClassifier on test\n",
    "pred_probs_sgdclf = classifier.predict_proba(test_X)"
   ]
  },
  {
   "cell_type": "code",
   "execution_count": null,
   "id": "siLHkNcOOOkh",
   "metadata": {
    "id": "siLHkNcOOOkh"
   },
   "outputs": [],
   "source": [
    "# Find mean prediction by probabilities and get label\n",
    "mean_total_pred = np.argmax(((pred_probs_bert + pred_probs_sgdclf) / 2), axis=1) + 1\n",
    "\n",
    "# Make Submission_11\n",
    "# public    = 0.82667"
   ]
  },
  {
   "cell_type": "markdown",
   "id": "lgWNi_A0N-4j",
   "metadata": {
    "id": "lgWNi_A0N-4j"
   },
   "source": [
    "And now lets try to find mean predictions by logits firstly."
   ]
  },
  {
   "cell_type": "code",
   "execution_count": null,
   "id": "QtKa5FP1N-Xp",
   "metadata": {
    "id": "QtKa5FP1N-Xp"
   },
   "outputs": [],
   "source": [
    "# Logits by BERT\n",
    "pred_logits = logits.apply(lambda x: x.numpy())\n",
    "vals = pred_logits.apply(lambda x: x[0]).values\n",
    "lst = [[el[i] for i in range(len(el))] for el in vals]\n",
    "pred_logits_bert = np.array(lst)\n",
    "\n",
    "# Logits by BestSGDClassifier\n",
    "pred_logits_sgdclf = classifier.decision_function(test_X)"
   ]
  },
  {
   "cell_type": "code",
   "execution_count": null,
   "id": "UUMANmpEQTRQ",
   "metadata": {
    "id": "UUMANmpEQTRQ"
   },
   "outputs": [],
   "source": [
    "# Find mean prediction and get label\n",
    "mean_total_pred = np.argmax(((pred_logits_bert + pred_logits_sgdclf) / 2), axis=1) + 1\n",
    "\n",
    "# Make Submission_16\n",
    "# public    = 0.83333"
   ]
  },
  {
   "cell_type": "markdown",
   "id": "PVdhDCYaSDKT",
   "metadata": {
    "id": "PVdhDCYaSDKT"
   },
   "source": [
    "### USE Embeddings + TreeModels + CleanlabLabels(model=BERT)[:2500]"
   ]
  },
  {
   "cell_type": "code",
   "execution_count": null,
   "id": "1tjd-FyySHKB",
   "metadata": {
    "id": "1tjd-FyySHKB"
   },
   "outputs": [],
   "source": [
    "issue_idx_by_bert = load_from_pkl(\"issue_idx_by_bert.pkl\")\n",
    "\n",
    "# Training data.\n",
    "train_X, train_y = get_use_train_X_y(train_df, issue_idx_by_bert[:2500])\n",
    "\n",
    "train_X.shape, train_y.shape"
   ]
  },
  {
   "cell_type": "code",
   "execution_count": null,
   "id": "-k_Bg2iKSDyi",
   "metadata": {
    "colab": {
     "background_save": true
    },
    "id": "-k_Bg2iKSDyi",
    "outputId": "181ed824-9613-440c-e82c-793b111e2ccf"
   },
   "outputs": [
    {
     "name": "stdout",
     "output_type": "stream",
     "text": [
      "Accuracy of CatBoost on 10-fold cv: 0.7673411620961172\n"
     ]
    }
   ],
   "source": [
    "# Initialize CatBoostClassifier\n",
    "catboost = CatBoostClassifier(random_state=RANDOM_SEED)\n",
    "\n",
    "cv_score = cross_val_score(catboost, train_X, train_y, cv=10, fit_params={\"verbose\": False})\n",
    "print(\"Accuracy of CatBoost on 10-fold cv:\", cv_score.mean())"
   ]
  },
  {
   "cell_type": "markdown",
   "id": "UfaiMa_sqNeS",
   "metadata": {
    "id": "UfaiMa_sqNeS"
   },
   "source": [
    "Gradient boosting model has been fitting too long, and cv accuracy that is has shown is not so well. So we will skip experementing with this model."
   ]
  },
  {
   "cell_type": "markdown",
   "id": "hXU9Wt8aW2oy",
   "metadata": {
    "id": "hXU9Wt8aW2oy"
   },
   "source": [
    "### USE Embeddings + 2-layer-NN + CleanlabLabels(model=BERT)[:2500]"
   ]
  },
  {
   "cell_type": "code",
   "execution_count": null,
   "id": "xXcZScp7cU-1",
   "metadata": {
    "colab": {
     "base_uri": "https://localhost:8080/"
    },
    "id": "xXcZScp7cU-1",
    "outputId": "a2106df0-d42e-4d31-a6e6-c77c61b46216"
   },
   "outputs": [
    {
     "data": {
      "text/plain": [
       "((10152, 512), (10152,))"
      ]
     },
     "execution_count": 39,
     "metadata": {},
     "output_type": "execute_result"
    }
   ],
   "source": [
    "issue_idx_by_bert = load_from_pkl(\"issue_idx_by_bert.pkl\")\n",
    "\n",
    "# Training data.\n",
    "train_X = train_df['review_text'].drop(issue_idx_by_bert[:2500]).values\n",
    "train_y = train_df['label'].drop(issue_idx_by_bert[:2500])\n",
    "train_y_zidx = np.array(labels_to_zeroidx(train_y))\n",
    "\n",
    "train_X.shape, train_y.shape"
   ]
  },
  {
   "cell_type": "code",
   "execution_count": null,
   "id": "O7ESAN14cW_S",
   "metadata": {
    "id": "O7ESAN14cW_S"
   },
   "outputs": [],
   "source": [
    "train_X_tr, val_X, train_y_tr, val_y = train_test_split(train_X, train_y_zidx, test_size=0.1, random_state=RANDOM_SEED)"
   ]
  },
  {
   "cell_type": "code",
   "execution_count": null,
   "id": "wvdz5HUFW__8",
   "metadata": {
    "id": "wvdz5HUFW__8"
   },
   "outputs": [],
   "source": [
    "class MyModel(tf.keras.Model):\n",
    "  def __init__(self, hub_url):\n",
    "    super().__init__()\n",
    "    self.hub_url = hub_url\n",
    "    self.embed = hub.load(self.hub_url)\n",
    "    self.sequential = tf.keras.Sequential([\n",
    "      tf.keras.layers.Dense(512),\n",
    "      tf.keras.layers.Dense(100, activation='relu'),\n",
    "      tf.keras.layers.BatchNormalization(),\n",
    "      tf.keras.layers.Dropout(rate=0.3, seed=RANDOM_SEED),\n",
    "      tf.keras.layers.Dense(50, activation='relu'),\n",
    "      tf.keras.layers.BatchNormalization(),\n",
    "      tf.keras.layers.Dropout(rate=0.3, seed=RANDOM_SEED),\n",
    "      tf.keras.layers.Dense(5, activation=\"softmax\"),\n",
    "    ])\n",
    "\n",
    "  def call(self, inputs):\n",
    "    phrases = inputs\n",
    "    embedding = self.embed(phrases)\n",
    "    return self.sequential(embedding)\n",
    "\n",
    "  def get_config(self):\n",
    "    return {\"hub_url\":self.hub_url}\n",
    "\n",
    "# Model from submission_15 = 0.82000"
   ]
  },
  {
   "cell_type": "code",
   "execution_count": null,
   "id": "BpaB_mRaYGX1",
   "metadata": {
    "id": "BpaB_mRaYGX1"
   },
   "outputs": [],
   "source": [
    "model = MyModel(\"https://tfhub.dev/google/universal-sentence-encoder/4\")\n",
    "model.compile(\n",
    "    loss = tf.losses.SparseCategoricalCrossentropy(from_logits=False),\n",
    "    optimizer=tf.optimizers.Adam(learning_rate=0.0001), \n",
    "    metrics = [tf.keras.metrics.SparseCategoricalAccuracy(name=\"accuracy\")])"
   ]
  },
  {
   "cell_type": "code",
   "execution_count": null,
   "id": "T1dnXeDaYKN0",
   "metadata": {
    "colab": {
     "base_uri": "https://localhost:8080/"
    },
    "id": "T1dnXeDaYKN0",
    "outputId": "70e3b17d-139d-42ed-f496-00b9fdfb43df"
   },
   "outputs": [
    {
     "name": "stdout",
     "output_type": "stream",
     "text": [
      "Epoch 1/25\n",
      "286/286 [==============================] - 27s 51ms/step - loss: 1.3197 - accuracy: 0.5248 - val_loss: 1.1150 - val_accuracy: 0.6683\n",
      "Epoch 2/25\n",
      "286/286 [==============================] - 11s 38ms/step - loss: 0.8765 - accuracy: 0.6824 - val_loss: 0.7135 - val_accuracy: 0.7283\n",
      "Epoch 3/25\n",
      "286/286 [==============================] - 13s 44ms/step - loss: 0.7707 - accuracy: 0.7162 - val_loss: 0.6430 - val_accuracy: 0.7451\n",
      "Epoch 4/25\n",
      "286/286 [==============================] - 12s 42ms/step - loss: 0.7128 - accuracy: 0.7351 - val_loss: 0.6271 - val_accuracy: 0.7520\n",
      "Epoch 5/25\n",
      "286/286 [==============================] - 7s 25ms/step - loss: 0.6619 - accuracy: 0.7554 - val_loss: 0.6276 - val_accuracy: 0.7530\n",
      "Epoch 6/25\n",
      "286/286 [==============================] - 7s 26ms/step - loss: 0.6442 - accuracy: 0.7616 - val_loss: 0.6172 - val_accuracy: 0.7667\n",
      "Epoch 7/25\n",
      "286/286 [==============================] - 6s 20ms/step - loss: 0.6186 - accuracy: 0.7707 - val_loss: 0.6190 - val_accuracy: 0.7697\n",
      "Epoch 8/25\n",
      "286/286 [==============================] - 9s 31ms/step - loss: 0.5961 - accuracy: 0.7765 - val_loss: 0.6080 - val_accuracy: 0.7579\n",
      "Epoch 9/25\n",
      "286/286 [==============================] - 6s 22ms/step - loss: 0.6005 - accuracy: 0.7786 - val_loss: 0.6204 - val_accuracy: 0.7628\n",
      "Epoch 10/25\n",
      "286/286 [==============================] - 5s 18ms/step - loss: 0.5642 - accuracy: 0.7882 - val_loss: 0.6095 - val_accuracy: 0.7687\n",
      "Epoch 11/25\n",
      "286/286 [==============================] - 8s 28ms/step - loss: 0.5621 - accuracy: 0.7887 - val_loss: 0.6119 - val_accuracy: 0.7628\n",
      "Epoch 12/25\n",
      "286/286 [==============================] - 5s 17ms/step - loss: 0.5555 - accuracy: 0.7914 - val_loss: 0.6178 - val_accuracy: 0.7579\n",
      "Epoch 13/25\n",
      "286/286 [==============================] - 5s 19ms/step - loss: 0.5332 - accuracy: 0.8024 - val_loss: 0.6162 - val_accuracy: 0.7638\n",
      "Epoch 14/25\n",
      "286/286 [==============================] - 9s 31ms/step - loss: 0.5269 - accuracy: 0.8055 - val_loss: 0.6100 - val_accuracy: 0.7628\n",
      "Epoch 15/25\n",
      "286/286 [==============================] - 5s 17ms/step - loss: 0.5255 - accuracy: 0.8008 - val_loss: 0.6107 - val_accuracy: 0.7589\n",
      "Epoch 16/25\n",
      "286/286 [==============================] - 7s 25ms/step - loss: 0.5054 - accuracy: 0.8098 - val_loss: 0.6213 - val_accuracy: 0.7657\n",
      "Epoch 17/25\n",
      "286/286 [==============================] - 6s 19ms/step - loss: 0.4904 - accuracy: 0.8160 - val_loss: 0.6248 - val_accuracy: 0.7618\n",
      "Epoch 18/25\n",
      "286/286 [==============================] - 5s 18ms/step - loss: 0.4912 - accuracy: 0.8143 - val_loss: 0.6176 - val_accuracy: 0.7530\n",
      "Epoch 19/25\n",
      "286/286 [==============================] - 8s 28ms/step - loss: 0.4650 - accuracy: 0.8259 - val_loss: 0.6373 - val_accuracy: 0.7451\n",
      "Epoch 20/25\n",
      "286/286 [==============================] - 11s 37ms/step - loss: 0.4526 - accuracy: 0.8296 - val_loss: 0.6294 - val_accuracy: 0.7589\n",
      "Epoch 21/25\n",
      "286/286 [==============================] - 12s 41ms/step - loss: 0.4467 - accuracy: 0.8343 - val_loss: 0.6417 - val_accuracy: 0.7510\n",
      "Epoch 22/25\n",
      "286/286 [==============================] - 12s 43ms/step - loss: 0.4418 - accuracy: 0.8338 - val_loss: 0.6358 - val_accuracy: 0.7589\n",
      "Epoch 23/25\n",
      "286/286 [==============================] - 11s 38ms/step - loss: 0.4239 - accuracy: 0.8398 - val_loss: 0.6281 - val_accuracy: 0.7598\n",
      "Epoch 24/25\n",
      "286/286 [==============================] - 12s 42ms/step - loss: 0.4306 - accuracy: 0.8438 - val_loss: 0.6262 - val_accuracy: 0.7628\n",
      "Epoch 25/25\n",
      "286/286 [==============================] - 12s 43ms/step - loss: 0.4192 - accuracy: 0.8431 - val_loss: 0.6313 - val_accuracy: 0.7579\n"
     ]
    }
   ],
   "source": [
    "history = model.fit(x=train_X_tr, y=train_y_tr,\n",
    "          validation_data=(val_X, val_y),\n",
    "          epochs = 25)"
   ]
  },
  {
   "cell_type": "code",
   "execution_count": null,
   "id": "0bDlTVMRYdaE",
   "metadata": {
    "colab": {
     "base_uri": "https://localhost:8080/",
     "height": 338
    },
    "id": "0bDlTVMRYdaE",
    "outputId": "085b18e3-3e16-48c8-a55b-0f4bb96f5dc6"
   },
   "outputs": [
    {
     "name": "stdout",
     "output_type": "stream",
     "text": [
      "286/286 [==============================] - 5s 18ms/step - loss: 0.2490 - accuracy: 0.9199\n",
      "32/32 [==============================] - 0s 13ms/step - loss: 0.6313 - accuracy: 0.7579\n",
      "Training set accuracy: 0.9198774099349976\n",
      "Validation set accuracy: 0.7578740119934082\n"
     ]
    },
    {
     "data": {
      "image/png": "[encoded data removed]",
      "text/plain": [
       "<Figure size 432x288 with 1 Axes>"
      ]
     },
     "metadata": {
      "needs_background": "light"
     },
     "output_type": "display_data"
    }
   ],
   "source": [
    "plt.plot(history.history['accuracy'])\n",
    "plt.plot(history.history['val_accuracy'])\n",
    "plt.grid()\n",
    "\n",
    "train_eval_result = model.evaluate(train_X_tr, train_y_tr)\n",
    "validation_eval_result = model.evaluate(val_X, val_y)\n",
    "\n",
    "print(f\"Training set accuracy: {train_eval_result[1]}\")\n",
    "print(f\"Validation set accuracy: {validation_eval_result[1]}\")"
   ]
  },
  {
   "cell_type": "markdown",
   "id": "5QsiV-OdKsRF",
   "metadata": {
    "id": "5QsiV-OdKsRF"
   },
   "source": [
    "Try the same model but we will put embeddings straight as an input"
   ]
  },
  {
   "cell_type": "code",
   "execution_count": null,
   "id": "FkGBXBMtKgFs",
   "metadata": {
    "colab": {
     "base_uri": "https://localhost:8080/"
    },
    "id": "FkGBXBMtKgFs",
    "outputId": "a2106df0-d42e-4d31-a6e6-c77c61b46216"
   },
   "outputs": [
    {
     "data": {
      "text/plain": [
       "((10152, 512), (10152,))"
      ]
     },
     "execution_count": 39,
     "metadata": {},
     "output_type": "execute_result"
    }
   ],
   "source": [
    "issue_idx_by_bert = load_from_pkl(\"issue_idx_by_bert.pkl\")\n",
    "\n",
    "# Training data.\n",
    "train_X, train_y = get_use_train_X_y(train_df, issue_idx_by_bert[:2500])\n",
    "\n",
    "train_y_zidx = np.array(labels_to_zeroidx(train_y))\n",
    "\n",
    "train_X.shape, train_y.shape"
   ]
  },
  {
   "cell_type": "code",
   "execution_count": null,
   "id": "TLkFRvzTKgFt",
   "metadata": {
    "id": "TLkFRvzTKgFt"
   },
   "outputs": [],
   "source": [
    "train_X_tr, val_X, train_y_tr, val_y = train_test_split(train_X, train_y_zidx, test_size=0.1, random_state=RANDOM_SEED)"
   ]
  },
  {
   "cell_type": "code",
   "execution_count": null,
   "id": "nDJik5mfGaTL",
   "metadata": {
    "id": "nDJik5mfGaTL"
   },
   "outputs": [],
   "source": [
    "class MyModel(tf.keras.Model):\n",
    "  def __init__(self):\n",
    "    super().__init__()\n",
    "    self.sequential = tf.keras.Sequential([\n",
    "      tf.keras.layers.Dense(512),\n",
    "      tf.keras.layers.Dense(100, activation='relu'),\n",
    "      tf.keras.layers.BatchNormalization(),\n",
    "      tf.keras.layers.Dropout(rate=0.3, seed=RANDOM_SEED),\n",
    "      tf.keras.layers.Dense(50, activation='relu'),\n",
    "      tf.keras.layers.BatchNormalization(),\n",
    "      tf.keras.layers.Dropout(rate=0.3, seed=RANDOM_SEED),\n",
    "      tf.keras.layers.Dense(5, activation=\"softmax\"),\n",
    "    ])\n",
    "\n",
    "  def call(self, inputs):\n",
    "    embedding = inputs\n",
    "    return self.sequential(embedding)\n",
    "\n",
    "# Model from submission_15_1"
   ]
  },
  {
   "cell_type": "code",
   "execution_count": null,
   "id": "PbKFq0vDGfyH",
   "metadata": {
    "id": "PbKFq0vDGfyH"
   },
   "outputs": [],
   "source": [
    "model = MyModel()\n",
    "model.compile(\n",
    "    loss = tf.losses.SparseCategoricalCrossentropy(from_logits=False),\n",
    "    optimizer=tf.optimizers.Adam(learning_rate=0.0001), \n",
    "    metrics = [tf.keras.metrics.SparseCategoricalAccuracy(name=\"accuracy\")])"
   ]
  },
  {
   "cell_type": "code",
   "execution_count": null,
   "id": "0MOm_Cq6FwQL",
   "metadata": {
    "colab": {
     "base_uri": "https://localhost:8080/"
    },
    "id": "0MOm_Cq6FwQL",
    "outputId": "b4ac06e0-4489-439a-ec2f-8ae410602829"
   },
   "outputs": [
    {
     "name": "stdout",
     "output_type": "stream",
     "text": [
      "Epoch 1/25\n",
      "286/286 [==============================] - 7s 14ms/step - loss: 1.2284 - accuracy: 0.5546 - val_loss: 1.2760 - val_accuracy: 0.5433\n",
      "Epoch 2/25\n",
      "286/286 [==============================] - 2s 9ms/step - loss: 0.8404 - accuracy: 0.6887 - val_loss: 0.7085 - val_accuracy: 0.7343\n",
      "Epoch 3/25\n",
      "286/286 [==============================] - 2s 8ms/step - loss: 0.7628 - accuracy: 0.7220 - val_loss: 0.6509 - val_accuracy: 0.7530\n",
      "Epoch 4/25\n",
      "286/286 [==============================] - 2s 8ms/step - loss: 0.6939 - accuracy: 0.7439 - val_loss: 0.6211 - val_accuracy: 0.7431\n",
      "Epoch 5/25\n",
      "286/286 [==============================] - 2s 8ms/step - loss: 0.6640 - accuracy: 0.7486 - val_loss: 0.6166 - val_accuracy: 0.7470\n",
      "Epoch 6/25\n",
      "286/286 [==============================] - 3s 10ms/step - loss: 0.6325 - accuracy: 0.7641 - val_loss: 0.6158 - val_accuracy: 0.7638\n",
      "Epoch 7/25\n",
      "286/286 [==============================] - 4s 13ms/step - loss: 0.6020 - accuracy: 0.7759 - val_loss: 0.6121 - val_accuracy: 0.7608\n",
      "Epoch 8/25\n",
      "286/286 [==============================] - 2s 9ms/step - loss: 0.6022 - accuracy: 0.7700 - val_loss: 0.6098 - val_accuracy: 0.7589\n",
      "Epoch 9/25\n",
      "286/286 [==============================] - 2s 8ms/step - loss: 0.5879 - accuracy: 0.7759 - val_loss: 0.6178 - val_accuracy: 0.7520\n",
      "Epoch 10/25\n",
      "286/286 [==============================] - 2s 8ms/step - loss: 0.5666 - accuracy: 0.7840 - val_loss: 0.6009 - val_accuracy: 0.7589\n",
      "Epoch 11/25\n",
      "286/286 [==============================] - 2s 8ms/step - loss: 0.5499 - accuracy: 0.7915 - val_loss: 0.6139 - val_accuracy: 0.7520\n",
      "Epoch 12/25\n",
      "286/286 [==============================] - 3s 10ms/step - loss: 0.5442 - accuracy: 0.7938 - val_loss: 0.6132 - val_accuracy: 0.7520\n",
      "Epoch 13/25\n",
      "286/286 [==============================] - 4s 12ms/step - loss: 0.5297 - accuracy: 0.7991 - val_loss: 0.6093 - val_accuracy: 0.7549\n",
      "Epoch 14/25\n",
      "286/286 [==============================] - 3s 11ms/step - loss: 0.5212 - accuracy: 0.8046 - val_loss: 0.6076 - val_accuracy: 0.7490\n",
      "Epoch 15/25\n",
      "286/286 [==============================] - 2s 8ms/step - loss: 0.5196 - accuracy: 0.7998 - val_loss: 0.6028 - val_accuracy: 0.7598\n",
      "Epoch 16/25\n",
      "286/286 [==============================] - 2s 8ms/step - loss: 0.4898 - accuracy: 0.8157 - val_loss: 0.6099 - val_accuracy: 0.7549\n",
      "Epoch 17/25\n",
      "286/286 [==============================] - 2s 7ms/step - loss: 0.4781 - accuracy: 0.8169 - val_loss: 0.6140 - val_accuracy: 0.7530\n",
      "Epoch 18/25\n",
      "286/286 [==============================] - 3s 9ms/step - loss: 0.4739 - accuracy: 0.8206 - val_loss: 0.6063 - val_accuracy: 0.7667\n",
      "Epoch 19/25\n",
      "286/286 [==============================] - 4s 15ms/step - loss: 0.4595 - accuracy: 0.8246 - val_loss: 0.6088 - val_accuracy: 0.7638\n",
      "Epoch 20/25\n",
      "286/286 [==============================] - 4s 14ms/step - loss: 0.4469 - accuracy: 0.8288 - val_loss: 0.6166 - val_accuracy: 0.7510\n",
      "Epoch 21/25\n",
      "286/286 [==============================] - 4s 13ms/step - loss: 0.4435 - accuracy: 0.8311 - val_loss: 0.6295 - val_accuracy: 0.7490\n",
      "Epoch 22/25\n",
      "286/286 [==============================] - 4s 12ms/step - loss: 0.4391 - accuracy: 0.8341 - val_loss: 0.6235 - val_accuracy: 0.7480\n",
      "Epoch 23/25\n",
      "286/286 [==============================] - 6s 20ms/step - loss: 0.4279 - accuracy: 0.8401 - val_loss: 0.6271 - val_accuracy: 0.7500\n",
      "Epoch 24/25\n",
      "286/286 [==============================] - 5s 17ms/step - loss: 0.4161 - accuracy: 0.8481 - val_loss: 0.6291 - val_accuracy: 0.7549\n",
      "Epoch 25/25\n",
      "286/286 [==============================] - 4s 13ms/step - loss: 0.4110 - accuracy: 0.8459 - val_loss: 0.6317 - val_accuracy: 0.7569\n"
     ]
    }
   ],
   "source": [
    "history = model.fit(x=train_X_tr, y=train_y_tr,\n",
    "          validation_data=(val_X, val_y),\n",
    "          epochs = 25)"
   ]
  },
  {
   "cell_type": "code",
   "execution_count": null,
   "id": "0tD6z37TBP3k",
   "metadata": {
    "colab": {
     "base_uri": "https://localhost:8080/"
    },
    "id": "0tD6z37TBP3k",
    "outputId": "2b0051ee-756f-4f88-d5c9-6c5eb3bac176"
   },
   "outputs": [
    {
     "name": "stdout",
     "output_type": "stream",
     "text": [
      "Epoch 1/6\n",
      "318/318 [==============================] - 7s 17ms/step - loss: 1.2401 - accuracy: 0.5342\n",
      "Epoch 2/6\n",
      "318/318 [==============================] - 5s 17ms/step - loss: 0.8334 - accuracy: 0.6881\n",
      "Epoch 3/6\n",
      "318/318 [==============================] - 4s 13ms/step - loss: 0.7498 - accuracy: 0.7217\n",
      "Epoch 4/6\n",
      "318/318 [==============================] - 5s 15ms/step - loss: 0.7029 - accuracy: 0.7354\n",
      "Epoch 5/6\n",
      "318/318 [==============================] - 7s 21ms/step - loss: 0.6696 - accuracy: 0.7460\n",
      "Epoch 6/6\n",
      "318/318 [==============================] - 5s 16ms/step - loss: 0.6442 - accuracy: 0.7518\n",
      "16/16 [==============================] - 0s 5ms/step\n"
     ]
    }
   ],
   "source": [
    "# Test data preparation\n",
    "test_X = embed(test_data['review_text']).numpy()\n",
    "\n",
    "model.fit(x=train_X, y=train_y_zidx, epochs=6)\n",
    "test_pred = model.predict(test_X)\n",
    "\n",
    "# Make Submisson 15 (embeddings inside)\n",
    "# val_result = 0.7667\n",
    "# public    =  0.82000\n",
    "--------\n",
    "# Make Submisson 15_1(embeddings outside)\n",
    "# val_result = 0.7638\n",
    "# public    =  0.77333"
   ]
  },
  {
   "cell_type": "markdown",
   "id": "9U97UYJTSO_r",
   "metadata": {
    "id": "9U97UYJTSO_r"
   },
   "source": [
    "## USE_LARGE (good for linear models)"
   ]
  },
  {
   "cell_type": "markdown",
   "id": "dOcr9qt3aYGH",
   "metadata": {
    "id": "dOcr9qt3aYGH"
   },
   "source": [
    "### USE_LARGE Embeddings + BestSGDClassifier + CleanlabLabels(model=BERT)[:2500]"
   ]
  },
  {
   "cell_type": "code",
   "execution_count": null,
   "id": "1GBUk8Pw1kA4",
   "metadata": {
    "id": "1GBUk8Pw1kA4"
   },
   "outputs": [],
   "source": []
  },
  {
   "cell_type": "code",
   "execution_count": null,
   "id": "d41geN0hUZh8",
   "metadata": {
    "id": "d41geN0hUZh8"
   },
   "outputs": [],
   "source": [
    "# Prepare test data\n",
    "test_X = embed_large(test_data['review_text']).numpy()"
   ]
  },
  {
   "cell_type": "code",
   "execution_count": null,
   "id": "9_fXPopsamau",
   "metadata": {
    "colab": {
     "base_uri": "https://localhost:8080/"
    },
    "id": "9_fXPopsamau",
    "outputId": "15cbdab0-446e-45dc-a875-9ef80cdf2e1d"
   },
   "outputs": [
    {
     "data": {
      "text/plain": [
       "((10152, 512), (10152,))"
      ]
     },
     "execution_count": 16,
     "metadata": {},
     "output_type": "execute_result"
    }
   ],
   "source": [
    "issue_idx_by_bert = load_from_pkl(\"issue_idx_by_bert.pkl\")\n",
    "\n",
    "# Training data.\n",
    "train_X, train_y = get_uselarge_train_X_y(train_df, issue_idx_by_bert[:2500])\n",
    "\n",
    "train_X.shape, train_y.shape"
   ]
  },
  {
   "cell_type": "code",
   "execution_count": null,
   "id": "gWDu2LC3ay_i",
   "metadata": {
    "colab": {
     "base_uri": "https://localhost:8080/",
     "height": 92
    },
    "id": "gWDu2LC3ay_i",
    "outputId": "0e841c56-8b22-4db4-dfbe-ea6c73ffe98e"
   },
   "outputs": [
    {
     "data": {
      "text/html": [
       "<style>#sk-container-id-2 {color: black;background-color: white;}#sk-container-id-2 pre{padding: 0;}#sk-container-id-2 div.sk-toggleable {background-color: white;}#sk-container-id-2 label.sk-toggleable__label {cursor: pointer;display: block;width: 100%;margin-bottom: 0;padding: 0.3em;box-sizing: border-box;text-align: center;}#sk-container-id-2 label.sk-toggleable__label-arrow:before {content: \"▸\";float: left;margin-right: 0.25em;color: #696969;}#sk-container-id-2 label.sk-toggleable__label-arrow:hover:before {color: black;}#sk-container-id-2 div.sk-estimator:hover label.sk-toggleable__label-arrow:before {color: black;}#sk-container-id-2 div.sk-toggleable__content {max-height: 0;max-width: 0;overflow: hidden;text-align: left;background-color: #f0f8ff;}#sk-container-id-2 div.sk-toggleable__content pre {margin: 0.2em;color: black;border-radius: 0.25em;background-color: #f0f8ff;}#sk-container-id-2 input.sk-toggleable__control:checked~div.sk-toggleable__content {max-height: 200px;max-width: 100%;overflow: auto;}#sk-container-id-2 input.sk-toggleable__control:checked~label.sk-toggleable__label-arrow:before {content: \"▾\";}#sk-container-id-2 div.sk-estimator input.sk-toggleable__control:checked~label.sk-toggleable__label {background-color: #d4ebff;}#sk-container-id-2 div.sk-label input.sk-toggleable__control:checked~label.sk-toggleable__label {background-color: #d4ebff;}#sk-container-id-2 input.sk-hidden--visually {border: 0;clip: rect(1px 1px 1px 1px);clip: rect(1px, 1px, 1px, 1px);height: 1px;margin: -1px;overflow: hidden;padding: 0;position: absolute;width: 1px;}#sk-container-id-2 div.sk-estimator {font-family: monospace;background-color: #f0f8ff;border: 1px dotted black;border-radius: 0.25em;box-sizing: border-box;margin-bottom: 0.5em;}#sk-container-id-2 div.sk-estimator:hover {background-color: #d4ebff;}#sk-container-id-2 div.sk-parallel-item::after {content: \"\";width: 100%;border-bottom: 1px solid gray;flex-grow: 1;}#sk-container-id-2 div.sk-label:hover label.sk-toggleable__label {background-color: #d4ebff;}#sk-container-id-2 div.sk-serial::before {content: \"\";position: absolute;border-left: 1px solid gray;box-sizing: border-box;top: 0;bottom: 0;left: 50%;z-index: 0;}#sk-container-id-2 div.sk-serial {display: flex;flex-direction: column;align-items: center;background-color: white;padding-right: 0.2em;padding-left: 0.2em;position: relative;}#sk-container-id-2 div.sk-item {position: relative;z-index: 1;}#sk-container-id-2 div.sk-parallel {display: flex;align-items: stretch;justify-content: center;background-color: white;position: relative;}#sk-container-id-2 div.sk-item::before, #sk-container-id-2 div.sk-parallel-item::before {content: \"\";position: absolute;border-left: 1px solid gray;box-sizing: border-box;top: 0;bottom: 0;left: 50%;z-index: -1;}#sk-container-id-2 div.sk-parallel-item {display: flex;flex-direction: column;z-index: 1;position: relative;background-color: white;}#sk-container-id-2 div.sk-parallel-item:first-child::after {align-self: flex-end;width: 50%;}#sk-container-id-2 div.sk-parallel-item:last-child::after {align-self: flex-start;width: 50%;}#sk-container-id-2 div.sk-parallel-item:only-child::after {width: 0;}#sk-container-id-2 div.sk-dashed-wrapped {border: 1px dashed gray;margin: 0 0.4em 0.5em 0.4em;box-sizing: border-box;padding-bottom: 0.4em;background-color: white;}#sk-container-id-2 div.sk-label label {font-family: monospace;font-weight: bold;display: inline-block;line-height: 1.2em;}#sk-container-id-2 div.sk-label-container {text-align: center;}#sk-container-id-2 div.sk-container {/* jupyter's `normalize.less` sets `[hidden] { display: none; }` but bootstrap.min.css set `[hidden] { display: none !important; }` so we also need the `!important` here to be able to override the default hidden behavior on the sphinx rendered scikit-learn.org. See: https://github.com/scikit-learn/scikit-learn/issues/21755 */display: inline-block !important;position: relative;}#sk-container-id-2 div.sk-text-repr-fallback {display: none;}</style><div id=\"sk-container-id-2\" class=\"sk-top-container\"><div class=\"sk-text-repr-fallback\"><pre>SGDClassifier(early_stopping=True, l1_ratio=0.2, loss=&#x27;log_loss&#x27;,\n",
       "              penalty=&#x27;elasticnet&#x27;, random_state=0)</pre><b>In a Jupyter environment, please rerun this cell to show the HTML representation or trust the notebook. <br />On GitHub, the HTML representation is unable to render, please try loading this page with nbviewer.org.</b></div><div class=\"sk-container\" hidden><div class=\"sk-item\"><div class=\"sk-estimator sk-toggleable\"><input class=\"sk-toggleable__control sk-hidden--visually\" id=\"sk-estimator-id-2\" type=\"checkbox\" checked><label for=\"sk-estimator-id-2\" class=\"sk-toggleable__label sk-toggleable__label-arrow\">SGDClassifier</label><div class=\"sk-toggleable__content\"><pre>SGDClassifier(early_stopping=True, l1_ratio=0.2, loss=&#x27;log_loss&#x27;,\n",
       "              penalty=&#x27;elasticnet&#x27;, random_state=0)</pre></div></div></div></div></div>"
      ],
      "text/plain": [
       "SGDClassifier(early_stopping=True, l1_ratio=0.2, loss='log_loss',\n",
       "              penalty='elasticnet', random_state=0)"
      ]
     },
     "execution_count": 19,
     "metadata": {},
     "output_type": "execute_result"
    }
   ],
   "source": [
    "# Initialize best SGDClasssifer\n",
    "best_params = {'alpha': 0.0001, 'class_weight': None, 'l1_ratio': 0.2, 'loss': 'log_loss'}\n",
    "classifier = SGDClassifier(penalty=\"elasticnet\", random_state=RANDOM_SEED, early_stopping=True)\n",
    "classifier.set_params(**best_params)"
   ]
  },
  {
   "cell_type": "code",
   "execution_count": null,
   "id": "F5bhcP3Aamau",
   "metadata": {
    "colab": {
     "base_uri": "https://localhost:8080/"
    },
    "id": "F5bhcP3Aamau",
    "outputId": "1d7869ee-ec1f-44b5-f797-0f99edf05360"
   },
   "outputs": [
    {
     "name": "stdout",
     "output_type": "stream",
     "text": [
      "Accuracy of BestSGDClassifier on USE_Large embds (10-fold cv): 0.7940382452193476\n"
     ]
    }
   ],
   "source": [
    "cv_score = cross_val_score(classifier, train_X, train_y, cv=10)\n",
    "print(\"Accuracy of BestSGDClassifier on USE_Large embds (10-fold cv):\", cv_score.mean())"
   ]
  },
  {
   "cell_type": "code",
   "execution_count": null,
   "id": "pV-eWHIw78QD",
   "metadata": {
    "id": "pV-eWHIw78QD"
   },
   "outputs": [],
   "source": [
    "cv_score = cross_val_score(classifier, train_X, train_y, cv=10)\n",
    "print(\"Accuracy of BestSGDClassifier on USE_Large embds (10-fold cv):\", cv_score.mean())"
   ]
  },
  {
   "cell_type": "code",
   "execution_count": null,
   "id": "uakucUezTlA5",
   "metadata": {
    "id": "uakucUezTlA5"
   },
   "outputs": [],
   "source": [
    "classifier.fit(train_X, train_y)\n",
    "test_pred = classifier.predict(test_X)\n",
    "# Make submission_17\n",
    "# 10-fold-cv = 0.79403\n",
    "# public    =  0.84000"
   ]
  },
  {
   "cell_type": "markdown",
   "id": "GSPvrFHnWRxE",
   "metadata": {
    "id": "GSPvrFHnWRxE"
   },
   "source": [
    "### USE_LARGE Embeddings + MEAN(BestSGDClassifier & BERT) + CleanlabLabels(model=BERT)[:2500]"
   ]
  },
  {
   "cell_type": "markdown",
   "id": "RXsiijXUWFa9",
   "metadata": {
    "id": "RXsiijXUWFa9"
   },
   "source": [
    "Here we will try to find mean between BERT and BestSGDClassifier predictions."
   ]
  },
  {
   "cell_type": "code",
   "execution_count": null,
   "id": "6vI70fwVWFa9",
   "metadata": {
    "colab": {
     "base_uri": "https://localhost:8080/"
    },
    "id": "6vI70fwVWFa9",
    "outputId": "ddda4325-2acb-4b2b-dfd0-cf0c45b5b991"
   },
   "outputs": [
    {
     "data": {
      "text/plain": [
       "((10152, 512), (10152,))"
      ]
     },
     "execution_count": 30,
     "metadata": {},
     "output_type": "execute_result"
    }
   ],
   "source": [
    "issue_idx_by_bert = load_from_pkl(\"issue_idx_by_bert.pkl\")\n",
    "\n",
    "# Training data.\n",
    "train_X, train_y = get_uselarge_train_X_y(train_df, issue_idx_by_bert[:2500])\n",
    "\n",
    "# Prepare test data\n",
    "test_X = embed_large(test_data['review_text']).numpy()\n",
    "\n",
    "train_X.shape, train_y.shape"
   ]
  },
  {
   "cell_type": "code",
   "execution_count": null,
   "id": "4JMSOh1tWFa9",
   "metadata": {
    "colab": {
     "base_uri": "https://localhost:8080/",
     "height": 92
    },
    "id": "4JMSOh1tWFa9",
    "outputId": "e0b7c644-90a1-4de1-b131-27a45a206505"
   },
   "outputs": [
    {
     "data": {
      "text/html": [
       "<style>#sk-container-id-4 {color: black;background-color: white;}#sk-container-id-4 pre{padding: 0;}#sk-container-id-4 div.sk-toggleable {background-color: white;}#sk-container-id-4 label.sk-toggleable__label {cursor: pointer;display: block;width: 100%;margin-bottom: 0;padding: 0.3em;box-sizing: border-box;text-align: center;}#sk-container-id-4 label.sk-toggleable__label-arrow:before {content: \"▸\";float: left;margin-right: 0.25em;color: #696969;}#sk-container-id-4 label.sk-toggleable__label-arrow:hover:before {color: black;}#sk-container-id-4 div.sk-estimator:hover label.sk-toggleable__label-arrow:before {color: black;}#sk-container-id-4 div.sk-toggleable__content {max-height: 0;max-width: 0;overflow: hidden;text-align: left;background-color: #f0f8ff;}#sk-container-id-4 div.sk-toggleable__content pre {margin: 0.2em;color: black;border-radius: 0.25em;background-color: #f0f8ff;}#sk-container-id-4 input.sk-toggleable__control:checked~div.sk-toggleable__content {max-height: 200px;max-width: 100%;overflow: auto;}#sk-container-id-4 input.sk-toggleable__control:checked~label.sk-toggleable__label-arrow:before {content: \"▾\";}#sk-container-id-4 div.sk-estimator input.sk-toggleable__control:checked~label.sk-toggleable__label {background-color: #d4ebff;}#sk-container-id-4 div.sk-label input.sk-toggleable__control:checked~label.sk-toggleable__label {background-color: #d4ebff;}#sk-container-id-4 input.sk-hidden--visually {border: 0;clip: rect(1px 1px 1px 1px);clip: rect(1px, 1px, 1px, 1px);height: 1px;margin: -1px;overflow: hidden;padding: 0;position: absolute;width: 1px;}#sk-container-id-4 div.sk-estimator {font-family: monospace;background-color: #f0f8ff;border: 1px dotted black;border-radius: 0.25em;box-sizing: border-box;margin-bottom: 0.5em;}#sk-container-id-4 div.sk-estimator:hover {background-color: #d4ebff;}#sk-container-id-4 div.sk-parallel-item::after {content: \"\";width: 100%;border-bottom: 1px solid gray;flex-grow: 1;}#sk-container-id-4 div.sk-label:hover label.sk-toggleable__label {background-color: #d4ebff;}#sk-container-id-4 div.sk-serial::before {content: \"\";position: absolute;border-left: 1px solid gray;box-sizing: border-box;top: 0;bottom: 0;left: 50%;z-index: 0;}#sk-container-id-4 div.sk-serial {display: flex;flex-direction: column;align-items: center;background-color: white;padding-right: 0.2em;padding-left: 0.2em;position: relative;}#sk-container-id-4 div.sk-item {position: relative;z-index: 1;}#sk-container-id-4 div.sk-parallel {display: flex;align-items: stretch;justify-content: center;background-color: white;position: relative;}#sk-container-id-4 div.sk-item::before, #sk-container-id-4 div.sk-parallel-item::before {content: \"\";position: absolute;border-left: 1px solid gray;box-sizing: border-box;top: 0;bottom: 0;left: 50%;z-index: -1;}#sk-container-id-4 div.sk-parallel-item {display: flex;flex-direction: column;z-index: 1;position: relative;background-color: white;}#sk-container-id-4 div.sk-parallel-item:first-child::after {align-self: flex-end;width: 50%;}#sk-container-id-4 div.sk-parallel-item:last-child::after {align-self: flex-start;width: 50%;}#sk-container-id-4 div.sk-parallel-item:only-child::after {width: 0;}#sk-container-id-4 div.sk-dashed-wrapped {border: 1px dashed gray;margin: 0 0.4em 0.5em 0.4em;box-sizing: border-box;padding-bottom: 0.4em;background-color: white;}#sk-container-id-4 div.sk-label label {font-family: monospace;font-weight: bold;display: inline-block;line-height: 1.2em;}#sk-container-id-4 div.sk-label-container {text-align: center;}#sk-container-id-4 div.sk-container {/* jupyter's `normalize.less` sets `[hidden] { display: none; }` but bootstrap.min.css set `[hidden] { display: none !important; }` so we also need the `!important` here to be able to override the default hidden behavior on the sphinx rendered scikit-learn.org. See: https://github.com/scikit-learn/scikit-learn/issues/21755 */display: inline-block !important;position: relative;}#sk-container-id-4 div.sk-text-repr-fallback {display: none;}</style><div id=\"sk-container-id-4\" class=\"sk-top-container\"><div class=\"sk-text-repr-fallback\"><pre>SGDClassifier(early_stopping=True, l1_ratio=0.2, loss=&#x27;log_loss&#x27;,\n",
       "              penalty=&#x27;elasticnet&#x27;, random_state=0)</pre><b>In a Jupyter environment, please rerun this cell to show the HTML representation or trust the notebook. <br />On GitHub, the HTML representation is unable to render, please try loading this page with nbviewer.org.</b></div><div class=\"sk-container\" hidden><div class=\"sk-item\"><div class=\"sk-estimator sk-toggleable\"><input class=\"sk-toggleable__control sk-hidden--visually\" id=\"sk-estimator-id-4\" type=\"checkbox\" checked><label for=\"sk-estimator-id-4\" class=\"sk-toggleable__label sk-toggleable__label-arrow\">SGDClassifier</label><div class=\"sk-toggleable__content\"><pre>SGDClassifier(early_stopping=True, l1_ratio=0.2, loss=&#x27;log_loss&#x27;,\n",
       "              penalty=&#x27;elasticnet&#x27;, random_state=0)</pre></div></div></div></div></div>"
      ],
      "text/plain": [
       "SGDClassifier(early_stopping=True, l1_ratio=0.2, loss='log_loss',\n",
       "              penalty='elasticnet', random_state=0)"
      ]
     },
     "execution_count": 31,
     "metadata": {},
     "output_type": "execute_result"
    }
   ],
   "source": [
    "# Initialize best SGDClasssifer\n",
    "best_params = {'alpha': 0.0001, 'class_weight': None, 'l1_ratio': 0.2, 'loss': 'log_loss'}\n",
    "classifier = SGDClassifier(penalty=\"elasticnet\", random_state=RANDOM_SEED, early_stopping=True)\n",
    "classifier.set_params(**best_params)"
   ]
  },
  {
   "cell_type": "code",
   "execution_count": null,
   "id": "3eN1BkepWFa-",
   "metadata": {
    "colab": {
     "base_uri": "https://localhost:8080/",
     "height": 92
    },
    "id": "3eN1BkepWFa-",
    "outputId": "4801350d-f60d-4425-c630-d8228189adf5"
   },
   "outputs": [
    {
     "data": {
      "text/html": [
       "<style>#sk-container-id-5 {color: black;background-color: white;}#sk-container-id-5 pre{padding: 0;}#sk-container-id-5 div.sk-toggleable {background-color: white;}#sk-container-id-5 label.sk-toggleable__label {cursor: pointer;display: block;width: 100%;margin-bottom: 0;padding: 0.3em;box-sizing: border-box;text-align: center;}#sk-container-id-5 label.sk-toggleable__label-arrow:before {content: \"▸\";float: left;margin-right: 0.25em;color: #696969;}#sk-container-id-5 label.sk-toggleable__label-arrow:hover:before {color: black;}#sk-container-id-5 div.sk-estimator:hover label.sk-toggleable__label-arrow:before {color: black;}#sk-container-id-5 div.sk-toggleable__content {max-height: 0;max-width: 0;overflow: hidden;text-align: left;background-color: #f0f8ff;}#sk-container-id-5 div.sk-toggleable__content pre {margin: 0.2em;color: black;border-radius: 0.25em;background-color: #f0f8ff;}#sk-container-id-5 input.sk-toggleable__control:checked~div.sk-toggleable__content {max-height: 200px;max-width: 100%;overflow: auto;}#sk-container-id-5 input.sk-toggleable__control:checked~label.sk-toggleable__label-arrow:before {content: \"▾\";}#sk-container-id-5 div.sk-estimator input.sk-toggleable__control:checked~label.sk-toggleable__label {background-color: #d4ebff;}#sk-container-id-5 div.sk-label input.sk-toggleable__control:checked~label.sk-toggleable__label {background-color: #d4ebff;}#sk-container-id-5 input.sk-hidden--visually {border: 0;clip: rect(1px 1px 1px 1px);clip: rect(1px, 1px, 1px, 1px);height: 1px;margin: -1px;overflow: hidden;padding: 0;position: absolute;width: 1px;}#sk-container-id-5 div.sk-estimator {font-family: monospace;background-color: #f0f8ff;border: 1px dotted black;border-radius: 0.25em;box-sizing: border-box;margin-bottom: 0.5em;}#sk-container-id-5 div.sk-estimator:hover {background-color: #d4ebff;}#sk-container-id-5 div.sk-parallel-item::after {content: \"\";width: 100%;border-bottom: 1px solid gray;flex-grow: 1;}#sk-container-id-5 div.sk-label:hover label.sk-toggleable__label {background-color: #d4ebff;}#sk-container-id-5 div.sk-serial::before {content: \"\";position: absolute;border-left: 1px solid gray;box-sizing: border-box;top: 0;bottom: 0;left: 50%;z-index: 0;}#sk-container-id-5 div.sk-serial {display: flex;flex-direction: column;align-items: center;background-color: white;padding-right: 0.2em;padding-left: 0.2em;position: relative;}#sk-container-id-5 div.sk-item {position: relative;z-index: 1;}#sk-container-id-5 div.sk-parallel {display: flex;align-items: stretch;justify-content: center;background-color: white;position: relative;}#sk-container-id-5 div.sk-item::before, #sk-container-id-5 div.sk-parallel-item::before {content: \"\";position: absolute;border-left: 1px solid gray;box-sizing: border-box;top: 0;bottom: 0;left: 50%;z-index: -1;}#sk-container-id-5 div.sk-parallel-item {display: flex;flex-direction: column;z-index: 1;position: relative;background-color: white;}#sk-container-id-5 div.sk-parallel-item:first-child::after {align-self: flex-end;width: 50%;}#sk-container-id-5 div.sk-parallel-item:last-child::after {align-self: flex-start;width: 50%;}#sk-container-id-5 div.sk-parallel-item:only-child::after {width: 0;}#sk-container-id-5 div.sk-dashed-wrapped {border: 1px dashed gray;margin: 0 0.4em 0.5em 0.4em;box-sizing: border-box;padding-bottom: 0.4em;background-color: white;}#sk-container-id-5 div.sk-label label {font-family: monospace;font-weight: bold;display: inline-block;line-height: 1.2em;}#sk-container-id-5 div.sk-label-container {text-align: center;}#sk-container-id-5 div.sk-container {/* jupyter's `normalize.less` sets `[hidden] { display: none; }` but bootstrap.min.css set `[hidden] { display: none !important; }` so we also need the `!important` here to be able to override the default hidden behavior on the sphinx rendered scikit-learn.org. See: https://github.com/scikit-learn/scikit-learn/issues/21755 */display: inline-block !important;position: relative;}#sk-container-id-5 div.sk-text-repr-fallback {display: none;}</style><div id=\"sk-container-id-5\" class=\"sk-top-container\"><div class=\"sk-text-repr-fallback\"><pre>SGDClassifier(early_stopping=True, l1_ratio=0.2, loss=&#x27;log_loss&#x27;,\n",
       "              penalty=&#x27;elasticnet&#x27;, random_state=0)</pre><b>In a Jupyter environment, please rerun this cell to show the HTML representation or trust the notebook. <br />On GitHub, the HTML representation is unable to render, please try loading this page with nbviewer.org.</b></div><div class=\"sk-container\" hidden><div class=\"sk-item\"><div class=\"sk-estimator sk-toggleable\"><input class=\"sk-toggleable__control sk-hidden--visually\" id=\"sk-estimator-id-5\" type=\"checkbox\" checked><label for=\"sk-estimator-id-5\" class=\"sk-toggleable__label sk-toggleable__label-arrow\">SGDClassifier</label><div class=\"sk-toggleable__content\"><pre>SGDClassifier(early_stopping=True, l1_ratio=0.2, loss=&#x27;log_loss&#x27;,\n",
       "              penalty=&#x27;elasticnet&#x27;, random_state=0)</pre></div></div></div></div></div>"
      ],
      "text/plain": [
       "SGDClassifier(early_stopping=True, l1_ratio=0.2, loss='log_loss',\n",
       "              penalty='elasticnet', random_state=0)"
      ]
     },
     "execution_count": 32,
     "metadata": {},
     "output_type": "execute_result"
    }
   ],
   "source": [
    "classifier.fit(train_X, train_y)"
   ]
  },
  {
   "cell_type": "code",
   "execution_count": null,
   "id": "oMOA79xUWFa-",
   "metadata": {
    "id": "oMOA79xUWFa-"
   },
   "outputs": [],
   "source": [
    "# Make predictions by BERT on test\n",
    "tokenizer, model = load_bert(output_hidden_states=True)\n",
    "\n",
    "inputs = test_data['review_text'].apply(lambda x: tokenizer(x, return_tensors=\"pt\"))\n",
    "\n",
    "with torch.no_grad():\n",
    "    logits = inputs.apply(lambda x: model(**x).logits)\n",
    "\n",
    "# Logits by BERT\n",
    "pred_logits = logits.apply(lambda x: x.numpy())\n",
    "vals = pred_logits.apply(lambda x: x[0]).values\n",
    "lst = [[el[i] for i in range(len(el))] for el in vals]\n",
    "pred_logits_bert = np.array(lst)\n",
    "\n",
    "# Logits by BestSGDClassifier\n",
    "pred_logits_sgdclf = classifier.decision_function(test_X)"
   ]
  },
  {
   "cell_type": "code",
   "execution_count": null,
   "id": "v9aV2s4mWFa-",
   "metadata": {
    "id": "v9aV2s4mWFa-"
   },
   "outputs": [],
   "source": [
    "# Find mean prediction and get label\n",
    "mean_total_pred = np.argmax(((pred_logits_bert + pred_logits_sgdclf) / 2), axis=1) + 1\n",
    "\n",
    "# Make Submission_18\n",
    "# public    = 0.87333"
   ]
  },
  {
   "cell_type": "markdown",
   "id": "SLjlIWZr8yGn",
   "metadata": {
    "id": "SLjlIWZr8yGn"
   },
   "source": [
    "### USE_LARGE Embeddings + WEIGHTED_MEAN(BestSGDClassifier & BERT) + CleanlabLabels(model=BERT)[:2500]"
   ]
  },
  {
   "cell_type": "markdown",
   "id": "X-8QwCm88yGo",
   "metadata": {
    "id": "X-8QwCm88yGo"
   },
   "source": [
    "Here we will try to find mean between BERT and BestSGDClassifier predictions."
   ]
  },
  {
   "cell_type": "code",
   "execution_count": null,
   "id": "hAaAAOQm8yGo",
   "metadata": {
    "colab": {
     "base_uri": "https://localhost:8080/"
    },
    "id": "hAaAAOQm8yGo",
    "outputId": "77215f2b-a275-4671-b915-772ee399c5b1"
   },
   "outputs": [
    {
     "data": {
      "text/plain": [
       "((10152, 512), (10152,))"
      ]
     },
     "execution_count": 32,
     "metadata": {},
     "output_type": "execute_result"
    }
   ],
   "source": [
    "issue_idx_by_bert = load_from_pkl(\"issue_idx_by_bert.pkl\")\n",
    "\n",
    "# Train and test data.\n",
    "with tf.device('/device:GPU:0'):\n",
    "    train_X, train_y = get_uselarge_train_X_y(train_df, issue_idx_by_bert[:2500])\n",
    "    test_X = embed_large(test_data['review_text']).numpy()\n",
    "\n",
    "train_X.shape, train_y.shape"
   ]
  },
  {
   "cell_type": "code",
   "execution_count": null,
   "id": "5uPrzBqq8yGo",
   "metadata": {
    "colab": {
     "base_uri": "https://localhost:8080/",
     "height": 92
    },
    "id": "5uPrzBqq8yGo",
    "outputId": "db7abc6f-3946-4172-a895-3fa277851a25"
   },
   "outputs": [
    {
     "data": {
      "text/html": [
       "<style>#sk-container-id-2 {color: black;background-color: white;}#sk-container-id-2 pre{padding: 0;}#sk-container-id-2 div.sk-toggleable {background-color: white;}#sk-container-id-2 label.sk-toggleable__label {cursor: pointer;display: block;width: 100%;margin-bottom: 0;padding: 0.3em;box-sizing: border-box;text-align: center;}#sk-container-id-2 label.sk-toggleable__label-arrow:before {content: \"▸\";float: left;margin-right: 0.25em;color: #696969;}#sk-container-id-2 label.sk-toggleable__label-arrow:hover:before {color: black;}#sk-container-id-2 div.sk-estimator:hover label.sk-toggleable__label-arrow:before {color: black;}#sk-container-id-2 div.sk-toggleable__content {max-height: 0;max-width: 0;overflow: hidden;text-align: left;background-color: #f0f8ff;}#sk-container-id-2 div.sk-toggleable__content pre {margin: 0.2em;color: black;border-radius: 0.25em;background-color: #f0f8ff;}#sk-container-id-2 input.sk-toggleable__control:checked~div.sk-toggleable__content {max-height: 200px;max-width: 100%;overflow: auto;}#sk-container-id-2 input.sk-toggleable__control:checked~label.sk-toggleable__label-arrow:before {content: \"▾\";}#sk-container-id-2 div.sk-estimator input.sk-toggleable__control:checked~label.sk-toggleable__label {background-color: #d4ebff;}#sk-container-id-2 div.sk-label input.sk-toggleable__control:checked~label.sk-toggleable__label {background-color: #d4ebff;}#sk-container-id-2 input.sk-hidden--visually {border: 0;clip: rect(1px 1px 1px 1px);clip: rect(1px, 1px, 1px, 1px);height: 1px;margin: -1px;overflow: hidden;padding: 0;position: absolute;width: 1px;}#sk-container-id-2 div.sk-estimator {font-family: monospace;background-color: #f0f8ff;border: 1px dotted black;border-radius: 0.25em;box-sizing: border-box;margin-bottom: 0.5em;}#sk-container-id-2 div.sk-estimator:hover {background-color: #d4ebff;}#sk-container-id-2 div.sk-parallel-item::after {content: \"\";width: 100%;border-bottom: 1px solid gray;flex-grow: 1;}#sk-container-id-2 div.sk-label:hover label.sk-toggleable__label {background-color: #d4ebff;}#sk-container-id-2 div.sk-serial::before {content: \"\";position: absolute;border-left: 1px solid gray;box-sizing: border-box;top: 0;bottom: 0;left: 50%;z-index: 0;}#sk-container-id-2 div.sk-serial {display: flex;flex-direction: column;align-items: center;background-color: white;padding-right: 0.2em;padding-left: 0.2em;position: relative;}#sk-container-id-2 div.sk-item {position: relative;z-index: 1;}#sk-container-id-2 div.sk-parallel {display: flex;align-items: stretch;justify-content: center;background-color: white;position: relative;}#sk-container-id-2 div.sk-item::before, #sk-container-id-2 div.sk-parallel-item::before {content: \"\";position: absolute;border-left: 1px solid gray;box-sizing: border-box;top: 0;bottom: 0;left: 50%;z-index: -1;}#sk-container-id-2 div.sk-parallel-item {display: flex;flex-direction: column;z-index: 1;position: relative;background-color: white;}#sk-container-id-2 div.sk-parallel-item:first-child::after {align-self: flex-end;width: 50%;}#sk-container-id-2 div.sk-parallel-item:last-child::after {align-self: flex-start;width: 50%;}#sk-container-id-2 div.sk-parallel-item:only-child::after {width: 0;}#sk-container-id-2 div.sk-dashed-wrapped {border: 1px dashed gray;margin: 0 0.4em 0.5em 0.4em;box-sizing: border-box;padding-bottom: 0.4em;background-color: white;}#sk-container-id-2 div.sk-label label {font-family: monospace;font-weight: bold;display: inline-block;line-height: 1.2em;}#sk-container-id-2 div.sk-label-container {text-align: center;}#sk-container-id-2 div.sk-container {/* jupyter's `normalize.less` sets `[hidden] { display: none; }` but bootstrap.min.css set `[hidden] { display: none !important; }` so we also need the `!important` here to be able to override the default hidden behavior on the sphinx rendered scikit-learn.org. See: https://github.com/scikit-learn/scikit-learn/issues/21755 */display: inline-block !important;position: relative;}#sk-container-id-2 div.sk-text-repr-fallback {display: none;}</style><div id=\"sk-container-id-2\" class=\"sk-top-container\"><div class=\"sk-text-repr-fallback\"><pre>SGDClassifier(early_stopping=True, l1_ratio=0.2, loss=&#x27;log_loss&#x27;,\n",
       "              penalty=&#x27;elasticnet&#x27;, random_state=0)</pre><b>In a Jupyter environment, please rerun this cell to show the HTML representation or trust the notebook. <br />On GitHub, the HTML representation is unable to render, please try loading this page with nbviewer.org.</b></div><div class=\"sk-container\" hidden><div class=\"sk-item\"><div class=\"sk-estimator sk-toggleable\"><input class=\"sk-toggleable__control sk-hidden--visually\" id=\"sk-estimator-id-4\" type=\"checkbox\" checked><label for=\"sk-estimator-id-4\" class=\"sk-toggleable__label sk-toggleable__label-arrow\">SGDClassifier</label><div class=\"sk-toggleable__content\"><pre>SGDClassifier(early_stopping=True, l1_ratio=0.2, loss=&#x27;log_loss&#x27;,\n",
       "              penalty=&#x27;elasticnet&#x27;, random_state=0)</pre></div></div></div></div></div>"
      ],
      "text/plain": [
       "SGDClassifier(early_stopping=True, l1_ratio=0.2, loss='log_loss',\n",
       "              penalty='elasticnet', random_state=0)"
      ]
     },
     "execution_count": 33,
     "metadata": {},
     "output_type": "execute_result"
    }
   ],
   "source": [
    "# Initialize best SGDClasssifer\n",
    "best_params = {'alpha': 0.0001, 'class_weight': None, 'l1_ratio': 0.2, 'loss': 'log_loss'}\n",
    "classifier = SGDClassifier(penalty=\"elasticnet\", random_state=RANDOM_SEED, early_stopping=True)\n",
    "classifier.set_params(**best_params)"
   ]
  },
  {
   "cell_type": "code",
   "execution_count": null,
   "id": "zKUqbE_O8yGo",
   "metadata": {
    "colab": {
     "base_uri": "https://localhost:8080/",
     "height": 92
    },
    "id": "zKUqbE_O8yGo",
    "outputId": "2ec84b0e-54b9-45ec-92c0-187deda5d019"
   },
   "outputs": [
    {
     "data": {
      "text/html": [
       "<style>#sk-container-id-3 {color: black;background-color: white;}#sk-container-id-3 pre{padding: 0;}#sk-container-id-3 div.sk-toggleable {background-color: white;}#sk-container-id-3 label.sk-toggleable__label {cursor: pointer;display: block;width: 100%;margin-bottom: 0;padding: 0.3em;box-sizing: border-box;text-align: center;}#sk-container-id-3 label.sk-toggleable__label-arrow:before {content: \"▸\";float: left;margin-right: 0.25em;color: #696969;}#sk-container-id-3 label.sk-toggleable__label-arrow:hover:before {color: black;}#sk-container-id-3 div.sk-estimator:hover label.sk-toggleable__label-arrow:before {color: black;}#sk-container-id-3 div.sk-toggleable__content {max-height: 0;max-width: 0;overflow: hidden;text-align: left;background-color: #f0f8ff;}#sk-container-id-3 div.sk-toggleable__content pre {margin: 0.2em;color: black;border-radius: 0.25em;background-color: #f0f8ff;}#sk-container-id-3 input.sk-toggleable__control:checked~div.sk-toggleable__content {max-height: 200px;max-width: 100%;overflow: auto;}#sk-container-id-3 input.sk-toggleable__control:checked~label.sk-toggleable__label-arrow:before {content: \"▾\";}#sk-container-id-3 div.sk-estimator input.sk-toggleable__control:checked~label.sk-toggleable__label {background-color: #d4ebff;}#sk-container-id-3 div.sk-label input.sk-toggleable__control:checked~label.sk-toggleable__label {background-color: #d4ebff;}#sk-container-id-3 input.sk-hidden--visually {border: 0;clip: rect(1px 1px 1px 1px);clip: rect(1px, 1px, 1px, 1px);height: 1px;margin: -1px;overflow: hidden;padding: 0;position: absolute;width: 1px;}#sk-container-id-3 div.sk-estimator {font-family: monospace;background-color: #f0f8ff;border: 1px dotted black;border-radius: 0.25em;box-sizing: border-box;margin-bottom: 0.5em;}#sk-container-id-3 div.sk-estimator:hover {background-color: #d4ebff;}#sk-container-id-3 div.sk-parallel-item::after {content: \"\";width: 100%;border-bottom: 1px solid gray;flex-grow: 1;}#sk-container-id-3 div.sk-label:hover label.sk-toggleable__label {background-color: #d4ebff;}#sk-container-id-3 div.sk-serial::before {content: \"\";position: absolute;border-left: 1px solid gray;box-sizing: border-box;top: 0;bottom: 0;left: 50%;z-index: 0;}#sk-container-id-3 div.sk-serial {display: flex;flex-direction: column;align-items: center;background-color: white;padding-right: 0.2em;padding-left: 0.2em;position: relative;}#sk-container-id-3 div.sk-item {position: relative;z-index: 1;}#sk-container-id-3 div.sk-parallel {display: flex;align-items: stretch;justify-content: center;background-color: white;position: relative;}#sk-container-id-3 div.sk-item::before, #sk-container-id-3 div.sk-parallel-item::before {content: \"\";position: absolute;border-left: 1px solid gray;box-sizing: border-box;top: 0;bottom: 0;left: 50%;z-index: -1;}#sk-container-id-3 div.sk-parallel-item {display: flex;flex-direction: column;z-index: 1;position: relative;background-color: white;}#sk-container-id-3 div.sk-parallel-item:first-child::after {align-self: flex-end;width: 50%;}#sk-container-id-3 div.sk-parallel-item:last-child::after {align-self: flex-start;width: 50%;}#sk-container-id-3 div.sk-parallel-item:only-child::after {width: 0;}#sk-container-id-3 div.sk-dashed-wrapped {border: 1px dashed gray;margin: 0 0.4em 0.5em 0.4em;box-sizing: border-box;padding-bottom: 0.4em;background-color: white;}#sk-container-id-3 div.sk-label label {font-family: monospace;font-weight: bold;display: inline-block;line-height: 1.2em;}#sk-container-id-3 div.sk-label-container {text-align: center;}#sk-container-id-3 div.sk-container {/* jupyter's `normalize.less` sets `[hidden] { display: none; }` but bootstrap.min.css set `[hidden] { display: none !important; }` so we also need the `!important` here to be able to override the default hidden behavior on the sphinx rendered scikit-learn.org. See: https://github.com/scikit-learn/scikit-learn/issues/21755 */display: inline-block !important;position: relative;}#sk-container-id-3 div.sk-text-repr-fallback {display: none;}</style><div id=\"sk-container-id-3\" class=\"sk-top-container\"><div class=\"sk-text-repr-fallback\"><pre>SGDClassifier(early_stopping=True, l1_ratio=0.2, loss=&#x27;log_loss&#x27;,\n",
       "              penalty=&#x27;elasticnet&#x27;, random_state=0)</pre><b>In a Jupyter environment, please rerun this cell to show the HTML representation or trust the notebook. <br />On GitHub, the HTML representation is unable to render, please try loading this page with nbviewer.org.</b></div><div class=\"sk-container\" hidden><div class=\"sk-item\"><div class=\"sk-estimator sk-toggleable\"><input class=\"sk-toggleable__control sk-hidden--visually\" id=\"sk-estimator-id-5\" type=\"checkbox\" checked><label for=\"sk-estimator-id-5\" class=\"sk-toggleable__label sk-toggleable__label-arrow\">SGDClassifier</label><div class=\"sk-toggleable__content\"><pre>SGDClassifier(early_stopping=True, l1_ratio=0.2, loss=&#x27;log_loss&#x27;,\n",
       "              penalty=&#x27;elasticnet&#x27;, random_state=0)</pre></div></div></div></div></div>"
      ],
      "text/plain": [
       "SGDClassifier(early_stopping=True, l1_ratio=0.2, loss='log_loss',\n",
       "              penalty='elasticnet', random_state=0)"
      ]
     },
     "execution_count": 34,
     "metadata": {},
     "output_type": "execute_result"
    }
   ],
   "source": [
    "classifier.fit(train_X, train_y)"
   ]
  },
  {
   "cell_type": "code",
   "execution_count": null,
   "id": "plq91VLp8yGo",
   "metadata": {
    "id": "plq91VLp8yGo"
   },
   "outputs": [],
   "source": [
    "# Make predictions by BERT on test\n",
    "tokenizer, model = load_bert(output_hidden_states=True)\n",
    "\n",
    "inputs = test_data['review_text'].apply(lambda x: tokenizer(x, return_tensors=\"pt\"))\n",
    "\n",
    "with torch.no_grad():\n",
    "    logits = inputs.apply(lambda x: model(**x).logits)\n",
    "\n",
    "# Logits by BERT\n",
    "pred_logits = logits.apply(lambda x: x.numpy())\n",
    "vals = pred_logits.apply(lambda x: x[0]).values\n",
    "lst = [[el[i] for i in range(len(el))] for el in vals]\n",
    "pred_logits_bert = np.array(lst)\n",
    "\n",
    "# Logits by BestSGDClassifier\n",
    "pred_logits_sgdclf = classifier.decision_function(test_X)"
   ]
  },
  {
   "cell_type": "code",
   "execution_count": null,
   "id": "kW1ZDgj89OMn",
   "metadata": {
    "id": "kW1ZDgj89OMn"
   },
   "outputs": [],
   "source": [
    "for i in range(11):\n",
    "    bert_weight  = i * 0.1\n",
    "    clf_weight = 1 - bert_weight\n",
    "\n",
    "    sum_pred = np.argmax((bert_weight*pred_logits_bert + clf_weight*pred_logits_sgdclf), axis=1) + 1\n",
    "    pd.Series(sum_pred, name='label').to_csv(f'{PATH}/Submissions/submission_25_{bert_weight}-and-{clf_weight}.csv', index=False)\n",
    "\n",
    "# submission_25_0.0-and-1.0 - 0.84000 (only BestSGDClassifier)\n",
    "# submission_25_0.1-and-0.9 - 0.84667\n",
    "# submission_25_0.2-and-0.8 - 0.85333\n",
    "# submission_25_0.3-and-0.7 - 0.85333\n",
    "## submission_25_0.4-and-0.6 - 0.86667\n",
    "### submission_25_0.5-and-0.5 - 0.87333\n",
    "## submission_25_0.6-and-0.4 - 0.86000\n",
    "# submission_25_0.7-and-0.3 - 0.84667\n",
    "# submission_25_0.8-and-0.2 - 0.84667\n",
    "# submission_25_0.9-and-0.1 - 0.83333\n",
    "# submission_25_1.0-and-0.0 - 0.81333 (only BERT)"
   ]
  },
  {
   "cell_type": "markdown",
   "id": "8I52Bs_YZiHb",
   "metadata": {
    "id": "8I52Bs_YZiHb"
   },
   "source": [
    "### USE_LARGE Embeddings + SGDClassifier_GCV + CleanlabLabels(model=BERT)[:2500]"
   ]
  },
  {
   "cell_type": "markdown",
   "id": "ZS8rL5OJaKe1",
   "metadata": {
    "id": "ZS8rL5OJaKe1"
   },
   "source": [
    "Here we will try to find best hyperparameters for SGDClassifier."
   ]
  },
  {
   "cell_type": "code",
   "execution_count": null,
   "id": "LjauQ6VeZ8FM",
   "metadata": {
    "colab": {
     "base_uri": "https://localhost:8080/"
    },
    "id": "LjauQ6VeZ8FM",
    "outputId": "40f0de75-5a5a-4fa8-f204-d358faea5a33"
   },
   "outputs": [
    {
     "data": {
      "text/plain": [
       "((10152, 512), (10152,))"
      ]
     },
     "execution_count": 37,
     "metadata": {},
     "output_type": "execute_result"
    }
   ],
   "source": [
    "issue_idx_by_bert = load_from_pkl(\"issue_idx_by_bert.pkl\")\n",
    "\n",
    "# Training data.\n",
    "train_X, train_y = get_uselarge_train_X_y(train_df, issue_idx_by_bert[:2500])\n",
    "\n",
    "# Test data\n",
    "test_X = embed_large(test_data['review_text']).numpy()\n",
    "\n",
    "train_X.shape, train_y.shape"
   ]
  },
  {
   "cell_type": "code",
   "execution_count": null,
   "id": "Vj0m9rjmZ8FM",
   "metadata": {
    "colab": {
     "base_uri": "https://localhost:8080/"
    },
    "id": "Vj0m9rjmZ8FM",
    "outputId": "3ba94930-1b45-4051-c449-2e8f405b377d"
   },
   "outputs": [
    {
     "name": "stdout",
     "output_type": "stream",
     "text": [
      "SGDClassifier_default on large embeddings (10-fold cv): 0.7851688483675445\n"
     ]
    }
   ],
   "source": [
    "# Without GridSearch\n",
    "print(\"SGDClassifier_default on large embeddings (10-fold cv):\", cross_val_score(SGDClassifier(random_state=RANDOM_SEED), train_X, train_y, cv=10).mean())"
   ]
  },
  {
   "cell_type": "markdown",
   "id": "ooRu6cYYbpzm",
   "metadata": {
    "id": "ooRu6cYYbpzm"
   },
   "source": [
    "Accuracy of default model on large embeddings is higher then accuracy of default model fitted on ordinal embeddings."
   ]
  },
  {
   "cell_type": "code",
   "execution_count": null,
   "id": "JQO86Zw5Z8FM",
   "metadata": {
    "colab": {
     "base_uri": "https://localhost:8080/",
     "height": 117
    },
    "id": "JQO86Zw5Z8FM",
    "outputId": "9304cc46-2750-44ed-aee8-7fa87f82585f"
   },
   "outputs": [
    {
     "data": {
      "text/html": [
       "<style>#sk-container-id-6 {color: black;background-color: white;}#sk-container-id-6 pre{padding: 0;}#sk-container-id-6 div.sk-toggleable {background-color: white;}#sk-container-id-6 label.sk-toggleable__label {cursor: pointer;display: block;width: 100%;margin-bottom: 0;padding: 0.3em;box-sizing: border-box;text-align: center;}#sk-container-id-6 label.sk-toggleable__label-arrow:before {content: \"▸\";float: left;margin-right: 0.25em;color: #696969;}#sk-container-id-6 label.sk-toggleable__label-arrow:hover:before {color: black;}#sk-container-id-6 div.sk-estimator:hover label.sk-toggleable__label-arrow:before {color: black;}#sk-container-id-6 div.sk-toggleable__content {max-height: 0;max-width: 0;overflow: hidden;text-align: left;background-color: #f0f8ff;}#sk-container-id-6 div.sk-toggleable__content pre {margin: 0.2em;color: black;border-radius: 0.25em;background-color: #f0f8ff;}#sk-container-id-6 input.sk-toggleable__control:checked~div.sk-toggleable__content {max-height: 200px;max-width: 100%;overflow: auto;}#sk-container-id-6 input.sk-toggleable__control:checked~label.sk-toggleable__label-arrow:before {content: \"▾\";}#sk-container-id-6 div.sk-estimator input.sk-toggleable__control:checked~label.sk-toggleable__label {background-color: #d4ebff;}#sk-container-id-6 div.sk-label input.sk-toggleable__control:checked~label.sk-toggleable__label {background-color: #d4ebff;}#sk-container-id-6 input.sk-hidden--visually {border: 0;clip: rect(1px 1px 1px 1px);clip: rect(1px, 1px, 1px, 1px);height: 1px;margin: -1px;overflow: hidden;padding: 0;position: absolute;width: 1px;}#sk-container-id-6 div.sk-estimator {font-family: monospace;background-color: #f0f8ff;border: 1px dotted black;border-radius: 0.25em;box-sizing: border-box;margin-bottom: 0.5em;}#sk-container-id-6 div.sk-estimator:hover {background-color: #d4ebff;}#sk-container-id-6 div.sk-parallel-item::after {content: \"\";width: 100%;border-bottom: 1px solid gray;flex-grow: 1;}#sk-container-id-6 div.sk-label:hover label.sk-toggleable__label {background-color: #d4ebff;}#sk-container-id-6 div.sk-serial::before {content: \"\";position: absolute;border-left: 1px solid gray;box-sizing: border-box;top: 0;bottom: 0;left: 50%;z-index: 0;}#sk-container-id-6 div.sk-serial {display: flex;flex-direction: column;align-items: center;background-color: white;padding-right: 0.2em;padding-left: 0.2em;position: relative;}#sk-container-id-6 div.sk-item {position: relative;z-index: 1;}#sk-container-id-6 div.sk-parallel {display: flex;align-items: stretch;justify-content: center;background-color: white;position: relative;}#sk-container-id-6 div.sk-item::before, #sk-container-id-6 div.sk-parallel-item::before {content: \"\";position: absolute;border-left: 1px solid gray;box-sizing: border-box;top: 0;bottom: 0;left: 50%;z-index: -1;}#sk-container-id-6 div.sk-parallel-item {display: flex;flex-direction: column;z-index: 1;position: relative;background-color: white;}#sk-container-id-6 div.sk-parallel-item:first-child::after {align-self: flex-end;width: 50%;}#sk-container-id-6 div.sk-parallel-item:last-child::after {align-self: flex-start;width: 50%;}#sk-container-id-6 div.sk-parallel-item:only-child::after {width: 0;}#sk-container-id-6 div.sk-dashed-wrapped {border: 1px dashed gray;margin: 0 0.4em 0.5em 0.4em;box-sizing: border-box;padding-bottom: 0.4em;background-color: white;}#sk-container-id-6 div.sk-label label {font-family: monospace;font-weight: bold;display: inline-block;line-height: 1.2em;}#sk-container-id-6 div.sk-label-container {text-align: center;}#sk-container-id-6 div.sk-container {/* jupyter's `normalize.less` sets `[hidden] { display: none; }` but bootstrap.min.css set `[hidden] { display: none !important; }` so we also need the `!important` here to be able to override the default hidden behavior on the sphinx rendered scikit-learn.org. See: https://github.com/scikit-learn/scikit-learn/issues/21755 */display: inline-block !important;position: relative;}#sk-container-id-6 div.sk-text-repr-fallback {display: none;}</style><div id=\"sk-container-id-6\" class=\"sk-top-container\"><div class=\"sk-text-repr-fallback\"><pre>GridSearchCV(estimator=SGDClassifier(early_stopping=True, n_jobs=-1,\n",
       "                                     penalty=&#x27;elasticnet&#x27;, random_state=0),\n",
       "             n_jobs=-1,\n",
       "             param_grid={&#x27;alpha&#x27;: [0.0001, 0.001, 0.01, 1, 10, 100],\n",
       "                         &#x27;class_weight&#x27;: [None, &#x27;balanced&#x27;],\n",
       "                         &#x27;l1_ratio&#x27;: [0.2, 0.5, 0.8],\n",
       "                         &#x27;loss&#x27;: [&#x27;hinge&#x27;, &#x27;log_loss&#x27;, &#x27;perceptron&#x27;]},\n",
       "             scoring=&#x27;accuracy&#x27;)</pre><b>In a Jupyter environment, please rerun this cell to show the HTML representation or trust the notebook. <br />On GitHub, the HTML representation is unable to render, please try loading this page with nbviewer.org.</b></div><div class=\"sk-container\" hidden><div class=\"sk-item sk-dashed-wrapped\"><div class=\"sk-label-container\"><div class=\"sk-label sk-toggleable\"><input class=\"sk-toggleable__control sk-hidden--visually\" id=\"sk-estimator-id-6\" type=\"checkbox\" ><label for=\"sk-estimator-id-6\" class=\"sk-toggleable__label sk-toggleable__label-arrow\">GridSearchCV</label><div class=\"sk-toggleable__content\"><pre>GridSearchCV(estimator=SGDClassifier(early_stopping=True, n_jobs=-1,\n",
       "                                     penalty=&#x27;elasticnet&#x27;, random_state=0),\n",
       "             n_jobs=-1,\n",
       "             param_grid={&#x27;alpha&#x27;: [0.0001, 0.001, 0.01, 1, 10, 100],\n",
       "                         &#x27;class_weight&#x27;: [None, &#x27;balanced&#x27;],\n",
       "                         &#x27;l1_ratio&#x27;: [0.2, 0.5, 0.8],\n",
       "                         &#x27;loss&#x27;: [&#x27;hinge&#x27;, &#x27;log_loss&#x27;, &#x27;perceptron&#x27;]},\n",
       "             scoring=&#x27;accuracy&#x27;)</pre></div></div></div><div class=\"sk-parallel\"><div class=\"sk-parallel-item\"><div class=\"sk-item\"><div class=\"sk-label-container\"><div class=\"sk-label sk-toggleable\"><input class=\"sk-toggleable__control sk-hidden--visually\" id=\"sk-estimator-id-7\" type=\"checkbox\" ><label for=\"sk-estimator-id-7\" class=\"sk-toggleable__label sk-toggleable__label-arrow\">estimator: SGDClassifier</label><div class=\"sk-toggleable__content\"><pre>SGDClassifier(early_stopping=True, n_jobs=-1, penalty=&#x27;elasticnet&#x27;,\n",
       "              random_state=0)</pre></div></div></div><div class=\"sk-serial\"><div class=\"sk-item\"><div class=\"sk-estimator sk-toggleable\"><input class=\"sk-toggleable__control sk-hidden--visually\" id=\"sk-estimator-id-8\" type=\"checkbox\" ><label for=\"sk-estimator-id-8\" class=\"sk-toggleable__label sk-toggleable__label-arrow\">SGDClassifier</label><div class=\"sk-toggleable__content\"><pre>SGDClassifier(early_stopping=True, n_jobs=-1, penalty=&#x27;elasticnet&#x27;,\n",
       "              random_state=0)</pre></div></div></div></div></div></div></div></div></div></div>"
      ],
      "text/plain": [
       "GridSearchCV(estimator=SGDClassifier(early_stopping=True, n_jobs=-1,\n",
       "                                     penalty='elasticnet', random_state=0),\n",
       "             n_jobs=-1,\n",
       "             param_grid={'alpha': [0.0001, 0.001, 0.01, 1, 10, 100],\n",
       "                         'class_weight': [None, 'balanced'],\n",
       "                         'l1_ratio': [0.2, 0.5, 0.8],\n",
       "                         'loss': ['hinge', 'log_loss', 'perceptron']},\n",
       "             scoring='accuracy')"
      ]
     },
     "execution_count": 40,
     "metadata": {},
     "output_type": "execute_result"
    }
   ],
   "source": [
    "# First GridSearch\n",
    "\n",
    "classifier = SGDClassifier(penalty=\"elasticnet\", random_state=RANDOM_SEED, early_stopping=True, n_jobs=-1)\n",
    "\n",
    "param_grid = {\n",
    "    \"loss\": [\"hinge\", \"log_loss\", \"perceptron\"],\n",
    "    \"alpha\": [0.0001, 0.001, 0.01, 1, 10, 100], \n",
    "    \"l1_ratio\": [0.2, 0.5, 0.8],\n",
    "    \"class_weight\": [None, \"balanced\"]\n",
    "}\n",
    "\n",
    "gcv5 = GridSearchCV(classifier, param_grid, scoring=\"accuracy\", n_jobs=-1)\n",
    "\n",
    "gcv5.fit(train_X, train_y)"
   ]
  },
  {
   "cell_type": "code",
   "execution_count": null,
   "id": "O0wlaqN2Z8FM",
   "metadata": {
    "colab": {
     "base_uri": "https://localhost:8080/"
    },
    "id": "O0wlaqN2Z8FM",
    "outputId": "f9e5dc51-61a0-488a-d11f-73194be3213a"
   },
   "outputs": [
    {
     "name": "stdout",
     "output_type": "stream",
     "text": [
      "Best params {'alpha': 0.0001, 'class_weight': 'balanced', 'l1_ratio': 0.2, 'loss': 'log_loss'}\n",
      "Best score 0.7886181914318215\n",
      "Std 0.023937773761703245\n",
      "Successfully safed to gcv5.pkl\n"
     ]
    }
   ],
   "source": [
    "print(\"Best params\", gcv5.best_params_)\n",
    "print(\"Best score\", gcv5.best_score_)\n",
    "print(\"Std\", pd.DataFrame(gcv5.cv_results_) .loc[gcv5.best_index_, :].std_test_score)\n",
    "\n",
    "save_to_pkl(gcv5, \"gcv5.pkl\")"
   ]
  },
  {
   "cell_type": "code",
   "execution_count": null,
   "id": "oLTCGfGXcxRz",
   "metadata": {
    "id": "oLTCGfGXcxRz"
   },
   "outputs": [],
   "source": [
    "test_preds = gcv5.predict(test_X)\n",
    "# Make submisson 19\n",
    "# 5-fold-cv = 0.78861\n",
    "# public    = 0.80667"
   ]
  },
  {
   "cell_type": "markdown",
   "id": "2NMCdtwZwdME",
   "metadata": {
    "id": "2NMCdtwZwdME"
   },
   "source": [
    "And now lets try to find best hyperparameters on the full dataset and only then fit final model on the clean dataset."
   ]
  },
  {
   "cell_type": "code",
   "execution_count": null,
   "id": "5SK6MBloxkyk",
   "metadata": {
    "colab": {
     "base_uri": "https://localhost:8080/"
    },
    "id": "5SK6MBloxkyk",
    "outputId": "808a03ea-32f9-4f86-c7a9-2b0ef9c7df51"
   },
   "outputs": [
    {
     "data": {
      "text/plain": [
       "((12652, 512), (12652,))"
      ]
     },
     "execution_count": 16,
     "metadata": {},
     "output_type": "execute_result"
    }
   ],
   "source": [
    "issue_idx_by_bert = load_from_pkl(\"issue_idx_by_bert.pkl\")\n",
    "\n",
    "# Trainand test data data.\n",
    "with tf.device('/device:GPU:0'):\n",
    "    train_X, train_y = get_uselarge_train_X_y(train_df, [])\n",
    "    train_X_clean, train_y_clean = get_uselarge_train_X_y(train_df, issue_idx_by_bert[:2500])\n",
    "    test_X = embed_large(test_data['review_text']).numpy()\n",
    "\n",
    "train_X.shape, train_y.shape"
   ]
  },
  {
   "cell_type": "code",
   "execution_count": null,
   "id": "nCRl00jmxkyk",
   "metadata": {
    "colab": {
     "base_uri": "https://localhost:8080/"
    },
    "id": "nCRl00jmxkyk",
    "outputId": "2b0076e3-fb03-4029-fced-9d76d24430ad"
   },
   "outputs": [
    {
     "name": "stdout",
     "output_type": "stream",
     "text": [
      "SGDClassifier_default on large embeddings (10-fold cv): 0.6670157790557543\n"
     ]
    }
   ],
   "source": [
    "# Without GridSearch\n",
    "print(\"SGDClassifier_default on large embeddings (10-fold cv):\", cross_val_score(SGDClassifier(random_state=RANDOM_SEED), train_X, train_y, cv=10).mean())"
   ]
  },
  {
   "cell_type": "code",
   "execution_count": null,
   "id": "nGyHOH8qxkyl",
   "metadata": {
    "colab": {
     "base_uri": "https://localhost:8080/",
     "height": 117
    },
    "id": "nGyHOH8qxkyl",
    "outputId": "ac41746c-d711-46ba-98df-e556e25be791"
   },
   "outputs": [
    {
     "data": {
      "text/html": [
       "<style>#sk-container-id-1 {color: black;background-color: white;}#sk-container-id-1 pre{padding: 0;}#sk-container-id-1 div.sk-toggleable {background-color: white;}#sk-container-id-1 label.sk-toggleable__label {cursor: pointer;display: block;width: 100%;margin-bottom: 0;padding: 0.3em;box-sizing: border-box;text-align: center;}#sk-container-id-1 label.sk-toggleable__label-arrow:before {content: \"▸\";float: left;margin-right: 0.25em;color: #696969;}#sk-container-id-1 label.sk-toggleable__label-arrow:hover:before {color: black;}#sk-container-id-1 div.sk-estimator:hover label.sk-toggleable__label-arrow:before {color: black;}#sk-container-id-1 div.sk-toggleable__content {max-height: 0;max-width: 0;overflow: hidden;text-align: left;background-color: #f0f8ff;}#sk-container-id-1 div.sk-toggleable__content pre {margin: 0.2em;color: black;border-radius: 0.25em;background-color: #f0f8ff;}#sk-container-id-1 input.sk-toggleable__control:checked~div.sk-toggleable__content {max-height: 200px;max-width: 100%;overflow: auto;}#sk-container-id-1 input.sk-toggleable__control:checked~label.sk-toggleable__label-arrow:before {content: \"▾\";}#sk-container-id-1 div.sk-estimator input.sk-toggleable__control:checked~label.sk-toggleable__label {background-color: #d4ebff;}#sk-container-id-1 div.sk-label input.sk-toggleable__control:checked~label.sk-toggleable__label {background-color: #d4ebff;}#sk-container-id-1 input.sk-hidden--visually {border: 0;clip: rect(1px 1px 1px 1px);clip: rect(1px, 1px, 1px, 1px);height: 1px;margin: -1px;overflow: hidden;padding: 0;position: absolute;width: 1px;}#sk-container-id-1 div.sk-estimator {font-family: monospace;background-color: #f0f8ff;border: 1px dotted black;border-radius: 0.25em;box-sizing: border-box;margin-bottom: 0.5em;}#sk-container-id-1 div.sk-estimator:hover {background-color: #d4ebff;}#sk-container-id-1 div.sk-parallel-item::after {content: \"\";width: 100%;border-bottom: 1px solid gray;flex-grow: 1;}#sk-container-id-1 div.sk-label:hover label.sk-toggleable__label {background-color: #d4ebff;}#sk-container-id-1 div.sk-serial::before {content: \"\";position: absolute;border-left: 1px solid gray;box-sizing: border-box;top: 0;bottom: 0;left: 50%;z-index: 0;}#sk-container-id-1 div.sk-serial {display: flex;flex-direction: column;align-items: center;background-color: white;padding-right: 0.2em;padding-left: 0.2em;position: relative;}#sk-container-id-1 div.sk-item {position: relative;z-index: 1;}#sk-container-id-1 div.sk-parallel {display: flex;align-items: stretch;justify-content: center;background-color: white;position: relative;}#sk-container-id-1 div.sk-item::before, #sk-container-id-1 div.sk-parallel-item::before {content: \"\";position: absolute;border-left: 1px solid gray;box-sizing: border-box;top: 0;bottom: 0;left: 50%;z-index: -1;}#sk-container-id-1 div.sk-parallel-item {display: flex;flex-direction: column;z-index: 1;position: relative;background-color: white;}#sk-container-id-1 div.sk-parallel-item:first-child::after {align-self: flex-end;width: 50%;}#sk-container-id-1 div.sk-parallel-item:last-child::after {align-self: flex-start;width: 50%;}#sk-container-id-1 div.sk-parallel-item:only-child::after {width: 0;}#sk-container-id-1 div.sk-dashed-wrapped {border: 1px dashed gray;margin: 0 0.4em 0.5em 0.4em;box-sizing: border-box;padding-bottom: 0.4em;background-color: white;}#sk-container-id-1 div.sk-label label {font-family: monospace;font-weight: bold;display: inline-block;line-height: 1.2em;}#sk-container-id-1 div.sk-label-container {text-align: center;}#sk-container-id-1 div.sk-container {/* jupyter's `normalize.less` sets `[hidden] { display: none; }` but bootstrap.min.css set `[hidden] { display: none !important; }` so we also need the `!important` here to be able to override the default hidden behavior on the sphinx rendered scikit-learn.org. See: https://github.com/scikit-learn/scikit-learn/issues/21755 */display: inline-block !important;position: relative;}#sk-container-id-1 div.sk-text-repr-fallback {display: none;}</style><div id=\"sk-container-id-1\" class=\"sk-top-container\"><div class=\"sk-text-repr-fallback\"><pre>GridSearchCV(estimator=SGDClassifier(early_stopping=True, n_jobs=-1,\n",
       "                                     penalty=&#x27;elasticnet&#x27;, random_state=0),\n",
       "             n_jobs=-1,\n",
       "             param_grid={&#x27;alpha&#x27;: [0.0001, 0.001, 0.01, 1, 10, 100],\n",
       "                         &#x27;class_weight&#x27;: [None, &#x27;balanced&#x27;],\n",
       "                         &#x27;l1_ratio&#x27;: [0.2, 0.5, 0.8],\n",
       "                         &#x27;loss&#x27;: [&#x27;hinge&#x27;, &#x27;log_loss&#x27;, &#x27;perceptron&#x27;]},\n",
       "             scoring=&#x27;accuracy&#x27;)</pre><b>In a Jupyter environment, please rerun this cell to show the HTML representation or trust the notebook. <br />On GitHub, the HTML representation is unable to render, please try loading this page with nbviewer.org.</b></div><div class=\"sk-container\" hidden><div class=\"sk-item sk-dashed-wrapped\"><div class=\"sk-label-container\"><div class=\"sk-label sk-toggleable\"><input class=\"sk-toggleable__control sk-hidden--visually\" id=\"sk-estimator-id-1\" type=\"checkbox\" ><label for=\"sk-estimator-id-1\" class=\"sk-toggleable__label sk-toggleable__label-arrow\">GridSearchCV</label><div class=\"sk-toggleable__content\"><pre>GridSearchCV(estimator=SGDClassifier(early_stopping=True, n_jobs=-1,\n",
       "                                     penalty=&#x27;elasticnet&#x27;, random_state=0),\n",
       "             n_jobs=-1,\n",
       "             param_grid={&#x27;alpha&#x27;: [0.0001, 0.001, 0.01, 1, 10, 100],\n",
       "                         &#x27;class_weight&#x27;: [None, &#x27;balanced&#x27;],\n",
       "                         &#x27;l1_ratio&#x27;: [0.2, 0.5, 0.8],\n",
       "                         &#x27;loss&#x27;: [&#x27;hinge&#x27;, &#x27;log_loss&#x27;, &#x27;perceptron&#x27;]},\n",
       "             scoring=&#x27;accuracy&#x27;)</pre></div></div></div><div class=\"sk-parallel\"><div class=\"sk-parallel-item\"><div class=\"sk-item\"><div class=\"sk-label-container\"><div class=\"sk-label sk-toggleable\"><input class=\"sk-toggleable__control sk-hidden--visually\" id=\"sk-estimator-id-2\" type=\"checkbox\" ><label for=\"sk-estimator-id-2\" class=\"sk-toggleable__label sk-toggleable__label-arrow\">estimator: SGDClassifier</label><div class=\"sk-toggleable__content\"><pre>SGDClassifier(early_stopping=True, n_jobs=-1, penalty=&#x27;elasticnet&#x27;,\n",
       "              random_state=0)</pre></div></div></div><div class=\"sk-serial\"><div class=\"sk-item\"><div class=\"sk-estimator sk-toggleable\"><input class=\"sk-toggleable__control sk-hidden--visually\" id=\"sk-estimator-id-3\" type=\"checkbox\" ><label for=\"sk-estimator-id-3\" class=\"sk-toggleable__label sk-toggleable__label-arrow\">SGDClassifier</label><div class=\"sk-toggleable__content\"><pre>SGDClassifier(early_stopping=True, n_jobs=-1, penalty=&#x27;elasticnet&#x27;,\n",
       "              random_state=0)</pre></div></div></div></div></div></div></div></div></div></div>"
      ],
      "text/plain": [
       "GridSearchCV(estimator=SGDClassifier(early_stopping=True, n_jobs=-1,\n",
       "                                     penalty='elasticnet', random_state=0),\n",
       "             n_jobs=-1,\n",
       "             param_grid={'alpha': [0.0001, 0.001, 0.01, 1, 10, 100],\n",
       "                         'class_weight': [None, 'balanced'],\n",
       "                         'l1_ratio': [0.2, 0.5, 0.8],\n",
       "                         'loss': ['hinge', 'log_loss', 'perceptron']},\n",
       "             scoring='accuracy')"
      ]
     },
     "execution_count": 18,
     "metadata": {},
     "output_type": "execute_result"
    }
   ],
   "source": [
    "# First GridSearch\n",
    "\n",
    "classifier = SGDClassifier(penalty=\"elasticnet\", random_state=RANDOM_SEED, early_stopping=True, n_jobs=-1)\n",
    "\n",
    "param_grid = {\n",
    "    \"loss\": [\"hinge\", \"log_loss\", \"perceptron\"],\n",
    "    \"alpha\": [0.0001, 0.001, 0.01, 1, 10, 100], \n",
    "    \"l1_ratio\": [0.2, 0.5, 0.8],\n",
    "    \"class_weight\": [None, \"balanced\"]\n",
    "}\n",
    "\n",
    "gcv6 = GridSearchCV(classifier, param_grid, scoring=\"accuracy\", n_jobs=-1)\n",
    "\n",
    "gcv6.fit(train_X, train_y)"
   ]
  },
  {
   "cell_type": "code",
   "execution_count": null,
   "id": "pwjLj8K2xkyl",
   "metadata": {
    "colab": {
     "base_uri": "https://localhost:8080/"
    },
    "id": "pwjLj8K2xkyl",
    "outputId": "819c255d-e088-46f7-bccc-51ae534a02a2"
   },
   "outputs": [
    {
     "name": "stdout",
     "output_type": "stream",
     "text": [
      "Best params {'alpha': 0.0001, 'class_weight': None, 'l1_ratio': 0.5, 'loss': 'log_loss'}\n",
      "Best score 0.6722302890794465\n",
      "Std 0.029211424874064074\n",
      "Successfully safed to gcv6.pkl\n"
     ]
    }
   ],
   "source": [
    "print(\"Best params\", gcv6.best_params_)\n",
    "print(\"Best score\", gcv6.best_score_)\n",
    "print(\"Std\", pd.DataFrame(gcv6.cv_results_) .loc[gcv6.best_index_, :].std_test_score)\n",
    "\n",
    "save_to_pkl(gcv6, \"gcv6.pkl\")"
   ]
  },
  {
   "cell_type": "code",
   "execution_count": null,
   "id": "M4OOR6621BxR",
   "metadata": {
    "id": "M4OOR6621BxR"
   },
   "outputs": [],
   "source": [
    "classifier = SGDClassifier(penalty=\"elasticnet\", random_state=RANDOM_SEED, early_stopping=True, n_jobs=-1)\n",
    "classifier.set_params(**gcv6.best_params_)\n",
    "\n",
    "# Training data.\n",
    "with tf.device('/device:GPU:0'):\n",
    "    train_X_clean, train_y_clean = get_uselarge_train_X_y(train_df, issue_idx_by_bert[:2500])\n",
    "\n",
    "classifier.fit(train_X_clean, train_y_clean)\n",
    "test_preds = classifier.predict(test_X)\n",
    "\n",
    "# Make submisson 23\n",
    "# 5-fold-cv-on-dirty  = 0.67223\n",
    "# 10-fold-cv-on-clean = 0.79167\n",
    "# public              = 0.84000"
   ]
  },
  {
   "cell_type": "code",
   "execution_count": null,
   "id": "FlHv3GyO3yV6",
   "metadata": {
    "colab": {
     "base_uri": "https://localhost:8080/"
    },
    "id": "FlHv3GyO3yV6",
    "outputId": "4b9e2d3d-ad3b-462a-a4c8-2b9def6fb053"
   },
   "outputs": [
    {
     "name": "stdout",
     "output_type": "stream",
     "text": [
      "SGDClassifier on large embeddings (10-fold cv): 0.7916738101702805\n"
     ]
    }
   ],
   "source": [
    "print(\"SGDClassifier on large embeddings (10-fold cv):\", cross_val_score(classifier, train_X_clean, train_y_clean, cv=10).mean())"
   ]
  },
  {
   "cell_type": "markdown",
   "id": "I9Fwuxqh4lwj",
   "metadata": {
    "id": "I9Fwuxqh4lwj"
   },
   "source": [
    "Here we got almost same hyperparameters (excluding l1_ratio) and got same result on public leaderboard as we had with BestSGDClassifier\n",
    "\n"
   ]
  },
  {
   "cell_type": "markdown",
   "id": "6x9jp4bB5Ylc",
   "metadata": {
    "id": "6x9jp4bB5Ylc"
   },
   "source": [
    "### USE_LARGE Embeddings + KNN + CleanlabLabels(model=BERT)[:2500]"
   ]
  },
  {
   "cell_type": "code",
   "execution_count": null,
   "id": "jWmy9lnX57E1",
   "metadata": {
    "colab": {
     "base_uri": "https://localhost:8080/"
    },
    "id": "jWmy9lnX57E1",
    "outputId": "841d799d-0de5-4af3-9086-f9c634c02126"
   },
   "outputs": [
    {
     "data": {
      "text/plain": [
       "((10152, 512), (10152,))"
      ]
     },
     "execution_count": 26,
     "metadata": {},
     "output_type": "execute_result"
    }
   ],
   "source": [
    "issue_idx_by_bert = load_from_pkl(\"issue_idx_by_bert.pkl\")\n",
    "\n",
    "# Train and test data.\n",
    "with tf.device('/device:GPU:0'):\n",
    "    train_X, train_y = get_uselarge_train_X_y(train_df, issue_idx_by_bert[:2500])\n",
    "    test_X = embed_large(test_data['review_text']).numpy()\n",
    "\n",
    "\n",
    "train_X.shape, train_y.shape"
   ]
  },
  {
   "cell_type": "code",
   "execution_count": null,
   "id": "0qDjqwZh57E1",
   "metadata": {
    "colab": {
     "base_uri": "https://localhost:8080/"
    },
    "id": "0qDjqwZh57E1",
    "outputId": "35e03efd-bb96-43ec-f4b6-39ef9dd5e6ee"
   },
   "outputs": [
    {
     "name": "stdout",
     "output_type": "stream",
     "text": [
      "KNN_default on large embeddings (10-fold cv): 0.7160209068693999\n"
     ]
    }
   ],
   "source": [
    "# Without GridSearch\n",
    "print(\"KNN_default on large embeddings (10-fold cv):\", cross_val_score(KNeighborsClassifier(n_jobs=-1), train_X, train_y, cv=10, n_jobs=-1).mean())"
   ]
  },
  {
   "cell_type": "code",
   "execution_count": null,
   "id": "zpH6YPwh7DWM",
   "metadata": {
    "id": "zpH6YPwh7DWM"
   },
   "outputs": [],
   "source": [
    "knn = KNeighborsClassifier(n_jobs=-1)\n",
    "knn.fit(train_X, train_y)\n",
    "test_preds = knn.predict(test_X)\n",
    "\n",
    "# Make submisson 24\n",
    "# 10-fold-cv = 0.71602\n",
    "# public    =  0.75333"
   ]
  },
  {
   "cell_type": "markdown",
   "id": "wgx2s8zeqQB9",
   "metadata": {
    "id": "wgx2s8zeqQB9"
   },
   "source": [
    "## USE_CMLM (good for nn)"
   ]
  },
  {
   "cell_type": "markdown",
   "id": "Q40DhA6CLP99",
   "metadata": {
    "id": "Q40DhA6CLP99"
   },
   "source": [
    "### USE_CMLM Embeddings + BestSGDClassifier + CleanlabLabels(model=BERT)[:2500]"
   ]
  },
  {
   "cell_type": "code",
   "execution_count": null,
   "id": "nzk0Gi46qqKG",
   "metadata": {
    "colab": {
     "base_uri": "https://localhost:8080/",
     "height": 99,
     "referenced_widgets": [
      "1529bbf89b0149c5b5d117d02f12a046",
      "f37383c07d8f4e6585f359e120aaf2ff",
      "aec1149b21e94cfd8c909ff6ace7ec9a",
      "6f708728beb64c5d97a1701549bee662",
      "f464181d8b0b433b95e61d61ab0fa4ed",
      "f7b8cb235aee46c1a21e9d6ab4e7a2ae",
      "bd69560cf0bb4543942bb34b26d0134a",
      "e02e77ea42414d52a3d5b423e9119b45",
      "febbfc481c4f4d98bd130e0296bab76b",
      "ab631441575b4e0a8017e1b917344a84",
      "45758c0cf2a74b81868b2c8b89bb82a0",
      "9865beed8bc84d409c643def9b499a60",
      "1eade666b1ad41c68a4825565c6e1ef2",
      "f53c3ebcd7874c608dfa7b7934c4fc66",
      "f6c225218b394183826e207d10b162b4",
      "9202f28fa8284ba0973533c08b66f514",
      "088e52948cd64d8a8c97c2c60ef0e52d",
      "99dfc68faf2043aaac53690e69698f0e",
      "221a54f4416e44958e21ea60f903e21a",
      "ede9f1799e0a4ddf863d9ed759a3c491",
      "bda80201600b4f3b85df1f5590a0b8e3",
      "6fcd412b8da14a5d8784ba7a9079e91c"
     ]
    },
    "id": "nzk0Gi46qqKG",
    "outputId": "200a2b63-4d58-4dfc-ede0-f4634194ad93"
   },
   "outputs": [
    {
     "data": {
      "application/vnd.jupyter.widget-view+json": {
       "model_id": "1529bbf89b0149c5b5d117d02f12a046",
       "version_major": 2,
       "version_minor": 0
      },
      "text/plain": [
       "  0%|          | 0/102 [00:00<?, ?it/s]"
      ]
     },
     "metadata": {},
     "output_type": "display_data"
    },
    {
     "data": {
      "application/vnd.jupyter.widget-view+json": {
       "model_id": "9865beed8bc84d409c643def9b499a60",
       "version_major": 2,
       "version_minor": 0
      },
      "text/plain": [
       "  0%|          | 0/6 [00:00<?, ?it/s]"
      ]
     },
     "metadata": {},
     "output_type": "display_data"
    },
    {
     "data": {
      "text/plain": [
       "((10152, 1024), (10152,), (500, 1024))"
      ]
     },
     "execution_count": 63,
     "metadata": {},
     "output_type": "execute_result"
    }
   ],
   "source": [
    "issue_idx_by_bert = load_from_pkl(\"issue_idx_by_bert.pkl\")\n",
    "\n",
    "# Training data.\n",
    "train_X, train_y = get_usecmlm_train_X_y(train_df, issue_idx_by_bert[:2500])\n",
    "\n",
    "# Prepare test data\n",
    "test_X = embed_bert(test_data['review_text'])\n",
    "\n",
    "train_X.shape, train_y.shape, test_X.shape"
   ]
  },
  {
   "cell_type": "code",
   "execution_count": null,
   "id": "-Dij1C_4qqKH",
   "metadata": {
    "colab": {
     "base_uri": "https://localhost:8080/",
     "height": 92
    },
    "id": "-Dij1C_4qqKH",
    "outputId": "15c5ff77-6968-4cd2-c3c1-5243fed4d49e"
   },
   "outputs": [
    {
     "data": {
      "text/html": [
       "<style>#sk-container-id-2 {color: black;background-color: white;}#sk-container-id-2 pre{padding: 0;}#sk-container-id-2 div.sk-toggleable {background-color: white;}#sk-container-id-2 label.sk-toggleable__label {cursor: pointer;display: block;width: 100%;margin-bottom: 0;padding: 0.3em;box-sizing: border-box;text-align: center;}#sk-container-id-2 label.sk-toggleable__label-arrow:before {content: \"▸\";float: left;margin-right: 0.25em;color: #696969;}#sk-container-id-2 label.sk-toggleable__label-arrow:hover:before {color: black;}#sk-container-id-2 div.sk-estimator:hover label.sk-toggleable__label-arrow:before {color: black;}#sk-container-id-2 div.sk-toggleable__content {max-height: 0;max-width: 0;overflow: hidden;text-align: left;background-color: #f0f8ff;}#sk-container-id-2 div.sk-toggleable__content pre {margin: 0.2em;color: black;border-radius: 0.25em;background-color: #f0f8ff;}#sk-container-id-2 input.sk-toggleable__control:checked~div.sk-toggleable__content {max-height: 200px;max-width: 100%;overflow: auto;}#sk-container-id-2 input.sk-toggleable__control:checked~label.sk-toggleable__label-arrow:before {content: \"▾\";}#sk-container-id-2 div.sk-estimator input.sk-toggleable__control:checked~label.sk-toggleable__label {background-color: #d4ebff;}#sk-container-id-2 div.sk-label input.sk-toggleable__control:checked~label.sk-toggleable__label {background-color: #d4ebff;}#sk-container-id-2 input.sk-hidden--visually {border: 0;clip: rect(1px 1px 1px 1px);clip: rect(1px, 1px, 1px, 1px);height: 1px;margin: -1px;overflow: hidden;padding: 0;position: absolute;width: 1px;}#sk-container-id-2 div.sk-estimator {font-family: monospace;background-color: #f0f8ff;border: 1px dotted black;border-radius: 0.25em;box-sizing: border-box;margin-bottom: 0.5em;}#sk-container-id-2 div.sk-estimator:hover {background-color: #d4ebff;}#sk-container-id-2 div.sk-parallel-item::after {content: \"\";width: 100%;border-bottom: 1px solid gray;flex-grow: 1;}#sk-container-id-2 div.sk-label:hover label.sk-toggleable__label {background-color: #d4ebff;}#sk-container-id-2 div.sk-serial::before {content: \"\";position: absolute;border-left: 1px solid gray;box-sizing: border-box;top: 0;bottom: 0;left: 50%;z-index: 0;}#sk-container-id-2 div.sk-serial {display: flex;flex-direction: column;align-items: center;background-color: white;padding-right: 0.2em;padding-left: 0.2em;position: relative;}#sk-container-id-2 div.sk-item {position: relative;z-index: 1;}#sk-container-id-2 div.sk-parallel {display: flex;align-items: stretch;justify-content: center;background-color: white;position: relative;}#sk-container-id-2 div.sk-item::before, #sk-container-id-2 div.sk-parallel-item::before {content: \"\";position: absolute;border-left: 1px solid gray;box-sizing: border-box;top: 0;bottom: 0;left: 50%;z-index: -1;}#sk-container-id-2 div.sk-parallel-item {display: flex;flex-direction: column;z-index: 1;position: relative;background-color: white;}#sk-container-id-2 div.sk-parallel-item:first-child::after {align-self: flex-end;width: 50%;}#sk-container-id-2 div.sk-parallel-item:last-child::after {align-self: flex-start;width: 50%;}#sk-container-id-2 div.sk-parallel-item:only-child::after {width: 0;}#sk-container-id-2 div.sk-dashed-wrapped {border: 1px dashed gray;margin: 0 0.4em 0.5em 0.4em;box-sizing: border-box;padding-bottom: 0.4em;background-color: white;}#sk-container-id-2 div.sk-label label {font-family: monospace;font-weight: bold;display: inline-block;line-height: 1.2em;}#sk-container-id-2 div.sk-label-container {text-align: center;}#sk-container-id-2 div.sk-container {/* jupyter's `normalize.less` sets `[hidden] { display: none; }` but bootstrap.min.css set `[hidden] { display: none !important; }` so we also need the `!important` here to be able to override the default hidden behavior on the sphinx rendered scikit-learn.org. See: https://github.com/scikit-learn/scikit-learn/issues/21755 */display: inline-block !important;position: relative;}#sk-container-id-2 div.sk-text-repr-fallback {display: none;}</style><div id=\"sk-container-id-2\" class=\"sk-top-container\"><div class=\"sk-text-repr-fallback\"><pre>SGDClassifier(early_stopping=True, l1_ratio=0.2, loss=&#x27;log_loss&#x27;,\n",
       "              penalty=&#x27;elasticnet&#x27;, random_state=0)</pre><b>In a Jupyter environment, please rerun this cell to show the HTML representation or trust the notebook. <br />On GitHub, the HTML representation is unable to render, please try loading this page with nbviewer.org.</b></div><div class=\"sk-container\" hidden><div class=\"sk-item\"><div class=\"sk-estimator sk-toggleable\"><input class=\"sk-toggleable__control sk-hidden--visually\" id=\"sk-estimator-id-2\" type=\"checkbox\" checked><label for=\"sk-estimator-id-2\" class=\"sk-toggleable__label sk-toggleable__label-arrow\">SGDClassifier</label><div class=\"sk-toggleable__content\"><pre>SGDClassifier(early_stopping=True, l1_ratio=0.2, loss=&#x27;log_loss&#x27;,\n",
       "              penalty=&#x27;elasticnet&#x27;, random_state=0)</pre></div></div></div></div></div>"
      ],
      "text/plain": [
       "SGDClassifier(early_stopping=True, l1_ratio=0.2, loss='log_loss',\n",
       "              penalty='elasticnet', random_state=0)"
      ]
     },
     "execution_count": 64,
     "metadata": {},
     "output_type": "execute_result"
    }
   ],
   "source": [
    "# Initialize best SGDClasssifer\n",
    "best_params = {'alpha': 0.0001, 'class_weight': None, 'l1_ratio': 0.2, 'loss': 'log_loss'}\n",
    "classifier = SGDClassifier(penalty=\"elasticnet\", random_state=RANDOM_SEED, early_stopping=True)\n",
    "classifier.set_params(**best_params)"
   ]
  },
  {
   "cell_type": "code",
   "execution_count": null,
   "id": "JQ8pPAEKqqKH",
   "metadata": {
    "colab": {
     "base_uri": "https://localhost:8080/"
    },
    "id": "JQ8pPAEKqqKH",
    "outputId": "1a199e2f-cac6-42ee-e017-6a32f17f52cc"
   },
   "outputs": [
    {
     "name": "stdout",
     "output_type": "stream",
     "text": [
      "Accuracy of BestSGDClassifier on USE_CMLM embds (10-fold cv): 0.786840308754509\n"
     ]
    }
   ],
   "source": [
    "cv_score = cross_val_score(classifier, train_X, train_y, cv=10)\n",
    "print(\"Accuracy of BestSGDClassifier on USE_CMLM embds (10-fold cv):\", cv_score.mean())"
   ]
  },
  {
   "cell_type": "code",
   "execution_count": null,
   "id": "Fc0YpmH6qqKH",
   "metadata": {
    "id": "Fc0YpmH6qqKH"
   },
   "outputs": [],
   "source": [
    "classifier.fit(train_X, train_y)\n",
    "test_pred = classifier.predict(test_X)\n",
    "# Make submission_20"
   ]
  },
  {
   "cell_type": "code",
   "execution_count": null,
   "id": "3418yR9bQRo0",
   "metadata": {
    "id": "3418yR9bQRo0"
   },
   "outputs": [],
   "source": [
    "pd.Series(test_pred, name='label').to_csv(f'{PATH}/Submissions/submission_20.csv', index=False)\n",
    "pd.read_csv(f'{PATH}/Submissions/submission_20.csv')\n",
    "\n",
    "# 10-fold-cv = 0.78684\n",
    "# public     = 0.74000"
   ]
  },
  {
   "cell_type": "markdown",
   "id": "WIqX_VPmSxWR",
   "metadata": {
    "id": "WIqX_VPmSxWR"
   },
   "source": []
  },
  {
   "cell_type": "markdown",
   "id": "lKdiezI_S2g1",
   "metadata": {
    "id": "lKdiezI_S2g1"
   },
   "source": [
    "### USE_CMLM Embeddings + NN + CleanlabLabels(model=BERT)[:2500]"
   ]
  },
  {
   "cell_type": "code",
   "execution_count": null,
   "id": "-PVm3jHnS2g3",
   "metadata": {
    "colab": {
     "base_uri": "https://localhost:8080/"
    },
    "id": "-PVm3jHnS2g3",
    "outputId": "9c4867ad-6cbc-4243-eda9-be294a8eec28"
   },
   "outputs": [
    {
     "data": {
      "text/plain": [
       "((10152, 1024), (10152,), (500, 1024))"
      ]
     },
     "execution_count": 15,
     "metadata": {},
     "output_type": "execute_result"
    }
   ],
   "source": [
    "issue_idx_by_bert = load_from_pkl(\"issue_idx_by_bert.pkl\")\n",
    "\n",
    "# Training data.\n",
    "# train_X = load_from_pkl('train_X_use_cmlm.pkl')\n",
    "# train_y = train_df['label'].drop(issue_idx_by_bert[:2500])\n",
    "\n",
    "train_X, train_y = get_usecmlm_train_X_y(train_df, issue_idx_by_bert[:2500])\n",
    "train_y_zidx = np.array(labels_to_zeroidx(train_y))\n",
    "\n",
    "\n",
    "# Prepare test data\n",
    "# test_X = embed_bert(test_data['review_text'])\n",
    "test_X = load_from_pkl('test_X_use_cmlm.pkl')\n",
    "\n",
    "train_X.shape, train_y.shape, test_X.shape"
   ]
  },
  {
   "cell_type": "code",
   "execution_count": null,
   "id": "A-an_k5JS2g3",
   "metadata": {
    "id": "A-an_k5JS2g3"
   },
   "outputs": [],
   "source": [
    "train_X_tr, val_X, train_y_tr, val_y = train_test_split(train_X, train_y_zidx, stratify=train_y_zidx, test_size=0.1, random_state=RANDOM_SEED)"
   ]
  },
  {
   "cell_type": "code",
   "execution_count": null,
   "id": "tT_mj-UAS2g3",
   "metadata": {
    "id": "tT_mj-UAS2g3"
   },
   "outputs": [],
   "source": [
    "class MyModel_NN_1(tf.keras.Model):\n",
    "  def __init__(self):\n",
    "    super().__init__()\n",
    "    self.sequential = tf.keras.Sequential([\n",
    "      tf.keras.layers.Dense(1024),\n",
    "      tf.keras.layers.Dense(512, activation='relu'),\n",
    "      tf.keras.layers.BatchNormalization(),\n",
    "      tf.keras.layers.Dropout(rate=0.3, seed=RANDOM_SEED),\n",
    "      tf.keras.layers.Dense(256, activation='relu'),\n",
    "      tf.keras.layers.BatchNormalization(),\n",
    "      tf.keras.layers.Dropout(rate=0.3, seed=RANDOM_SEED),\n",
    "      tf.keras.layers.Dense(5, activation=\"softmax\"),\n",
    "    ])\n",
    "\n",
    "  def call(self, inputs):\n",
    "    embedding = inputs\n",
    "    return self.sequential(embedding)\n",
    "\n",
    "# Model from submission_21"
   ]
  },
  {
   "cell_type": "code",
   "execution_count": null,
   "id": "g4or36CUS2g3",
   "metadata": {
    "id": "g4or36CUS2g3"
   },
   "outputs": [],
   "source": [
    "with tf.device('/device:GPU:0'):\n",
    "    model = MyModel_NN_1()\n",
    "    model.compile(\n",
    "        loss = tf.losses.SparseCategoricalCrossentropy(from_logits=False),\n",
    "        optimizer=tf.optimizers.Adam(learning_rate=0.0001), \n",
    "        metrics = [tf.keras.metrics.SparseCategoricalAccuracy(name=\"accuracy\")])"
   ]
  },
  {
   "cell_type": "code",
   "execution_count": null,
   "id": "27tR_RA2S2g3",
   "metadata": {
    "colab": {
     "base_uri": "https://localhost:8080/"
    },
    "id": "27tR_RA2S2g3",
    "outputId": "a9544ef9-fb0b-482c-b092-4751d9402037"
   },
   "outputs": [
    {
     "name": "stdout",
     "output_type": "stream",
     "text": [
      "Epoch 1/25\n",
      "286/286 [==============================] - 9s 12ms/step - loss: 0.9811 - accuracy: 0.6614 - val_loss: 0.5473 - val_accuracy: 0.7963\n",
      "Epoch 2/25\n",
      "286/286 [==============================] - 2s 9ms/step - loss: 0.6065 - accuracy: 0.7781 - val_loss: 0.5326 - val_accuracy: 0.7972\n",
      "Epoch 3/25\n",
      "286/286 [==============================] - 1s 5ms/step - loss: 0.5302 - accuracy: 0.8076 - val_loss: 0.4895 - val_accuracy: 0.8199\n",
      "Epoch 4/25\n",
      "286/286 [==============================] - 2s 6ms/step - loss: 0.4843 - accuracy: 0.8176 - val_loss: 0.4781 - val_accuracy: 0.8012\n",
      "Epoch 5/25\n",
      "286/286 [==============================] - 1s 5ms/step - loss: 0.4310 - accuracy: 0.8389 - val_loss: 0.4592 - val_accuracy: 0.8100\n",
      "Epoch 6/25\n",
      "286/286 [==============================] - 2s 5ms/step - loss: 0.4171 - accuracy: 0.8434 - val_loss: 0.4828 - val_accuracy: 0.8150\n",
      "Epoch 7/25\n",
      "286/286 [==============================] - 2s 5ms/step - loss: 0.3817 - accuracy: 0.8576 - val_loss: 0.4958 - val_accuracy: 0.8061\n",
      "Epoch 8/25\n",
      "286/286 [==============================] - 2s 6ms/step - loss: 0.3705 - accuracy: 0.8619 - val_loss: 0.4927 - val_accuracy: 0.8110\n",
      "Epoch 9/25\n",
      "286/286 [==============================] - 2s 7ms/step - loss: 0.3535 - accuracy: 0.8655 - val_loss: 0.4725 - val_accuracy: 0.8100\n",
      "Epoch 10/25\n",
      "286/286 [==============================] - 2s 8ms/step - loss: 0.3397 - accuracy: 0.8679 - val_loss: 0.4959 - val_accuracy: 0.8100\n",
      "Epoch 11/25\n",
      "286/286 [==============================] - 2s 6ms/step - loss: 0.3204 - accuracy: 0.8768 - val_loss: 0.5121 - val_accuracy: 0.8031\n",
      "Epoch 12/25\n",
      "286/286 [==============================] - 2s 6ms/step - loss: 0.3000 - accuracy: 0.8875 - val_loss: 0.5081 - val_accuracy: 0.8159\n",
      "Epoch 13/25\n",
      "286/286 [==============================] - 2s 5ms/step - loss: 0.2943 - accuracy: 0.8891 - val_loss: 0.4992 - val_accuracy: 0.8179\n",
      "Epoch 14/25\n",
      "286/286 [==============================] - 1s 5ms/step - loss: 0.2797 - accuracy: 0.8939 - val_loss: 0.5009 - val_accuracy: 0.8169\n",
      "Epoch 15/25\n",
      "286/286 [==============================] - 2s 5ms/step - loss: 0.2668 - accuracy: 0.8954 - val_loss: 0.5089 - val_accuracy: 0.8159\n",
      "Epoch 16/25\n",
      "286/286 [==============================] - 1s 5ms/step - loss: 0.2548 - accuracy: 0.9042 - val_loss: 0.5213 - val_accuracy: 0.8041\n",
      "Epoch 17/25\n",
      "286/286 [==============================] - 2s 6ms/step - loss: 0.2367 - accuracy: 0.9108 - val_loss: 0.5183 - val_accuracy: 0.8189\n",
      "Epoch 18/25\n",
      "286/286 [==============================] - 2s 7ms/step - loss: 0.2319 - accuracy: 0.9143 - val_loss: 0.5465 - val_accuracy: 0.7913\n",
      "Epoch 19/25\n",
      "286/286 [==============================] - 2s 7ms/step - loss: 0.2188 - accuracy: 0.9171 - val_loss: 0.5154 - val_accuracy: 0.8209\n",
      "Epoch 20/25\n",
      "286/286 [==============================] - 2s 6ms/step - loss: 0.2077 - accuracy: 0.9210 - val_loss: 0.5122 - val_accuracy: 0.8130\n",
      "Epoch 21/25\n",
      "286/286 [==============================] - 1s 5ms/step - loss: 0.1978 - accuracy: 0.9267 - val_loss: 0.5840 - val_accuracy: 0.8110\n",
      "Epoch 22/25\n",
      "286/286 [==============================] - 2s 5ms/step - loss: 0.1976 - accuracy: 0.9276 - val_loss: 0.5434 - val_accuracy: 0.8061\n",
      "Epoch 23/25\n",
      "286/286 [==============================] - 1s 5ms/step - loss: 0.1790 - accuracy: 0.9329 - val_loss: 0.5224 - val_accuracy: 0.8150\n",
      "Epoch 24/25\n",
      "286/286 [==============================] - 2s 5ms/step - loss: 0.1680 - accuracy: 0.9378 - val_loss: 0.6098 - val_accuracy: 0.8209\n",
      "Epoch 25/25\n",
      "286/286 [==============================] - 2s 5ms/step - loss: 0.1672 - accuracy: 0.9368 - val_loss: 0.5593 - val_accuracy: 0.8199\n"
     ]
    }
   ],
   "source": [
    "history = model.fit(x=train_X_tr, y=train_y_tr,\n",
    "          validation_data=(val_X, val_y),\n",
    "          epochs = 25)"
   ]
  },
  {
   "cell_type": "code",
   "execution_count": null,
   "id": "IRiKzvw-S2g2",
   "metadata": {
    "colab": {
     "base_uri": "https://localhost:8080/",
     "height": 341
    },
    "id": "IRiKzvw-S2g2",
    "outputId": "19714478-9ebb-4994-a7b1-a52a1fc02ab0"
   },
   "outputs": [
    {
     "name": "stdout",
     "output_type": "stream",
     "text": [
      "286/286 [==============================] - 1s 4ms/step - loss: 0.0599 - accuracy: 0.9847\n",
      "32/32 [==============================] - 0s 5ms/step - loss: 0.5593 - accuracy: 0.8199\n",
      "Training set accuracy: 0.9846760034561157\n",
      "Validation set accuracy: 0.8198819160461426\n"
     ]
    },
    {
     "data": {
      "image/png": "[encoded data removed]",
      "text/plain": [
       "<Figure size 432x288 with 1 Axes>"
      ]
     },
     "metadata": {
      "needs_background": "light"
     },
     "output_type": "display_data"
    }
   ],
   "source": [
    "plt.plot(history.history['accuracy'])\n",
    "plt.plot(history.history['val_accuracy'])\n",
    "plt.grid()\n",
    "\n",
    "train_eval_result = model.evaluate(train_X_tr, train_y_tr)\n",
    "validation_eval_result = model.evaluate(val_X, val_y)\n",
    "\n",
    "print(f\"Training set accuracy: {train_eval_result[1]}\")\n",
    "print(f\"Validation set accuracy: {validation_eval_result[1]}\")"
   ]
  },
  {
   "cell_type": "code",
   "execution_count": null,
   "id": "jox1XEFKgzc1",
   "metadata": {
    "colab": {
     "base_uri": "https://localhost:8080/"
    },
    "id": "jox1XEFKgzc1",
    "outputId": "3c44ce6b-a1ad-449c-c618-dd0290145022"
   },
   "outputs": [
    {
     "name": "stdout",
     "output_type": "stream",
     "text": [
      "------------------------------------------------------------------------\n",
      "Training for fold 1 ...\n",
      "Epoch 1/5\n",
      "286/286 [==============================] - 13s 37ms/step - loss: 0.9449 - accuracy: 0.6690 - val_loss: 0.5523 - val_accuracy: 0.7864\n",
      "Epoch 2/5\n",
      "286/286 [==============================] - 10s 37ms/step - loss: 0.6060 - accuracy: 0.7796 - val_loss: 0.5227 - val_accuracy: 0.7963\n",
      "Epoch 3/5\n",
      "286/286 [==============================] - 10s 33ms/step - loss: 0.5083 - accuracy: 0.8107 - val_loss: 0.5333 - val_accuracy: 0.7953\n",
      "Epoch 4/5\n",
      "286/286 [==============================] - 12s 41ms/step - loss: 0.4702 - accuracy: 0.8275 - val_loss: 0.4945 - val_accuracy: 0.8051\n",
      "Epoch 5/5\n",
      "286/286 [==============================] - 12s 43ms/step - loss: 0.4265 - accuracy: 0.8356 - val_loss: 0.4893 - val_accuracy: 0.8031\n",
      "Score for fold 1: loss of 0.489315390586853; accuracy of 80.31495809555054%\n",
      "------------------------------------------------------------------------\n",
      "Training for fold 2 ...\n",
      "Epoch 1/5\n",
      "286/286 [==============================] - 7s 19ms/step - loss: 0.9245 - accuracy: 0.6702 - val_loss: 0.5616 - val_accuracy: 0.8041\n",
      "Epoch 2/5\n",
      "286/286 [==============================] - 7s 23ms/step - loss: 0.5925 - accuracy: 0.7882 - val_loss: 0.5405 - val_accuracy: 0.8179\n",
      "Epoch 3/5\n",
      "286/286 [==============================] - 5s 18ms/step - loss: 0.5078 - accuracy: 0.8094 - val_loss: 0.4934 - val_accuracy: 0.8268\n",
      "Epoch 4/5\n",
      "286/286 [==============================] - 6s 20ms/step - loss: 0.4782 - accuracy: 0.8253 - val_loss: 0.5336 - val_accuracy: 0.8091\n",
      "Epoch 5/5\n",
      "286/286 [==============================] - 6s 21ms/step - loss: 0.4397 - accuracy: 0.8336 - val_loss: 0.5059 - val_accuracy: 0.8169\n",
      "Score for fold 2: loss of 0.5059245228767395; accuracy of 81.69291615486145%\n",
      "------------------------------------------------------------------------\n",
      "Training for fold 3 ...\n",
      "Epoch 1/5\n",
      "286/286 [==============================] - 7s 19ms/step - loss: 0.9324 - accuracy: 0.6744 - val_loss: 0.5210 - val_accuracy: 0.8010\n",
      "Epoch 2/5\n",
      "286/286 [==============================] - 7s 24ms/step - loss: 0.6133 - accuracy: 0.7813 - val_loss: 0.4858 - val_accuracy: 0.8108\n",
      "Epoch 3/5\n",
      "286/286 [==============================] - 7s 24ms/step - loss: 0.5260 - accuracy: 0.8044 - val_loss: 0.4705 - val_accuracy: 0.8217\n",
      "Epoch 4/5\n",
      "286/286 [==============================] - 7s 23ms/step - loss: 0.4866 - accuracy: 0.8194 - val_loss: 0.4739 - val_accuracy: 0.8099\n",
      "Epoch 5/5\n",
      "286/286 [==============================] - 7s 24ms/step - loss: 0.4548 - accuracy: 0.8270 - val_loss: 0.4687 - val_accuracy: 0.8296\n",
      "Score for fold 3: loss of 0.46868905425071716; accuracy of 82.95566439628601%\n",
      "------------------------------------------------------------------------\n",
      "Training for fold 4 ...\n",
      "Epoch 1/5\n",
      "286/286 [==============================] - 8s 22ms/step - loss: 0.9230 - accuracy: 0.6768 - val_loss: 0.6025 - val_accuracy: 0.7813\n",
      "Epoch 2/5\n",
      "286/286 [==============================] - 6s 22ms/step - loss: 0.5798 - accuracy: 0.7927 - val_loss: 0.5280 - val_accuracy: 0.8020\n",
      "Epoch 3/5\n",
      "286/286 [==============================] - 5s 18ms/step - loss: 0.4986 - accuracy: 0.8157 - val_loss: 0.5630 - val_accuracy: 0.8020\n",
      "Epoch 4/5\n",
      "286/286 [==============================] - 7s 24ms/step - loss: 0.4617 - accuracy: 0.8258 - val_loss: 0.5186 - val_accuracy: 0.8069\n",
      "Epoch 5/5\n",
      "286/286 [==============================] - 6s 21ms/step - loss: 0.4256 - accuracy: 0.8379 - val_loss: 0.5375 - val_accuracy: 0.8099\n",
      "Score for fold 4: loss of 0.5375479459762573; accuracy of 80.98522424697876%\n",
      "------------------------------------------------------------------------\n",
      "Training for fold 5 ...\n",
      "Epoch 1/5\n",
      "286/286 [==============================] - 8s 24ms/step - loss: 0.9530 - accuracy: 0.6721 - val_loss: 0.4901 - val_accuracy: 0.8089\n",
      "Epoch 2/5\n",
      "286/286 [==============================] - 7s 24ms/step - loss: 0.6076 - accuracy: 0.7772 - val_loss: 0.4505 - val_accuracy: 0.8365\n",
      "Epoch 3/5\n",
      "286/286 [==============================] - 9s 30ms/step - loss: 0.5377 - accuracy: 0.8002 - val_loss: 0.4541 - val_accuracy: 0.8355\n",
      "Epoch 4/5\n",
      "286/286 [==============================] - 9s 32ms/step - loss: 0.4995 - accuracy: 0.8123 - val_loss: 0.4588 - val_accuracy: 0.8197\n",
      "Epoch 5/5\n",
      "286/286 [==============================] - 6s 22ms/step - loss: 0.4557 - accuracy: 0.8293 - val_loss: 0.4464 - val_accuracy: 0.8305\n",
      "Score for fold 5: loss of 0.4463631212711334; accuracy of 83.05418491363525%\n",
      "------------------------------------------------------------------------\n",
      "Training for fold 6 ...\n",
      "Epoch 1/5\n",
      "286/286 [==============================] - 8s 24ms/step - loss: 0.9437 - accuracy: 0.6647 - val_loss: 0.5451 - val_accuracy: 0.7803\n",
      "Epoch 2/5\n",
      "286/286 [==============================] - 6s 21ms/step - loss: 0.6112 - accuracy: 0.7759 - val_loss: 0.5381 - val_accuracy: 0.7911\n",
      "Epoch 3/5\n",
      "286/286 [==============================] - 5s 18ms/step - loss: 0.5158 - accuracy: 0.8093 - val_loss: 0.5486 - val_accuracy: 0.8039\n",
      "Epoch 4/5\n",
      "286/286 [==============================] - 7s 23ms/step - loss: 0.4829 - accuracy: 0.8167 - val_loss: 0.5125 - val_accuracy: 0.8079\n",
      "Epoch 5/5\n",
      "286/286 [==============================] - 6s 19ms/step - loss: 0.4332 - accuracy: 0.8345 - val_loss: 0.5009 - val_accuracy: 0.8089\n",
      "Score for fold 6: loss of 0.500904381275177; accuracy of 80.88669776916504%\n",
      "------------------------------------------------------------------------\n",
      "Training for fold 7 ...\n",
      "Epoch 1/5\n",
      "286/286 [==============================] - 12s 33ms/step - loss: 0.9534 - accuracy: 0.6764 - val_loss: 0.5138 - val_accuracy: 0.7990\n",
      "Epoch 2/5\n",
      "286/286 [==============================] - 10s 33ms/step - loss: 0.6114 - accuracy: 0.7823 - val_loss: 0.4317 - val_accuracy: 0.8197\n",
      "Epoch 3/5\n",
      "286/286 [==============================] - 9s 30ms/step - loss: 0.5293 - accuracy: 0.8045 - val_loss: 0.4432 - val_accuracy: 0.8286\n",
      "Epoch 4/5\n",
      "286/286 [==============================] - 12s 41ms/step - loss: 0.4820 - accuracy: 0.8192 - val_loss: 0.4390 - val_accuracy: 0.8227\n",
      "Epoch 5/5\n",
      "286/286 [==============================] - 8s 29ms/step - loss: 0.4553 - accuracy: 0.8258 - val_loss: 0.4244 - val_accuracy: 0.8315\n",
      "Score for fold 7: loss of 0.4244183599948883; accuracy of 83.15271139144897%\n",
      "------------------------------------------------------------------------\n",
      "Training for fold 8 ...\n",
      "Epoch 1/5\n",
      "286/286 [==============================] - 13s 31ms/step - loss: 0.9315 - accuracy: 0.6788 - val_loss: 0.5523 - val_accuracy: 0.7882\n",
      "Epoch 2/5\n",
      "286/286 [==============================] - 9s 30ms/step - loss: 0.5943 - accuracy: 0.7800 - val_loss: 0.5149 - val_accuracy: 0.8128\n",
      "Epoch 3/5\n",
      "286/286 [==============================] - 5s 18ms/step - loss: 0.5300 - accuracy: 0.8035 - val_loss: 0.5033 - val_accuracy: 0.8108\n",
      "Epoch 4/5\n",
      "286/286 [==============================] - 6s 22ms/step - loss: 0.4771 - accuracy: 0.8232 - val_loss: 0.5007 - val_accuracy: 0.8236\n",
      "Epoch 5/5\n",
      "286/286 [==============================] - 9s 30ms/step - loss: 0.4337 - accuracy: 0.8346 - val_loss: 0.5026 - val_accuracy: 0.8197\n",
      "Score for fold 8: loss of 0.5025941729545593; accuracy of 81.97044134140015%\n",
      "------------------------------------------------------------------------\n",
      "Training for fold 9 ...\n",
      "Epoch 1/5\n",
      "286/286 [==============================] - 9s 24ms/step - loss: 0.9475 - accuracy: 0.6720 - val_loss: 0.5224 - val_accuracy: 0.7951\n",
      "Epoch 2/5\n",
      "286/286 [==============================] - 5s 18ms/step - loss: 0.6133 - accuracy: 0.7765 - val_loss: 0.4787 - val_accuracy: 0.8158\n",
      "Epoch 3/5\n",
      "286/286 [==============================] - 7s 25ms/step - loss: 0.5144 - accuracy: 0.8062 - val_loss: 0.4697 - val_accuracy: 0.8148\n",
      "Epoch 4/5\n",
      "286/286 [==============================] - 8s 30ms/step - loss: 0.4805 - accuracy: 0.8214 - val_loss: 0.4463 - val_accuracy: 0.8335\n",
      "Epoch 5/5\n",
      "286/286 [==============================] - 9s 33ms/step - loss: 0.4330 - accuracy: 0.8306 - val_loss: 0.4401 - val_accuracy: 0.8217\n",
      "Score for fold 9: loss of 0.4401022493839264; accuracy of 82.16748833656311%\n",
      "------------------------------------------------------------------------\n",
      "Training for fold 10 ...\n",
      "Epoch 1/5\n",
      "286/286 [==============================] - 10s 28ms/step - loss: 0.9344 - accuracy: 0.6774 - val_loss: 0.5553 - val_accuracy: 0.7882\n",
      "Epoch 2/5\n",
      "286/286 [==============================] - 6s 20ms/step - loss: 0.6124 - accuracy: 0.7754 - val_loss: 0.5277 - val_accuracy: 0.8010\n",
      "Epoch 3/5\n",
      "286/286 [==============================] - 5s 19ms/step - loss: 0.5295 - accuracy: 0.8045 - val_loss: 0.4937 - val_accuracy: 0.8187\n",
      "Epoch 4/5\n",
      "286/286 [==============================] - 7s 24ms/step - loss: 0.4783 - accuracy: 0.8199 - val_loss: 0.5176 - val_accuracy: 0.8138\n",
      "Epoch 5/5\n",
      "286/286 [==============================] - 5s 19ms/step - loss: 0.4302 - accuracy: 0.8380 - val_loss: 0.4954 - val_accuracy: 0.8148\n",
      "Score for fold 10: loss of 0.49539318680763245; accuracy of 81.47783279418945%\n"
     ]
    }
   ],
   "source": [
    "acc_per_fold, loss_per_fold = cross_validate_nn(MyModel_NN_1, train_X, train_y_zidx, 5)"
   ]
  },
  {
   "cell_type": "code",
   "execution_count": null,
   "id": "iJCx_OjDhHbo",
   "metadata": {
    "colab": {
     "base_uri": "https://localhost:8080/"
    },
    "id": "iJCx_OjDhHbo",
    "outputId": "a70fa8f1-6a66-4e72-85ea-31e56cd2313a"
   },
   "outputs": [
    {
     "name": "stdout",
     "output_type": "stream",
     "text": [
      "Accuracy of NN_1 10-fold cv: 0.8186581194400787\n",
      "Std of NN_1 10-fold cv: 0.009315440150919447\n"
     ]
    }
   ],
   "source": [
    "print(\"Accuracy of NN_1 10-fold cv:\", np.mean(acc_per_fold))\n",
    "print(\"Std of NN_1 10-fold cv:\", np.std(acc_per_fold))"
   ]
  },
  {
   "cell_type": "code",
   "execution_count": null,
   "id": "x6TX9cfGS2g3",
   "metadata": {
    "colab": {
     "base_uri": "https://localhost:8080/"
    },
    "id": "x6TX9cfGS2g3",
    "outputId": "bc578554-54ff-470c-e02c-d75c5d3f2cd4"
   },
   "outputs": [
    {
     "name": "stdout",
     "output_type": "stream",
     "text": [
      "Epoch 1/5\n",
      "318/318 [==============================] - 7s 7ms/step - loss: 0.9089 - accuracy: 0.6821\n",
      "Epoch 2/5\n",
      "318/318 [==============================] - 2s 7ms/step - loss: 0.5802 - accuracy: 0.7884\n",
      "Epoch 3/5\n",
      "318/318 [==============================] - 2s 7ms/step - loss: 0.5121 - accuracy: 0.8116\n",
      "Epoch 4/5\n",
      "318/318 [==============================] - 3s 9ms/step - loss: 0.4735 - accuracy: 0.8189\n",
      "Epoch 5/5\n",
      "318/318 [==============================] - 3s 9ms/step - loss: 0.4235 - accuracy: 0.8382\n",
      "16/16 [==============================] - 0s 3ms/step\n"
     ]
    }
   ],
   "source": [
    "model.fit(x=train_X, y=train_y_zidx, epochs=5)\n",
    "test_preds = model.predict(test_X)\n",
    "\n",
    "# Make submisson 21"
   ]
  },
  {
   "cell_type": "code",
   "execution_count": null,
   "id": "CihISsI8XG_g",
   "metadata": {
    "id": "CihISsI8XG_g"
   },
   "outputs": [],
   "source": [
    "# Save the entire model as a SavedModel.\n",
    "# model.save(f'{PATH}/Saved_model/nn_1')\n",
    "# model = tf.keras.models.load_model(f'{PATH}/Saved_model/nn_1')"
   ]
  },
  {
   "cell_type": "markdown",
   "id": "9dPp7l3xZtro",
   "metadata": {
    "id": "9dPp7l3xZtro"
   },
   "source": [
    "Change layers a bit.  \n",
    "**Model_NN_2**"
   ]
  },
  {
   "cell_type": "code",
   "execution_count": null,
   "id": "Y7w89NsKXchm",
   "metadata": {
    "id": "Y7w89NsKXchm"
   },
   "outputs": [],
   "source": [
    "class MyModel_NN_2(tf.keras.Model):\n",
    "  def __init__(self):\n",
    "    super().__init__()\n",
    "    self.sequential = tf.keras.Sequential([\n",
    "      tf.keras.Input(shape=(1024,)),\n",
    "      tf.keras.layers.Dense(512),\n",
    "      tf.keras.layers.BatchNormalization(),\n",
    "      tf.keras.layers.ReLU(),\n",
    "      tf.keras.layers.Dropout(rate=0.3, seed=RANDOM_SEED),\n",
    "      tf.keras.layers.Dense(256),\n",
    "      tf.keras.layers.BatchNormalization(),\n",
    "      tf.keras.layers.ReLU(),\n",
    "      tf.keras.layers.Dropout(rate=0.3, seed=RANDOM_SEED),\n",
    "      tf.keras.layers.Dense(5, activation=\"softmax\"),\n",
    "    ])\n",
    "\n",
    "  def call(self, inputs):\n",
    "    embedding = inputs\n",
    "    return self.sequential(embedding)\n",
    "\n",
    "# Model from submissiom 26_1"
   ]
  },
  {
   "cell_type": "code",
   "execution_count": null,
   "id": "yf0M9rL1Z9xt",
   "metadata": {
    "id": "yf0M9rL1Z9xt"
   },
   "outputs": [],
   "source": [
    "with tf.device('/device:GPU:0'):\n",
    "    model = MyModel_NN_2()\n",
    "    model.compile(\n",
    "        loss = tf.losses.SparseCategoricalCrossentropy(from_logits=False),\n",
    "        optimizer=tf.optimizers.Adam(learning_rate=0.0001), \n",
    "        metrics = [tf.keras.metrics.SparseCategoricalAccuracy(name=\"accuracy\")])"
   ]
  },
  {
   "cell_type": "code",
   "execution_count": null,
   "id": "vN3oWVLAZ9xu",
   "metadata": {
    "colab": {
     "base_uri": "https://localhost:8080/"
    },
    "id": "vN3oWVLAZ9xu",
    "outputId": "a3d79b14-3182-46fa-d42a-22d2c02539de"
   },
   "outputs": [
    {
     "name": "stdout",
     "output_type": "stream",
     "text": [
      "Epoch 1/25\n",
      "286/286 [==============================] - 7s 16ms/step - loss: 0.9765 - accuracy: 0.6299 - val_loss: 0.5463 - val_accuracy: 0.7972\n",
      "Epoch 2/25\n",
      "286/286 [==============================] - 3s 11ms/step - loss: 0.6250 - accuracy: 0.7651 - val_loss: 0.4758 - val_accuracy: 0.8150\n",
      "Epoch 3/25\n",
      "286/286 [==============================] - 3s 10ms/step - loss: 0.5284 - accuracy: 0.7965 - val_loss: 0.4483 - val_accuracy: 0.8337\n",
      "Epoch 4/25\n",
      "286/286 [==============================] - 3s 10ms/step - loss: 0.4788 - accuracy: 0.8162 - val_loss: 0.4291 - val_accuracy: 0.8366\n",
      "Epoch 5/25\n",
      "286/286 [==============================] - 4s 13ms/step - loss: 0.4366 - accuracy: 0.8335 - val_loss: 0.4266 - val_accuracy: 0.8396\n",
      "Epoch 6/25\n",
      "286/286 [==============================] - 3s 10ms/step - loss: 0.4069 - accuracy: 0.8446 - val_loss: 0.4203 - val_accuracy: 0.8287\n",
      "Epoch 7/25\n",
      "286/286 [==============================] - 3s 10ms/step - loss: 0.3828 - accuracy: 0.8520 - val_loss: 0.4199 - val_accuracy: 0.8366\n",
      "Epoch 8/25\n",
      "286/286 [==============================] - 3s 10ms/step - loss: 0.3575 - accuracy: 0.8620 - val_loss: 0.4227 - val_accuracy: 0.8287\n",
      "Epoch 9/25\n",
      "286/286 [==============================] - 3s 11ms/step - loss: 0.3374 - accuracy: 0.8711 - val_loss: 0.4277 - val_accuracy: 0.8287\n",
      "Epoch 10/25\n",
      "286/286 [==============================] - 4s 13ms/step - loss: 0.3161 - accuracy: 0.8799 - val_loss: 0.4282 - val_accuracy: 0.8219\n",
      "Epoch 11/25\n",
      "286/286 [==============================] - 3s 10ms/step - loss: 0.2841 - accuracy: 0.8913 - val_loss: 0.4297 - val_accuracy: 0.8307\n",
      "Epoch 12/25\n",
      "286/286 [==============================] - 3s 10ms/step - loss: 0.2797 - accuracy: 0.8954 - val_loss: 0.4294 - val_accuracy: 0.8258\n",
      "Epoch 13/25\n",
      "286/286 [==============================] - 3s 10ms/step - loss: 0.2693 - accuracy: 0.8981 - val_loss: 0.4415 - val_accuracy: 0.8189\n",
      "Epoch 14/25\n",
      "286/286 [==============================] - 3s 12ms/step - loss: 0.2408 - accuracy: 0.9141 - val_loss: 0.4467 - val_accuracy: 0.8238\n",
      "Epoch 15/25\n",
      "286/286 [==============================] - 3s 11ms/step - loss: 0.2275 - accuracy: 0.9159 - val_loss: 0.4435 - val_accuracy: 0.8287\n",
      "Epoch 16/25\n",
      "286/286 [==============================] - 3s 10ms/step - loss: 0.2075 - accuracy: 0.9281 - val_loss: 0.4541 - val_accuracy: 0.8278\n",
      "Epoch 17/25\n",
      "286/286 [==============================] - 3s 10ms/step - loss: 0.2011 - accuracy: 0.9285 - val_loss: 0.4716 - val_accuracy: 0.8287\n",
      "Epoch 18/25\n",
      "286/286 [==============================] - 3s 10ms/step - loss: 0.1847 - accuracy: 0.9352 - val_loss: 0.4743 - val_accuracy: 0.8209\n",
      "Epoch 19/25\n",
      "286/286 [==============================] - 4s 13ms/step - loss: 0.1752 - accuracy: 0.9407 - val_loss: 0.4833 - val_accuracy: 0.8228\n",
      "Epoch 20/25\n",
      "286/286 [==============================] - 3s 10ms/step - loss: 0.1600 - accuracy: 0.9441 - val_loss: 0.4899 - val_accuracy: 0.8189\n",
      "Epoch 21/25\n",
      "286/286 [==============================] - 3s 10ms/step - loss: 0.1456 - accuracy: 0.9526 - val_loss: 0.4850 - val_accuracy: 0.8287\n",
      "Epoch 22/25\n",
      "286/286 [==============================] - 3s 10ms/step - loss: 0.1429 - accuracy: 0.9523 - val_loss: 0.5052 - val_accuracy: 0.8248\n",
      "Epoch 23/25\n",
      "286/286 [==============================] - 3s 11ms/step - loss: 0.1279 - accuracy: 0.9577 - val_loss: 0.5160 - val_accuracy: 0.8189\n",
      "Epoch 24/25\n",
      "286/286 [==============================] - 4s 13ms/step - loss: 0.1254 - accuracy: 0.9587 - val_loss: 0.5174 - val_accuracy: 0.8219\n",
      "Epoch 25/25\n",
      "286/286 [==============================] - 3s 10ms/step - loss: 0.1194 - accuracy: 0.9599 - val_loss: 0.5307 - val_accuracy: 0.8199\n"
     ]
    }
   ],
   "source": [
    "history = model.fit(x=train_X_tr, y=train_y_tr,\n",
    "          validation_data=(val_X, val_y),\n",
    "          epochs = 25)"
   ]
  },
  {
   "cell_type": "code",
   "execution_count": null,
   "id": "2u8V3LbBZ9xu",
   "metadata": {
    "colab": {
     "base_uri": "https://localhost:8080/",
     "height": 338
    },
    "id": "2u8V3LbBZ9xu",
    "outputId": "ce423f22-2a1b-4b72-81bf-40f73808d848"
   },
   "outputs": [
    {
     "name": "stdout",
     "output_type": "stream",
     "text": [
      "286/286 [==============================] - 2s 6ms/step - loss: 0.0244 - accuracy: 0.9975\n",
      "32/32 [==============================] - 0s 7ms/step - loss: 0.5307 - accuracy: 0.8199\n",
      "Training set accuracy: 0.9974824786186218\n",
      "Validation set accuracy: 0.8198819160461426\n"
     ]
    },
    {
     "data": {
      "image/png": "[encoded data removed]",
      "text/plain": [
       "<Figure size 432x288 with 1 Axes>"
      ]
     },
     "metadata": {
      "needs_background": "light"
     },
     "output_type": "display_data"
    }
   ],
   "source": [
    "plt.plot(history.history['accuracy'])\n",
    "plt.plot(history.history['val_accuracy'])\n",
    "plt.plot(history.history['val_loss'])\n",
    "plt.grid()\n",
    "\n",
    "train_eval_result = model.evaluate(train_X_tr, train_y_tr)\n",
    "validation_eval_result = model.evaluate(val_X, val_y)\n",
    "\n",
    "print(f\"Training set accuracy: {train_eval_result[1]}\")\n",
    "print(f\"Validation set accuracy: {validation_eval_result[1]}\")"
   ]
  },
  {
   "cell_type": "code",
   "execution_count": null,
   "id": "uwf7VKSLZsuu",
   "metadata": {
    "colab": {
     "base_uri": "https://localhost:8080/"
    },
    "id": "uwf7VKSLZsuu",
    "outputId": "254b2e4a-234e-46c8-eaba-4aab07dd3c27"
   },
   "outputs": [
    {
     "name": "stdout",
     "output_type": "stream",
     "text": [
      "------------------------------------------------------------------------\n",
      "Training for fold 1 ...\n",
      "Epoch 1/7\n",
      "286/286 [==============================] - 9s 14ms/step - loss: 0.9719 - accuracy: 0.6320 - val_loss: 0.5810 - val_accuracy: 0.7844\n",
      "Epoch 2/7\n",
      "286/286 [==============================] - 5s 16ms/step - loss: 0.6117 - accuracy: 0.7700 - val_loss: 0.5148 - val_accuracy: 0.8091\n",
      "Epoch 3/7\n",
      "286/286 [==============================] - 5s 16ms/step - loss: 0.5223 - accuracy: 0.8058 - val_loss: 0.4931 - val_accuracy: 0.8169\n",
      "Epoch 4/7\n",
      "286/286 [==============================] - 3s 10ms/step - loss: 0.4678 - accuracy: 0.8242 - val_loss: 0.4754 - val_accuracy: 0.8189\n",
      "Epoch 5/7\n",
      "286/286 [==============================] - 3s 10ms/step - loss: 0.4357 - accuracy: 0.8382 - val_loss: 0.4729 - val_accuracy: 0.8199\n",
      "Epoch 6/7\n",
      "286/286 [==============================] - 3s 9ms/step - loss: 0.4121 - accuracy: 0.8461 - val_loss: 0.4680 - val_accuracy: 0.8238\n",
      "Epoch 7/7\n",
      "286/286 [==============================] - 3s 12ms/step - loss: 0.3736 - accuracy: 0.8562 - val_loss: 0.4676 - val_accuracy: 0.8317\n",
      "Score for fold 1: loss of 0.46764451265335083; accuracy of 83.16929340362549%\n",
      "------------------------------------------------------------------------\n",
      "Training for fold 2 ...\n",
      "Epoch 1/7\n",
      "286/286 [==============================] - 4s 10ms/step - loss: 1.0454 - accuracy: 0.6107 - val_loss: 0.5925 - val_accuracy: 0.7677\n",
      "Epoch 2/7\n",
      "286/286 [==============================] - 3s 10ms/step - loss: 0.6213 - accuracy: 0.7725 - val_loss: 0.5198 - val_accuracy: 0.8002\n",
      "Epoch 3/7\n",
      "286/286 [==============================] - 4s 13ms/step - loss: 0.5202 - accuracy: 0.8026 - val_loss: 0.4978 - val_accuracy: 0.8071\n",
      "Epoch 4/7\n",
      "286/286 [==============================] - 5s 18ms/step - loss: 0.4680 - accuracy: 0.8150 - val_loss: 0.4856 - val_accuracy: 0.8130\n",
      "Epoch 5/7\n",
      "286/286 [==============================] - 4s 12ms/step - loss: 0.4273 - accuracy: 0.8367 - val_loss: 0.4742 - val_accuracy: 0.8199\n",
      "Epoch 6/7\n",
      "286/286 [==============================] - 4s 13ms/step - loss: 0.4078 - accuracy: 0.8425 - val_loss: 0.4785 - val_accuracy: 0.8150\n",
      "Epoch 7/7\n",
      "286/286 [==============================] - 6s 19ms/step - loss: 0.3762 - accuracy: 0.8586 - val_loss: 0.4759 - val_accuracy: 0.8179\n",
      "Score for fold 2: loss of 0.4759076237678528; accuracy of 81.79134130477905%\n",
      "------------------------------------------------------------------------\n",
      "Training for fold 3 ...\n",
      "Epoch 1/7\n",
      "286/286 [==============================] - 6s 15ms/step - loss: 0.9490 - accuracy: 0.6393 - val_loss: 0.5601 - val_accuracy: 0.7951\n",
      "Epoch 2/7\n",
      "286/286 [==============================] - 4s 12ms/step - loss: 0.6185 - accuracy: 0.7645 - val_loss: 0.4854 - val_accuracy: 0.8128\n",
      "Epoch 3/7\n",
      "286/286 [==============================] - 5s 16ms/step - loss: 0.5268 - accuracy: 0.7996 - val_loss: 0.4629 - val_accuracy: 0.8246\n",
      "Epoch 4/7\n",
      "286/286 [==============================] - 4s 14ms/step - loss: 0.4758 - accuracy: 0.8201 - val_loss: 0.4470 - val_accuracy: 0.8148\n",
      "Epoch 5/7\n",
      "286/286 [==============================] - 4s 13ms/step - loss: 0.4416 - accuracy: 0.8311 - val_loss: 0.4442 - val_accuracy: 0.8256\n",
      "Epoch 6/7\n",
      "286/286 [==============================] - 4s 14ms/step - loss: 0.4073 - accuracy: 0.8431 - val_loss: 0.4468 - val_accuracy: 0.8217\n",
      "Epoch 7/7\n",
      "286/286 [==============================] - 4s 15ms/step - loss: 0.3779 - accuracy: 0.8554 - val_loss: 0.4505 - val_accuracy: 0.8158\n",
      "Score for fold 3: loss of 0.4505464434623718; accuracy of 81.5763533115387%\n",
      "------------------------------------------------------------------------\n",
      "Training for fold 4 ...\n",
      "Epoch 1/7\n",
      "286/286 [==============================] - 5s 13ms/step - loss: 1.0042 - accuracy: 0.6254 - val_loss: 0.6291 - val_accuracy: 0.7714\n",
      "Epoch 2/7\n",
      "286/286 [==============================] - 3s 12ms/step - loss: 0.6085 - accuracy: 0.7707 - val_loss: 0.5554 - val_accuracy: 0.7882\n",
      "Epoch 3/7\n",
      "286/286 [==============================] - 5s 17ms/step - loss: 0.5209 - accuracy: 0.8063 - val_loss: 0.5312 - val_accuracy: 0.7921\n",
      "Epoch 4/7\n",
      "286/286 [==============================] - 4s 13ms/step - loss: 0.4713 - accuracy: 0.8197 - val_loss: 0.5152 - val_accuracy: 0.8049\n",
      "Epoch 5/7\n",
      "286/286 [==============================] - 4s 13ms/step - loss: 0.4361 - accuracy: 0.8312 - val_loss: 0.5151 - val_accuracy: 0.8010\n",
      "Epoch 6/7\n",
      "286/286 [==============================] - 4s 13ms/step - loss: 0.3998 - accuracy: 0.8481 - val_loss: 0.5075 - val_accuracy: 0.8030\n",
      "Epoch 7/7\n",
      "286/286 [==============================] - 5s 16ms/step - loss: 0.3810 - accuracy: 0.8524 - val_loss: 0.5067 - val_accuracy: 0.8089\n",
      "Score for fold 4: loss of 0.5067035555839539; accuracy of 80.88669776916504%\n",
      "------------------------------------------------------------------------\n",
      "Training for fold 5 ...\n",
      "Epoch 1/7\n",
      "286/286 [==============================] - 6s 15ms/step - loss: 1.0607 - accuracy: 0.5971 - val_loss: 0.5415 - val_accuracy: 0.7951\n",
      "Epoch 2/7\n",
      "286/286 [==============================] - 5s 19ms/step - loss: 0.6258 - accuracy: 0.7652 - val_loss: 0.4589 - val_accuracy: 0.8335\n",
      "Epoch 3/7\n",
      "286/286 [==============================] - 6s 22ms/step - loss: 0.5411 - accuracy: 0.7925 - val_loss: 0.4288 - val_accuracy: 0.8335\n",
      "Epoch 4/7\n",
      "286/286 [==============================] - 4s 14ms/step - loss: 0.4839 - accuracy: 0.8179 - val_loss: 0.4249 - val_accuracy: 0.8355\n",
      "Epoch 5/7\n",
      "286/286 [==============================] - 4s 15ms/step - loss: 0.4496 - accuracy: 0.8248 - val_loss: 0.4141 - val_accuracy: 0.8384\n",
      "Epoch 6/7\n",
      "286/286 [==============================] - 5s 18ms/step - loss: 0.4128 - accuracy: 0.8402 - val_loss: 0.4117 - val_accuracy: 0.8414\n",
      "Epoch 7/7\n",
      "286/286 [==============================] - 4s 14ms/step - loss: 0.3972 - accuracy: 0.8492 - val_loss: 0.4058 - val_accuracy: 0.8414\n",
      "Score for fold 5: loss of 0.405845046043396; accuracy of 84.13792848587036%\n",
      "------------------------------------------------------------------------\n",
      "Training for fold 6 ...\n",
      "Epoch 1/7\n",
      "286/286 [==============================] - 5s 13ms/step - loss: 0.9373 - accuracy: 0.6431 - val_loss: 0.5795 - val_accuracy: 0.7852\n",
      "Epoch 2/7\n",
      "286/286 [==============================] - 3s 10ms/step - loss: 0.6159 - accuracy: 0.7682 - val_loss: 0.5071 - val_accuracy: 0.8020\n",
      "Epoch 3/7\n",
      "286/286 [==============================] - 3s 9ms/step - loss: 0.5185 - accuracy: 0.8032 - val_loss: 0.4857 - val_accuracy: 0.8079\n",
      "Epoch 4/7\n",
      "286/286 [==============================] - 3s 10ms/step - loss: 0.4700 - accuracy: 0.8223 - val_loss: 0.4641 - val_accuracy: 0.8197\n",
      "Epoch 5/7\n",
      "286/286 [==============================] - 3s 12ms/step - loss: 0.4317 - accuracy: 0.8355 - val_loss: 0.4651 - val_accuracy: 0.8128\n",
      "Epoch 6/7\n",
      "286/286 [==============================] - 3s 11ms/step - loss: 0.4048 - accuracy: 0.8450 - val_loss: 0.4644 - val_accuracy: 0.8187\n",
      "Epoch 7/7\n",
      "286/286 [==============================] - 3s 9ms/step - loss: 0.3771 - accuracy: 0.8552 - val_loss: 0.4608 - val_accuracy: 0.8138\n",
      "Score for fold 6: loss of 0.4607709050178528; accuracy of 81.37931227684021%\n",
      "------------------------------------------------------------------------\n",
      "Training for fold 7 ...\n",
      "Epoch 1/7\n",
      "286/286 [==============================] - 4s 10ms/step - loss: 1.0136 - accuracy: 0.6196 - val_loss: 0.5443 - val_accuracy: 0.7901\n",
      "Epoch 2/7\n",
      "286/286 [==============================] - 3s 10ms/step - loss: 0.6119 - accuracy: 0.7685 - val_loss: 0.4702 - val_accuracy: 0.8128\n",
      "Epoch 3/7\n",
      "286/286 [==============================] - 3s 12ms/step - loss: 0.5257 - accuracy: 0.7994 - val_loss: 0.4330 - val_accuracy: 0.8315\n",
      "Epoch 4/7\n",
      "286/286 [==============================] - 3s 9ms/step - loss: 0.4802 - accuracy: 0.8139 - val_loss: 0.4231 - val_accuracy: 0.8305\n",
      "Epoch 5/7\n",
      "286/286 [==============================] - 3s 9ms/step - loss: 0.4467 - accuracy: 0.8293 - val_loss: 0.4124 - val_accuracy: 0.8355\n",
      "Epoch 6/7\n",
      "286/286 [==============================] - 3s 9ms/step - loss: 0.4109 - accuracy: 0.8431 - val_loss: 0.4068 - val_accuracy: 0.8325\n",
      "Epoch 7/7\n",
      "286/286 [==============================] - 3s 11ms/step - loss: 0.3879 - accuracy: 0.8527 - val_loss: 0.4074 - val_accuracy: 0.8335\n",
      "Score for fold 7: loss of 0.40743687748908997; accuracy of 83.34975242614746%\n",
      "------------------------------------------------------------------------\n",
      "Training for fold 8 ...\n",
      "Epoch 1/7\n",
      "286/286 [==============================] - 5s 11ms/step - loss: 0.9663 - accuracy: 0.6373 - val_loss: 0.5776 - val_accuracy: 0.7813\n",
      "Epoch 2/7\n",
      "286/286 [==============================] - 4s 13ms/step - loss: 0.6221 - accuracy: 0.7646 - val_loss: 0.5044 - val_accuracy: 0.8049\n",
      "Epoch 3/7\n",
      "286/286 [==============================] - 4s 15ms/step - loss: 0.5257 - accuracy: 0.7982 - val_loss: 0.4773 - val_accuracy: 0.8138\n",
      "Epoch 4/7\n",
      "286/286 [==============================] - 6s 19ms/step - loss: 0.4778 - accuracy: 0.8159 - val_loss: 0.4662 - val_accuracy: 0.8207\n",
      "Epoch 5/7\n",
      "286/286 [==============================] - 4s 14ms/step - loss: 0.4396 - accuracy: 0.8316 - val_loss: 0.4528 - val_accuracy: 0.8217\n",
      "Epoch 6/7\n",
      "286/286 [==============================] - 4s 14ms/step - loss: 0.4049 - accuracy: 0.8434 - val_loss: 0.4543 - val_accuracy: 0.8256\n",
      "Epoch 7/7\n",
      "286/286 [==============================] - 5s 19ms/step - loss: 0.3738 - accuracy: 0.8551 - val_loss: 0.4488 - val_accuracy: 0.8296\n",
      "Score for fold 8: loss of 0.44884857535362244; accuracy of 82.95566439628601%\n",
      "------------------------------------------------------------------------\n",
      "Training for fold 9 ...\n",
      "Epoch 1/7\n",
      "286/286 [==============================] - 8s 16ms/step - loss: 0.9846 - accuracy: 0.6403 - val_loss: 0.5556 - val_accuracy: 0.7852\n",
      "Epoch 2/7\n",
      "286/286 [==============================] - 4s 15ms/step - loss: 0.6254 - accuracy: 0.7644 - val_loss: 0.4754 - val_accuracy: 0.8118\n",
      "Epoch 3/7\n",
      "286/286 [==============================] - 5s 16ms/step - loss: 0.5257 - accuracy: 0.7994 - val_loss: 0.4525 - val_accuracy: 0.8118\n",
      "Epoch 4/7\n",
      "286/286 [==============================] - 5s 16ms/step - loss: 0.4748 - accuracy: 0.8132 - val_loss: 0.4331 - val_accuracy: 0.8207\n",
      "Epoch 5/7\n",
      "286/286 [==============================] - 4s 12ms/step - loss: 0.4332 - accuracy: 0.8355 - val_loss: 0.4298 - val_accuracy: 0.8207\n",
      "Epoch 6/7\n",
      "286/286 [==============================] - 4s 13ms/step - loss: 0.4160 - accuracy: 0.8391 - val_loss: 0.4209 - val_accuracy: 0.8276\n",
      "Epoch 7/7\n",
      "286/286 [==============================] - 3s 10ms/step - loss: 0.3857 - accuracy: 0.8551 - val_loss: 0.4237 - val_accuracy: 0.8177\n",
      "Score for fold 9: loss of 0.42369821667671204; accuracy of 81.77340030670166%\n",
      "------------------------------------------------------------------------\n",
      "Training for fold 10 ...\n",
      "Epoch 1/7\n",
      "286/286 [==============================] - 4s 10ms/step - loss: 0.9598 - accuracy: 0.6457 - val_loss: 0.5900 - val_accuracy: 0.7921\n",
      "Epoch 2/7\n",
      "286/286 [==============================] - 3s 10ms/step - loss: 0.6079 - accuracy: 0.7715 - val_loss: 0.5138 - val_accuracy: 0.8069\n",
      "Epoch 3/7\n",
      "286/286 [==============================] - 4s 12ms/step - loss: 0.5259 - accuracy: 0.7995 - val_loss: 0.4805 - val_accuracy: 0.8099\n",
      "Epoch 4/7\n",
      "286/286 [==============================] - 4s 16ms/step - loss: 0.4834 - accuracy: 0.8141 - val_loss: 0.4718 - val_accuracy: 0.8177\n",
      "Epoch 5/7\n",
      "286/286 [==============================] - 3s 11ms/step - loss: 0.4345 - accuracy: 0.8317 - val_loss: 0.4574 - val_accuracy: 0.8177\n",
      "Epoch 6/7\n",
      "286/286 [==============================] - 3s 10ms/step - loss: 0.3987 - accuracy: 0.8482 - val_loss: 0.4565 - val_accuracy: 0.8148\n",
      "Epoch 7/7\n",
      "286/286 [==============================] - 3s 10ms/step - loss: 0.3848 - accuracy: 0.8497 - val_loss: 0.4463 - val_accuracy: 0.8286\n",
      "Score for fold 10: loss of 0.4462573826313019; accuracy of 82.85714387893677%\n"
     ]
    }
   ],
   "source": [
    "acc_per_fold, loss_per_fold = cross_validate_nn(MyModel_NN_2, train_X, train_y_zidx, 7)"
   ]
  },
  {
   "cell_type": "code",
   "execution_count": null,
   "id": "DRSFg4jUcjAS",
   "metadata": {
    "colab": {
     "base_uri": "https://localhost:8080/"
    },
    "id": "DRSFg4jUcjAS",
    "outputId": "5f808cbb-9142-436f-87cd-3663c6205bd3"
   },
   "outputs": [
    {
     "name": "stdout",
     "output_type": "stream",
     "text": [
      "Accuracy of NN_2 10-fold cv: 0.8238768875598907\n",
      "Std of NN_2 10-fold cv: 0.009901433600380656\n"
     ]
    }
   ],
   "source": [
    "print(\"Accuracy of NN_2 10-fold cv:\", np.mean(acc_per_fold))\n",
    "print(\"Std of NN_2 10-fold cv:\", np.std(acc_per_fold))"
   ]
  },
  {
   "cell_type": "code",
   "execution_count": null,
   "id": "mbuUrO4gfDKd",
   "metadata": {
    "colab": {
     "base_uri": "https://localhost:8080/"
    },
    "id": "mbuUrO4gfDKd",
    "outputId": "bdbec2a6-121a-4a18-a5cc-bb2bcd031c14"
   },
   "outputs": [
    {
     "name": "stdout",
     "output_type": "stream",
     "text": [
      "Epoch 1/7\n",
      "318/318 [==============================] - 4s 10ms/step - loss: 0.9239 - accuracy: 0.6507\n",
      "Epoch 2/7\n",
      "318/318 [==============================] - 4s 13ms/step - loss: 0.5968 - accuracy: 0.7755\n",
      "Epoch 3/7\n",
      "318/318 [==============================] - 4s 12ms/step - loss: 0.5126 - accuracy: 0.8062\n",
      "Epoch 4/7\n",
      "318/318 [==============================] - 3s 9ms/step - loss: 0.4717 - accuracy: 0.8180\n",
      "Epoch 5/7\n",
      "318/318 [==============================] - 3s 9ms/step - loss: 0.4273 - accuracy: 0.8326\n",
      "Epoch 6/7\n",
      "318/318 [==============================] - 3s 11ms/step - loss: 0.4044 - accuracy: 0.8438\n",
      "Epoch 7/7\n",
      "318/318 [==============================] - 4s 11ms/step - loss: 0.3718 - accuracy: 0.8591\n",
      "16/16 [==============================] - 0s 3ms/step\n"
     ]
    }
   ],
   "source": [
    "model.fit(x=train_X, y=train_y_zidx, epochs=7)\n",
    "test_preds = model.predict(test_X)\n",
    "\n",
    "# Make submisson 26 (0.79333) and 26_1 (0.81333)"
   ]
  },
  {
   "cell_type": "code",
   "execution_count": null,
   "id": "5Im309UBfDKe",
   "metadata": {
    "colab": {
     "base_uri": "https://localhost:8080/"
    },
    "id": "5Im309UBfDKe",
    "outputId": "5fb9c23e-dc9b-497e-950d-52062b6a6673"
   },
   "outputs": [
    {
     "name": "stderr",
     "output_type": "stream",
     "text": [
      "WARNING:absl:Found untraced functions such as _update_step_xla while saving (showing 1 of 1). These functions will not be directly callable after loading.\n"
     ]
    }
   ],
   "source": [
    "# Save the entire model as a SavedModel.\n",
    "# model.save(f'{PATH}/Saved_model/nn_2_1')\n",
    "# model = tf.keras.models.load_model(f'{PATH}/Saved_model/nn_2')"
   ]
  },
  {
   "cell_type": "markdown",
   "id": "HJA7ZPEfVHuf",
   "metadata": {
    "id": "HJA7ZPEfVHuf"
   },
   "source": [
    "Now lets try to create model like NN_1 but with some differences.  \n",
    "**Model_NN_3**"
   ]
  },
  {
   "cell_type": "code",
   "execution_count": null,
   "id": "VMUjsoaKVNQx",
   "metadata": {
    "id": "VMUjsoaKVNQx"
   },
   "outputs": [],
   "source": [
    "class MyModel_NN_3(tf.keras.Model):\n",
    "  def __init__(self):\n",
    "    super().__init__()\n",
    "    self.sequential = tf.keras.Sequential([\n",
    "      tf.keras.Input(shape=(1024,)),\n",
    "      tf.keras.layers.Dense(1024),\n",
    "      tf.keras.layers.BatchNormalization(),\n",
    "      tf.keras.layers.ReLU(),\n",
    "      tf.keras.layers.Dropout(rate=0.3, seed=RANDOM_SEED),\n",
    "      tf.keras.layers.Dense(512),\n",
    "      tf.keras.layers.BatchNormalization(),\n",
    "      tf.keras.layers.ReLU(),\n",
    "      tf.keras.layers.Dropout(rate=0.3, seed=RANDOM_SEED),\n",
    "      tf.keras.layers.Dense(256),\n",
    "      tf.keras.layers.BatchNormalization(),\n",
    "      tf.keras.layers.ReLU(),\n",
    "      tf.keras.layers.Dropout(rate=0.3, seed=RANDOM_SEED),\n",
    "      tf.keras.layers.Dense(5),\n",
    "    ])\n",
    "\n",
    "  def call(self, inputs):\n",
    "    embedding = inputs\n",
    "    return self.sequential(embedding)\n",
    "\n",
    "# Model from submisson 27_1"
   ]
  },
  {
   "cell_type": "code",
   "execution_count": null,
   "id": "6B1uTxfVVNbU",
   "metadata": {
    "id": "6B1uTxfVVNbU"
   },
   "outputs": [],
   "source": [
    "with tf.device('/device:GPU:0'):\n",
    "    model = MyModel_NN_3()\n",
    "    model.compile(\n",
    "        loss = tf.losses.SparseCategoricalCrossentropy(from_logits=True),\n",
    "        optimizer=tf.optimizers.Adam(learning_rate=0.0001), \n",
    "        metrics = [tf.keras.metrics.SparseCategoricalAccuracy(name=\"accuracy\")])"
   ]
  },
  {
   "cell_type": "code",
   "execution_count": null,
   "id": "pyxv92cJWCR8",
   "metadata": {
    "colab": {
     "base_uri": "https://localhost:8080/"
    },
    "id": "pyxv92cJWCR8",
    "outputId": "bf573398-4d92-4c11-cbfd-46a2347b7603"
   },
   "outputs": [
    {
     "name": "stdout",
     "output_type": "stream",
     "text": [
      "Epoch 1/25\n",
      "286/286 [==============================] - 15s 39ms/step - loss: 1.0041 - accuracy: 0.6248 - val_loss: 0.5341 - val_accuracy: 0.8130\n",
      "Epoch 2/25\n",
      "286/286 [==============================] - 11s 37ms/step - loss: 0.6259 - accuracy: 0.7625 - val_loss: 0.4614 - val_accuracy: 0.8219\n",
      "Epoch 3/25\n",
      "286/286 [==============================] - 10s 33ms/step - loss: 0.5356 - accuracy: 0.7983 - val_loss: 0.4425 - val_accuracy: 0.8209\n",
      "Epoch 4/25\n",
      "286/286 [==============================] - 9s 30ms/step - loss: 0.4743 - accuracy: 0.8213 - val_loss: 0.4312 - val_accuracy: 0.8258\n",
      "Epoch 5/25\n",
      "286/286 [==============================] - 9s 33ms/step - loss: 0.4529 - accuracy: 0.8219 - val_loss: 0.4311 - val_accuracy: 0.8199\n",
      "Epoch 6/25\n",
      "286/286 [==============================] - 8s 27ms/step - loss: 0.4055 - accuracy: 0.8496 - val_loss: 0.4339 - val_accuracy: 0.8287\n",
      "Epoch 7/25\n",
      "286/286 [==============================] - 9s 32ms/step - loss: 0.3776 - accuracy: 0.8562 - val_loss: 0.4348 - val_accuracy: 0.8327\n",
      "Epoch 8/25\n",
      "286/286 [==============================] - 9s 31ms/step - loss: 0.3441 - accuracy: 0.8728 - val_loss: 0.4465 - val_accuracy: 0.8199\n",
      "Epoch 9/25\n",
      "286/286 [==============================] - 7s 26ms/step - loss: 0.3213 - accuracy: 0.8772 - val_loss: 0.4482 - val_accuracy: 0.8248\n",
      "Epoch 10/25\n",
      "286/286 [==============================] - 7s 26ms/step - loss: 0.3049 - accuracy: 0.8852 - val_loss: 0.4624 - val_accuracy: 0.8189\n",
      "Epoch 11/25\n",
      "286/286 [==============================] - 9s 33ms/step - loss: 0.2640 - accuracy: 0.9002 - val_loss: 0.4639 - val_accuracy: 0.8238\n",
      "Epoch 12/25\n",
      "286/286 [==============================] - 10s 34ms/step - loss: 0.2540 - accuracy: 0.9046 - val_loss: 0.4897 - val_accuracy: 0.8071\n",
      "Epoch 13/25\n",
      "286/286 [==============================] - 9s 32ms/step - loss: 0.2339 - accuracy: 0.9128 - val_loss: 0.4938 - val_accuracy: 0.8169\n",
      "Epoch 14/25\n",
      "286/286 [==============================] - 8s 30ms/step - loss: 0.2167 - accuracy: 0.9201 - val_loss: 0.5124 - val_accuracy: 0.8199\n",
      "Epoch 15/25\n",
      "286/286 [==============================] - 6s 20ms/step - loss: 0.1886 - accuracy: 0.9325 - val_loss: 0.5053 - val_accuracy: 0.8248\n",
      "Epoch 16/25\n",
      "286/286 [==============================] - 7s 25ms/step - loss: 0.1795 - accuracy: 0.9336 - val_loss: 0.5275 - val_accuracy: 0.8238\n",
      "Epoch 17/25\n",
      "286/286 [==============================] - 7s 25ms/step - loss: 0.1637 - accuracy: 0.9452 - val_loss: 0.5340 - val_accuracy: 0.8209\n",
      "Epoch 18/25\n",
      "286/286 [==============================] - 7s 24ms/step - loss: 0.1453 - accuracy: 0.9493 - val_loss: 0.5564 - val_accuracy: 0.8169\n",
      "Epoch 19/25\n",
      "286/286 [==============================] - 6s 20ms/step - loss: 0.1357 - accuracy: 0.9526 - val_loss: 0.5578 - val_accuracy: 0.8179\n",
      "Epoch 20/25\n",
      "286/286 [==============================] - 7s 25ms/step - loss: 0.1251 - accuracy: 0.9551 - val_loss: 0.5944 - val_accuracy: 0.8140\n",
      "Epoch 21/25\n",
      "286/286 [==============================] - 8s 28ms/step - loss: 0.1187 - accuracy: 0.9569 - val_loss: 0.6062 - val_accuracy: 0.8199\n",
      "Epoch 22/25\n",
      "286/286 [==============================] - 10s 36ms/step - loss: 0.1111 - accuracy: 0.9615 - val_loss: 0.6205 - val_accuracy: 0.8110\n",
      "Epoch 23/25\n",
      "286/286 [==============================] - 9s 30ms/step - loss: 0.1058 - accuracy: 0.9614 - val_loss: 0.6168 - val_accuracy: 0.8238\n",
      "Epoch 24/25\n",
      "286/286 [==============================] - 9s 31ms/step - loss: 0.0947 - accuracy: 0.9677 - val_loss: 0.6443 - val_accuracy: 0.8150\n",
      "Epoch 25/25\n",
      "286/286 [==============================] - 7s 24ms/step - loss: 0.0918 - accuracy: 0.9694 - val_loss: 0.6534 - val_accuracy: 0.8179\n"
     ]
    }
   ],
   "source": [
    "history = model.fit(x=train_X_tr, y=train_y_tr,\n",
    "          validation_data=(val_X, val_y),\n",
    "          epochs = 25)"
   ]
  },
  {
   "cell_type": "code",
   "execution_count": null,
   "id": "FJGRQ_6MWCR9",
   "metadata": {
    "colab": {
     "base_uri": "https://localhost:8080/",
     "height": 338
    },
    "id": "FJGRQ_6MWCR9",
    "outputId": "41d85a2e-3fb1-4711-e94f-d551169b9fe5"
   },
   "outputs": [
    {
     "name": "stdout",
     "output_type": "stream",
     "text": [
      "286/286 [==============================] - 2s 6ms/step - loss: 0.0111 - accuracy: 0.9986\n",
      "32/32 [==============================] - 0s 6ms/step - loss: 0.6534 - accuracy: 0.8179\n",
      "Training set accuracy: 0.9985770583152771\n",
      "Validation set accuracy: 0.8179134130477905\n"
     ]
    },
    {
     "data": {
      "image/png": "[encoded data removed]",
      "text/plain": [
       "<Figure size 432x288 with 1 Axes>"
      ]
     },
     "metadata": {
      "needs_background": "light"
     },
     "output_type": "display_data"
    }
   ],
   "source": [
    "plt.plot(history.history['accuracy'])\n",
    "plt.plot(history.history['val_accuracy'])\n",
    "plt.plot(history.history['val_loss'])\n",
    "plt.grid()\n",
    "\n",
    "train_eval_result = model.evaluate(train_X_tr, train_y_tr)\n",
    "validation_eval_result = model.evaluate(val_X, val_y)\n",
    "\n",
    "print(f\"Training set accuracy: {train_eval_result[1]}\")\n",
    "print(f\"Validation set accuracy: {validation_eval_result[1]}\")"
   ]
  },
  {
   "cell_type": "code",
   "execution_count": null,
   "id": "A2wWqDliWCR9",
   "metadata": {
    "colab": {
     "base_uri": "https://localhost:8080/"
    },
    "id": "A2wWqDliWCR9",
    "outputId": "b6cbb58f-2c49-4f0d-a86a-9320e069cd29"
   },
   "outputs": [
    {
     "name": "stdout",
     "output_type": "stream",
     "text": [
      "------------------------------------------------------------------------\n",
      "Training for fold 1 ...\n",
      "Epoch 1/4\n",
      "286/286 [==============================] - 12s 35ms/step - loss: 0.9920 - accuracy: 0.6324 - val_loss: 0.5753 - val_accuracy: 0.7805\n",
      "Epoch 2/4\n",
      "286/286 [==============================] - 6s 21ms/step - loss: 0.6262 - accuracy: 0.7627 - val_loss: 0.5081 - val_accuracy: 0.7982\n",
      "Epoch 3/4\n",
      "286/286 [==============================] - 6s 20ms/step - loss: 0.5196 - accuracy: 0.8016 - val_loss: 0.4839 - val_accuracy: 0.8091\n",
      "Epoch 4/4\n",
      "286/286 [==============================] - 7s 24ms/step - loss: 0.4742 - accuracy: 0.8206 - val_loss: 0.4701 - val_accuracy: 0.8140\n",
      "Score for fold 1: loss of 0.47007715702056885; accuracy of 81.39764070510864%\n",
      "------------------------------------------------------------------------\n",
      "Training for fold 2 ...\n",
      "Epoch 1/4\n",
      "286/286 [==============================] - 7s 20ms/step - loss: 0.9450 - accuracy: 0.6438 - val_loss: 0.5496 - val_accuracy: 0.7904\n",
      "Epoch 2/4\n",
      "286/286 [==============================] - 7s 24ms/step - loss: 0.5933 - accuracy: 0.7758 - val_loss: 0.4926 - val_accuracy: 0.8012\n",
      "Epoch 3/4\n",
      "286/286 [==============================] - 5s 19ms/step - loss: 0.5188 - accuracy: 0.8021 - val_loss: 0.4824 - val_accuracy: 0.7972\n",
      "Epoch 4/4\n",
      "286/286 [==============================] - 7s 24ms/step - loss: 0.4594 - accuracy: 0.8207 - val_loss: 0.4750 - val_accuracy: 0.8051\n",
      "Score for fold 2: loss of 0.4749976396560669; accuracy of 80.51180839538574%\n",
      "------------------------------------------------------------------------\n",
      "Training for fold 3 ...\n",
      "Epoch 1/4\n",
      "286/286 [==============================] - 8s 21ms/step - loss: 0.9802 - accuracy: 0.6389 - val_loss: 0.5327 - val_accuracy: 0.7980\n",
      "Epoch 2/4\n",
      "286/286 [==============================] - 7s 25ms/step - loss: 0.6135 - accuracy: 0.7664 - val_loss: 0.4638 - val_accuracy: 0.8089\n",
      "Epoch 3/4\n",
      "286/286 [==============================] - 6s 20ms/step - loss: 0.5239 - accuracy: 0.7982 - val_loss: 0.4355 - val_accuracy: 0.8276\n",
      "Epoch 4/4\n",
      "286/286 [==============================] - 7s 25ms/step - loss: 0.4664 - accuracy: 0.8202 - val_loss: 0.4318 - val_accuracy: 0.8325\n",
      "Score for fold 3: loss of 0.43177056312561035; accuracy of 83.25123190879822%\n",
      "------------------------------------------------------------------------\n",
      "Training for fold 4 ...\n",
      "Epoch 1/4\n",
      "286/286 [==============================] - 7s 21ms/step - loss: 0.9587 - accuracy: 0.6351 - val_loss: 0.5994 - val_accuracy: 0.7665\n",
      "Epoch 2/4\n",
      "286/286 [==============================] - 7s 26ms/step - loss: 0.6079 - accuracy: 0.7714 - val_loss: 0.5344 - val_accuracy: 0.7862\n",
      "Epoch 3/4\n",
      "286/286 [==============================] - 6s 20ms/step - loss: 0.5140 - accuracy: 0.8019 - val_loss: 0.5211 - val_accuracy: 0.7980\n",
      "Epoch 4/4\n",
      "286/286 [==============================] - 7s 23ms/step - loss: 0.4796 - accuracy: 0.8174 - val_loss: 0.5025 - val_accuracy: 0.8030\n",
      "Score for fold 4: loss of 0.5025372505187988; accuracy of 80.2955687046051%\n",
      "------------------------------------------------------------------------\n",
      "Training for fold 5 ...\n",
      "Epoch 1/4\n",
      "286/286 [==============================] - 7s 20ms/step - loss: 0.9947 - accuracy: 0.6224 - val_loss: 0.5217 - val_accuracy: 0.7990\n",
      "Epoch 2/4\n",
      "286/286 [==============================] - 7s 23ms/step - loss: 0.6208 - accuracy: 0.7670 - val_loss: 0.4436 - val_accuracy: 0.8305\n",
      "Epoch 3/4\n",
      "286/286 [==============================] - 6s 20ms/step - loss: 0.5335 - accuracy: 0.7965 - val_loss: 0.4209 - val_accuracy: 0.8463\n",
      "Epoch 4/4\n",
      "286/286 [==============================] - 6s 22ms/step - loss: 0.4832 - accuracy: 0.8151 - val_loss: 0.4193 - val_accuracy: 0.8345\n",
      "Score for fold 5: loss of 0.4193282127380371; accuracy of 83.4482729434967%\n",
      "------------------------------------------------------------------------\n",
      "Training for fold 6 ...\n",
      "Epoch 1/4\n",
      "286/286 [==============================] - 8s 21ms/step - loss: 0.9622 - accuracy: 0.6392 - val_loss: 0.5688 - val_accuracy: 0.7862\n",
      "Epoch 2/4\n",
      "286/286 [==============================] - 7s 25ms/step - loss: 0.6107 - accuracy: 0.7717 - val_loss: 0.4926 - val_accuracy: 0.8108\n",
      "Epoch 3/4\n",
      "286/286 [==============================] - 6s 22ms/step - loss: 0.5248 - accuracy: 0.7976 - val_loss: 0.4821 - val_accuracy: 0.8010\n",
      "Epoch 4/4\n",
      "286/286 [==============================] - 10s 33ms/step - loss: 0.4818 - accuracy: 0.8149 - val_loss: 0.4594 - val_accuracy: 0.8266\n",
      "Score for fold 6: loss of 0.4594272971153259; accuracy of 82.6600968837738%\n",
      "------------------------------------------------------------------------\n",
      "Training for fold 7 ...\n",
      "Epoch 1/4\n",
      "286/286 [==============================] - 7s 20ms/step - loss: 0.9637 - accuracy: 0.6429 - val_loss: 0.5285 - val_accuracy: 0.7980\n",
      "Epoch 2/4\n",
      "286/286 [==============================] - 7s 25ms/step - loss: 0.6181 - accuracy: 0.7670 - val_loss: 0.4400 - val_accuracy: 0.8315\n",
      "Epoch 3/4\n",
      "286/286 [==============================] - 6s 20ms/step - loss: 0.5327 - accuracy: 0.7964 - val_loss: 0.4137 - val_accuracy: 0.8276\n",
      "Epoch 4/4\n",
      "286/286 [==============================] - 7s 24ms/step - loss: 0.4791 - accuracy: 0.8172 - val_loss: 0.4043 - val_accuracy: 0.8394\n",
      "Score for fold 7: loss of 0.4042969346046448; accuracy of 83.94088745117188%\n",
      "------------------------------------------------------------------------\n",
      "Training for fold 8 ...\n",
      "Epoch 1/4\n",
      "286/286 [==============================] - 7s 21ms/step - loss: 0.9846 - accuracy: 0.6335 - val_loss: 0.5438 - val_accuracy: 0.8039\n",
      "Epoch 2/4\n",
      "286/286 [==============================] - 7s 23ms/step - loss: 0.6264 - accuracy: 0.7625 - val_loss: 0.4744 - val_accuracy: 0.8227\n",
      "Epoch 3/4\n",
      "286/286 [==============================] - 6s 19ms/step - loss: 0.5387 - accuracy: 0.7939 - val_loss: 0.4584 - val_accuracy: 0.8256\n",
      "Epoch 4/4\n",
      "286/286 [==============================] - 7s 24ms/step - loss: 0.4716 - accuracy: 0.8184 - val_loss: 0.4591 - val_accuracy: 0.8217\n",
      "Score for fold 8: loss of 0.4591493308544159; accuracy of 82.16748833656311%\n",
      "------------------------------------------------------------------------\n",
      "Training for fold 9 ...\n",
      "Epoch 1/4\n",
      "286/286 [==============================] - 7s 21ms/step - loss: 0.9279 - accuracy: 0.6526 - val_loss: 0.5462 - val_accuracy: 0.7773\n",
      "Epoch 2/4\n",
      "286/286 [==============================] - 7s 25ms/step - loss: 0.6174 - accuracy: 0.7653 - val_loss: 0.4716 - val_accuracy: 0.8217\n",
      "Epoch 3/4\n",
      "286/286 [==============================] - 6s 19ms/step - loss: 0.5297 - accuracy: 0.7981 - val_loss: 0.4439 - val_accuracy: 0.8217\n",
      "Epoch 4/4\n",
      "286/286 [==============================] - 7s 24ms/step - loss: 0.4664 - accuracy: 0.8214 - val_loss: 0.4303 - val_accuracy: 0.8305\n",
      "Score for fold 9: loss of 0.43025198578834534; accuracy of 83.05418491363525%\n",
      "------------------------------------------------------------------------\n",
      "Training for fold 10 ...\n",
      "Epoch 1/4\n",
      "286/286 [==============================] - 7s 20ms/step - loss: 0.9547 - accuracy: 0.6404 - val_loss: 0.5656 - val_accuracy: 0.7882\n",
      "Epoch 2/4\n",
      "286/286 [==============================] - 7s 23ms/step - loss: 0.6026 - accuracy: 0.7726 - val_loss: 0.4995 - val_accuracy: 0.8079\n",
      "Epoch 3/4\n",
      "286/286 [==============================] - 5s 19ms/step - loss: 0.5241 - accuracy: 0.8006 - val_loss: 0.4897 - val_accuracy: 0.7941\n",
      "Epoch 4/4\n",
      "286/286 [==============================] - 8s 28ms/step - loss: 0.4810 - accuracy: 0.8179 - val_loss: 0.4744 - val_accuracy: 0.8197\n",
      "Score for fold 10: loss of 0.4743996858596802; accuracy of 81.97044134140015%\n"
     ]
    }
   ],
   "source": [
    "acc_per_fold, loss_per_fold = cross_validate_nn(MyModel_NN_3, train_X, train_y_zidx, 4, True)"
   ]
  },
  {
   "cell_type": "code",
   "execution_count": null,
   "id": "a07NlROiWCR-",
   "metadata": {
    "colab": {
     "base_uri": "https://localhost:8080/"
    },
    "id": "a07NlROiWCR-",
    "outputId": "78bb56c0-fc83-4b55-e65a-e5ecacd6a890"
   },
   "outputs": [
    {
     "name": "stdout",
     "output_type": "stream",
     "text": [
      "Accuracy of NN_3 10-fold cv: 0.8226976215839386\n",
      "Std of NN_3 10-fold cv: 0.011730729083802767\n"
     ]
    }
   ],
   "source": [
    "print(\"Accuracy of NN_3 10-fold cv:\", np.mean(acc_per_fold))\n",
    "print(\"Std of NN_3 10-fold cv:\", np.std(acc_per_fold))"
   ]
  },
  {
   "cell_type": "code",
   "execution_count": null,
   "id": "WIEJHRAjWCR-",
   "metadata": {
    "colab": {
     "base_uri": "https://localhost:8080/"
    },
    "id": "WIEJHRAjWCR-",
    "outputId": "ba146e76-c6b1-489e-df9b-f4ef347acefc"
   },
   "outputs": [
    {
     "name": "stdout",
     "output_type": "stream",
     "text": [
      "Epoch 1/5\n",
      "318/318 [==============================] - 13s 32ms/step - loss: 0.9689 - accuracy: 0.6283\n",
      "Epoch 2/5\n",
      "318/318 [==============================] - 9s 28ms/step - loss: 0.6105 - accuracy: 0.7669\n",
      "Epoch 3/5\n",
      "318/318 [==============================] - 11s 33ms/step - loss: 0.5197 - accuracy: 0.8015\n",
      "Epoch 4/5\n",
      "318/318 [==============================] - 8s 27ms/step - loss: 0.4766 - accuracy: 0.8151\n",
      "Epoch 5/5\n",
      "318/318 [==============================] - 6s 19ms/step - loss: 0.4249 - accuracy: 0.8328\n",
      "16/16 [==============================] - 0s 5ms/step\n"
     ]
    }
   ],
   "source": [
    "model.fit(x=train_X, y=train_y_zidx, epochs=5)\n",
    "test_preds = model.predict(test_X)\n",
    "\n",
    "# Make submisson 27 and 27_1\n",
    "# 10-fold cv (4 epoch)  = 0.82269\n",
    "# public (4 epoch)      = 0.79333 # sumbission 27\n",
    "# public (5 epoch) = 0.83333 # sumbission 27_1 / nn_3"
   ]
  },
  {
   "cell_type": "code",
   "execution_count": null,
   "id": "r9ZyPfuyWCR-",
   "metadata": {
    "colab": {
     "base_uri": "https://localhost:8080/"
    },
    "id": "r9ZyPfuyWCR-",
    "outputId": "18a76480-9d56-4570-958e-2fa90d33472c"
   },
   "outputs": [
    {
     "name": "stderr",
     "output_type": "stream",
     "text": [
      "WARNING:absl:Found untraced functions such as _update_step_xla while saving (showing 1 of 1). These functions will not be directly callable after loading.\n"
     ]
    }
   ],
   "source": [
    "# Save the entire model as a SavedModel.\n",
    "# model.save(f'{PATH}/Saved_model/nn_3')\n",
    "# model = tf.keras.models.load_model(f'{PATH}/Saved_model/nn_3')"
   ]
  },
  {
   "cell_type": "markdown",
   "id": "jCRHSq6fY9Oz",
   "metadata": {
    "id": "jCRHSq6fY9Oz"
   },
   "source": [
    "### MEAN([USE/BestSGDClassifier] & [BERT] &  [USE_CMLM/NN_1/NN_3])) + CleanlabLabels(model=BERT)[:2500]"
   ]
  },
  {
   "cell_type": "markdown",
   "id": "3Pe8__haZg0k",
   "metadata": {
    "id": "3Pe8__haZg0k"
   },
   "source": [
    "Here we will try to find mean between BERT, BestSGDClassifier and NN_1 predictions."
   ]
  },
  {
   "cell_type": "code",
   "execution_count": null,
   "id": "GLgYkBmcY_II",
   "metadata": {
    "id": "GLgYkBmcY_II"
   },
   "outputs": [],
   "source": [
    "# Make predictions from nn_1 (on use_cmlm 1024 embeddings)\n",
    "test_X_use_cmlm = embed_bert(test_data['review_text'])\n",
    "\n",
    "nn_1 = tf.keras.models.load_model(f'{PATH}/Saved_model/nn_1')\n",
    "nn_1_test_preds = nn_1.predict(test_X_use_cmlm)\n",
    "\n",
    "nn_3 = tf.keras.models.load_model(f'{PATH}/Saved_model/nn_3')\n",
    "nn_3_test_preds = nn_3.predict(test_X_use_cmlm)"
   ]
  },
  {
   "cell_type": "code",
   "execution_count": null,
   "id": "DV73gpFqcnfR",
   "metadata": {
    "id": "DV73gpFqcnfR"
   },
   "outputs": [],
   "source": [
    "# save_to_pkl(nn_3_test_preds, 'nn_3_test_preds.pkl')\n",
    "# save_to_pkl(pred_logits_bert, 'bert_pretrained_test_preds.pkl')\n",
    "# save_to_pkl(pred_logits_sgdclf, 'bestsgdclf_test_preds.pkl')\n",
    "\n",
    "\n",
    "nn_3_test_preds = load_from_pkl('nn_3_test_preds.pkl')\n",
    "pred_logits_bert = load_from_pkl('bert_pretrained_test_preds.pkl')\n",
    "pred_logits_sgdclf = load_from_pkl('bestsgdclf_test_preds.pkl')"
   ]
  },
  {
   "cell_type": "code",
   "execution_count": null,
   "id": "8CTEy9cUZg0k",
   "metadata": {
    "colab": {
     "base_uri": "https://localhost:8080/"
    },
    "id": "8CTEy9cUZg0k",
    "outputId": "7e6f8970-1554-403f-cf08-828b8cfad9ea"
   },
   "outputs": [
    {
     "data": {
      "text/plain": [
       "((10152, 512), (10152,))"
      ]
     },
     "execution_count": 74,
     "metadata": {},
     "output_type": "execute_result"
    }
   ],
   "source": [
    "issue_idx_by_bert = load_from_pkl(\"issue_idx_by_bert.pkl\")\n",
    "\n",
    "# Prepare train and test data for BestSGDClf\n",
    "with tf.device('/device:GPU:0'):\n",
    "    train_X, train_y = get_uselarge_train_X_y(train_df, issue_idx_by_bert[:2500])\n",
    "    test_X = embed_large(test_data['review_text']).numpy()\n",
    "\n",
    "train_X.shape, train_y.shape"
   ]
  },
  {
   "cell_type": "code",
   "execution_count": null,
   "id": "cpdpcnD-Zg0k",
   "metadata": {
    "colab": {
     "base_uri": "https://localhost:8080/",
     "height": 92
    },
    "id": "cpdpcnD-Zg0k",
    "outputId": "d7f02abc-079e-4383-fd4e-17ed8fd7ebff"
   },
   "outputs": [
    {
     "data": {
      "text/html": [
       "<style>#sk-container-id-1 {color: black;background-color: white;}#sk-container-id-1 pre{padding: 0;}#sk-container-id-1 div.sk-toggleable {background-color: white;}#sk-container-id-1 label.sk-toggleable__label {cursor: pointer;display: block;width: 100%;margin-bottom: 0;padding: 0.3em;box-sizing: border-box;text-align: center;}#sk-container-id-1 label.sk-toggleable__label-arrow:before {content: \"▸\";float: left;margin-right: 0.25em;color: #696969;}#sk-container-id-1 label.sk-toggleable__label-arrow:hover:before {color: black;}#sk-container-id-1 div.sk-estimator:hover label.sk-toggleable__label-arrow:before {color: black;}#sk-container-id-1 div.sk-toggleable__content {max-height: 0;max-width: 0;overflow: hidden;text-align: left;background-color: #f0f8ff;}#sk-container-id-1 div.sk-toggleable__content pre {margin: 0.2em;color: black;border-radius: 0.25em;background-color: #f0f8ff;}#sk-container-id-1 input.sk-toggleable__control:checked~div.sk-toggleable__content {max-height: 200px;max-width: 100%;overflow: auto;}#sk-container-id-1 input.sk-toggleable__control:checked~label.sk-toggleable__label-arrow:before {content: \"▾\";}#sk-container-id-1 div.sk-estimator input.sk-toggleable__control:checked~label.sk-toggleable__label {background-color: #d4ebff;}#sk-container-id-1 div.sk-label input.sk-toggleable__control:checked~label.sk-toggleable__label {background-color: #d4ebff;}#sk-container-id-1 input.sk-hidden--visually {border: 0;clip: rect(1px 1px 1px 1px);clip: rect(1px, 1px, 1px, 1px);height: 1px;margin: -1px;overflow: hidden;padding: 0;position: absolute;width: 1px;}#sk-container-id-1 div.sk-estimator {font-family: monospace;background-color: #f0f8ff;border: 1px dotted black;border-radius: 0.25em;box-sizing: border-box;margin-bottom: 0.5em;}#sk-container-id-1 div.sk-estimator:hover {background-color: #d4ebff;}#sk-container-id-1 div.sk-parallel-item::after {content: \"\";width: 100%;border-bottom: 1px solid gray;flex-grow: 1;}#sk-container-id-1 div.sk-label:hover label.sk-toggleable__label {background-color: #d4ebff;}#sk-container-id-1 div.sk-serial::before {content: \"\";position: absolute;border-left: 1px solid gray;box-sizing: border-box;top: 0;bottom: 0;left: 50%;z-index: 0;}#sk-container-id-1 div.sk-serial {display: flex;flex-direction: column;align-items: center;background-color: white;padding-right: 0.2em;padding-left: 0.2em;position: relative;}#sk-container-id-1 div.sk-item {position: relative;z-index: 1;}#sk-container-id-1 div.sk-parallel {display: flex;align-items: stretch;justify-content: center;background-color: white;position: relative;}#sk-container-id-1 div.sk-item::before, #sk-container-id-1 div.sk-parallel-item::before {content: \"\";position: absolute;border-left: 1px solid gray;box-sizing: border-box;top: 0;bottom: 0;left: 50%;z-index: -1;}#sk-container-id-1 div.sk-parallel-item {display: flex;flex-direction: column;z-index: 1;position: relative;background-color: white;}#sk-container-id-1 div.sk-parallel-item:first-child::after {align-self: flex-end;width: 50%;}#sk-container-id-1 div.sk-parallel-item:last-child::after {align-self: flex-start;width: 50%;}#sk-container-id-1 div.sk-parallel-item:only-child::after {width: 0;}#sk-container-id-1 div.sk-dashed-wrapped {border: 1px dashed gray;margin: 0 0.4em 0.5em 0.4em;box-sizing: border-box;padding-bottom: 0.4em;background-color: white;}#sk-container-id-1 div.sk-label label {font-family: monospace;font-weight: bold;display: inline-block;line-height: 1.2em;}#sk-container-id-1 div.sk-label-container {text-align: center;}#sk-container-id-1 div.sk-container {/* jupyter's `normalize.less` sets `[hidden] { display: none; }` but bootstrap.min.css set `[hidden] { display: none !important; }` so we also need the `!important` here to be able to override the default hidden behavior on the sphinx rendered scikit-learn.org. See: https://github.com/scikit-learn/scikit-learn/issues/21755 */display: inline-block !important;position: relative;}#sk-container-id-1 div.sk-text-repr-fallback {display: none;}</style><div id=\"sk-container-id-1\" class=\"sk-top-container\"><div class=\"sk-text-repr-fallback\"><pre>SGDClassifier(early_stopping=True, l1_ratio=0.2, loss=&#x27;log_loss&#x27;,\n",
       "              penalty=&#x27;elasticnet&#x27;, random_state=0)</pre><b>In a Jupyter environment, please rerun this cell to show the HTML representation or trust the notebook. <br />On GitHub, the HTML representation is unable to render, please try loading this page with nbviewer.org.</b></div><div class=\"sk-container\" hidden><div class=\"sk-item\"><div class=\"sk-estimator sk-toggleable\"><input class=\"sk-toggleable__control sk-hidden--visually\" id=\"sk-estimator-id-1\" type=\"checkbox\" checked><label for=\"sk-estimator-id-1\" class=\"sk-toggleable__label sk-toggleable__label-arrow\">SGDClassifier</label><div class=\"sk-toggleable__content\"><pre>SGDClassifier(early_stopping=True, l1_ratio=0.2, loss=&#x27;log_loss&#x27;,\n",
       "              penalty=&#x27;elasticnet&#x27;, random_state=0)</pre></div></div></div></div></div>"
      ],
      "text/plain": [
       "SGDClassifier(early_stopping=True, l1_ratio=0.2, loss='log_loss',\n",
       "              penalty='elasticnet', random_state=0)"
      ]
     },
     "execution_count": 75,
     "metadata": {},
     "output_type": "execute_result"
    }
   ],
   "source": [
    "# Initialize best SGDClasssifer\n",
    "best_params = {'alpha': 0.0001, 'class_weight': None, 'l1_ratio': 0.2, 'loss': 'log_loss'}\n",
    "classifier = SGDClassifier(penalty=\"elasticnet\", random_state=RANDOM_SEED, early_stopping=True)\n",
    "classifier.set_params(**best_params)\n",
    "\n",
    "# Fit classifier\n",
    "classifier.fit(train_X, train_y)"
   ]
  },
  {
   "cell_type": "code",
   "execution_count": null,
   "id": "8XcjrxNsZg0l",
   "metadata": {
    "id": "8XcjrxNsZg0l"
   },
   "outputs": [],
   "source": [
    "# Make predictions by BERT on test\n",
    "tokenizer, model = load_bert(output_hidden_states=True)\n",
    "\n",
    "inputs = test_data['review_text'].apply(lambda x: tokenizer(x, return_tensors=\"pt\"))\n",
    "\n",
    "with torch.no_grad():\n",
    "    logits = inputs.apply(lambda x: model(**x).logits)\n",
    "\n",
    "# Logits by BERT\n",
    "pred_logits = logits.apply(lambda x: x.numpy())\n",
    "vals = pred_logits.apply(lambda x: x[0]).values\n",
    "lst = [[el[i] for i in range(len(el))] for el in vals]\n",
    "pred_logits_bert = np.array(lst)\n",
    "\n",
    "# Logits by BestSGDClassifier\n",
    "pred_logits_sgdclf = classifier.decision_function(test_X)"
   ]
  },
  {
   "cell_type": "code",
   "execution_count": null,
   "id": "3vaHOpQXZg0l",
   "metadata": {
    "id": "3vaHOpQXZg0l"
   },
   "outputs": [],
   "source": [
    "# Find mean prediction and get labels\n",
    "mean_total_pred = np.argmax(((pred_logits_bert + pred_logits_sgdclf + nn_1_test_preds) / 3), axis=1) + 1\n",
    "mean_total_pred_1 = np.argmax(((pred_logits_sgdclf + nn_1_test_preds) / 2), axis=1) + 1\n",
    "\n",
    "# Make Submission_22 and Submission_22_1"
   ]
  },
  {
   "cell_type": "code",
   "execution_count": null,
   "id": "YNeJ0SetgGoV",
   "metadata": {
    "id": "YNeJ0SetgGoV"
   },
   "outputs": [],
   "source": [
    "# Find mean prediction and get labels (by logits)\n",
    "mean_total_pred = np.argmax(((pred_logits_bert + pred_logits_sgdclf + nn_3_test_preds) / 3), axis=1) + 1 # Submission_28 (0.86000)\n",
    "mean_total_pred_1 = np.argmax(((pred_logits_sgdclf + nn_3_test_preds) / 2), axis=1) + 1 # Submission_28_1 (0.84667)\n",
    "mean_total_pred_2 = np.argmax(((nn_3_test_preds + pred_logits_bert) / 2), axis=1) + 1 # Submission_28_4 (0.83333)"
   ]
  },
  {
   "cell_type": "code",
   "execution_count": null,
   "id": "R10e2V4oh36m",
   "metadata": {
    "id": "R10e2V4oh36m"
   },
   "outputs": [],
   "source": [
    "# Find mean prediction and get labels (by softmax probabilities)\n",
    "mean_total_pred = np.argmax(((tf.nn.softmax(pred_logits_bert).numpy() + \n",
    "                              tf.nn.softmax(pred_logits_sgdclf).numpy() +             \n",
    "                              tf.nn.softmax(nn_3_test_preds).numpy()) / 3), axis=1) + 1  # Submission_28_2 (0.86000)\n",
    "mean_total_pred_1 = np.argmax(((tf.nn.softmax(pred_logits_sgdclf).numpy() + \n",
    "                                tf.nn.softmax(nn_3_test_preds).numpy()) / 2), axis=1) + 1 # Submission_28_3 (0.86000)\n",
    "mean_total_pred_2 = np.argmax(((tf.nn.softmax(nn_3_test_preds).numpy() + \n",
    "                                tf.nn.softmax(pred_logits_bert).numpy()) / 2), axis=1) + 1 # Submission_28_5 (0.84000)"
   ]
  },
  {
   "cell_type": "markdown",
   "id": "ioqYlPo6s-HD",
   "metadata": {
    "id": "ioqYlPo6s-HD"
   },
   "source": [
    "Lets take a look at the distribution of predictions of different models"
   ]
  },
  {
   "cell_type": "code",
   "execution_count": null,
   "id": "2SyZ_ox7rNOi",
   "metadata": {
    "colab": {
     "base_uri": "https://localhost:8080/",
     "height": 444
    },
    "id": "2SyZ_ox7rNOi",
    "outputId": "0e03fc15-6ca4-43e7-eea7-d7d0222a97fd"
   },
   "outputs": [
    {
     "data": {
      "image/png": "[encoded data removed]",
      "text/plain": [
       "<Figure size 720x504 with 6 Axes>"
      ]
     },
     "metadata": {
      "needs_background": "light"
     },
     "output_type": "display_data"
    }
   ],
   "source": [
    "pd.DataFrame(pred_logits_bert).hist(figsize=(10, 7));\n",
    "plt.title('Distribution of BERT predicted logits');"
   ]
  },
  {
   "cell_type": "code",
   "execution_count": null,
   "id": "375Dk6GpqeIi",
   "metadata": {
    "colab": {
     "base_uri": "https://localhost:8080/",
     "height": 444
    },
    "id": "375Dk6GpqeIi",
    "outputId": "b26ca813-dbf7-44ad-9230-a92cdbf61c00"
   },
   "outputs": [
    {
     "data": {
      "image/png": "[encoded data removed]",
      "text/plain": [
       "<Figure size 720x504 with 6 Axes>"
      ]
     },
     "metadata": {
      "needs_background": "light"
     },
     "output_type": "display_data"
    }
   ],
   "source": [
    "pd.DataFrame(pred_logits_sgdclf).hist(figsize=(10, 7));\n",
    "plt.title('Distribution of SGDClf predicted logits');"
   ]
  },
  {
   "cell_type": "code",
   "execution_count": null,
   "id": "4mLR1x91r2DS",
   "metadata": {
    "colab": {
     "base_uri": "https://localhost:8080/",
     "height": 444
    },
    "id": "4mLR1x91r2DS",
    "outputId": "d4fa2ef0-9410-4c9a-b4cf-99c07622f11e"
   },
   "outputs": [
    {
     "data": {
      "image/png": "[encoded data removed]",
      "text/plain": [
       "<Figure size 720x504 with 6 Axes>"
      ]
     },
     "metadata": {
      "needs_background": "light"
     },
     "output_type": "display_data"
    }
   ],
   "source": [
    "pd.DataFrame(nn_3_test_preds).hist(figsize=(10, 7));\n",
    "plt.title('Distribution of NN_3 predicted logits');"
   ]
  },
  {
   "cell_type": "code",
   "execution_count": null,
   "id": "MGqWvlTRtIjA",
   "metadata": {
    "colab": {
     "base_uri": "https://localhost:8080/",
     "height": 444
    },
    "id": "MGqWvlTRtIjA",
    "outputId": "ca8234d5-2738-4799-b05a-5d86aea29359"
   },
   "outputs": [
    {
     "data": {
      "image/png": "[encoded data removed]",
      "text/plain": [
       "<Figure size 720x504 with 6 Axes>"
      ]
     },
     "metadata": {
      "needs_background": "light"
     },
     "output_type": "display_data"
    }
   ],
   "source": [
    "pd.DataFrame((pred_logits_sgdclf + pred_logits_bert) / 2).hist(figsize=(10, 7));\n",
    "plt.title('Distribution of MEAN(BERT+SGDClf) predicted logits');"
   ]
  },
  {
   "cell_type": "markdown",
   "id": "e8LVS9bWKA19",
   "metadata": {
    "id": "e8LVS9bWKA19"
   },
   "source": [
    "# Pretrained BERT model"
   ]
  },
  {
   "cell_type": "code",
   "execution_count": null,
   "id": "Yibcqmi3mu1D",
   "metadata": {
    "colab": {
     "base_uri": "https://localhost:8080/"
    },
    "id": "Yibcqmi3mu1D",
    "outputId": "af788fcc-33fe-4f4f-ff7d-8ce0b00208ec"
   },
   "outputs": [
    {
     "name": "stderr",
     "output_type": "stream",
     "text": [
      "<ipython-input-98-a6316530572c>:8: UserWarning: Implicit dimension choice for softmax has been deprecated. Change the call to include dim=X as an argument.\n",
      "  pred_labels = logits.apply(lambda x: torch.nn.Softmax()(x).numpy().argmax() + 1)\n"
     ]
    }
   ],
   "source": [
    "tokenizer, model = load_bert(output_hidden_states=True)\n",
    "\n",
    "inputs = train_df['review_text'][:5].apply(lambda x: tokenizer(x, return_tensors=\"pt\"))\n",
    "\n",
    "with torch.no_grad():\n",
    "    # logits = inputs.apply(lambda x: model(**x).logits)\n",
    "    output = inputs.apply(lambda x: model(**x))\n",
    "\n",
    "\n",
    "pred_labels = logits.apply(lambda x: torch.nn.Softmax()(x).numpy().argmax() + 1)"
   ]
  },
  {
   "cell_type": "code",
   "execution_count": null,
   "id": "GGY-fBT6n_Xb",
   "metadata": {
    "colab": {
     "base_uri": "https://localhost:8080/"
    },
    "id": "GGY-fBT6n_Xb",
    "outputId": "bf67a45e-1f56-4da9-922f-7e25d6722333"
   },
   "outputs": [
    {
     "data": {
      "text/plain": [
       "0.6169775529560544"
      ]
     },
     "execution_count": 103,
     "metadata": {},
     "output_type": "execute_result"
    }
   ],
   "source": [
    "# Train accuracy score\n",
    "accuracy_score(train_y, pred_labels)"
   ]
  },
  {
   "cell_type": "code",
   "execution_count": null,
   "id": "1zkkNOd_M4WC",
   "metadata": {
    "colab": {
     "base_uri": "https://localhost:8080/"
    },
    "id": "1zkkNOd_M4WC",
    "outputId": "ef268082-5434-4a13-a4d6-be538b1917f3"
   },
   "outputs": [
    {
     "data": {
      "text/plain": [
       "torch.Size([1, 27, 768])"
      ]
     },
     "execution_count": 120,
     "metadata": {},
     "output_type": "execute_result"
    }
   ],
   "source": [
    "output[0].hidden_states[0].shape"
   ]
  },
  {
   "cell_type": "code",
   "execution_count": null,
   "id": "tiORzvEFTlfL",
   "metadata": {
    "colab": {
     "base_uri": "https://localhost:8080/"
    },
    "id": "tiORzvEFTlfL",
    "outputId": "9ae449c4-5578-42a4-d057-8805ae9b73e3"
   },
   "outputs": [
    {
     "data": {
      "text/plain": [
       "torch.Size([1, 768])"
      ]
     },
     "execution_count": 111,
     "metadata": {},
     "output_type": "execute_result"
    }
   ],
   "source": [
    "last_hidden_state = output[0].hidden_states[0]\n",
    "cls_embeddings = last_hidden_state[:, 0]\n",
    "\n",
    "cls_embeddings.shape"
   ]
  },
  {
   "cell_type": "markdown",
   "id": "DuWKLjTfTWiP",
   "metadata": {
    "id": "DuWKLjTfTWiP"
   },
   "source": [
    "# Final Models"
   ]
  },
  {
   "cell_type": "markdown",
   "id": "3zfQagxLOdSY",
   "metadata": {
    "id": "3zfQagxLOdSY"
   },
   "source": [
    "### Best submissions quick review"
   ]
  },
  {
   "cell_type": "code",
   "execution_count": null,
   "id": "ZZP-eHCgmERf",
   "metadata": {
    "id": "ZZP-eHCgmERf"
   },
   "outputs": [],
   "source": [
    "### TOP 2 ###\n",
    "# USE_LARGE Embeddings + BestSGDClassifier + CleanlabLabels(model=BERT)[:2500]\n",
    "pd.Series(test_pred, name='label').to_csv(f'{PATH}/Submissions/submission_17.csv', index=False)\n",
    "pd.read_csv(f'{PATH}/Submissions/submission_17.csv')\n",
    "\n",
    "# 10-fold-cv = 0.79403\n",
    "# public    =  0.84000"
   ]
  },
  {
   "cell_type": "code",
   "execution_count": null,
   "id": "xqdq-_oGmERg",
   "metadata": {
    "id": "xqdq-_oGmERg"
   },
   "outputs": [],
   "source": [
    "### TOP 1 ###\n",
    "# USE_LARGE Embeddings + MEAN_LOGITS(BestSGDClassifier & BERT) + CleanlabLabels(model=BERT)[:2500]\n",
    "\n",
    "pd.Series(mean_total_pred, name='label').to_csv(f'{PATH}/Submissions/submission_18.csv', index=False)\n",
    "pd.read_csv(f'{PATH}/Submissions/submission_18.csv')\n",
    "\n",
    "# public    = 0.87333"
   ]
  },
  {
   "cell_type": "code",
   "execution_count": null,
   "id": "uZ3TtNaemERg",
   "metadata": {
    "id": "uZ3TtNaemERg"
   },
   "outputs": [],
   "source": [
    "### BEST ###\n",
    "# USE_CMLM Embeddings + NN_3 + CleanlabLabels(model=BERT)[:2500]\n",
    "pd.Series(np.argmax(test_preds, axis=1)+1, name='label').to_csv(f'{PATH}/Submissions/submission_27_1.csv', index=False)\n",
    "pd.read_csv(f'{PATH}/Submissions/submission_27_1.csv')\n",
    "\n",
    "# 10-fold cv (4 epoch)  = 0.82269\n",
    "# public (4 epoch)      = 0.79333 # sumbission 27\n",
    "# public (5 epoch) = 0.83333 # sumbission 27_1 / nn_3"
   ]
  },
  {
   "cell_type": "markdown",
   "id": "2XrLumt2mOef",
   "metadata": {
    "id": "2XrLumt2mOef"
   },
   "source": [
    "### BERT_Pretrained"
   ]
  },
  {
   "cell_type": "code",
   "execution_count": null,
   "id": "7BARVSQbuPYn",
   "metadata": {
    "id": "7BARVSQbuPYn"
   },
   "outputs": [],
   "source": [
    "# Make predictions by BERT on test\n",
    "tokenizer, model = load_bert(output_hidden_states=True)\n",
    "\n",
    "inputs = test_data['review_text'].apply(lambda x: tokenizer(x, return_tensors=\"pt\"))\n",
    "\n",
    "with torch.no_grad():\n",
    "    logits = inputs.apply(lambda x: model(**x).logits)\n",
    "\n",
    "# Logits by BERT\n",
    "pred_logits = logits.apply(lambda x: x.numpy())\n",
    "vals = pred_logits.apply(lambda x: x[0]).values\n",
    "lst = [[el[i] for i in range(len(el))] for el in vals]\n",
    "pred_logits_bert = np.array(lst)\n",
    "\n",
    "# Logits by BestSGDClassifier\n",
    "pred_logits_sgdclf = classifier.decision_function(test_X)"
   ]
  },
  {
   "cell_type": "markdown",
   "id": "Af87gazLmGNL",
   "metadata": {
    "id": "Af87gazLmGNL"
   },
   "source": [
    "### BestSGDClassifier"
   ]
  },
  {
   "cell_type": "code",
   "execution_count": null,
   "id": "Pc6XwlFLmZMs",
   "metadata": {
    "colab": {
     "base_uri": "https://localhost:8080/"
    },
    "id": "Pc6XwlFLmZMs",
    "outputId": "3bcc13b0-dc35-4890-f333-70ad492c5c5d"
   },
   "outputs": [
    {
     "data": {
      "text/plain": [
       "((10152, 512), (10152,))"
      ]
     },
     "execution_count": 52,
     "metadata": {},
     "output_type": "execute_result"
    }
   ],
   "source": [
    "issue_idx_by_bert = load_from_pkl(\"issue_idx_by_bert.pkl\")\n",
    "\n",
    "# Prepare train and test data\n",
    "with tf.device('/device:GPU:0'):\n",
    "    train_X_use_large, train_y = get_uselarge_train_X_y(train_df, issue_idx_by_bert[:2500])\n",
    "    test_X_use_large = embed_large(test_data['review_text']).numpy()\n",
    "\n",
    "train_X_use_large.shape, train_y.shape"
   ]
  },
  {
   "cell_type": "code",
   "execution_count": null,
   "id": "8hkbwRTwmZMt",
   "metadata": {
    "colab": {
     "base_uri": "https://localhost:8080/"
    },
    "id": "8hkbwRTwmZMt",
    "outputId": "cf14261d-ad43-4268-981e-5e63bc74c8f0"
   },
   "outputs": [
    {
     "name": "stdout",
     "output_type": "stream",
     "text": [
      "Successfully safed to Saved_model/bestsgdclf_final.pkl\n"
     ]
    }
   ],
   "source": [
    "# Initialize best SGDClasssifer\n",
    "best_params = {'alpha': 0.0001, 'class_weight': None, 'l1_ratio': 0.2, 'loss': 'log_loss'}\n",
    "classifier = SGDClassifier(penalty=\"elasticnet\", random_state=RANDOM_SEED, early_stopping=True)\n",
    "classifier.set_params(**best_params)\n",
    "\n",
    "# Fit classifier and save for futher using\n",
    "classifier.fit(train_X_use_large, train_y)\n",
    "save_to_pkl(classifier, 'Saved_model/bestsgdclf_final.pkl')"
   ]
  },
  {
   "cell_type": "markdown",
   "id": "2z8soqOkmMio",
   "metadata": {
    "id": "2z8soqOkmMio"
   },
   "source": [
    "### NN_3"
   ]
  },
  {
   "cell_type": "code",
   "execution_count": null,
   "id": "hhJeB2-mudWe",
   "metadata": {
    "id": "hhJeB2-mudWe"
   },
   "outputs": [],
   "source": [
    "# nn_3 = tf.keras.models.load_model(f'{PATH}/Saved_model/nn_3')"
   ]
  },
  {
   "cell_type": "code",
   "execution_count": null,
   "id": "nYmaUoSbu3eA",
   "metadata": {
    "colab": {
     "base_uri": "https://localhost:8080/"
    },
    "id": "nYmaUoSbu3eA",
    "outputId": "001ab3ba-f25c-4e79-9048-8d7bdec494d4"
   },
   "outputs": [
    {
     "data": {
      "text/plain": [
       "((10152, 1024), (10152,))"
      ]
     },
     "execution_count": 49,
     "metadata": {},
     "output_type": "execute_result"
    }
   ],
   "source": [
    "# Training data.\n",
    "# data_clean = train_df['review_text'].drop(issue_idx_by_bert[:2500])\n",
    "# train_X = embed_bert(data_clean)\n",
    "\n",
    "issue_idx_by_bert = load_from_pkl(\"issue_idx_by_bert.pkl\")\n",
    "\n",
    "train_X_use_cmlm = load_from_pkl('train_X_use_cmlm.pkl')\n",
    "train_y = train_df['label'].drop(issue_idx_by_bert[:2500])\n",
    "train_y_zidx = np.array(labels_to_zeroidx(train_y))\n",
    "\n",
    "train_X_use_cmlm.shape, train_y_zidx.shape"
   ]
  },
  {
   "cell_type": "code",
   "execution_count": null,
   "id": "h36uAjUAm1CQ",
   "metadata": {
    "id": "h36uAjUAm1CQ"
   },
   "outputs": [],
   "source": [
    "class MyModel_NN_3(tf.keras.Model):\n",
    "  def __init__(self):\n",
    "    super().__init__()\n",
    "    self.sequential = tf.keras.Sequential([\n",
    "      tf.keras.Input(shape=(1024,)),\n",
    "      tf.keras.layers.Dense(1024),\n",
    "      tf.keras.layers.BatchNormalization(),\n",
    "      tf.keras.layers.ReLU(),\n",
    "      tf.keras.layers.Dropout(rate=0.3, seed=RANDOM_SEED),\n",
    "      tf.keras.layers.Dense(512),\n",
    "      tf.keras.layers.BatchNormalization(),\n",
    "      tf.keras.layers.ReLU(),\n",
    "      tf.keras.layers.Dropout(rate=0.3, seed=RANDOM_SEED),\n",
    "      tf.keras.layers.Dense(256),\n",
    "      tf.keras.layers.BatchNormalization(),\n",
    "      tf.keras.layers.ReLU(),\n",
    "      tf.keras.layers.Dropout(rate=0.3, seed=RANDOM_SEED),\n",
    "      tf.keras.layers.Dense(5),\n",
    "    ])\n",
    "\n",
    "  def call(self, inputs):\n",
    "    embedding = inputs\n",
    "    return self.sequential(embedding)\n",
    "\n",
    "# Model from submisson 27_1"
   ]
  },
  {
   "cell_type": "code",
   "execution_count": null,
   "id": "wAT-QovBm1CR",
   "metadata": {
    "id": "wAT-QovBm1CR"
   },
   "outputs": [],
   "source": [
    "with tf.device('/device:GPU:0'):\n",
    "    model = MyModel_NN_3()\n",
    "    model.compile(\n",
    "        loss = tf.losses.SparseCategoricalCrossentropy(from_logits=True),\n",
    "        optimizer=tf.optimizers.Adam(learning_rate=0.0001), \n",
    "        metrics = [tf.keras.metrics.SparseCategoricalAccuracy(name=\"accuracy\")])"
   ]
  },
  {
   "cell_type": "markdown",
   "id": "Fqu0Wkc-vEq_",
   "metadata": {
    "id": "Fqu0Wkc-vEq_"
   },
   "source": [
    "### Stacking"
   ]
  },
  {
   "cell_type": "code",
   "execution_count": null,
   "id": "fQPUVkNKvG3I",
   "metadata": {
    "id": "fQPUVkNKvG3I"
   },
   "outputs": [],
   "source": [
    "# Making cross validated predictions\n",
    "nn_3_cv_preds_unsorted, cv_indices = cross_val_predict_nn(MyModel_NN_3, train_X_use_cmlm, train_y_zidx, 5, True)\n",
    "nn_3_cv_preds = pd.DataFrame(nn_3_cv_preds_unsorted, index=cv_indices).sort_index(ascending=True).values\n",
    "\n",
    "bestsgdclf_cv_preds = cross_val_predict(classifier, train_X_use_large, train_y, cv=10, n_jobs=-1, method='decision_function')"
   ]
  },
  {
   "cell_type": "code",
   "execution_count": null,
   "id": "eJT3hrvH6TCS",
   "metadata": {
    "colab": {
     "base_uri": "https://localhost:8080/"
    },
    "id": "eJT3hrvH6TCS",
    "outputId": "a773b834-0b86-445c-fa02-7f4372e2568d"
   },
   "outputs": [
    {
     "data": {
      "text/plain": [
       "(10152, 10)"
      ]
     },
     "execution_count": 58,
     "metadata": {},
     "output_type": "execute_result"
    }
   ],
   "source": [
    "# Create new features\n",
    "new_features = np.column_stack([nn_3_cv_preds, bestsgdclf_cv_preds])\n",
    "new_features.shape"
   ]
  },
  {
   "cell_type": "code",
   "execution_count": null,
   "id": "Jrr7t62i7tIY",
   "metadata": {
    "colab": {
     "base_uri": "https://localhost:8080/"
    },
    "id": "Jrr7t62i7tIY",
    "outputId": "53822c7b-33cf-46f2-c77d-466af498e902"
   },
   "outputs": [
    {
     "name": "stdout",
     "output_type": "stream",
     "text": [
      "Metamodel Catboost accuracy on 10-fold-cv 0.8230955936542415\n"
     ]
    }
   ],
   "source": [
    "# Initialize Metamodel_CB  cross_val accuracy check\n",
    "metamodel = CatBoostClassifier(random_state=RANDOM_SEED)\n",
    "\n",
    "print(\"Metamodel Catboost accuracy on 10-fold-cv\", cross_val_score(metamodel, new_features, train_y, cv=10, n_jobs=-1).mean())"
   ]
  },
  {
   "cell_type": "code",
   "execution_count": null,
   "id": "Lbp6DGWgA1_m",
   "metadata": {
    "colab": {
     "base_uri": "https://localhost:8080/"
    },
    "id": "Lbp6DGWgA1_m",
    "outputId": "73453933-a47f-4940-fce8-9582374a1413"
   },
   "outputs": [
    {
     "name": "stdout",
     "output_type": "stream",
     "text": [
      "Metamodel Catboost accuracy on 10-fold-cv 0.8299919514371048\n"
     ]
    }
   ],
   "source": [
    "# Initialize Metamodel_RF cross_val accuracy check\n",
    "metamodel_rf = RandomForestClassifier(random_state=RANDOM_SEED, n_jobs=-1, class_weight=\"balanced\", n_estimators=500, max_features=\"sqrt\")\n",
    "\n",
    "print(\"Metamodel Random Forest accuracy on 10-fold-cv\", cross_val_score(metamodel_rf, new_features, train_y, cv=10, n_jobs=-1).mean())"
   ]
  },
  {
   "cell_type": "code",
   "execution_count": null,
   "id": "78waJmbeBqjk",
   "metadata": {
    "colab": {
     "base_uri": "https://localhost:8080/"
    },
    "id": "78waJmbeBqjk",
    "outputId": "3db7a6c6-2620-4bec-9474-2053810559e1"
   },
   "outputs": [
    {
     "name": "stdout",
     "output_type": "stream",
     "text": [
      "Successfully safed to Saved_model/metamodel_rf_final.pkl\n"
     ]
    }
   ],
   "source": [
    "# Fit Metamodel RF\n",
    "metamodel_rf.fit(new_features, train_y)\n",
    "save_to_pkl(metamodel_rf, f'Saved_model/metamodel_rf_final.pkl')"
   ]
  },
  {
   "cell_type": "code",
   "execution_count": null,
   "id": "y1aMYGJw8ZGV",
   "metadata": {
    "id": "y1aMYGJw8ZGV"
   },
   "outputs": [],
   "source": [
    "# Fit MetaModel_CB on metafeatures\n",
    "metamodel.fit(new_features, train_y)\n",
    "# save_to_pkl(metamodel, f'Saved_model/metamodel_cb_final.pkl')\n",
    "\n",
    "# Load predictions of models on test set\n",
    "pred_logits_bert = load_from_pkl('bert_pretrained_test_preds.pkl')\n",
    "nn_3_test_preds = load_from_pkl('nn_3_test_preds.pkl')\n",
    "pred_logits_sgdclf = load_from_pkl('bestsgdclf_test_preds.pkl')\n",
    "\n",
    "# Stack together predictions from BestSGDClf and NN_3\n",
    "new_test_features = np.column_stack([nn_3_test_preds, pred_logits_sgdclf])\n",
    "\n",
    "# Find test predicted labels and logits of Metamodel on new stacked test features \n",
    "test_preds = metamodel.predict(new_test_features).squeeze() # Submission_29 (0.86667)\n",
    "meta_test_preds_logits = metamodel.predict(new_test_features, prediction_type='RawFormulaVal')"
   ]
  },
  {
   "cell_type": "markdown",
   "id": "BndJNwsV-MM2",
   "metadata": {
    "id": "BndJNwsV-MM2"
   },
   "source": [
    "Now lets find mean prediction of Metamodel & BERT"
   ]
  },
  {
   "cell_type": "code",
   "execution_count": null,
   "id": "rEyYu5sq-r9s",
   "metadata": {
    "id": "rEyYu5sq-r9s"
   },
   "outputs": [],
   "source": [
    "# Using logits\n",
    "mean_total_pred = np.argmax(((pred_logits_bert + meta_test_preds_logits) / 2), axis=1) + 1 # Submission 30 BEST (0.88000)\n",
    "\n",
    "# Using softmax probabilities\n",
    "mean_total_pred_probs = np.argmax(((tf.nn.softmax(pred_logits_bert).numpy() + \n",
    "                                    tf.nn.softmax(meta_test_preds_logits).numpy()) / 2), axis=1) + 1 # Submission 30_1"
   ]
  },
  {
   "cell_type": "markdown",
   "id": "6xjL6GjSDk2x",
   "metadata": {
    "id": "6xjL6GjSDk2x"
   },
   "source": [
    "## Testing and making final submissions"
   ]
  },
  {
   "cell_type": "code",
   "execution_count": null,
   "id": "FDoFCfDhDncx",
   "metadata": {
    "id": "FDoFCfDhDncx"
   },
   "outputs": [],
   "source": [
    "# Load final test data\n",
    "final_test_data = pd.read_csv(f'{PATH}/Final_Test_Data/test.csv')"
   ]
  },
  {
   "cell_type": "code",
   "execution_count": null,
   "id": "clKeiDMiD-r7",
   "metadata": {
    "colab": {
     "base_uri": "https://localhost:8080/",
     "height": 66,
     "referenced_widgets": [
      "571a1f127b104cac87f988ee46f2cae1",
      "0d77d7feeee04b069a14008d84162a4c",
      "79fdf80f0bf74b288a7304bb074b8651",
      "4079a8da875542f2a6d57bacaf956947",
      "fe3dab3ae3e9493cb384e2308c76d18e",
      "383112d20a904c7593e19f9f4a6aebeb",
      "be993419cf734f1ba0dc318e3a26d159",
      "9ba5c813d4134653bd85cdf765d07799",
      "8b7179d7de7f456fb645e499a1d01977",
      "3ce53fd699774b5a83608e0e61dda403",
      "a90cd936cf6147e0a0e0fe870d292661"
     ]
    },
    "id": "clKeiDMiD-r7",
    "outputId": "49428846-59a4-47c6-eea5-9c3fe1723cc6"
   },
   "outputs": [
    {
     "data": {
      "application/vnd.jupyter.widget-view+json": {
       "model_id": "571a1f127b104cac87f988ee46f2cae1",
       "version_major": 2,
       "version_minor": 0
      },
      "text/plain": [
       "  0%|          | 0/11 [00:00<?, ?it/s]"
      ]
     },
     "metadata": {},
     "output_type": "display_data"
    },
    {
     "data": {
      "text/plain": [
       "((1000, 1024), (1000, 512))"
      ]
     },
     "execution_count": 37,
     "metadata": {},
     "output_type": "execute_result"
    }
   ],
   "source": [
    "# Loading NN_3\n",
    "nn_3 = tf.keras.models.load_model(f'{PATH}/Saved_model/nn_3')\n",
    "\n",
    "# Loading BestSGDClassifier\n",
    "classifier = load_from_pkl('Saved_model/bestsgdclf_final.pkl')\n",
    "\n",
    "# Loading MetaModel Catboost\n",
    "metamodel_cb = load_from_pkl('Saved_model/metamodel_cb_final.pkl')\n",
    "\n",
    "# Loading MetaModel RandomForest\n",
    "metamodel_rf = load_from_pkl('Saved_model/metamodel_rf_final.pkl')\n",
    "\n",
    "# Prepare test data for NN_3\n",
    "final_test_X_use_cmlm = embed_bert(final_test_data['review_text'])\n",
    "\n",
    "# Prepare test data for BestSGDClassifier\n",
    "with tf.device('/device:GPU:0'):\n",
    "    final_test_X_use_large = embed_large(final_test_data['review_text']).numpy()\n",
    "\n",
    "final_test_X_use_cmlm.shape, final_test_X_use_large.shape"
   ]
  },
  {
   "cell_type": "code",
   "execution_count": null,
   "id": "2404sfw6HiUq",
   "metadata": {
    "colab": {
     "base_uri": "https://localhost:8080/"
    },
    "id": "2404sfw6HiUq",
    "outputId": "7d50d095-a993-46f9-83e3-506256058b20"
   },
   "outputs": [
    {
     "name": "stdout",
     "output_type": "stream",
     "text": [
      "32/32 [==============================] - 0s 2ms/step\n"
     ]
    }
   ],
   "source": [
    "# Get MetaModel CB predicted logits\n",
    "nn_3_pred_logits = nn_3.predict(final_test_X_use_cmlm)\n",
    "clf_pred_logits = classifier.decision_function(final_test_X_use_large)\n",
    "\n",
    "meta_features = np.column_stack([nn_3_pred_logits, clf_pred_logits])\n",
    "\n",
    "metamodel_pred_logits = metamodel_cb.predict(meta_features, prediction_type='RawFormulaVal')"
   ]
  },
  {
   "cell_type": "code",
   "execution_count": null,
   "id": "UYC_BMwU-5Qb",
   "metadata": {
    "id": "UYC_BMwU-5Qb"
   },
   "outputs": [],
   "source": [
    "# Save submission Metamodel_CB logits\n",
    "pd.Series(np.argmax(metamodel_pred_logits, axis=1) + 1, name='label').to_csv(f'{PATH}/Submissions/final_submission_metamodel.csv', index=False)\n",
    "pd.read_csv(f'{PATH}/Submissions/final_submission_metamodel.csv')\n",
    "\n",
    "# 0.78667"
   ]
  },
  {
   "cell_type": "code",
   "execution_count": null,
   "id": "aMHa4A-PCHrr",
   "metadata": {
    "id": "aMHa4A-PCHrr"
   },
   "outputs": [],
   "source": [
    "# Get MetaModel_RF predicted logits\n",
    "metamodel_rf_pred_probs = metamodel_rf.predict_proba(meta_features)\n",
    "\n",
    "# Save submission Metamodel RF probabilities\n",
    "pd.Series(np.argmax(metamodel_rf_pred_probs, axis=1) + 1, name='label').to_csv(f'{PATH}/Submissions/final_submission_rf_metamodel.csv', index=False)\n",
    "pd.read_csv(f'{PATH}/Submissions/final_submission_rf_metamodel.csv')\n",
    "\n",
    "# 0.81000"
   ]
  },
  {
   "cell_type": "code",
   "execution_count": null,
   "id": "edstp7Rp_hBi",
   "metadata": {
    "id": "edstp7Rp_hBi"
   },
   "outputs": [],
   "source": [
    "# Save submission NN_3 logits\n",
    "pd.Series(np.argmax(nn_3_pred_logits, axis=1) + 1, name='label').to_csv(f'{PATH}/Submissions/final_submission_NN_3.csv', index=False)\n",
    "pd.read_csv(f'{PATH}/Submissions/final_submission_NN_3.csv')\n",
    "\n",
    "# 0.76333"
   ]
  },
  {
   "cell_type": "code",
   "execution_count": null,
   "id": "hJEVNqs-_OCT",
   "metadata": {
    "id": "hJEVNqs-_OCT"
   },
   "outputs": [],
   "source": [
    "# Save submission BestSGDClassifier logits\n",
    "pd.Series(np.argmax(clf_pred_logits, axis=1) + 1, name='label').to_csv(f'{PATH}/Submissions/final_submission_clf.csv', index=False)\n",
    "pd.read_csv(f'{PATH}/Submissions/final_submission_clf.csv')\n",
    "\n",
    "# 0.79333"
   ]
  },
  {
   "cell_type": "code",
   "execution_count": null,
   "id": "WhmnGZXnIs2h",
   "metadata": {
    "id": "WhmnGZXnIs2h"
   },
   "outputs": [],
   "source": [
    "# Get BERT predicted logits\n",
    "tokenizer, model = load_bert(output_hidden_states=True)\n",
    "\n",
    "inputs = final_test_data['review_text'].apply(lambda x: tokenizer(x, return_tensors=\"pt\"))\n",
    "\n",
    "with torch.no_grad():\n",
    "    logits = inputs.apply(lambda x: model(**x).logits)\n",
    "\n",
    "# Logits by BERT\n",
    "pred_logits = logits.apply(lambda x: x.numpy())\n",
    "vals = pred_logits.apply(lambda x: x[0]).values\n",
    "lst = [[el[i] for i in range(len(el))] for el in vals]\n",
    "\n",
    "bert_pred_logits = np.array(lst)"
   ]
  },
  {
   "cell_type": "code",
   "execution_count": null,
   "id": "DEMkPM7k-fe0",
   "metadata": {
    "id": "DEMkPM7k-fe0"
   },
   "outputs": [],
   "source": [
    "# Save submission BERT logits\n",
    "pd.Series(np.argmax(bert_pred_logits, axis=1) + 1, name='label').to_csv(f'{PATH}/Submissions/final_submission_bert.csv', index=False)\n",
    "pd.read_csv(f'{PATH}/Submissions/final_submission_bert.csv')\n",
    "\n",
    "# 0.81333"
   ]
  },
  {
   "cell_type": "code",
   "execution_count": null,
   "id": "D1pgohzKIvsh",
   "metadata": {
    "id": "D1pgohzKIvsh"
   },
   "outputs": [],
   "source": []
  },
  {
   "cell_type": "code",
   "execution_count": null,
   "id": "sOxXRY2IKgc5",
   "metadata": {
    "id": "sOxXRY2IKgc5"
   },
   "outputs": [],
   "source": [
    "# Stack BERT & MetaModel_CB predictions\n",
    "total_predicted_labels = np.argmax(((bert_pred_logits + metamodel_pred_logits) / 2), axis=1) + 1\n",
    "\n",
    "# Save submission\n",
    "pd.Series(total_predicted_labels, name='label').to_csv(f'{PATH}/Submissions/final_submission.csv', index=False)\n",
    "pd.read_csv(f'{PATH}/Submissions/final_submission.csv')\n",
    "\n",
    "# 0.84000"
   ]
  },
  {
   "cell_type": "code",
   "execution_count": null,
   "id": "fT5bttmqCOQ-",
   "metadata": {
    "id": "fT5bttmqCOQ-"
   },
   "outputs": [],
   "source": []
  },
  {
   "cell_type": "code",
   "execution_count": null,
   "id": "wnVhGpcTCOQ-",
   "metadata": {
    "id": "wnVhGpcTCOQ-"
   },
   "outputs": [],
   "source": [
    "# Stack BERT & MetaModel_RF probabilities predictions \n",
    "total_predicted_rf_labels = np.argmax((tf.nn.softmax(bert_pred_logits).numpy() + tf.nn.softmax(metamodel_rf_pred_probs).numpy() / 2), axis=1) + 1\n",
    "\n",
    "# Save submission\n",
    "pd.Series(total_predicted_rf_labels, name='label').to_csv(f'{PATH}/Submissions/final_submission_rf.csv', index=False)\n",
    "pd.read_csv(f'{PATH}/Submissions/final_submission_rf.csv')\n",
    "\n",
    "# 0.83000"
   ]
  },
  {
   "cell_type": "code",
   "execution_count": null,
   "id": "UB8QkMTiFgUc",
   "metadata": {
    "id": "UB8QkMTiFgUc"
   },
   "outputs": [],
   "source": []
  },
  {
   "cell_type": "code",
   "execution_count": null,
   "id": "BzfYMYb_Fpym",
   "metadata": {
    "id": "BzfYMYb_Fpym"
   },
   "outputs": [],
   "source": [
    "# Stack BERT & BestSGDClassifier predictions\n",
    "total_predicted_labels_bert_clf = np.argmax(((bert_pred_logits + clf_pred_logits) / 2), axis=1) + 1\n",
    "\n",
    "# Save submission\n",
    "pd.Series(total_predicted_labels_bert_clf, name='label').to_csv(f'{PATH}/Submissions/final_submission_bert_clf.csv', index=False)\n",
    "pd.read_csv(f'{PATH}/Submissions/final_submission_bert_clf.csv')\n",
    "\n",
    "# 0.85333"
   ]
  },
  {
   "cell_type": "code",
   "execution_count": null,
   "id": "N3SG3jXTHRmy",
   "metadata": {
    "id": "N3SG3jXTHRmy"
   },
   "outputs": [],
   "source": []
  },
  {
   "cell_type": "code",
   "execution_count": null,
   "id": "cFQowu9mHRmy",
   "metadata": {
    "id": "cFQowu9mHRmy"
   },
   "outputs": [],
   "source": [
    "# Stack BERT & BestSGDClassifier & Metamodel_CB predictions\n",
    "total_predicted_labels_bert_clf_meta = np.argmax(((bert_pred_logits + clf_pred_logits + metamodel_pred_logits) / 3), axis=1) + 1\n",
    "\n",
    "# Save submission\n",
    "pd.Series(total_predicted_labels_bert_clf_meta, name='label').to_csv(f'{PATH}/Submissions/final_submission_bert_clf_meta.csv', index=False)\n",
    "pd.read_csv(f'{PATH}/Submissions/final_submission_bert_clf_meta.csv')\n",
    "\n",
    "# 0.85333"
   ]
  },
  {
   "cell_type": "code",
   "execution_count": null,
   "id": "31ah4bBxHirA",
   "metadata": {
    "id": "31ah4bBxHirA"
   },
   "outputs": [],
   "source": []
  },
  {
   "cell_type": "code",
   "execution_count": null,
   "id": "Tw8w2ZWaHQEB",
   "metadata": {
    "id": "Tw8w2ZWaHQEB"
   },
   "outputs": [],
   "source": [
    "# Stack 2хBERT & BestSGDClassifier & Metamodel_CB\n",
    "total_predicted_labels_bert2_clf_meta = np.argmax(((bert_pred_logits + bert_pred_logits + clf_pred_logits + metamodel_pred_logits) / 4), axis=1) + 1\n",
    "\n",
    "# Save submission\n",
    "pd.Series(total_predicted_labels_bert2_clf_meta, name='label').to_csv(f'{PATH}/Submissions/final_submission_bert2_clf_meta.csv', index=False)\n",
    "pd.read_csv(f'{PATH}/Submissions/final_submission_bert2_clf_meta.csv')\n",
    "\n",
    "# 0.86000"
   ]
  },
  {
   "cell_type": "code",
   "execution_count": null,
   "id": "sBiX5ZUyIb8Q",
   "metadata": {
    "id": "sBiX5ZUyIb8Q"
   },
   "outputs": [],
   "source": []
  },
  {
   "cell_type": "code",
   "execution_count": null,
   "id": "IOvJ4f2eIb8Q",
   "metadata": {
    "id": "IOvJ4f2eIb8Q"
   },
   "outputs": [],
   "source": [
    "# Stack 3хBERT & BestSGDClassifier & Metamodel_CB\n",
    "total_predicted_labels_bert3_clf_meta = np.argmax(((bert_pred_logits + bert_pred_logits + bert_pred_logits + clf_pred_logits + metamodel_pred_logits) / 5), axis=1) + 1\n",
    "\n",
    "# Save submission\n",
    "pd.Series(total_predicted_labels_bert3_clf_meta, name='label').to_csv(f'{PATH}/Submissions/final_submission_bert3_clf_meta.csv', index=False)\n",
    "pd.read_csv(f'{PATH}/Submissions/final_submission_bert3_clf_meta.csv')\n",
    "\n",
    "# 0.87333"
   ]
  },
  {
   "cell_type": "markdown",
   "id": "READMWVVJ31i",
   "metadata": {
    "id": "READMWVVJ31i"
   },
   "source": [
    "# Public submissions"
   ]
  },
  {
   "cell_type": "code",
   "execution_count": null,
   "id": "hXpmpFgtJ71M",
   "metadata": {
    "id": "hXpmpFgtJ71M"
   },
   "outputs": [],
   "source": [
    "# WordsOnly + TfIdf + SGDClassifier (gcv1)\n",
    "test_data['words_only'] = test_data['review_text'].apply(extract_words)\n",
    "test_preds = gcv1.best_estimator_.predict(test_data['words_only'])\n",
    "pd.Series(test_preds, name='label').to_csv(f'{PATH}/Submissions/submission_1_gcv1.csv', index=False)\n",
    "pd.read_csv(f'{PATH}/Submissions/submission_1_gcv1.csv')\n",
    "\n",
    "# 5-fold-cv = 0.68511\n",
    "# public    = 0.75333"
   ]
  },
  {
   "cell_type": "code",
   "execution_count": null,
   "id": "5w2GqgWsJ9S8",
   "metadata": {
    "id": "5w2GqgWsJ9S8"
   },
   "outputs": [],
   "source": [
    "# Lemmas + TfIdf + SGDClassifier (gcv3)\n",
    "test_data['lemmas'] = test_data['review_text'].apply(lambda x: tokenize_lemmatize(x))\n",
    "test_preds = gcv3.best_estimator_.predict(test_data['lemmas'])\n",
    "pd.Series(test_preds, name='label').to_csv(f'{PATH}/Submissions/submission_2_gcv3.csv', index=False)\n",
    "pd.read_csv(f'{PATH}/Submissions/submission_2_gcv3.csv')\n",
    "\n",
    "# 5-fold-cv = 0.67444\n",
    "# public    = 0.76667"
   ]
  },
  {
   "cell_type": "code",
   "execution_count": null,
   "id": "lCPtQ7F1MXex",
   "metadata": {
    "id": "lCPtQ7F1MXex"
   },
   "outputs": [],
   "source": [
    "### TOP ###\n",
    "# BERT Pretrained\n",
    "inputs = test_data['review_text'].apply(lambda x: tokenizer(x, return_tensors=\"pt\"))\n",
    "\n",
    "with torch.no_grad():\n",
    "    logits = inputs.apply(lambda x: model(**x).logits)\n",
    "\n",
    "pred_labels = logits.apply(lambda x: torch.nn.Softmax()(x).numpy().argmax() + 1)\n",
    "\n",
    "pd.Series(pred_labels.values, name='label').to_csv(f'{PATH}/Submissions/submission_3_bertpretrained.csv', index=False)\n",
    "pd.read_csv(f'{PATH}/Submissions/submission_3_bertpretrained.csv')\n",
    "\n",
    "# train_acc = 0.61697\n",
    "# public    = 0.81333"
   ]
  },
  {
   "cell_type": "code",
   "execution_count": null,
   "id": "GL7_83cxGm_s",
   "metadata": {
    "id": "GL7_83cxGm_s"
   },
   "outputs": [],
   "source": [
    "# Lemmas + TfIdf + BestSGDClassifier + CleanLabLabels(model=BestSGDClassifier)\n",
    "pd.Series(test_preds, name='label').to_csv(f'{PATH}/Submissions/submission_4.csv', index=False)\n",
    "pd.read_csv(f'{PATH}/Submissions/submission_4.csv')\n",
    "\n",
    "# 10-fold-cv = 0.84741\n",
    "# public    =  0.72667"
   ]
  },
  {
   "cell_type": "code",
   "execution_count": null,
   "id": "k_lKbQEe-jvj",
   "metadata": {
    "id": "k_lKbQEe-jvj"
   },
   "outputs": [],
   "source": [
    "# Lemmas + TfIdf + BestSGDClassifier + CleanLabLabels(model=BERT)\n",
    "pd.Series(test_preds, name='label').to_csv(f'{PATH}/Submissions/submission_5.csv', index=False)\n",
    "pd.read_csv(f'{PATH}/Submissions/submission_5.csv')\n",
    "\n",
    "# 10-fold-cv = 0.80023\n",
    "# public    =  0.77333"
   ]
  },
  {
   "cell_type": "code",
   "execution_count": null,
   "id": "WZlGPmH0Sd9i",
   "metadata": {
    "id": "WZlGPmH0Sd9i"
   },
   "outputs": [],
   "source": [
    "# USE Embeddings + LogReg/lbfgs(iter=1000) + CleanLabLabels(model=BERT)\n",
    "pd.Series(test_preds, name='label').to_csv(f'{PATH}/Submissions/submission_6.csv', index=False)\n",
    "pd.read_csv(f'{PATH}/Submissions/submission_6.csv')\n",
    "\n",
    "# 10-fold-cv = 0.78235\n",
    "# public    = 0.77333\n",
    "\n",
    "# submission_6_drop-500 - 0.76667\n",
    "# submission_6_drop-1000 - 0.76667\n",
    "# submission_6_drop-1500 - 0.77333\n",
    "### submission_6_drop-2000 - 0.78000\n",
    "# submission_6_drop-2500 - 0.77333\n",
    "# submission_6 (drop_all) - 0.77333"
   ]
  },
  {
   "cell_type": "code",
   "execution_count": null,
   "id": "NGElvfUPV9TF",
   "metadata": {
    "id": "NGElvfUPV9TF"
   },
   "outputs": [],
   "source": [
    "### TOP ###\n",
    "# USE Embeddings + BestSGDClassifier + CleanLabLabels(model=BERT)\n",
    "pd.Series(test_preds, name='label').to_csv(f'{PATH}/Submissions/submission_7.csv', index=False)\n",
    "pd.read_csv(f'{PATH}/Submissions/submission_7.csv')\n",
    "\n",
    "# 10-fold-cv = 0.77184\n",
    "# public     = 0.79333\n",
    "\n",
    "# submission_7_drop-500 - 0.77333\n",
    "# submission_7_drop-1000 - 0.78000\n",
    "# submission_7_drop-1500 - 0.77333\n",
    "# submission_7_drop-2000 - 0.80667\n",
    "### TOP ### submission_7_drop-2500 = 0.81333\n",
    "                      # 10-fold-cv = 0.76271\n",
    "# submission_7 (drop_all) - 0.79333"
   ]
  },
  {
   "cell_type": "code",
   "execution_count": null,
   "id": "BWKlcDSW5FS0",
   "metadata": {
    "id": "BWKlcDSW5FS0"
   },
   "outputs": [],
   "source": [
    "# USE Embeddings + SGDClassifier_GCV4 + CleanlabLabels(model=BERT)[:2500]\n",
    "test_X = embed(test_data['review_text']).numpy()\n",
    "\n",
    "test_preds = gcv4.best_estimator_.predict(test_X)\n",
    "pd.Series(test_preds, name='label').to_csv(f'{PATH}/Submissions/submission_8_gcv4.csv', index=False)\n",
    "pd.read_csv(f'{PATH}/Submissions/submission_8_gcv4.csv')\n",
    "\n",
    "# 5-fold-cv = 0.75886\n",
    "# public    = 0.80000"
   ]
  },
  {
   "cell_type": "code",
   "execution_count": null,
   "id": "6lJbKn4J2U8Q",
   "metadata": {
    "id": "6lJbKn4J2U8Q"
   },
   "outputs": [],
   "source": [
    "# USE Embeddings + StratifiedClassifier(5 x BestSGDClassifier) + CleanlabLabels(model=BERT)[:2500]\n",
    "\n",
    "pd.Series(test_pred, name='label').to_csv(f'{PATH}/Submissions/submission_9.csv', index=False)\n",
    "pd.read_csv(f'{PATH}/Submissions/submission_9.csv')\n",
    "\n",
    "# 10-fold-cv = 0.756599\n",
    "# public    = 0.80667"
   ]
  },
  {
   "cell_type": "code",
   "execution_count": null,
   "id": "W-ZMy4brxiXI",
   "metadata": {
    "id": "W-ZMy4brxiXI"
   },
   "outputs": [],
   "source": [
    "# USE Embeddings + OneVsRestClassifier(BestSGDClassifier) + CleanlabLabels(model=BERT)[:2500]\n",
    "\n",
    "pd.Series(test_pred, name='label').to_csv(f'{PATH}/Submissions/submission_12.csv', index=False)\n",
    "pd.read_csv(f'{PATH}/Submissions/submission_12.csv')\n",
    "\n",
    "# 10-fold-cv = 0.75680\n",
    "# public    = 0.80667"
   ]
  },
  {
   "cell_type": "code",
   "execution_count": null,
   "id": "6UmlKKbMxmbw",
   "metadata": {
    "id": "6UmlKKbMxmbw"
   },
   "outputs": [],
   "source": [
    "# USE Embeddings + OneVsOneClassifier(BestSGDClassifier) + CleanlabLabels(model=BERT)[:2500]\n",
    "\n",
    "pd.Series(test_pred, name='label').to_csv(f'{PATH}/Submissions/submission_13.csv', index=False)\n",
    "pd.read_csv(f'{PATH}/Submissions/submission_13.csv')\n",
    "\n",
    "# 10-fold-cv = 0.76675\n",
    "# public    = 0.76667"
   ]
  },
  {
   "cell_type": "code",
   "execution_count": null,
   "id": "wWKTocnZzLpc",
   "metadata": {
    "id": "wWKTocnZzLpc"
   },
   "outputs": [],
   "source": [
    "# USE Embeddings + OutputCodeClassifier(BestSGDClassifier) + CleanlabLabels(model=BERT)[:2500]\n",
    "\n",
    "pd.Series(test_pred, name='label').to_csv(f'{PATH}/Submissions/submission_14.csv', index=False)\n",
    "pd.read_csv(f'{PATH}/Submissions/submission_14.csv')\n",
    "\n",
    "# 10-fold-cv = 0.73818\n",
    "# public    = 0.76667"
   ]
  },
  {
   "cell_type": "code",
   "execution_count": null,
   "id": "VBfmqv7WJqhH",
   "metadata": {
    "id": "VBfmqv7WJqhH"
   },
   "outputs": [],
   "source": [
    "# USE Embeddings + StratifiedClassifier(5 x BestSGDClassifier) + MetaModel(BestSGDClassifier)(fited on pred_probs of prev 5 clfs) + CleanlabLabels(model=BERT)[:2500]\n",
    "\n",
    "pd.Series(test_pred, name='label').to_csv(f'{PATH}/Submissions/submission_10.csv', index=False)\n",
    "pd.read_csv(f'{PATH}/Submissions/submission_10.csv')\n",
    "\n",
    "# 10-fold-cv = 0.76231\n",
    "# public    = 0.81333"
   ]
  },
  {
   "cell_type": "code",
   "execution_count": null,
   "id": "mLj0vZblRBp_",
   "metadata": {
    "id": "mLj0vZblRBp_"
   },
   "outputs": [],
   "source": [
    "# USE Embeddings + MEAN_PROBS(BestSGDClassifier & BERT) + CleanlabLabels(model=BERT)[:2500]\n",
    "\n",
    "pd.Series(mean_total_pred, name='label').to_csv(f'{PATH}/Submissions/submission_11.csv', index=False)\n",
    "pd.read_csv(f'{PATH}/Submissions/submission_11.csv')\n",
    "\n",
    "# public    = 0.82667"
   ]
  },
  {
   "cell_type": "code",
   "execution_count": null,
   "id": "GsitLV5eQ323",
   "metadata": {
    "id": "GsitLV5eQ323"
   },
   "outputs": [],
   "source": [
    "### prev. TOP ###\n",
    "# USE Embeddings + MEAN_LOGITS(BestSGDClassifier & BERT) + CleanlabLabels(model=BERT)[:2500]\n",
    "\n",
    "pd.Series(mean_total_pred, name='label').to_csv(f'{PATH}/Submissions/submission_16.csv', index=False)\n",
    "pd.read_csv(f'{PATH}/Submissions/submission_16.csv')\n",
    "\n",
    "# public    = 0.83333"
   ]
  },
  {
   "cell_type": "code",
   "execution_count": null,
   "id": "N5dytZX2KEK8",
   "metadata": {
    "id": "N5dytZX2KEK8"
   },
   "outputs": [],
   "source": [
    "# USE Embeddings + 2-layer-NN + CleanlabLabels(model=BERT)[:2500] (embeddings inside)\n",
    "pd.Series(np.argmax(test_pred, axis=1)+1, name='label').to_csv(f'{PATH}/Submissions/submission_15.csv', index=False)\n",
    "pd.read_csv(f'{PATH}/Submissions/submission_15.csv')\n",
    "\n",
    "# val_result = 0.7667\n",
    "# public    =  0.82000\n",
    "--------\n",
    "# USE Embeddings + 2-layer-NN + CleanlabLabels(model=BERT)[:2500] (embeddings outside)\n",
    "pd.Series(np.argmax(test_pred, axis=1)+1, name='label').to_csv(f'{PATH}/Submissions/submission_15_1.csv', index=False)\n",
    "pd.read_csv(f'{PATH}/Submissions/submission_15_1.csv')\n",
    "\n",
    "# val_result = 0.7638\n",
    "# public    =  0.77333"
   ]
  },
  {
   "cell_type": "code",
   "execution_count": null,
   "id": "AOQC5LpTVtWc",
   "metadata": {
    "id": "AOQC5LpTVtWc"
   },
   "outputs": [],
   "source": [
    "### TOP 2 ###\n",
    "# USE_LARGE Embeddings + BestSGDClassifier + CleanlabLabels(model=BERT)[:2500]\n",
    "pd.Series(test_pred, name='label').to_csv(f'{PATH}/Submissions/submission_17.csv', index=False)\n",
    "pd.read_csv(f'{PATH}/Submissions/submission_17.csv')\n",
    "\n",
    "# 10-fold-cv = 0.79403\n",
    "# public    =  0.84000"
   ]
  },
  {
   "cell_type": "code",
   "execution_count": null,
   "id": "vcaWlWOwZBha",
   "metadata": {
    "id": "vcaWlWOwZBha"
   },
   "outputs": [],
   "source": [
    "### TOP 1 ###\n",
    "# USE_LARGE Embeddings + MEAN_LOGITS(BestSGDClassifier & BERT) + CleanlabLabels(model=BERT)[:2500]\n",
    "\n",
    "pd.Series(mean_total_pred, name='label').to_csv(f'{PATH}/Submissions/submission_18.csv', index=False)\n",
    "pd.read_csv(f'{PATH}/Submissions/submission_18.csv')\n",
    "\n",
    "# public    = 0.87333"
   ]
  },
  {
   "cell_type": "code",
   "execution_count": null,
   "id": "dalrY5NuDh2O",
   "metadata": {
    "id": "dalrY5NuDh2O"
   },
   "outputs": [],
   "source": [
    "# USE_LARGE Embeddings + WEIGHTED_LOGITS(BestSGDClassifier & BERT) + CleanlabLabels(model=BERT)[:2500]\n",
    "\n",
    "# submission_25_0.0-and-1.0 - 0.84000 (only BestSGDClassifier)\n",
    "# submission_25_0.1-and-0.9 - 0.84667\n",
    "# submission_25_0.2-and-0.8 - 0.85333\n",
    "# submission_25_0.3-and-0.7 - 0.85333\n",
    "## submission_25_0.4-and-0.6 - 0.86667\n",
    "### submission_25_0.5-and-0.5 - 0.87333\n",
    "## submission_25_0.6-and-0.4 - 0.86000\n",
    "# submission_25_0.7-and-0.3 - 0.84667\n",
    "# submission_25_0.8-and-0.2 - 0.84667\n",
    "# submission_25_0.9-and-0.1 - 0.83333\n",
    "# submission_25_1.0-and-0.0 - 0.81333 (only BERT)"
   ]
  },
  {
   "cell_type": "code",
   "execution_count": null,
   "id": "WmznPwsTinvY",
   "metadata": {
    "id": "WmznPwsTinvY"
   },
   "outputs": [],
   "source": [
    "# USE_LARGE Embeddings + SGDClassifier_GCV + CleanlabLabels(model=BERT)[:2500]\n",
    "pd.Series(test_preds, name='label').to_csv(f'{PATH}/Submissions/submission_19.csv', index=False)\n",
    "pd.read_csv(f'{PATH}/Submissions/submission_19.csv')\n",
    "\n",
    "# 5-fold-cv = 0.78861\n",
    "# public    = 0.80667"
   ]
  },
  {
   "cell_type": "code",
   "execution_count": null,
   "id": "0P8Sk657XwZi",
   "metadata": {
    "id": "0P8Sk657XwZi"
   },
   "outputs": [],
   "source": [
    "### BEST ### \n",
    "# USE_CMLM Embeddings + NN_1 + CleanlabLabels(model=BERT)[:2500]\n",
    "pd.Series(np.argmax(test_preds, axis=1)+1, name='label').to_csv(f'{PATH}/Submissions/submission_21.csv', index=False)\n",
    "pd.read_csv(f'{PATH}/Submissions/submission_21.csv')\n",
    "\n",
    "# 10-fold cv: 0.81865\n",
    "# val_result = 0.8100\n",
    "# public    =  0.83333"
   ]
  },
  {
   "cell_type": "code",
   "execution_count": null,
   "id": "C3UnD391Ssww",
   "metadata": {
    "id": "C3UnD391Ssww"
   },
   "outputs": [],
   "source": [
    "# USE_CMLM Embeddings + NN_2 + CleanlabLabels(model=BERT)[:2500]\n",
    "pd.Series(np.argmax(test_preds, axis=1)+1, name='label').to_csv(f'{PATH}/Submissions/submission_26.csv', index=False)\n",
    "pd.read_csv(f'{PATH}/Submissions/submission_26.csv')\n",
    "# 9 epochs\n",
    "\n",
    "# public    =  0.79333\n",
    "----------\n",
    "# USE_CMLM Embeddings + NN_2_1 + CleanlabLabels(model=BERT)[:2500]\n",
    "pd.Series(np.argmax(test_preds, axis=1)+1, name='label').to_csv(f'{PATH}/Submissions/submission_26_1.csv', index=False)\n",
    "pd.read_csv(f'{PATH}/Submissions/submission_26_1.csv')\n",
    "# 7 epochs\n",
    "\n",
    "# 10-fold cv =  0.82387\n",
    "# public     =  0.81333"
   ]
  },
  {
   "cell_type": "code",
   "execution_count": null,
   "id": "kxBlcD7Nb-og",
   "metadata": {
    "id": "kxBlcD7Nb-og"
   },
   "outputs": [],
   "source": [
    "### BEST ###\n",
    "# USE_CMLM Embeddings + NN_3 + CleanlabLabels(model=BERT)[:2500]\n",
    "pd.Series(np.argmax(test_preds, axis=1)+1, name='label').to_csv(f'{PATH}/Submissions/submission_27_1.csv', index=False)\n",
    "pd.read_csv(f'{PATH}/Submissions/submission_27_1.csv')\n",
    "\n",
    "# 10-fold cv (4 epoch)  = 0.82269\n",
    "# public (4 epoch)      = 0.79333 # sumbission 27\n",
    "# public (5 epoch) = 0.83333 # sumbission 27_1 / nn_3"
   ]
  },
  {
   "cell_type": "code",
   "execution_count": null,
   "id": "XaBRMqs3cY01",
   "metadata": {
    "id": "XaBRMqs3cY01"
   },
   "outputs": [],
   "source": [
    "### pre TOP ###\n",
    "# MEAN([USE_LARGE+BestSGDClassifier] & [BERT] & [USE_CMLM+NN_1probs])) + CleanlabLabels(model=BERT)[:2500]\n",
    "\n",
    "pd.Series(mean_total_pred, name='label').to_csv(f'{PATH}/Submissions/submission_22.csv', index=False)\n",
    "pd.read_csv(f'{PATH}/Submissions/submission_22.csv')\n",
    "\n",
    "# public    = 0.87333"
   ]
  },
  {
   "cell_type": "code",
   "execution_count": null,
   "id": "KODOa0hCdBq7",
   "metadata": {
    "id": "KODOa0hCdBq7"
   },
   "outputs": [],
   "source": [
    "# MEAN([USE_LARGE+BestSGDClassifier] & [USE_CMLM+NN_1probs])) + CleanlabLabels(model=BERT)[:2500]\n",
    "\n",
    "pd.Series(mean_total_pred_1, name='label').to_csv(f'{PATH}/Submissions/submission_22_1.csv', index=False)\n",
    "pd.read_csv(f'{PATH}/Submissions/submission_22_1.csv')\n",
    "\n",
    "# public    = 0.86000"
   ]
  },
  {
   "cell_type": "code",
   "execution_count": null,
   "id": "EL32JHO9gj91",
   "metadata": {
    "id": "EL32JHO9gj91"
   },
   "outputs": [],
   "source": [
    "### pre TOP ###\n",
    "# MEAN_LOGITS([USE_LARGE+BestSGDClassifier] & [BERT] & [USE_CMLM+NN_3])) + CleanlabLabels(model=BERT)[:2500]\n",
    "\n",
    "pd.Series(mean_total_pred, name='label').to_csv(f'{PATH}/Submissions/submission_28.csv', index=False)\n",
    "pd.read_csv(f'{PATH}/Submissions/submission_28.csv')\n",
    "\n",
    "# public    = 0.86000"
   ]
  },
  {
   "cell_type": "code",
   "execution_count": null,
   "id": "xrlm3bbig5D5",
   "metadata": {
    "id": "xrlm3bbig5D5"
   },
   "outputs": [],
   "source": [
    "### pre TOP ###\n",
    "# MEAN_LOGITS([USE_LARGE+BestSGDClassifier] & [USE_CMLM+NN_3])) + CleanlabLabels(model=BERT)[:2500]\n",
    "\n",
    "pd.Series(mean_total_pred_1, name='label').to_csv(f'{PATH}/Submissions/submission_28_1.csv', index=False)\n",
    "pd.read_csv(f'{PATH}/Submissions/submission_28_1.csv')\n",
    "\n",
    "# public    = 0.84667"
   ]
  },
  {
   "cell_type": "code",
   "execution_count": null,
   "id": "s9Z4qce9nhqH",
   "metadata": {
    "id": "s9Z4qce9nhqH"
   },
   "outputs": [],
   "source": [
    "### pre TOP ###\n",
    "# MEAN_LOGITS([BERT] & [USE_CMLM+NN_3])) + CleanlabLabels(model=BERT)[:2500]\n",
    "\n",
    "pd.Series(mean_total_pred_2, name='label').to_csv(f'{PATH}/Submissions/submission_28_4.csv', index=False)\n",
    "pd.read_csv(f'{PATH}/Submissions/submission_28_4.csv')\n",
    "\n",
    "# public    = 0.83333"
   ]
  },
  {
   "cell_type": "code",
   "execution_count": null,
   "id": "ZYK45QxRjLYW",
   "metadata": {
    "id": "ZYK45QxRjLYW"
   },
   "outputs": [],
   "source": [
    "# MEAN_PROBS([USE_LARGE+BestSGDClassifier] & [BERT] & [USE_CMLM+NN_3])) + CleanlabLabels(model=BERT)[:2500]\n",
    "\n",
    "pd.Series(mean_total_pred, name='label').to_csv(f'{PATH}/Submissions/submission_28_2.csv', index=False)\n",
    "pd.read_csv(f'{PATH}/Submissions/submission_28_2.csv')\n",
    "\n",
    "# public    = 0.86000"
   ]
  },
  {
   "cell_type": "code",
   "execution_count": null,
   "id": "ODSfCRTgjLYY",
   "metadata": {
    "id": "ODSfCRTgjLYY"
   },
   "outputs": [],
   "source": [
    "# MEAN_PROBS([USE_LARGE+BestSGDClassifier] & [USE_CMLM+NN_3])) + CleanlabLabels(model=BERT)[:2500]\n",
    "\n",
    "pd.Series(mean_total_pred_1, name='label').to_csv(f'{PATH}/Submissions/submission_28_3.csv', index=False)\n",
    "pd.read_csv(f'{PATH}/Submissions/submission_28_3.csv')\n",
    "\n",
    "# public    = 0.86000"
   ]
  },
  {
   "cell_type": "code",
   "execution_count": null,
   "id": "9kyYMpCZnhqH",
   "metadata": {
    "id": "9kyYMpCZnhqH"
   },
   "outputs": [],
   "source": [
    "# MEAN_PROBS([BERT] & [USE_CMLM+NN_3])) + CleanlabLabels(model=BERT)[:2500]\n",
    "\n",
    "pd.Series(mean_total_pred_2, name='label').to_csv(f'{PATH}/Submissions/submission_28_5.csv', index=False)\n",
    "pd.read_csv(f'{PATH}/Submissions/submission_28_5.csv')\n",
    "\n",
    "# public    = 0.84000"
   ]
  },
  {
   "cell_type": "code",
   "execution_count": null,
   "id": "6HFCRu1Z4dsD",
   "metadata": {
    "id": "6HFCRu1Z4dsD"
   },
   "outputs": [],
   "source": [
    "# USE_LARGE Embeddings + SGDClassifier_GCV_on-dirty-data + CleanlabLabels(model=BERT)[:2500]\n",
    "pd.Series(test_preds, name='label').to_csv(f'{PATH}/Submissions/submission_23.csv', index=False)\n",
    "pd.read_csv(f'{PATH}/Submissions/submission_23.csv')\n",
    "\n",
    "# 5-fold-cv-on-dirty  = 0.67223\n",
    "# 10-fold-cv-on-clean = 0.79167\n",
    "# public              = 0.84000"
   ]
  },
  {
   "cell_type": "code",
   "execution_count": null,
   "id": "JvzV9EGX8LkZ",
   "metadata": {
    "id": "JvzV9EGX8LkZ"
   },
   "outputs": [],
   "source": [
    "# USE_LARGE Embeddings + KNN + CleanlabLabels(model=BERT)[:2500]\n",
    "pd.Series(test_preds, name='label').to_csv(f'{PATH}/Submissions/submission_24.csv', index=False)\n",
    "pd.read_csv(f'{PATH}/Submissions/submission_24.csv')\n",
    "\n",
    "# 10-fold-cv = 0.71602\n",
    "# public    =  0.75333"
   ]
  },
  {
   "cell_type": "code",
   "execution_count": null,
   "id": "4U5DvzytMTJ6",
   "metadata": {
    "id": "4U5DvzytMTJ6"
   },
   "outputs": [],
   "source": [
    "### BEST 1 ###\n",
    "pd.Series(test_preds, name='label').to_csv(f'{PATH}/Submissions/submission_29.csv', index=False)\n",
    "pd.read_csv(f'{PATH}/Submissions/submission_29.csv')\n",
    "\n",
    "# 10-fold-cv = 0.82309\n",
    "# public    = 0.86667"
   ]
  },
  {
   "cell_type": "code",
   "execution_count": null,
   "id": "8bppcY_r_3gV",
   "metadata": {
    "id": "8bppcY_r_3gV"
   },
   "outputs": [],
   "source": [
    "### FINAL BEST SOLUTION ###\n",
    "# MEAN_LOGITS(META_MODEL & BERT)\n",
    "pd.Series(mean_total_pred, name='label').to_csv(f'{PATH}/Submissions/submission_30.csv', index=False)\n",
    "pd.read_csv(f'{PATH}/Submissions/submission_30.csv')\n",
    "\n",
    "# public    = 0.88000"
   ]
  },
  {
   "cell_type": "code",
   "execution_count": null,
   "id": "98_rbSarCP1v",
   "metadata": {
    "id": "98_rbSarCP1v"
   },
   "outputs": [],
   "source": [
    "# MEAN_PROBS(META_MODEL & BERT)\n",
    "pd.Series(mean_total_pred_probs, name='label').to_csv(f'{PATH}/Submissions/submission_30_1.csv', index=False)\n",
    "pd.read_csv(f'{PATH}/Submissions/submission_30_1.csv')\n",
    "\n",
    "# public    = 0.87333"
   ]
  }
 ],
 "metadata": {
  "colab": {
   "collapsed_sections": [
    "yssWhYQogYxL",
    "9U97UYJTSO_r",
    "dOcr9qt3aYGH",
    "GSPvrFHnWRxE",
    "8I52Bs_YZiHb",
    "e8LVS9bWKA19",
    "READMWVVJ31i"
   ],
   "provenance": []
  },
  "gpuClass": "standard",
  "kernelspec": {
   "display_name": "Python 3 (ipykernel)",
   "language": "python",
   "name": "python3"
  },
  "language_info": {
   "codemirror_mode": {
    "name": "ipython",
    "version": 3
   },
   "file_extension": ".py",
   "mimetype": "text/x-python",
   "name": "python",
   "nbconvert_exporter": "python",
   "pygments_lexer": "ipython3",
   "version": "3.10.9"
  },
  "widgets": {
   "application/vnd.jupyter.widget-state+json": {
    "01f72adfe4094c2b957fa633a86cf9f1": {
     "model_module": "@jupyter-widgets/base",
     "model_module_version": "1.2.0",
     "model_name": "LayoutModel",
     "state": {
      "_model_module": "@jupyter-widgets/base",
      "_model_module_version": "1.2.0",
      "_model_name": "LayoutModel",
      "_view_count": null,
      "_view_module": "@jupyter-widgets/base",
      "_view_module_version": "1.2.0",
      "_view_name": "LayoutView",
      "align_content": null,
      "align_items": null,
      "align_self": null,
      "border": null,
      "bottom": null,
      "display": null,
      "flex": null,
      "flex_flow": null,
      "grid_area": null,
      "grid_auto_columns": null,
      "grid_auto_flow": null,
      "grid_auto_rows": null,
      "grid_column": null,
      "grid_gap": null,
      "grid_row": null,
      "grid_template_areas": null,
      "grid_template_columns": null,
      "grid_template_rows": null,
      "height": null,
      "justify_content": null,
      "justify_items": null,
      "left": null,
      "margin": null,
      "max_height": null,
      "max_width": null,
      "min_height": null,
      "min_width": null,
      "object_fit": null,
      "object_position": null,
      "order": null,
      "overflow": null,
      "overflow_x": null,
      "overflow_y": null,
      "padding": null,
      "right": null,
      "top": null,
      "visibility": null,
      "width": null
     }
    },
    "05fdf041c960495ebe6f058a85eea686": {
     "model_module": "@jupyter-widgets/controls",
     "model_module_version": "1.5.0",
     "model_name": "HTMLModel",
     "state": {
      "_dom_classes": [],
      "_model_module": "@jupyter-widgets/controls",
      "_model_module_version": "1.5.0",
      "_model_name": "HTMLModel",
      "_view_count": null,
      "_view_module": "@jupyter-widgets/controls",
      "_view_module_version": "1.5.0",
      "_view_name": "HTMLView",
      "description": "",
      "description_tooltip": null,
      "layout": "IPY_MODEL_45ecddb6a37f4b31a7929cd0dd78e0e6",
      "placeholder": "​",
      "style": "IPY_MODEL_b66022ddbf264ba28500711b358826d5",
      "value": " 2.56M/2.56M [00:00&lt;00:00, 38.1MB/s]"
     }
    },
    "07499d72080b46718882893285a7ffe3": {
     "model_module": "@jupyter-widgets/controls",
     "model_module_version": "1.5.0",
     "model_name": "ProgressStyleModel",
     "state": {
      "_model_module": "@jupyter-widgets/controls",
      "_model_module_version": "1.5.0",
      "_model_name": "ProgressStyleModel",
      "_view_count": null,
      "_view_module": "@jupyter-widgets/base",
      "_view_module_version": "1.2.0",
      "_view_name": "StyleView",
      "bar_color": null,
      "description_width": ""
     }
    },
    "088e52948cd64d8a8c97c2c60ef0e52d": {
     "model_module": "@jupyter-widgets/base",
     "model_module_version": "1.2.0",
     "model_name": "LayoutModel",
     "state": {
      "_model_module": "@jupyter-widgets/base",
      "_model_module_version": "1.2.0",
      "_model_name": "LayoutModel",
      "_view_count": null,
      "_view_module": "@jupyter-widgets/base",
      "_view_module_version": "1.2.0",
      "_view_name": "LayoutView",
      "align_content": null,
      "align_items": null,
      "align_self": null,
      "border": null,
      "bottom": null,
      "display": null,
      "flex": null,
      "flex_flow": null,
      "grid_area": null,
      "grid_auto_columns": null,
      "grid_auto_flow": null,
      "grid_auto_rows": null,
      "grid_column": null,
      "grid_gap": null,
      "grid_row": null,
      "grid_template_areas": null,
      "grid_template_columns": null,
      "grid_template_rows": null,
      "height": null,
      "justify_content": null,
      "justify_items": null,
      "left": null,
      "margin": null,
      "max_height": null,
      "max_width": null,
      "min_height": null,
      "min_width": null,
      "object_fit": null,
      "object_position": null,
      "order": null,
      "overflow": null,
      "overflow_x": null,
      "overflow_y": null,
      "padding": null,
      "right": null,
      "top": null,
      "visibility": null,
      "width": null
     }
    },
    "08f020b7acab43d1a1cd4c916c9a04c6": {
     "model_module": "@jupyter-widgets/controls",
     "model_module_version": "1.5.0",
     "model_name": "HBoxModel",
     "state": {
      "_dom_classes": [],
      "_model_module": "@jupyter-widgets/controls",
      "_model_module_version": "1.5.0",
      "_model_name": "HBoxModel",
      "_view_count": null,
      "_view_module": "@jupyter-widgets/controls",
      "_view_module_version": "1.5.0",
      "_view_name": "HBoxView",
      "box_style": "",
      "children": [
       "IPY_MODEL_79d4b082d43b4f838dd658b6da4994b3",
       "IPY_MODEL_2a7f7e5e94374a28aa6f7b182c92fe75",
       "IPY_MODEL_14b3d984878240a6a3ae52085c160574"
      ],
      "layout": "IPY_MODEL_ab5ee135cb8e47839ef9c7223afbb420"
     }
    },
    "0d77d7feeee04b069a14008d84162a4c": {
     "model_module": "@jupyter-widgets/controls",
     "model_module_version": "1.5.0",
     "model_name": "HTMLModel",
     "state": {
      "_dom_classes": [],
      "_model_module": "@jupyter-widgets/controls",
      "_model_module_version": "1.5.0",
      "_model_name": "HTMLModel",
      "_view_count": null,
      "_view_module": "@jupyter-widgets/controls",
      "_view_module_version": "1.5.0",
      "_view_name": "HTMLView",
      "description": "",
      "description_tooltip": null,
      "layout": "IPY_MODEL_383112d20a904c7593e19f9f4a6aebeb",
      "placeholder": "​",
      "style": "IPY_MODEL_be993419cf734f1ba0dc318e3a26d159",
      "value": "100%"
     }
    },
    "14b3d984878240a6a3ae52085c160574": {
     "model_module": "@jupyter-widgets/controls",
     "model_module_version": "1.5.0",
     "model_name": "HTMLModel",
     "state": {
      "_dom_classes": [],
      "_model_module": "@jupyter-widgets/controls",
      "_model_module_version": "1.5.0",
      "_model_name": "HTMLModel",
      "_view_count": null,
      "_view_module": "@jupyter-widgets/controls",
      "_view_module_version": "1.5.0",
      "_view_name": "HTMLView",
      "description": "",
      "description_tooltip": null,
      "layout": "IPY_MODEL_a8df8ab7d3fc4e0fa311b2f8a06f3ede",
      "placeholder": "​",
      "style": "IPY_MODEL_49978b7eed144097aa7f849104f64170",
      "value": " 112/112 [00:00&lt;00:00, 2.76kB/s]"
     }
    },
    "1529bbf89b0149c5b5d117d02f12a046": {
     "model_module": "@jupyter-widgets/controls",
     "model_module_version": "1.5.0",
     "model_name": "HBoxModel",
     "state": {
      "_dom_classes": [],
      "_model_module": "@jupyter-widgets/controls",
      "_model_module_version": "1.5.0",
      "_model_name": "HBoxModel",
      "_view_count": null,
      "_view_module": "@jupyter-widgets/controls",
      "_view_module_version": "1.5.0",
      "_view_name": "HBoxView",
      "box_style": "",
      "children": [
       "IPY_MODEL_f37383c07d8f4e6585f359e120aaf2ff",
       "IPY_MODEL_aec1149b21e94cfd8c909ff6ace7ec9a",
       "IPY_MODEL_6f708728beb64c5d97a1701549bee662"
      ],
      "layout": "IPY_MODEL_f464181d8b0b433b95e61d61ab0fa4ed"
     }
    },
    "163cb5101c2a431b9771092298770d8b": {
     "model_module": "@jupyter-widgets/base",
     "model_module_version": "1.2.0",
     "model_name": "LayoutModel",
     "state": {
      "_model_module": "@jupyter-widgets/base",
      "_model_module_version": "1.2.0",
      "_model_name": "LayoutModel",
      "_view_count": null,
      "_view_module": "@jupyter-widgets/base",
      "_view_module_version": "1.2.0",
      "_view_name": "LayoutView",
      "align_content": null,
      "align_items": null,
      "align_self": null,
      "border": null,
      "bottom": null,
      "display": null,
      "flex": null,
      "flex_flow": null,
      "grid_area": null,
      "grid_auto_columns": null,
      "grid_auto_flow": null,
      "grid_auto_rows": null,
      "grid_column": null,
      "grid_gap": null,
      "grid_row": null,
      "grid_template_areas": null,
      "grid_template_columns": null,
      "grid_template_rows": null,
      "height": null,
      "justify_content": null,
      "justify_items": null,
      "left": null,
      "margin": null,
      "max_height": null,
      "max_width": null,
      "min_height": null,
      "min_width": null,
      "object_fit": null,
      "object_position": null,
      "order": null,
      "overflow": null,
      "overflow_x": null,
      "overflow_y": null,
      "padding": null,
      "right": null,
      "top": null,
      "visibility": null,
      "width": null
     }
    },
    "1d254f882ba446028166e922ac338f5d": {
     "model_module": "@jupyter-widgets/controls",
     "model_module_version": "1.5.0",
     "model_name": "DescriptionStyleModel",
     "state": {
      "_model_module": "@jupyter-widgets/controls",
      "_model_module_version": "1.5.0",
      "_model_name": "DescriptionStyleModel",
      "_view_count": null,
      "_view_module": "@jupyter-widgets/base",
      "_view_module_version": "1.2.0",
      "_view_name": "StyleView",
      "description_width": ""
     }
    },
    "1eade666b1ad41c68a4825565c6e1ef2": {
     "model_module": "@jupyter-widgets/controls",
     "model_module_version": "1.5.0",
     "model_name": "HTMLModel",
     "state": {
      "_dom_classes": [],
      "_model_module": "@jupyter-widgets/controls",
      "_model_module_version": "1.5.0",
      "_model_name": "HTMLModel",
      "_view_count": null,
      "_view_module": "@jupyter-widgets/controls",
      "_view_module_version": "1.5.0",
      "_view_name": "HTMLView",
      "description": "",
      "description_tooltip": null,
      "layout": "IPY_MODEL_088e52948cd64d8a8c97c2c60ef0e52d",
      "placeholder": "​",
      "style": "IPY_MODEL_99dfc68faf2043aaac53690e69698f0e",
      "value": "100%"
     }
    },
    "20e938190b3c408bb157d36874a9ee51": {
     "model_module": "@jupyter-widgets/base",
     "model_module_version": "1.2.0",
     "model_name": "LayoutModel",
     "state": {
      "_model_module": "@jupyter-widgets/base",
      "_model_module_version": "1.2.0",
      "_model_name": "LayoutModel",
      "_view_count": null,
      "_view_module": "@jupyter-widgets/base",
      "_view_module_version": "1.2.0",
      "_view_name": "LayoutView",
      "align_content": null,
      "align_items": null,
      "align_self": null,
      "border": null,
      "bottom": null,
      "display": null,
      "flex": null,
      "flex_flow": null,
      "grid_area": null,
      "grid_auto_columns": null,
      "grid_auto_flow": null,
      "grid_auto_rows": null,
      "grid_column": null,
      "grid_gap": null,
      "grid_row": null,
      "grid_template_areas": null,
      "grid_template_columns": null,
      "grid_template_rows": null,
      "height": null,
      "justify_content": null,
      "justify_items": null,
      "left": null,
      "margin": null,
      "max_height": null,
      "max_width": null,
      "min_height": null,
      "min_width": null,
      "object_fit": null,
      "object_position": null,
      "order": null,
      "overflow": null,
      "overflow_x": null,
      "overflow_y": null,
      "padding": null,
      "right": null,
      "top": null,
      "visibility": null,
      "width": null
     }
    },
    "2114eebed05f48e085e483fa4604a0f5": {
     "model_module": "@jupyter-widgets/controls",
     "model_module_version": "1.5.0",
     "model_name": "DescriptionStyleModel",
     "state": {
      "_model_module": "@jupyter-widgets/controls",
      "_model_module_version": "1.5.0",
      "_model_name": "DescriptionStyleModel",
      "_view_count": null,
      "_view_module": "@jupyter-widgets/base",
      "_view_module_version": "1.2.0",
      "_view_name": "StyleView",
      "description_width": ""
     }
    },
    "221a54f4416e44958e21ea60f903e21a": {
     "model_module": "@jupyter-widgets/base",
     "model_module_version": "1.2.0",
     "model_name": "LayoutModel",
     "state": {
      "_model_module": "@jupyter-widgets/base",
      "_model_module_version": "1.2.0",
      "_model_name": "LayoutModel",
      "_view_count": null,
      "_view_module": "@jupyter-widgets/base",
      "_view_module_version": "1.2.0",
      "_view_name": "LayoutView",
      "align_content": null,
      "align_items": null,
      "align_self": null,
      "border": null,
      "bottom": null,
      "display": null,
      "flex": null,
      "flex_flow": null,
      "grid_area": null,
      "grid_auto_columns": null,
      "grid_auto_flow": null,
      "grid_auto_rows": null,
      "grid_column": null,
      "grid_gap": null,
      "grid_row": null,
      "grid_template_areas": null,
      "grid_template_columns": null,
      "grid_template_rows": null,
      "height": null,
      "justify_content": null,
      "justify_items": null,
      "left": null,
      "margin": null,
      "max_height": null,
      "max_width": null,
      "min_height": null,
      "min_width": null,
      "object_fit": null,
      "object_position": null,
      "order": null,
      "overflow": null,
      "overflow_x": null,
      "overflow_y": null,
      "padding": null,
      "right": null,
      "top": null,
      "visibility": null,
      "width": null
     }
    },
    "2a7f7e5e94374a28aa6f7b182c92fe75": {
     "model_module": "@jupyter-widgets/controls",
     "model_module_version": "1.5.0",
     "model_name": "FloatProgressModel",
     "state": {
      "_dom_classes": [],
      "_model_module": "@jupyter-widgets/controls",
      "_model_module_version": "1.5.0",
      "_model_name": "FloatProgressModel",
      "_view_count": null,
      "_view_module": "@jupyter-widgets/controls",
      "_view_module_version": "1.5.0",
      "_view_name": "ProgressView",
      "bar_style": "success",
      "description": "",
      "description_tooltip": null,
      "layout": "IPY_MODEL_5b86c0e69dfd424185533b88be377117",
      "max": 112,
      "min": 0,
      "orientation": "horizontal",
      "style": "IPY_MODEL_75c4d68ebc41432ca1e96773b27d0317",
      "value": 112
     }
    },
    "2c71bfe4c9864b139b9caae3743f8544": {
     "model_module": "@jupyter-widgets/controls",
     "model_module_version": "1.5.0",
     "model_name": "FloatProgressModel",
     "state": {
      "_dom_classes": [],
      "_model_module": "@jupyter-widgets/controls",
      "_model_module_version": "1.5.0",
      "_model_name": "FloatProgressModel",
      "_view_count": null,
      "_view_module": "@jupyter-widgets/controls",
      "_view_module_version": "1.5.0",
      "_view_name": "ProgressView",
      "bar_style": "success",
      "description": "",
      "description_tooltip": null,
      "layout": "IPY_MODEL_af5a0bad34eb41efbbc438c489b83f91",
      "max": 669512045,
      "min": 0,
      "orientation": "horizontal",
      "style": "IPY_MODEL_65a662c35b7e48aba16387f0f72bf394",
      "value": 669512045
     }
    },
    "383112d20a904c7593e19f9f4a6aebeb": {
     "model_module": "@jupyter-widgets/base",
     "model_module_version": "1.2.0",
     "model_name": "LayoutModel",
     "state": {
      "_model_module": "@jupyter-widgets/base",
      "_model_module_version": "1.2.0",
      "_model_name": "LayoutModel",
      "_view_count": null,
      "_view_module": "@jupyter-widgets/base",
      "_view_module_version": "1.2.0",
      "_view_name": "LayoutView",
      "align_content": null,
      "align_items": null,
      "align_self": null,
      "border": null,
      "bottom": null,
      "display": null,
      "flex": null,
      "flex_flow": null,
      "grid_area": null,
      "grid_auto_columns": null,
      "grid_auto_flow": null,
      "grid_auto_rows": null,
      "grid_column": null,
      "grid_gap": null,
      "grid_row": null,
      "grid_template_areas": null,
      "grid_template_columns": null,
      "grid_template_rows": null,
      "height": null,
      "justify_content": null,
      "justify_items": null,
      "left": null,
      "margin": null,
      "max_height": null,
      "max_width": null,
      "min_height": null,
      "min_width": null,
      "object_fit": null,
      "object_position": null,
      "order": null,
      "overflow": null,
      "overflow_x": null,
      "overflow_y": null,
      "padding": null,
      "right": null,
      "top": null,
      "visibility": null,
      "width": null
     }
    },
    "3ce53fd699774b5a83608e0e61dda403": {
     "model_module": "@jupyter-widgets/base",
     "model_module_version": "1.2.0",
     "model_name": "LayoutModel",
     "state": {
      "_model_module": "@jupyter-widgets/base",
      "_model_module_version": "1.2.0",
      "_model_name": "LayoutModel",
      "_view_count": null,
      "_view_module": "@jupyter-widgets/base",
      "_view_module_version": "1.2.0",
      "_view_name": "LayoutView",
      "align_content": null,
      "align_items": null,
      "align_self": null,
      "border": null,
      "bottom": null,
      "display": null,
      "flex": null,
      "flex_flow": null,
      "grid_area": null,
      "grid_auto_columns": null,
      "grid_auto_flow": null,
      "grid_auto_rows": null,
      "grid_column": null,
      "grid_gap": null,
      "grid_row": null,
      "grid_template_areas": null,
      "grid_template_columns": null,
      "grid_template_rows": null,
      "height": null,
      "justify_content": null,
      "justify_items": null,
      "left": null,
      "margin": null,
      "max_height": null,
      "max_width": null,
      "min_height": null,
      "min_width": null,
      "object_fit": null,
      "object_position": null,
      "order": null,
      "overflow": null,
      "overflow_x": null,
      "overflow_y": null,
      "padding": null,
      "right": null,
      "top": null,
      "visibility": null,
      "width": null
     }
    },
    "4079a8da875542f2a6d57bacaf956947": {
     "model_module": "@jupyter-widgets/controls",
     "model_module_version": "1.5.0",
     "model_name": "HTMLModel",
     "state": {
      "_dom_classes": [],
      "_model_module": "@jupyter-widgets/controls",
      "_model_module_version": "1.5.0",
      "_model_name": "HTMLModel",
      "_view_count": null,
      "_view_module": "@jupyter-widgets/controls",
      "_view_module_version": "1.5.0",
      "_view_name": "HTMLView",
      "description": "",
      "description_tooltip": null,
      "layout": "IPY_MODEL_3ce53fd699774b5a83608e0e61dda403",
      "placeholder": "​",
      "style": "IPY_MODEL_a90cd936cf6147e0a0e0fe870d292661",
      "value": " 11/11 [00:35&lt;00:00,  3.61s/it]"
     }
    },
    "412efa757a5f4eafa3eb50bd74b8d2a7": {
     "model_module": "@jupyter-widgets/controls",
     "model_module_version": "1.5.0",
     "model_name": "FloatProgressModel",
     "state": {
      "_dom_classes": [],
      "_model_module": "@jupyter-widgets/controls",
      "_model_module_version": "1.5.0",
      "_model_name": "FloatProgressModel",
      "_view_count": null,
      "_view_module": "@jupyter-widgets/controls",
      "_view_module_version": "1.5.0",
      "_view_name": "ProgressView",
      "bar_style": "success",
      "description": "",
      "description_tooltip": null,
      "layout": "IPY_MODEL_6be94008882644a2a7733b7c3e84b70d",
      "max": 871891,
      "min": 0,
      "orientation": "horizontal",
      "style": "IPY_MODEL_8e5e6a8ccf764445ab90ae5c54d4ec12",
      "value": 871891
     }
    },
    "414cbef7276946e587df710647911deb": {
     "model_module": "@jupyter-widgets/controls",
     "model_module_version": "1.5.0",
     "model_name": "DescriptionStyleModel",
     "state": {
      "_model_module": "@jupyter-widgets/controls",
      "_model_module_version": "1.5.0",
      "_model_name": "DescriptionStyleModel",
      "_view_count": null,
      "_view_module": "@jupyter-widgets/base",
      "_view_module_version": "1.2.0",
      "_view_name": "StyleView",
      "description_width": ""
     }
    },
    "421407e34e484087b4ddbb999967a771": {
     "model_module": "@jupyter-widgets/base",
     "model_module_version": "1.2.0",
     "model_name": "LayoutModel",
     "state": {
      "_model_module": "@jupyter-widgets/base",
      "_model_module_version": "1.2.0",
      "_model_name": "LayoutModel",
      "_view_count": null,
      "_view_module": "@jupyter-widgets/base",
      "_view_module_version": "1.2.0",
      "_view_name": "LayoutView",
      "align_content": null,
      "align_items": null,
      "align_self": null,
      "border": null,
      "bottom": null,
      "display": null,
      "flex": null,
      "flex_flow": null,
      "grid_area": null,
      "grid_auto_columns": null,
      "grid_auto_flow": null,
      "grid_auto_rows": null,
      "grid_column": null,
      "grid_gap": null,
      "grid_row": null,
      "grid_template_areas": null,
      "grid_template_columns": null,
      "grid_template_rows": null,
      "height": null,
      "justify_content": null,
      "justify_items": null,
      "left": null,
      "margin": null,
      "max_height": null,
      "max_width": null,
      "min_height": null,
      "min_width": null,
      "object_fit": null,
      "object_position": null,
      "order": null,
      "overflow": null,
      "overflow_x": null,
      "overflow_y": null,
      "padding": null,
      "right": null,
      "top": null,
      "visibility": null,
      "width": null
     }
    },
    "44d22121ce6c4351a5a4ae042695bb0b": {
     "model_module": "@jupyter-widgets/controls",
     "model_module_version": "1.5.0",
     "model_name": "HTMLModel",
     "state": {
      "_dom_classes": [],
      "_model_module": "@jupyter-widgets/controls",
      "_model_module_version": "1.5.0",
      "_model_name": "HTMLModel",
      "_view_count": null,
      "_view_module": "@jupyter-widgets/controls",
      "_view_module_version": "1.5.0",
      "_view_name": "HTMLView",
      "description": "",
      "description_tooltip": null,
      "layout": "IPY_MODEL_7192909a1b794c8491f6d5b733d5c4c2",
      "placeholder": "​",
      "style": "IPY_MODEL_1d254f882ba446028166e922ac338f5d",
      "value": " 556/556 [00:00&lt;00:00, 20.5kB/s]"
     }
    },
    "45758c0cf2a74b81868b2c8b89bb82a0": {
     "model_module": "@jupyter-widgets/controls",
     "model_module_version": "1.5.0",
     "model_name": "DescriptionStyleModel",
     "state": {
      "_model_module": "@jupyter-widgets/controls",
      "_model_module_version": "1.5.0",
      "_model_name": "DescriptionStyleModel",
      "_view_count": null,
      "_view_module": "@jupyter-widgets/base",
      "_view_module_version": "1.2.0",
      "_view_name": "StyleView",
      "description_width": ""
     }
    },
    "45ecddb6a37f4b31a7929cd0dd78e0e6": {
     "model_module": "@jupyter-widgets/base",
     "model_module_version": "1.2.0",
     "model_name": "LayoutModel",
     "state": {
      "_model_module": "@jupyter-widgets/base",
      "_model_module_version": "1.2.0",
      "_model_name": "LayoutModel",
      "_view_count": null,
      "_view_module": "@jupyter-widgets/base",
      "_view_module_version": "1.2.0",
      "_view_name": "LayoutView",
      "align_content": null,
      "align_items": null,
      "align_self": null,
      "border": null,
      "bottom": null,
      "display": null,
      "flex": null,
      "flex_flow": null,
      "grid_area": null,
      "grid_auto_columns": null,
      "grid_auto_flow": null,
      "grid_auto_rows": null,
      "grid_column": null,
      "grid_gap": null,
      "grid_row": null,
      "grid_template_areas": null,
      "grid_template_columns": null,
      "grid_template_rows": null,
      "height": null,
      "justify_content": null,
      "justify_items": null,
      "left": null,
      "margin": null,
      "max_height": null,
      "max_width": null,
      "min_height": null,
      "min_width": null,
      "object_fit": null,
      "object_position": null,
      "order": null,
      "overflow": null,
      "overflow_x": null,
      "overflow_y": null,
      "padding": null,
      "right": null,
      "top": null,
      "visibility": null,
      "width": null
     }
    },
    "487a645b439d4718b3e65105efa422c0": {
     "model_module": "@jupyter-widgets/controls",
     "model_module_version": "1.5.0",
     "model_name": "HBoxModel",
     "state": {
      "_dom_classes": [],
      "_model_module": "@jupyter-widgets/controls",
      "_model_module_version": "1.5.0",
      "_model_name": "HBoxModel",
      "_view_count": null,
      "_view_module": "@jupyter-widgets/controls",
      "_view_module_version": "1.5.0",
      "_view_name": "HBoxView",
      "box_style": "",
      "children": [
       "IPY_MODEL_c23c6687602a4aa4be669993315a7079",
       "IPY_MODEL_e13bbc8f8d6c47678658b411419e893b",
       "IPY_MODEL_05fdf041c960495ebe6f058a85eea686"
      ],
      "layout": "IPY_MODEL_e0206d5010c847e787ce414ca99c9c3d"
     }
    },
    "49978b7eed144097aa7f849104f64170": {
     "model_module": "@jupyter-widgets/controls",
     "model_module_version": "1.5.0",
     "model_name": "DescriptionStyleModel",
     "state": {
      "_model_module": "@jupyter-widgets/controls",
      "_model_module_version": "1.5.0",
      "_model_name": "DescriptionStyleModel",
      "_view_count": null,
      "_view_module": "@jupyter-widgets/base",
      "_view_module_version": "1.2.0",
      "_view_name": "StyleView",
      "description_width": ""
     }
    },
    "4f898e45340247e0a0d02b393dd83cac": {
     "model_module": "@jupyter-widgets/controls",
     "model_module_version": "1.5.0",
     "model_name": "FloatProgressModel",
     "state": {
      "_dom_classes": [],
      "_model_module": "@jupyter-widgets/controls",
      "_model_module_version": "1.5.0",
      "_model_name": "FloatProgressModel",
      "_view_count": null,
      "_view_module": "@jupyter-widgets/controls",
      "_view_module_version": "1.5.0",
      "_view_name": "ProgressView",
      "bar_style": "success",
      "description": "",
      "description_tooltip": null,
      "layout": "IPY_MODEL_cb17cb5110d8433bb370f02906032a1b",
      "max": 556,
      "min": 0,
      "orientation": "horizontal",
      "style": "IPY_MODEL_07499d72080b46718882893285a7ffe3",
      "value": 556
     }
    },
    "571a1f127b104cac87f988ee46f2cae1": {
     "model_module": "@jupyter-widgets/controls",
     "model_module_version": "1.5.0",
     "model_name": "HBoxModel",
     "state": {
      "_dom_classes": [],
      "_model_module": "@jupyter-widgets/controls",
      "_model_module_version": "1.5.0",
      "_model_name": "HBoxModel",
      "_view_count": null,
      "_view_module": "@jupyter-widgets/controls",
      "_view_module_version": "1.5.0",
      "_view_name": "HBoxView",
      "box_style": "",
      "children": [
       "IPY_MODEL_0d77d7feeee04b069a14008d84162a4c",
       "IPY_MODEL_79fdf80f0bf74b288a7304bb074b8651",
       "IPY_MODEL_4079a8da875542f2a6d57bacaf956947"
      ],
      "layout": "IPY_MODEL_fe3dab3ae3e9493cb384e2308c76d18e"
     }
    },
    "58af6ac175094e8c8c06aed42983b04d": {
     "model_module": "@jupyter-widgets/controls",
     "model_module_version": "1.5.0",
     "model_name": "DescriptionStyleModel",
     "state": {
      "_model_module": "@jupyter-widgets/controls",
      "_model_module_version": "1.5.0",
      "_model_name": "DescriptionStyleModel",
      "_view_count": null,
      "_view_module": "@jupyter-widgets/base",
      "_view_module_version": "1.2.0",
      "_view_name": "StyleView",
      "description_width": ""
     }
    },
    "5b86c0e69dfd424185533b88be377117": {
     "model_module": "@jupyter-widgets/base",
     "model_module_version": "1.2.0",
     "model_name": "LayoutModel",
     "state": {
      "_model_module": "@jupyter-widgets/base",
      "_model_module_version": "1.2.0",
      "_model_name": "LayoutModel",
      "_view_count": null,
      "_view_module": "@jupyter-widgets/base",
      "_view_module_version": "1.2.0",
      "_view_name": "LayoutView",
      "align_content": null,
      "align_items": null,
      "align_self": null,
      "border": null,
      "bottom": null,
      "display": null,
      "flex": null,
      "flex_flow": null,
      "grid_area": null,
      "grid_auto_columns": null,
      "grid_auto_flow": null,
      "grid_auto_rows": null,
      "grid_column": null,
      "grid_gap": null,
      "grid_row": null,
      "grid_template_areas": null,
      "grid_template_columns": null,
      "grid_template_rows": null,
      "height": null,
      "justify_content": null,
      "justify_items": null,
      "left": null,
      "margin": null,
      "max_height": null,
      "max_width": null,
      "min_height": null,
      "min_width": null,
      "object_fit": null,
      "object_position": null,
      "order": null,
      "overflow": null,
      "overflow_x": null,
      "overflow_y": null,
      "padding": null,
      "right": null,
      "top": null,
      "visibility": null,
      "width": null
     }
    },
    "5d2d1d56a5554b4c86d9203ad3506521": {
     "model_module": "@jupyter-widgets/controls",
     "model_module_version": "1.5.0",
     "model_name": "ProgressStyleModel",
     "state": {
      "_model_module": "@jupyter-widgets/controls",
      "_model_module_version": "1.5.0",
      "_model_name": "ProgressStyleModel",
      "_view_count": null,
      "_view_module": "@jupyter-widgets/base",
      "_view_module_version": "1.2.0",
      "_view_name": "StyleView",
      "bar_color": null,
      "description_width": ""
     }
    },
    "6052cd697ae64e718e68e7c004b218e1": {
     "model_module": "@jupyter-widgets/controls",
     "model_module_version": "1.5.0",
     "model_name": "HTMLModel",
     "state": {
      "_dom_classes": [],
      "_model_module": "@jupyter-widgets/controls",
      "_model_module_version": "1.5.0",
      "_model_name": "HTMLModel",
      "_view_count": null,
      "_view_module": "@jupyter-widgets/controls",
      "_view_module_version": "1.5.0",
      "_view_name": "HTMLView",
      "description": "",
      "description_tooltip": null,
      "layout": "IPY_MODEL_914c861cc1024ef28faf55297f6b15da",
      "placeholder": "​",
      "style": "IPY_MODEL_58af6ac175094e8c8c06aed42983b04d",
      "value": "Downloading (…)okenizer_config.json: 100%"
     }
    },
    "65a662c35b7e48aba16387f0f72bf394": {
     "model_module": "@jupyter-widgets/controls",
     "model_module_version": "1.5.0",
     "model_name": "ProgressStyleModel",
     "state": {
      "_model_module": "@jupyter-widgets/controls",
      "_model_module_version": "1.5.0",
      "_model_name": "ProgressStyleModel",
      "_view_count": null,
      "_view_module": "@jupyter-widgets/base",
      "_view_module_version": "1.2.0",
      "_view_name": "StyleView",
      "bar_color": null,
      "description_width": ""
     }
    },
    "6be82e56dad848049a6d78604190a9af": {
     "model_module": "@jupyter-widgets/base",
     "model_module_version": "1.2.0",
     "model_name": "LayoutModel",
     "state": {
      "_model_module": "@jupyter-widgets/base",
      "_model_module_version": "1.2.0",
      "_model_name": "LayoutModel",
      "_view_count": null,
      "_view_module": "@jupyter-widgets/base",
      "_view_module_version": "1.2.0",
      "_view_name": "LayoutView",
      "align_content": null,
      "align_items": null,
      "align_self": null,
      "border": null,
      "bottom": null,
      "display": null,
      "flex": null,
      "flex_flow": null,
      "grid_area": null,
      "grid_auto_columns": null,
      "grid_auto_flow": null,
      "grid_auto_rows": null,
      "grid_column": null,
      "grid_gap": null,
      "grid_row": null,
      "grid_template_areas": null,
      "grid_template_columns": null,
      "grid_template_rows": null,
      "height": null,
      "justify_content": null,
      "justify_items": null,
      "left": null,
      "margin": null,
      "max_height": null,
      "max_width": null,
      "min_height": null,
      "min_width": null,
      "object_fit": null,
      "object_position": null,
      "order": null,
      "overflow": null,
      "overflow_x": null,
      "overflow_y": null,
      "padding": null,
      "right": null,
      "top": null,
      "visibility": null,
      "width": null
     }
    },
    "6be94008882644a2a7733b7c3e84b70d": {
     "model_module": "@jupyter-widgets/base",
     "model_module_version": "1.2.0",
     "model_name": "LayoutModel",
     "state": {
      "_model_module": "@jupyter-widgets/base",
      "_model_module_version": "1.2.0",
      "_model_name": "LayoutModel",
      "_view_count": null,
      "_view_module": "@jupyter-widgets/base",
      "_view_module_version": "1.2.0",
      "_view_name": "LayoutView",
      "align_content": null,
      "align_items": null,
      "align_self": null,
      "border": null,
      "bottom": null,
      "display": null,
      "flex": null,
      "flex_flow": null,
      "grid_area": null,
      "grid_auto_columns": null,
      "grid_auto_flow": null,
      "grid_auto_rows": null,
      "grid_column": null,
      "grid_gap": null,
      "grid_row": null,
      "grid_template_areas": null,
      "grid_template_columns": null,
      "grid_template_rows": null,
      "height": null,
      "justify_content": null,
      "justify_items": null,
      "left": null,
      "margin": null,
      "max_height": null,
      "max_width": null,
      "min_height": null,
      "min_width": null,
      "object_fit": null,
      "object_position": null,
      "order": null,
      "overflow": null,
      "overflow_x": null,
      "overflow_y": null,
      "padding": null,
      "right": null,
      "top": null,
      "visibility": null,
      "width": null
     }
    },
    "6caf81eae9b54f6f87016088c239ae6d": {
     "model_module": "@jupyter-widgets/base",
     "model_module_version": "1.2.0",
     "model_name": "LayoutModel",
     "state": {
      "_model_module": "@jupyter-widgets/base",
      "_model_module_version": "1.2.0",
      "_model_name": "LayoutModel",
      "_view_count": null,
      "_view_module": "@jupyter-widgets/base",
      "_view_module_version": "1.2.0",
      "_view_name": "LayoutView",
      "align_content": null,
      "align_items": null,
      "align_self": null,
      "border": null,
      "bottom": null,
      "display": null,
      "flex": null,
      "flex_flow": null,
      "grid_area": null,
      "grid_auto_columns": null,
      "grid_auto_flow": null,
      "grid_auto_rows": null,
      "grid_column": null,
      "grid_gap": null,
      "grid_row": null,
      "grid_template_areas": null,
      "grid_template_columns": null,
      "grid_template_rows": null,
      "height": null,
      "justify_content": null,
      "justify_items": null,
      "left": null,
      "margin": null,
      "max_height": null,
      "max_width": null,
      "min_height": null,
      "min_width": null,
      "object_fit": null,
      "object_position": null,
      "order": null,
      "overflow": null,
      "overflow_x": null,
      "overflow_y": null,
      "padding": null,
      "right": null,
      "top": null,
      "visibility": null,
      "width": null
     }
    },
    "6f708728beb64c5d97a1701549bee662": {
     "model_module": "@jupyter-widgets/controls",
     "model_module_version": "1.5.0",
     "model_name": "HTMLModel",
     "state": {
      "_dom_classes": [],
      "_model_module": "@jupyter-widgets/controls",
      "_model_module_version": "1.5.0",
      "_model_name": "HTMLModel",
      "_view_count": null,
      "_view_module": "@jupyter-widgets/controls",
      "_view_module_version": "1.5.0",
      "_view_name": "HTMLView",
      "description": "",
      "description_tooltip": null,
      "layout": "IPY_MODEL_ab631441575b4e0a8017e1b917344a84",
      "placeholder": "​",
      "style": "IPY_MODEL_45758c0cf2a74b81868b2c8b89bb82a0",
      "value": " 102/102 [05:56&lt;00:00,  3.47s/it]"
     }
    },
    "6fcd412b8da14a5d8784ba7a9079e91c": {
     "model_module": "@jupyter-widgets/controls",
     "model_module_version": "1.5.0",
     "model_name": "DescriptionStyleModel",
     "state": {
      "_model_module": "@jupyter-widgets/controls",
      "_model_module_version": "1.5.0",
      "_model_name": "DescriptionStyleModel",
      "_view_count": null,
      "_view_module": "@jupyter-widgets/base",
      "_view_module_version": "1.2.0",
      "_view_name": "StyleView",
      "description_width": ""
     }
    },
    "7192909a1b794c8491f6d5b733d5c4c2": {
     "model_module": "@jupyter-widgets/base",
     "model_module_version": "1.2.0",
     "model_name": "LayoutModel",
     "state": {
      "_model_module": "@jupyter-widgets/base",
      "_model_module_version": "1.2.0",
      "_model_name": "LayoutModel",
      "_view_count": null,
      "_view_module": "@jupyter-widgets/base",
      "_view_module_version": "1.2.0",
      "_view_name": "LayoutView",
      "align_content": null,
      "align_items": null,
      "align_self": null,
      "border": null,
      "bottom": null,
      "display": null,
      "flex": null,
      "flex_flow": null,
      "grid_area": null,
      "grid_auto_columns": null,
      "grid_auto_flow": null,
      "grid_auto_rows": null,
      "grid_column": null,
      "grid_gap": null,
      "grid_row": null,
      "grid_template_areas": null,
      "grid_template_columns": null,
      "grid_template_rows": null,
      "height": null,
      "justify_content": null,
      "justify_items": null,
      "left": null,
      "margin": null,
      "max_height": null,
      "max_width": null,
      "min_height": null,
      "min_width": null,
      "object_fit": null,
      "object_position": null,
      "order": null,
      "overflow": null,
      "overflow_x": null,
      "overflow_y": null,
      "padding": null,
      "right": null,
      "top": null,
      "visibility": null,
      "width": null
     }
    },
    "71a60604e4194caf839927e293cff485": {
     "model_module": "@jupyter-widgets/controls",
     "model_module_version": "1.5.0",
     "model_name": "DescriptionStyleModel",
     "state": {
      "_model_module": "@jupyter-widgets/controls",
      "_model_module_version": "1.5.0",
      "_model_name": "DescriptionStyleModel",
      "_view_count": null,
      "_view_module": "@jupyter-widgets/base",
      "_view_module_version": "1.2.0",
      "_view_name": "StyleView",
      "description_width": ""
     }
    },
    "73313b258d3b45f783738b1d9ea69e9e": {
     "model_module": "@jupyter-widgets/base",
     "model_module_version": "1.2.0",
     "model_name": "LayoutModel",
     "state": {
      "_model_module": "@jupyter-widgets/base",
      "_model_module_version": "1.2.0",
      "_model_name": "LayoutModel",
      "_view_count": null,
      "_view_module": "@jupyter-widgets/base",
      "_view_module_version": "1.2.0",
      "_view_name": "LayoutView",
      "align_content": null,
      "align_items": null,
      "align_self": null,
      "border": null,
      "bottom": null,
      "display": null,
      "flex": null,
      "flex_flow": null,
      "grid_area": null,
      "grid_auto_columns": null,
      "grid_auto_flow": null,
      "grid_auto_rows": null,
      "grid_column": null,
      "grid_gap": null,
      "grid_row": null,
      "grid_template_areas": null,
      "grid_template_columns": null,
      "grid_template_rows": null,
      "height": null,
      "justify_content": null,
      "justify_items": null,
      "left": null,
      "margin": null,
      "max_height": null,
      "max_width": null,
      "min_height": null,
      "min_width": null,
      "object_fit": null,
      "object_position": null,
      "order": null,
      "overflow": null,
      "overflow_x": null,
      "overflow_y": null,
      "padding": null,
      "right": null,
      "top": null,
      "visibility": null,
      "width": null
     }
    },
    "75c4d68ebc41432ca1e96773b27d0317": {
     "model_module": "@jupyter-widgets/controls",
     "model_module_version": "1.5.0",
     "model_name": "ProgressStyleModel",
     "state": {
      "_model_module": "@jupyter-widgets/controls",
      "_model_module_version": "1.5.0",
      "_model_name": "ProgressStyleModel",
      "_view_count": null,
      "_view_module": "@jupyter-widgets/base",
      "_view_module_version": "1.2.0",
      "_view_name": "StyleView",
      "bar_color": null,
      "description_width": ""
     }
    },
    "77284c62a07245928a32daa3e42c8249": {
     "model_module": "@jupyter-widgets/controls",
     "model_module_version": "1.5.0",
     "model_name": "HTMLModel",
     "state": {
      "_dom_classes": [],
      "_model_module": "@jupyter-widgets/controls",
      "_model_module_version": "1.5.0",
      "_model_name": "HTMLModel",
      "_view_count": null,
      "_view_module": "@jupyter-widgets/controls",
      "_view_module_version": "1.5.0",
      "_view_name": "HTMLView",
      "description": "",
      "description_tooltip": null,
      "layout": "IPY_MODEL_aadc2471e3ca473b98c23d0bb2913000",
      "placeholder": "​",
      "style": "IPY_MODEL_71a60604e4194caf839927e293cff485",
      "value": " 670M/670M [00:08&lt;00:00, 68.7MB/s]"
     }
    },
    "79d4b082d43b4f838dd658b6da4994b3": {
     "model_module": "@jupyter-widgets/controls",
     "model_module_version": "1.5.0",
     "model_name": "HTMLModel",
     "state": {
      "_dom_classes": [],
      "_model_module": "@jupyter-widgets/controls",
      "_model_module_version": "1.5.0",
      "_model_name": "HTMLModel",
      "_view_count": null,
      "_view_module": "@jupyter-widgets/controls",
      "_view_module_version": "1.5.0",
      "_view_name": "HTMLView",
      "description": "",
      "description_tooltip": null,
      "layout": "IPY_MODEL_6caf81eae9b54f6f87016088c239ae6d",
      "placeholder": "​",
      "style": "IPY_MODEL_a0b3483526774b08b33a4656778f7c91",
      "value": "Downloading (…)cial_tokens_map.json: 100%"
     }
    },
    "79fdf80f0bf74b288a7304bb074b8651": {
     "model_module": "@jupyter-widgets/controls",
     "model_module_version": "1.5.0",
     "model_name": "FloatProgressModel",
     "state": {
      "_dom_classes": [],
      "_model_module": "@jupyter-widgets/controls",
      "_model_module_version": "1.5.0",
      "_model_name": "FloatProgressModel",
      "_view_count": null,
      "_view_module": "@jupyter-widgets/controls",
      "_view_module_version": "1.5.0",
      "_view_name": "ProgressView",
      "bar_style": "success",
      "description": "",
      "description_tooltip": null,
      "layout": "IPY_MODEL_9ba5c813d4134653bd85cdf765d07799",
      "max": 11,
      "min": 0,
      "orientation": "horizontal",
      "style": "IPY_MODEL_8b7179d7de7f456fb645e499a1d01977",
      "value": 11
     }
    },
    "7c4b0831b91046d3a69e755189b9060b": {
     "model_module": "@jupyter-widgets/controls",
     "model_module_version": "1.5.0",
     "model_name": "HBoxModel",
     "state": {
      "_dom_classes": [],
      "_model_module": "@jupyter-widgets/controls",
      "_model_module_version": "1.5.0",
      "_model_name": "HBoxModel",
      "_view_count": null,
      "_view_module": "@jupyter-widgets/controls",
      "_view_module_version": "1.5.0",
      "_view_name": "HBoxView",
      "box_style": "",
      "children": [
       "IPY_MODEL_bdec6134e4fe4a2db0414756abc7672c",
       "IPY_MODEL_412efa757a5f4eafa3eb50bd74b8d2a7",
       "IPY_MODEL_dea4cafc071a436d958981136f1b8b05"
      ],
      "layout": "IPY_MODEL_80857a5790c74c439f615d06a947e2e8"
     }
    },
    "7d07af274c78458cb40caca6f6668989": {
     "model_module": "@jupyter-widgets/controls",
     "model_module_version": "1.5.0",
     "model_name": "DescriptionStyleModel",
     "state": {
      "_model_module": "@jupyter-widgets/controls",
      "_model_module_version": "1.5.0",
      "_model_name": "DescriptionStyleModel",
      "_view_count": null,
      "_view_module": "@jupyter-widgets/base",
      "_view_module_version": "1.2.0",
      "_view_name": "StyleView",
      "description_width": ""
     }
    },
    "80857a5790c74c439f615d06a947e2e8": {
     "model_module": "@jupyter-widgets/base",
     "model_module_version": "1.2.0",
     "model_name": "LayoutModel",
     "state": {
      "_model_module": "@jupyter-widgets/base",
      "_model_module_version": "1.2.0",
      "_model_name": "LayoutModel",
      "_view_count": null,
      "_view_module": "@jupyter-widgets/base",
      "_view_module_version": "1.2.0",
      "_view_name": "LayoutView",
      "align_content": null,
      "align_items": null,
      "align_self": null,
      "border": null,
      "bottom": null,
      "display": null,
      "flex": null,
      "flex_flow": null,
      "grid_area": null,
      "grid_auto_columns": null,
      "grid_auto_flow": null,
      "grid_auto_rows": null,
      "grid_column": null,
      "grid_gap": null,
      "grid_row": null,
      "grid_template_areas": null,
      "grid_template_columns": null,
      "grid_template_rows": null,
      "height": null,
      "justify_content": null,
      "justify_items": null,
      "left": null,
      "margin": null,
      "max_height": null,
      "max_width": null,
      "min_height": null,
      "min_width": null,
      "object_fit": null,
      "object_position": null,
      "order": null,
      "overflow": null,
      "overflow_x": null,
      "overflow_y": null,
      "padding": null,
      "right": null,
      "top": null,
      "visibility": null,
      "width": null
     }
    },
    "8ac9314703414ff6bed09cb4a407e3f1": {
     "model_module": "@jupyter-widgets/controls",
     "model_module_version": "1.5.0",
     "model_name": "HTMLModel",
     "state": {
      "_dom_classes": [],
      "_model_module": "@jupyter-widgets/controls",
      "_model_module_version": "1.5.0",
      "_model_name": "HTMLModel",
      "_view_count": null,
      "_view_module": "@jupyter-widgets/controls",
      "_view_module_version": "1.5.0",
      "_view_name": "HTMLView",
      "description": "",
      "description_tooltip": null,
      "layout": "IPY_MODEL_6be82e56dad848049a6d78604190a9af",
      "placeholder": "​",
      "style": "IPY_MODEL_2114eebed05f48e085e483fa4604a0f5",
      "value": "Downloading (…)&quot;pytorch_model.bin&quot;;: 100%"
     }
    },
    "8b7179d7de7f456fb645e499a1d01977": {
     "model_module": "@jupyter-widgets/controls",
     "model_module_version": "1.5.0",
     "model_name": "ProgressStyleModel",
     "state": {
      "_model_module": "@jupyter-widgets/controls",
      "_model_module_version": "1.5.0",
      "_model_name": "ProgressStyleModel",
      "_view_count": null,
      "_view_module": "@jupyter-widgets/base",
      "_view_module_version": "1.2.0",
      "_view_name": "StyleView",
      "bar_color": null,
      "description_width": ""
     }
    },
    "8e5e6a8ccf764445ab90ae5c54d4ec12": {
     "model_module": "@jupyter-widgets/controls",
     "model_module_version": "1.5.0",
     "model_name": "ProgressStyleModel",
     "state": {
      "_model_module": "@jupyter-widgets/controls",
      "_model_module_version": "1.5.0",
      "_model_name": "ProgressStyleModel",
      "_view_count": null,
      "_view_module": "@jupyter-widgets/base",
      "_view_module_version": "1.2.0",
      "_view_name": "StyleView",
      "bar_color": null,
      "description_width": ""
     }
    },
    "905c6e0846564beaa13be4b5adbe77a4": {
     "model_module": "@jupyter-widgets/controls",
     "model_module_version": "1.5.0",
     "model_name": "HBoxModel",
     "state": {
      "_dom_classes": [],
      "_model_module": "@jupyter-widgets/controls",
      "_model_module_version": "1.5.0",
      "_model_name": "HBoxModel",
      "_view_count": null,
      "_view_module": "@jupyter-widgets/controls",
      "_view_module_version": "1.5.0",
      "_view_name": "HBoxView",
      "box_style": "",
      "children": [
       "IPY_MODEL_906f2e04f69e494c9c5082f371f30692",
       "IPY_MODEL_e9662164366243e3b3715015da8056b1",
       "IPY_MODEL_9eb7086936484f029becbe1ef1ec1be9"
      ],
      "layout": "IPY_MODEL_eedbfc278ab941e0ae2ef0e9dd18c5b9"
     }
    },
    "906f2e04f69e494c9c5082f371f30692": {
     "model_module": "@jupyter-widgets/controls",
     "model_module_version": "1.5.0",
     "model_name": "HTMLModel",
     "state": {
      "_dom_classes": [],
      "_model_module": "@jupyter-widgets/controls",
      "_model_module_version": "1.5.0",
      "_model_name": "HTMLModel",
      "_view_count": null,
      "_view_module": "@jupyter-widgets/controls",
      "_view_module_version": "1.5.0",
      "_view_name": "HTMLView",
      "description": "",
      "description_tooltip": null,
      "layout": "IPY_MODEL_20e938190b3c408bb157d36874a9ee51",
      "placeholder": "​",
      "style": "IPY_MODEL_c11ba7615b1849019a754ffebf778791",
      "value": "Downloading (…)lve/main/config.json: 100%"
     }
    },
    "914c861cc1024ef28faf55297f6b15da": {
     "model_module": "@jupyter-widgets/base",
     "model_module_version": "1.2.0",
     "model_name": "LayoutModel",
     "state": {
      "_model_module": "@jupyter-widgets/base",
      "_model_module_version": "1.2.0",
      "_model_name": "LayoutModel",
      "_view_count": null,
      "_view_module": "@jupyter-widgets/base",
      "_view_module_version": "1.2.0",
      "_view_name": "LayoutView",
      "align_content": null,
      "align_items": null,
      "align_self": null,
      "border": null,
      "bottom": null,
      "display": null,
      "flex": null,
      "flex_flow": null,
      "grid_area": null,
      "grid_auto_columns": null,
      "grid_auto_flow": null,
      "grid_auto_rows": null,
      "grid_column": null,
      "grid_gap": null,
      "grid_row": null,
      "grid_template_areas": null,
      "grid_template_columns": null,
      "grid_template_rows": null,
      "height": null,
      "justify_content": null,
      "justify_items": null,
      "left": null,
      "margin": null,
      "max_height": null,
      "max_width": null,
      "min_height": null,
      "min_width": null,
      "object_fit": null,
      "object_position": null,
      "order": null,
      "overflow": null,
      "overflow_x": null,
      "overflow_y": null,
      "padding": null,
      "right": null,
      "top": null,
      "visibility": null,
      "width": null
     }
    },
    "9202f28fa8284ba0973533c08b66f514": {
     "model_module": "@jupyter-widgets/base",
     "model_module_version": "1.2.0",
     "model_name": "LayoutModel",
     "state": {
      "_model_module": "@jupyter-widgets/base",
      "_model_module_version": "1.2.0",
      "_model_name": "LayoutModel",
      "_view_count": null,
      "_view_module": "@jupyter-widgets/base",
      "_view_module_version": "1.2.0",
      "_view_name": "LayoutView",
      "align_content": null,
      "align_items": null,
      "align_self": null,
      "border": null,
      "bottom": null,
      "display": null,
      "flex": null,
      "flex_flow": null,
      "grid_area": null,
      "grid_auto_columns": null,
      "grid_auto_flow": null,
      "grid_auto_rows": null,
      "grid_column": null,
      "grid_gap": null,
      "grid_row": null,
      "grid_template_areas": null,
      "grid_template_columns": null,
      "grid_template_rows": null,
      "height": null,
      "justify_content": null,
      "justify_items": null,
      "left": null,
      "margin": null,
      "max_height": null,
      "max_width": null,
      "min_height": null,
      "min_width": null,
      "object_fit": null,
      "object_position": null,
      "order": null,
      "overflow": null,
      "overflow_x": null,
      "overflow_y": null,
      "padding": null,
      "right": null,
      "top": null,
      "visibility": null,
      "width": null
     }
    },
    "9865beed8bc84d409c643def9b499a60": {
     "model_module": "@jupyter-widgets/controls",
     "model_module_version": "1.5.0",
     "model_name": "HBoxModel",
     "state": {
      "_dom_classes": [],
      "_model_module": "@jupyter-widgets/controls",
      "_model_module_version": "1.5.0",
      "_model_name": "HBoxModel",
      "_view_count": null,
      "_view_module": "@jupyter-widgets/controls",
      "_view_module_version": "1.5.0",
      "_view_name": "HBoxView",
      "box_style": "",
      "children": [
       "IPY_MODEL_1eade666b1ad41c68a4825565c6e1ef2",
       "IPY_MODEL_f53c3ebcd7874c608dfa7b7934c4fc66",
       "IPY_MODEL_f6c225218b394183826e207d10b162b4"
      ],
      "layout": "IPY_MODEL_9202f28fa8284ba0973533c08b66f514"
     }
    },
    "99dfc68faf2043aaac53690e69698f0e": {
     "model_module": "@jupyter-widgets/controls",
     "model_module_version": "1.5.0",
     "model_name": "DescriptionStyleModel",
     "state": {
      "_model_module": "@jupyter-widgets/controls",
      "_model_module_version": "1.5.0",
      "_model_name": "DescriptionStyleModel",
      "_view_count": null,
      "_view_module": "@jupyter-widgets/base",
      "_view_module_version": "1.2.0",
      "_view_name": "StyleView",
      "description_width": ""
     }
    },
    "9ba5c813d4134653bd85cdf765d07799": {
     "model_module": "@jupyter-widgets/base",
     "model_module_version": "1.2.0",
     "model_name": "LayoutModel",
     "state": {
      "_model_module": "@jupyter-widgets/base",
      "_model_module_version": "1.2.0",
      "_model_name": "LayoutModel",
      "_view_count": null,
      "_view_module": "@jupyter-widgets/base",
      "_view_module_version": "1.2.0",
      "_view_name": "LayoutView",
      "align_content": null,
      "align_items": null,
      "align_self": null,
      "border": null,
      "bottom": null,
      "display": null,
      "flex": null,
      "flex_flow": null,
      "grid_area": null,
      "grid_auto_columns": null,
      "grid_auto_flow": null,
      "grid_auto_rows": null,
      "grid_column": null,
      "grid_gap": null,
      "grid_row": null,
      "grid_template_areas": null,
      "grid_template_columns": null,
      "grid_template_rows": null,
      "height": null,
      "justify_content": null,
      "justify_items": null,
      "left": null,
      "margin": null,
      "max_height": null,
      "max_width": null,
      "min_height": null,
      "min_width": null,
      "object_fit": null,
      "object_position": null,
      "order": null,
      "overflow": null,
      "overflow_x": null,
      "overflow_y": null,
      "padding": null,
      "right": null,
      "top": null,
      "visibility": null,
      "width": null
     }
    },
    "9eb7086936484f029becbe1ef1ec1be9": {
     "model_module": "@jupyter-widgets/controls",
     "model_module_version": "1.5.0",
     "model_name": "HTMLModel",
     "state": {
      "_dom_classes": [],
      "_model_module": "@jupyter-widgets/controls",
      "_model_module_version": "1.5.0",
      "_model_name": "HTMLModel",
      "_view_count": null,
      "_view_module": "@jupyter-widgets/controls",
      "_view_module_version": "1.5.0",
      "_view_name": "HTMLView",
      "description": "",
      "description_tooltip": null,
      "layout": "IPY_MODEL_73313b258d3b45f783738b1d9ea69e9e",
      "placeholder": "​",
      "style": "IPY_MODEL_7d07af274c78458cb40caca6f6668989",
      "value": " 1.23k/1.23k [00:00&lt;00:00, 27.4kB/s]"
     }
    },
    "a0b3483526774b08b33a4656778f7c91": {
     "model_module": "@jupyter-widgets/controls",
     "model_module_version": "1.5.0",
     "model_name": "DescriptionStyleModel",
     "state": {
      "_model_module": "@jupyter-widgets/controls",
      "_model_module_version": "1.5.0",
      "_model_name": "DescriptionStyleModel",
      "_view_count": null,
      "_view_module": "@jupyter-widgets/base",
      "_view_module_version": "1.2.0",
      "_view_name": "StyleView",
      "description_width": ""
     }
    },
    "a8df8ab7d3fc4e0fa311b2f8a06f3ede": {
     "model_module": "@jupyter-widgets/base",
     "model_module_version": "1.2.0",
     "model_name": "LayoutModel",
     "state": {
      "_model_module": "@jupyter-widgets/base",
      "_model_module_version": "1.2.0",
      "_model_name": "LayoutModel",
      "_view_count": null,
      "_view_module": "@jupyter-widgets/base",
      "_view_module_version": "1.2.0",
      "_view_name": "LayoutView",
      "align_content": null,
      "align_items": null,
      "align_self": null,
      "border": null,
      "bottom": null,
      "display": null,
      "flex": null,
      "flex_flow": null,
      "grid_area": null,
      "grid_auto_columns": null,
      "grid_auto_flow": null,
      "grid_auto_rows": null,
      "grid_column": null,
      "grid_gap": null,
      "grid_row": null,
      "grid_template_areas": null,
      "grid_template_columns": null,
      "grid_template_rows": null,
      "height": null,
      "justify_content": null,
      "justify_items": null,
      "left": null,
      "margin": null,
      "max_height": null,
      "max_width": null,
      "min_height": null,
      "min_width": null,
      "object_fit": null,
      "object_position": null,
      "order": null,
      "overflow": null,
      "overflow_x": null,
      "overflow_y": null,
      "padding": null,
      "right": null,
      "top": null,
      "visibility": null,
      "width": null
     }
    },
    "a90cd936cf6147e0a0e0fe870d292661": {
     "model_module": "@jupyter-widgets/controls",
     "model_module_version": "1.5.0",
     "model_name": "DescriptionStyleModel",
     "state": {
      "_model_module": "@jupyter-widgets/controls",
      "_model_module_version": "1.5.0",
      "_model_name": "DescriptionStyleModel",
      "_view_count": null,
      "_view_module": "@jupyter-widgets/base",
      "_view_module_version": "1.2.0",
      "_view_name": "StyleView",
      "description_width": ""
     }
    },
    "aadc2471e3ca473b98c23d0bb2913000": {
     "model_module": "@jupyter-widgets/base",
     "model_module_version": "1.2.0",
     "model_name": "LayoutModel",
     "state": {
      "_model_module": "@jupyter-widgets/base",
      "_model_module_version": "1.2.0",
      "_model_name": "LayoutModel",
      "_view_count": null,
      "_view_module": "@jupyter-widgets/base",
      "_view_module_version": "1.2.0",
      "_view_name": "LayoutView",
      "align_content": null,
      "align_items": null,
      "align_self": null,
      "border": null,
      "bottom": null,
      "display": null,
      "flex": null,
      "flex_flow": null,
      "grid_area": null,
      "grid_auto_columns": null,
      "grid_auto_flow": null,
      "grid_auto_rows": null,
      "grid_column": null,
      "grid_gap": null,
      "grid_row": null,
      "grid_template_areas": null,
      "grid_template_columns": null,
      "grid_template_rows": null,
      "height": null,
      "justify_content": null,
      "justify_items": null,
      "left": null,
      "margin": null,
      "max_height": null,
      "max_width": null,
      "min_height": null,
      "min_width": null,
      "object_fit": null,
      "object_position": null,
      "order": null,
      "overflow": null,
      "overflow_x": null,
      "overflow_y": null,
      "padding": null,
      "right": null,
      "top": null,
      "visibility": null,
      "width": null
     }
    },
    "ab5ee135cb8e47839ef9c7223afbb420": {
     "model_module": "@jupyter-widgets/base",
     "model_module_version": "1.2.0",
     "model_name": "LayoutModel",
     "state": {
      "_model_module": "@jupyter-widgets/base",
      "_model_module_version": "1.2.0",
      "_model_name": "LayoutModel",
      "_view_count": null,
      "_view_module": "@jupyter-widgets/base",
      "_view_module_version": "1.2.0",
      "_view_name": "LayoutView",
      "align_content": null,
      "align_items": null,
      "align_self": null,
      "border": null,
      "bottom": null,
      "display": null,
      "flex": null,
      "flex_flow": null,
      "grid_area": null,
      "grid_auto_columns": null,
      "grid_auto_flow": null,
      "grid_auto_rows": null,
      "grid_column": null,
      "grid_gap": null,
      "grid_row": null,
      "grid_template_areas": null,
      "grid_template_columns": null,
      "grid_template_rows": null,
      "height": null,
      "justify_content": null,
      "justify_items": null,
      "left": null,
      "margin": null,
      "max_height": null,
      "max_width": null,
      "min_height": null,
      "min_width": null,
      "object_fit": null,
      "object_position": null,
      "order": null,
      "overflow": null,
      "overflow_x": null,
      "overflow_y": null,
      "padding": null,
      "right": null,
      "top": null,
      "visibility": null,
      "width": null
     }
    },
    "ab631441575b4e0a8017e1b917344a84": {
     "model_module": "@jupyter-widgets/base",
     "model_module_version": "1.2.0",
     "model_name": "LayoutModel",
     "state": {
      "_model_module": "@jupyter-widgets/base",
      "_model_module_version": "1.2.0",
      "_model_name": "LayoutModel",
      "_view_count": null,
      "_view_module": "@jupyter-widgets/base",
      "_view_module_version": "1.2.0",
      "_view_name": "LayoutView",
      "align_content": null,
      "align_items": null,
      "align_self": null,
      "border": null,
      "bottom": null,
      "display": null,
      "flex": null,
      "flex_flow": null,
      "grid_area": null,
      "grid_auto_columns": null,
      "grid_auto_flow": null,
      "grid_auto_rows": null,
      "grid_column": null,
      "grid_gap": null,
      "grid_row": null,
      "grid_template_areas": null,
      "grid_template_columns": null,
      "grid_template_rows": null,
      "height": null,
      "justify_content": null,
      "justify_items": null,
      "left": null,
      "margin": null,
      "max_height": null,
      "max_width": null,
      "min_height": null,
      "min_width": null,
      "object_fit": null,
      "object_position": null,
      "order": null,
      "overflow": null,
      "overflow_x": null,
      "overflow_y": null,
      "padding": null,
      "right": null,
      "top": null,
      "visibility": null,
      "width": null
     }
    },
    "ae45426ebe1642709357e3c1e9c39e47": {
     "model_module": "@jupyter-widgets/controls",
     "model_module_version": "1.5.0",
     "model_name": "DescriptionStyleModel",
     "state": {
      "_model_module": "@jupyter-widgets/controls",
      "_model_module_version": "1.5.0",
      "_model_name": "DescriptionStyleModel",
      "_view_count": null,
      "_view_module": "@jupyter-widgets/base",
      "_view_module_version": "1.2.0",
      "_view_name": "StyleView",
      "description_width": ""
     }
    },
    "aec1149b21e94cfd8c909ff6ace7ec9a": {
     "model_module": "@jupyter-widgets/controls",
     "model_module_version": "1.5.0",
     "model_name": "FloatProgressModel",
     "state": {
      "_dom_classes": [],
      "_model_module": "@jupyter-widgets/controls",
      "_model_module_version": "1.5.0",
      "_model_name": "FloatProgressModel",
      "_view_count": null,
      "_view_module": "@jupyter-widgets/controls",
      "_view_module_version": "1.5.0",
      "_view_name": "ProgressView",
      "bar_style": "success",
      "description": "",
      "description_tooltip": null,
      "layout": "IPY_MODEL_e02e77ea42414d52a3d5b423e9119b45",
      "max": 102,
      "min": 0,
      "orientation": "horizontal",
      "style": "IPY_MODEL_febbfc481c4f4d98bd130e0296bab76b",
      "value": 102
     }
    },
    "af5a0bad34eb41efbbc438c489b83f91": {
     "model_module": "@jupyter-widgets/base",
     "model_module_version": "1.2.0",
     "model_name": "LayoutModel",
     "state": {
      "_model_module": "@jupyter-widgets/base",
      "_model_module_version": "1.2.0",
      "_model_name": "LayoutModel",
      "_view_count": null,
      "_view_module": "@jupyter-widgets/base",
      "_view_module_version": "1.2.0",
      "_view_name": "LayoutView",
      "align_content": null,
      "align_items": null,
      "align_self": null,
      "border": null,
      "bottom": null,
      "display": null,
      "flex": null,
      "flex_flow": null,
      "grid_area": null,
      "grid_auto_columns": null,
      "grid_auto_flow": null,
      "grid_auto_rows": null,
      "grid_column": null,
      "grid_gap": null,
      "grid_row": null,
      "grid_template_areas": null,
      "grid_template_columns": null,
      "grid_template_rows": null,
      "height": null,
      "justify_content": null,
      "justify_items": null,
      "left": null,
      "margin": null,
      "max_height": null,
      "max_width": null,
      "min_height": null,
      "min_width": null,
      "object_fit": null,
      "object_position": null,
      "order": null,
      "overflow": null,
      "overflow_x": null,
      "overflow_y": null,
      "padding": null,
      "right": null,
      "top": null,
      "visibility": null,
      "width": null
     }
    },
    "b66022ddbf264ba28500711b358826d5": {
     "model_module": "@jupyter-widgets/controls",
     "model_module_version": "1.5.0",
     "model_name": "DescriptionStyleModel",
     "state": {
      "_model_module": "@jupyter-widgets/controls",
      "_model_module_version": "1.5.0",
      "_model_name": "DescriptionStyleModel",
      "_view_count": null,
      "_view_module": "@jupyter-widgets/base",
      "_view_module_version": "1.2.0",
      "_view_name": "StyleView",
      "description_width": ""
     }
    },
    "bd69560cf0bb4543942bb34b26d0134a": {
     "model_module": "@jupyter-widgets/controls",
     "model_module_version": "1.5.0",
     "model_name": "DescriptionStyleModel",
     "state": {
      "_model_module": "@jupyter-widgets/controls",
      "_model_module_version": "1.5.0",
      "_model_name": "DescriptionStyleModel",
      "_view_count": null,
      "_view_module": "@jupyter-widgets/base",
      "_view_module_version": "1.2.0",
      "_view_name": "StyleView",
      "description_width": ""
     }
    },
    "bda80201600b4f3b85df1f5590a0b8e3": {
     "model_module": "@jupyter-widgets/base",
     "model_module_version": "1.2.0",
     "model_name": "LayoutModel",
     "state": {
      "_model_module": "@jupyter-widgets/base",
      "_model_module_version": "1.2.0",
      "_model_name": "LayoutModel",
      "_view_count": null,
      "_view_module": "@jupyter-widgets/base",
      "_view_module_version": "1.2.0",
      "_view_name": "LayoutView",
      "align_content": null,
      "align_items": null,
      "align_self": null,
      "border": null,
      "bottom": null,
      "display": null,
      "flex": null,
      "flex_flow": null,
      "grid_area": null,
      "grid_auto_columns": null,
      "grid_auto_flow": null,
      "grid_auto_rows": null,
      "grid_column": null,
      "grid_gap": null,
      "grid_row": null,
      "grid_template_areas": null,
      "grid_template_columns": null,
      "grid_template_rows": null,
      "height": null,
      "justify_content": null,
      "justify_items": null,
      "left": null,
      "margin": null,
      "max_height": null,
      "max_width": null,
      "min_height": null,
      "min_width": null,
      "object_fit": null,
      "object_position": null,
      "order": null,
      "overflow": null,
      "overflow_x": null,
      "overflow_y": null,
      "padding": null,
      "right": null,
      "top": null,
      "visibility": null,
      "width": null
     }
    },
    "bdec6134e4fe4a2db0414756abc7672c": {
     "model_module": "@jupyter-widgets/controls",
     "model_module_version": "1.5.0",
     "model_name": "HTMLModel",
     "state": {
      "_dom_classes": [],
      "_model_module": "@jupyter-widgets/controls",
      "_model_module_version": "1.5.0",
      "_model_name": "HTMLModel",
      "_view_count": null,
      "_view_module": "@jupyter-widgets/controls",
      "_view_module_version": "1.5.0",
      "_view_name": "HTMLView",
      "description": "",
      "description_tooltip": null,
      "layout": "IPY_MODEL_efa17d479f03423a9bdd03c1df145b9a",
      "placeholder": "​",
      "style": "IPY_MODEL_c096a5d9a35a44d8a31b8caf9d932326",
      "value": "Downloading (…)solve/main/vocab.txt: 100%"
     }
    },
    "be993419cf734f1ba0dc318e3a26d159": {
     "model_module": "@jupyter-widgets/controls",
     "model_module_version": "1.5.0",
     "model_name": "DescriptionStyleModel",
     "state": {
      "_model_module": "@jupyter-widgets/controls",
      "_model_module_version": "1.5.0",
      "_model_name": "DescriptionStyleModel",
      "_view_count": null,
      "_view_module": "@jupyter-widgets/base",
      "_view_module_version": "1.2.0",
      "_view_name": "StyleView",
      "description_width": ""
     }
    },
    "c096a5d9a35a44d8a31b8caf9d932326": {
     "model_module": "@jupyter-widgets/controls",
     "model_module_version": "1.5.0",
     "model_name": "DescriptionStyleModel",
     "state": {
      "_model_module": "@jupyter-widgets/controls",
      "_model_module_version": "1.5.0",
      "_model_name": "DescriptionStyleModel",
      "_view_count": null,
      "_view_module": "@jupyter-widgets/base",
      "_view_module_version": "1.2.0",
      "_view_name": "StyleView",
      "description_width": ""
     }
    },
    "c11ba7615b1849019a754ffebf778791": {
     "model_module": "@jupyter-widgets/controls",
     "model_module_version": "1.5.0",
     "model_name": "DescriptionStyleModel",
     "state": {
      "_model_module": "@jupyter-widgets/controls",
      "_model_module_version": "1.5.0",
      "_model_name": "DescriptionStyleModel",
      "_view_count": null,
      "_view_module": "@jupyter-widgets/base",
      "_view_module_version": "1.2.0",
      "_view_name": "StyleView",
      "description_width": ""
     }
    },
    "c23c6687602a4aa4be669993315a7079": {
     "model_module": "@jupyter-widgets/controls",
     "model_module_version": "1.5.0",
     "model_name": "HTMLModel",
     "state": {
      "_dom_classes": [],
      "_model_module": "@jupyter-widgets/controls",
      "_model_module_version": "1.5.0",
      "_model_name": "HTMLModel",
      "_view_count": null,
      "_view_module": "@jupyter-widgets/controls",
      "_view_module_version": "1.5.0",
      "_view_name": "HTMLView",
      "description": "",
      "description_tooltip": null,
      "layout": "IPY_MODEL_421407e34e484087b4ddbb999967a771",
      "placeholder": "​",
      "style": "IPY_MODEL_414cbef7276946e587df710647911deb",
      "value": "Downloading (…)/main/tokenizer.json: 100%"
     }
    },
    "cb17cb5110d8433bb370f02906032a1b": {
     "model_module": "@jupyter-widgets/base",
     "model_module_version": "1.2.0",
     "model_name": "LayoutModel",
     "state": {
      "_model_module": "@jupyter-widgets/base",
      "_model_module_version": "1.2.0",
      "_model_name": "LayoutModel",
      "_view_count": null,
      "_view_module": "@jupyter-widgets/base",
      "_view_module_version": "1.2.0",
      "_view_name": "LayoutView",
      "align_content": null,
      "align_items": null,
      "align_self": null,
      "border": null,
      "bottom": null,
      "display": null,
      "flex": null,
      "flex_flow": null,
      "grid_area": null,
      "grid_auto_columns": null,
      "grid_auto_flow": null,
      "grid_auto_rows": null,
      "grid_column": null,
      "grid_gap": null,
      "grid_row": null,
      "grid_template_areas": null,
      "grid_template_columns": null,
      "grid_template_rows": null,
      "height": null,
      "justify_content": null,
      "justify_items": null,
      "left": null,
      "margin": null,
      "max_height": null,
      "max_width": null,
      "min_height": null,
      "min_width": null,
      "object_fit": null,
      "object_position": null,
      "order": null,
      "overflow": null,
      "overflow_x": null,
      "overflow_y": null,
      "padding": null,
      "right": null,
      "top": null,
      "visibility": null,
      "width": null
     }
    },
    "dea4cafc071a436d958981136f1b8b05": {
     "model_module": "@jupyter-widgets/controls",
     "model_module_version": "1.5.0",
     "model_name": "HTMLModel",
     "state": {
      "_dom_classes": [],
      "_model_module": "@jupyter-widgets/controls",
      "_model_module_version": "1.5.0",
      "_model_name": "HTMLModel",
      "_view_count": null,
      "_view_module": "@jupyter-widgets/controls",
      "_view_module_version": "1.5.0",
      "_view_name": "HTMLView",
      "description": "",
      "description_tooltip": null,
      "layout": "IPY_MODEL_01f72adfe4094c2b957fa633a86cf9f1",
      "placeholder": "​",
      "style": "IPY_MODEL_ae45426ebe1642709357e3c1e9c39e47",
      "value": " 872k/872k [00:00&lt;00:00, 13.1MB/s]"
     }
    },
    "e0206d5010c847e787ce414ca99c9c3d": {
     "model_module": "@jupyter-widgets/base",
     "model_module_version": "1.2.0",
     "model_name": "LayoutModel",
     "state": {
      "_model_module": "@jupyter-widgets/base",
      "_model_module_version": "1.2.0",
      "_model_name": "LayoutModel",
      "_view_count": null,
      "_view_module": "@jupyter-widgets/base",
      "_view_module_version": "1.2.0",
      "_view_name": "LayoutView",
      "align_content": null,
      "align_items": null,
      "align_self": null,
      "border": null,
      "bottom": null,
      "display": null,
      "flex": null,
      "flex_flow": null,
      "grid_area": null,
      "grid_auto_columns": null,
      "grid_auto_flow": null,
      "grid_auto_rows": null,
      "grid_column": null,
      "grid_gap": null,
      "grid_row": null,
      "grid_template_areas": null,
      "grid_template_columns": null,
      "grid_template_rows": null,
      "height": null,
      "justify_content": null,
      "justify_items": null,
      "left": null,
      "margin": null,
      "max_height": null,
      "max_width": null,
      "min_height": null,
      "min_width": null,
      "object_fit": null,
      "object_position": null,
      "order": null,
      "overflow": null,
      "overflow_x": null,
      "overflow_y": null,
      "padding": null,
      "right": null,
      "top": null,
      "visibility": null,
      "width": null
     }
    },
    "e02e77ea42414d52a3d5b423e9119b45": {
     "model_module": "@jupyter-widgets/base",
     "model_module_version": "1.2.0",
     "model_name": "LayoutModel",
     "state": {
      "_model_module": "@jupyter-widgets/base",
      "_model_module_version": "1.2.0",
      "_model_name": "LayoutModel",
      "_view_count": null,
      "_view_module": "@jupyter-widgets/base",
      "_view_module_version": "1.2.0",
      "_view_name": "LayoutView",
      "align_content": null,
      "align_items": null,
      "align_self": null,
      "border": null,
      "bottom": null,
      "display": null,
      "flex": null,
      "flex_flow": null,
      "grid_area": null,
      "grid_auto_columns": null,
      "grid_auto_flow": null,
      "grid_auto_rows": null,
      "grid_column": null,
      "grid_gap": null,
      "grid_row": null,
      "grid_template_areas": null,
      "grid_template_columns": null,
      "grid_template_rows": null,
      "height": null,
      "justify_content": null,
      "justify_items": null,
      "left": null,
      "margin": null,
      "max_height": null,
      "max_width": null,
      "min_height": null,
      "min_width": null,
      "object_fit": null,
      "object_position": null,
      "order": null,
      "overflow": null,
      "overflow_x": null,
      "overflow_y": null,
      "padding": null,
      "right": null,
      "top": null,
      "visibility": null,
      "width": null
     }
    },
    "e04174ee84c44d50aeca61718a486165": {
     "model_module": "@jupyter-widgets/controls",
     "model_module_version": "1.5.0",
     "model_name": "HBoxModel",
     "state": {
      "_dom_classes": [],
      "_model_module": "@jupyter-widgets/controls",
      "_model_module_version": "1.5.0",
      "_model_name": "HBoxModel",
      "_view_count": null,
      "_view_module": "@jupyter-widgets/controls",
      "_view_module_version": "1.5.0",
      "_view_name": "HBoxView",
      "box_style": "",
      "children": [
       "IPY_MODEL_8ac9314703414ff6bed09cb4a407e3f1",
       "IPY_MODEL_2c71bfe4c9864b139b9caae3743f8544",
       "IPY_MODEL_77284c62a07245928a32daa3e42c8249"
      ],
      "layout": "IPY_MODEL_163cb5101c2a431b9771092298770d8b"
     }
    },
    "e1375252961345d9b2b2e1ad13529ed3": {
     "model_module": "@jupyter-widgets/controls",
     "model_module_version": "1.5.0",
     "model_name": "ProgressStyleModel",
     "state": {
      "_model_module": "@jupyter-widgets/controls",
      "_model_module_version": "1.5.0",
      "_model_name": "ProgressStyleModel",
      "_view_count": null,
      "_view_module": "@jupyter-widgets/base",
      "_view_module_version": "1.2.0",
      "_view_name": "StyleView",
      "bar_color": null,
      "description_width": ""
     }
    },
    "e13bbc8f8d6c47678658b411419e893b": {
     "model_module": "@jupyter-widgets/controls",
     "model_module_version": "1.5.0",
     "model_name": "FloatProgressModel",
     "state": {
      "_dom_classes": [],
      "_model_module": "@jupyter-widgets/controls",
      "_model_module_version": "1.5.0",
      "_model_name": "FloatProgressModel",
      "_view_count": null,
      "_view_module": "@jupyter-widgets/controls",
      "_view_module_version": "1.5.0",
      "_view_name": "ProgressView",
      "bar_style": "success",
      "description": "",
      "description_tooltip": null,
      "layout": "IPY_MODEL_e939b18cb48646cc8868ca86cab18bb0",
      "max": 2563635,
      "min": 0,
      "orientation": "horizontal",
      "style": "IPY_MODEL_e1375252961345d9b2b2e1ad13529ed3",
      "value": 2563635
     }
    },
    "e4fc24f4f1d04ad88006e154f77b6349": {
     "model_module": "@jupyter-widgets/controls",
     "model_module_version": "1.5.0",
     "model_name": "HBoxModel",
     "state": {
      "_dom_classes": [],
      "_model_module": "@jupyter-widgets/controls",
      "_model_module_version": "1.5.0",
      "_model_name": "HBoxModel",
      "_view_count": null,
      "_view_module": "@jupyter-widgets/controls",
      "_view_module_version": "1.5.0",
      "_view_name": "HBoxView",
      "box_style": "",
      "children": [
       "IPY_MODEL_6052cd697ae64e718e68e7c004b218e1",
       "IPY_MODEL_4f898e45340247e0a0d02b393dd83cac",
       "IPY_MODEL_44d22121ce6c4351a5a4ae042695bb0b"
      ],
      "layout": "IPY_MODEL_fc0836b0d1584b48b6cde8b0bf834a12"
     }
    },
    "e939b18cb48646cc8868ca86cab18bb0": {
     "model_module": "@jupyter-widgets/base",
     "model_module_version": "1.2.0",
     "model_name": "LayoutModel",
     "state": {
      "_model_module": "@jupyter-widgets/base",
      "_model_module_version": "1.2.0",
      "_model_name": "LayoutModel",
      "_view_count": null,
      "_view_module": "@jupyter-widgets/base",
      "_view_module_version": "1.2.0",
      "_view_name": "LayoutView",
      "align_content": null,
      "align_items": null,
      "align_self": null,
      "border": null,
      "bottom": null,
      "display": null,
      "flex": null,
      "flex_flow": null,
      "grid_area": null,
      "grid_auto_columns": null,
      "grid_auto_flow": null,
      "grid_auto_rows": null,
      "grid_column": null,
      "grid_gap": null,
      "grid_row": null,
      "grid_template_areas": null,
      "grid_template_columns": null,
      "grid_template_rows": null,
      "height": null,
      "justify_content": null,
      "justify_items": null,
      "left": null,
      "margin": null,
      "max_height": null,
      "max_width": null,
      "min_height": null,
      "min_width": null,
      "object_fit": null,
      "object_position": null,
      "order": null,
      "overflow": null,
      "overflow_x": null,
      "overflow_y": null,
      "padding": null,
      "right": null,
      "top": null,
      "visibility": null,
      "width": null
     }
    },
    "e9662164366243e3b3715015da8056b1": {
     "model_module": "@jupyter-widgets/controls",
     "model_module_version": "1.5.0",
     "model_name": "FloatProgressModel",
     "state": {
      "_dom_classes": [],
      "_model_module": "@jupyter-widgets/controls",
      "_model_module_version": "1.5.0",
      "_model_name": "FloatProgressModel",
      "_view_count": null,
      "_view_module": "@jupyter-widgets/controls",
      "_view_module_version": "1.5.0",
      "_view_name": "ProgressView",
      "bar_style": "success",
      "description": "",
      "description_tooltip": null,
      "layout": "IPY_MODEL_f3ee4e2e8f15458cb7c9c1fa76151b95",
      "max": 1229,
      "min": 0,
      "orientation": "horizontal",
      "style": "IPY_MODEL_5d2d1d56a5554b4c86d9203ad3506521",
      "value": 1229
     }
    },
    "ede9f1799e0a4ddf863d9ed759a3c491": {
     "model_module": "@jupyter-widgets/controls",
     "model_module_version": "1.5.0",
     "model_name": "ProgressStyleModel",
     "state": {
      "_model_module": "@jupyter-widgets/controls",
      "_model_module_version": "1.5.0",
      "_model_name": "ProgressStyleModel",
      "_view_count": null,
      "_view_module": "@jupyter-widgets/base",
      "_view_module_version": "1.2.0",
      "_view_name": "StyleView",
      "bar_color": null,
      "description_width": ""
     }
    },
    "eedbfc278ab941e0ae2ef0e9dd18c5b9": {
     "model_module": "@jupyter-widgets/base",
     "model_module_version": "1.2.0",
     "model_name": "LayoutModel",
     "state": {
      "_model_module": "@jupyter-widgets/base",
      "_model_module_version": "1.2.0",
      "_model_name": "LayoutModel",
      "_view_count": null,
      "_view_module": "@jupyter-widgets/base",
      "_view_module_version": "1.2.0",
      "_view_name": "LayoutView",
      "align_content": null,
      "align_items": null,
      "align_self": null,
      "border": null,
      "bottom": null,
      "display": null,
      "flex": null,
      "flex_flow": null,
      "grid_area": null,
      "grid_auto_columns": null,
      "grid_auto_flow": null,
      "grid_auto_rows": null,
      "grid_column": null,
      "grid_gap": null,
      "grid_row": null,
      "grid_template_areas": null,
      "grid_template_columns": null,
      "grid_template_rows": null,
      "height": null,
      "justify_content": null,
      "justify_items": null,
      "left": null,
      "margin": null,
      "max_height": null,
      "max_width": null,
      "min_height": null,
      "min_width": null,
      "object_fit": null,
      "object_position": null,
      "order": null,
      "overflow": null,
      "overflow_x": null,
      "overflow_y": null,
      "padding": null,
      "right": null,
      "top": null,
      "visibility": null,
      "width": null
     }
    },
    "efa17d479f03423a9bdd03c1df145b9a": {
     "model_module": "@jupyter-widgets/base",
     "model_module_version": "1.2.0",
     "model_name": "LayoutModel",
     "state": {
      "_model_module": "@jupyter-widgets/base",
      "_model_module_version": "1.2.0",
      "_model_name": "LayoutModel",
      "_view_count": null,
      "_view_module": "@jupyter-widgets/base",
      "_view_module_version": "1.2.0",
      "_view_name": "LayoutView",
      "align_content": null,
      "align_items": null,
      "align_self": null,
      "border": null,
      "bottom": null,
      "display": null,
      "flex": null,
      "flex_flow": null,
      "grid_area": null,
      "grid_auto_columns": null,
      "grid_auto_flow": null,
      "grid_auto_rows": null,
      "grid_column": null,
      "grid_gap": null,
      "grid_row": null,
      "grid_template_areas": null,
      "grid_template_columns": null,
      "grid_template_rows": null,
      "height": null,
      "justify_content": null,
      "justify_items": null,
      "left": null,
      "margin": null,
      "max_height": null,
      "max_width": null,
      "min_height": null,
      "min_width": null,
      "object_fit": null,
      "object_position": null,
      "order": null,
      "overflow": null,
      "overflow_x": null,
      "overflow_y": null,
      "padding": null,
      "right": null,
      "top": null,
      "visibility": null,
      "width": null
     }
    },
    "f37383c07d8f4e6585f359e120aaf2ff": {
     "model_module": "@jupyter-widgets/controls",
     "model_module_version": "1.5.0",
     "model_name": "HTMLModel",
     "state": {
      "_dom_classes": [],
      "_model_module": "@jupyter-widgets/controls",
      "_model_module_version": "1.5.0",
      "_model_name": "HTMLModel",
      "_view_count": null,
      "_view_module": "@jupyter-widgets/controls",
      "_view_module_version": "1.5.0",
      "_view_name": "HTMLView",
      "description": "",
      "description_tooltip": null,
      "layout": "IPY_MODEL_f7b8cb235aee46c1a21e9d6ab4e7a2ae",
      "placeholder": "​",
      "style": "IPY_MODEL_bd69560cf0bb4543942bb34b26d0134a",
      "value": "100%"
     }
    },
    "f3ee4e2e8f15458cb7c9c1fa76151b95": {
     "model_module": "@jupyter-widgets/base",
     "model_module_version": "1.2.0",
     "model_name": "LayoutModel",
     "state": {
      "_model_module": "@jupyter-widgets/base",
      "_model_module_version": "1.2.0",
      "_model_name": "LayoutModel",
      "_view_count": null,
      "_view_module": "@jupyter-widgets/base",
      "_view_module_version": "1.2.0",
      "_view_name": "LayoutView",
      "align_content": null,
      "align_items": null,
      "align_self": null,
      "border": null,
      "bottom": null,
      "display": null,
      "flex": null,
      "flex_flow": null,
      "grid_area": null,
      "grid_auto_columns": null,
      "grid_auto_flow": null,
      "grid_auto_rows": null,
      "grid_column": null,
      "grid_gap": null,
      "grid_row": null,
      "grid_template_areas": null,
      "grid_template_columns": null,
      "grid_template_rows": null,
      "height": null,
      "justify_content": null,
      "justify_items": null,
      "left": null,
      "margin": null,
      "max_height": null,
      "max_width": null,
      "min_height": null,
      "min_width": null,
      "object_fit": null,
      "object_position": null,
      "order": null,
      "overflow": null,
      "overflow_x": null,
      "overflow_y": null,
      "padding": null,
      "right": null,
      "top": null,
      "visibility": null,
      "width": null
     }
    },
    "f464181d8b0b433b95e61d61ab0fa4ed": {
     "model_module": "@jupyter-widgets/base",
     "model_module_version": "1.2.0",
     "model_name": "LayoutModel",
     "state": {
      "_model_module": "@jupyter-widgets/base",
      "_model_module_version": "1.2.0",
      "_model_name": "LayoutModel",
      "_view_count": null,
      "_view_module": "@jupyter-widgets/base",
      "_view_module_version": "1.2.0",
      "_view_name": "LayoutView",
      "align_content": null,
      "align_items": null,
      "align_self": null,
      "border": null,
      "bottom": null,
      "display": null,
      "flex": null,
      "flex_flow": null,
      "grid_area": null,
      "grid_auto_columns": null,
      "grid_auto_flow": null,
      "grid_auto_rows": null,
      "grid_column": null,
      "grid_gap": null,
      "grid_row": null,
      "grid_template_areas": null,
      "grid_template_columns": null,
      "grid_template_rows": null,
      "height": null,
      "justify_content": null,
      "justify_items": null,
      "left": null,
      "margin": null,
      "max_height": null,
      "max_width": null,
      "min_height": null,
      "min_width": null,
      "object_fit": null,
      "object_position": null,
      "order": null,
      "overflow": null,
      "overflow_x": null,
      "overflow_y": null,
      "padding": null,
      "right": null,
      "top": null,
      "visibility": null,
      "width": null
     }
    },
    "f53c3ebcd7874c608dfa7b7934c4fc66": {
     "model_module": "@jupyter-widgets/controls",
     "model_module_version": "1.5.0",
     "model_name": "FloatProgressModel",
     "state": {
      "_dom_classes": [],
      "_model_module": "@jupyter-widgets/controls",
      "_model_module_version": "1.5.0",
      "_model_name": "FloatProgressModel",
      "_view_count": null,
      "_view_module": "@jupyter-widgets/controls",
      "_view_module_version": "1.5.0",
      "_view_name": "ProgressView",
      "bar_style": "success",
      "description": "",
      "description_tooltip": null,
      "layout": "IPY_MODEL_221a54f4416e44958e21ea60f903e21a",
      "max": 6,
      "min": 0,
      "orientation": "horizontal",
      "style": "IPY_MODEL_ede9f1799e0a4ddf863d9ed759a3c491",
      "value": 6
     }
    },
    "f6c225218b394183826e207d10b162b4": {
     "model_module": "@jupyter-widgets/controls",
     "model_module_version": "1.5.0",
     "model_name": "HTMLModel",
     "state": {
      "_dom_classes": [],
      "_model_module": "@jupyter-widgets/controls",
      "_model_module_version": "1.5.0",
      "_model_name": "HTMLModel",
      "_view_count": null,
      "_view_module": "@jupyter-widgets/controls",
      "_view_module_version": "1.5.0",
      "_view_name": "HTMLView",
      "description": "",
      "description_tooltip": null,
      "layout": "IPY_MODEL_bda80201600b4f3b85df1f5590a0b8e3",
      "placeholder": "​",
      "style": "IPY_MODEL_6fcd412b8da14a5d8784ba7a9079e91c",
      "value": " 6/6 [00:16&lt;00:00,  3.39s/it]"
     }
    },
    "f7b8cb235aee46c1a21e9d6ab4e7a2ae": {
     "model_module": "@jupyter-widgets/base",
     "model_module_version": "1.2.0",
     "model_name": "LayoutModel",
     "state": {
      "_model_module": "@jupyter-widgets/base",
      "_model_module_version": "1.2.0",
      "_model_name": "LayoutModel",
      "_view_count": null,
      "_view_module": "@jupyter-widgets/base",
      "_view_module_version": "1.2.0",
      "_view_name": "LayoutView",
      "align_content": null,
      "align_items": null,
      "align_self": null,
      "border": null,
      "bottom": null,
      "display": null,
      "flex": null,
      "flex_flow": null,
      "grid_area": null,
      "grid_auto_columns": null,
      "grid_auto_flow": null,
      "grid_auto_rows": null,
      "grid_column": null,
      "grid_gap": null,
      "grid_row": null,
      "grid_template_areas": null,
      "grid_template_columns": null,
      "grid_template_rows": null,
      "height": null,
      "justify_content": null,
      "justify_items": null,
      "left": null,
      "margin": null,
      "max_height": null,
      "max_width": null,
      "min_height": null,
      "min_width": null,
      "object_fit": null,
      "object_position": null,
      "order": null,
      "overflow": null,
      "overflow_x": null,
      "overflow_y": null,
      "padding": null,
      "right": null,
      "top": null,
      "visibility": null,
      "width": null
     }
    },
    "fc0836b0d1584b48b6cde8b0bf834a12": {
     "model_module": "@jupyter-widgets/base",
     "model_module_version": "1.2.0",
     "model_name": "LayoutModel",
     "state": {
      "_model_module": "@jupyter-widgets/base",
      "_model_module_version": "1.2.0",
      "_model_name": "LayoutModel",
      "_view_count": null,
      "_view_module": "@jupyter-widgets/base",
      "_view_module_version": "1.2.0",
      "_view_name": "LayoutView",
      "align_content": null,
      "align_items": null,
      "align_self": null,
      "border": null,
      "bottom": null,
      "display": null,
      "flex": null,
      "flex_flow": null,
      "grid_area": null,
      "grid_auto_columns": null,
      "grid_auto_flow": null,
      "grid_auto_rows": null,
      "grid_column": null,
      "grid_gap": null,
      "grid_row": null,
      "grid_template_areas": null,
      "grid_template_columns": null,
      "grid_template_rows": null,
      "height": null,
      "justify_content": null,
      "justify_items": null,
      "left": null,
      "margin": null,
      "max_height": null,
      "max_width": null,
      "min_height": null,
      "min_width": null,
      "object_fit": null,
      "object_position": null,
      "order": null,
      "overflow": null,
      "overflow_x": null,
      "overflow_y": null,
      "padding": null,
      "right": null,
      "top": null,
      "visibility": null,
      "width": null
     }
    },
    "fe3dab3ae3e9493cb384e2308c76d18e": {
     "model_module": "@jupyter-widgets/base",
     "model_module_version": "1.2.0",
     "model_name": "LayoutModel",
     "state": {
      "_model_module": "@jupyter-widgets/base",
      "_model_module_version": "1.2.0",
      "_model_name": "LayoutModel",
      "_view_count": null,
      "_view_module": "@jupyter-widgets/base",
      "_view_module_version": "1.2.0",
      "_view_name": "LayoutView",
      "align_content": null,
      "align_items": null,
      "align_self": null,
      "border": null,
      "bottom": null,
      "display": null,
      "flex": null,
      "flex_flow": null,
      "grid_area": null,
      "grid_auto_columns": null,
      "grid_auto_flow": null,
      "grid_auto_rows": null,
      "grid_column": null,
      "grid_gap": null,
      "grid_row": null,
      "grid_template_areas": null,
      "grid_template_columns": null,
      "grid_template_rows": null,
      "height": null,
      "justify_content": null,
      "justify_items": null,
      "left": null,
      "margin": null,
      "max_height": null,
      "max_width": null,
      "min_height": null,
      "min_width": null,
      "object_fit": null,
      "object_position": null,
      "order": null,
      "overflow": null,
      "overflow_x": null,
      "overflow_y": null,
      "padding": null,
      "right": null,
      "top": null,
      "visibility": null,
      "width": null
     }
    },
    "febbfc481c4f4d98bd130e0296bab76b": {
     "model_module": "@jupyter-widgets/controls",
     "model_module_version": "1.5.0",
     "model_name": "ProgressStyleModel",
     "state": {
      "_model_module": "@jupyter-widgets/controls",
      "_model_module_version": "1.5.0",
      "_model_name": "ProgressStyleModel",
      "_view_count": null,
      "_view_module": "@jupyter-widgets/base",
      "_view_module_version": "1.2.0",
      "_view_name": "StyleView",
      "bar_color": null,
      "description_width": ""
     }
    }
   }
  }
 },
 "nbformat": 4,
 "nbformat_minor": 5
}
